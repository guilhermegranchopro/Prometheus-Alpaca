{
  "nbformat": 4,
  "nbformat_minor": 0,
  "metadata": {
    "colab": {
      "provenance": [],
      "include_colab_link": true
    },
    "kernelspec": {
      "name": "python3",
      "display_name": "Python 3"
    },
    "language_info": {
      "name": "python"
    }
  },
  "cells": [
    {
      "cell_type": "markdown",
      "metadata": {
        "id": "view-in-github",
        "colab_type": "text"
      },
      "source": [
        "<a href=\"https://colab.research.google.com/github/guilhermegranchopro/Prometheus-Alpaca/blob/Guilherme/Alpaca/Alpaca10_0.ipynb\" target=\"_parent\"><img src=\"https://colab.research.google.com/assets/colab-badge.svg\" alt=\"Open In Colab\"/></a>"
      ]
    },
    {
      "cell_type": "markdown",
      "source": [
        "# **Install Requeriments**"
      ],
      "metadata": {
        "id": "UYXhsiNTExCh"
      }
    },
    {
      "cell_type": "markdown",
      "source": [
        "Connecta com a tua google drive"
      ],
      "metadata": {
        "id": "Xs8gnneeyAno"
      }
    },
    {
      "cell_type": "code",
      "source": [
        "from google.colab import drive\n",
        "drive.mount('/content/drive')"
      ],
      "metadata": {
        "id": "fvmqaTcxDCBb",
        "colab": {
          "base_uri": "https://localhost:8080/"
        },
        "outputId": "34227307-9360-4059-acaa-6f5462a3f21f"
      },
      "execution_count": null,
      "outputs": [
        {
          "output_type": "stream",
          "name": "stdout",
          "text": [
            "Mounted at /content/drive\n"
          ]
        }
      ]
    },
    {
      "cell_type": "markdown",
      "source": [
        "Instalar os requeriemntos do Alpaca API"
      ],
      "metadata": {
        "id": "QNdv0UPHj57_"
      }
    },
    {
      "cell_type": "code",
      "source": [
        "pip install alpaca-trade-api"
      ],
      "metadata": {
        "colab": {
          "base_uri": "https://localhost:8080/"
        },
        "id": "VXOskRT-coC_",
        "outputId": "f8fa8587-e4a1-47bf-85e9-dff78702862c"
      },
      "execution_count": null,
      "outputs": [
        {
          "output_type": "stream",
          "name": "stdout",
          "text": [
            "Collecting alpaca-trade-api\n",
            "  Downloading alpaca_trade_api-3.2.0-py3-none-any.whl.metadata (29 kB)\n",
            "Requirement already satisfied: pandas>=0.18.1 in /usr/local/lib/python3.11/dist-packages (from alpaca-trade-api) (2.2.2)\n",
            "Requirement already satisfied: numpy>=1.11.1 in /usr/local/lib/python3.11/dist-packages (from alpaca-trade-api) (2.0.2)\n",
            "Requirement already satisfied: requests<3,>2 in /usr/local/lib/python3.11/dist-packages (from alpaca-trade-api) (2.32.3)\n",
            "Collecting urllib3<2,>1.24 (from alpaca-trade-api)\n",
            "  Downloading urllib3-1.26.20-py2.py3-none-any.whl.metadata (50 kB)\n",
            "\u001b[2K     \u001b[90m━━━━━━━━━━━━━━━━━━━━━━━━━━━━━━━━━━━━━━━━\u001b[0m \u001b[32m50.1/50.1 kB\u001b[0m \u001b[31m2.0 MB/s\u001b[0m eta \u001b[36m0:00:00\u001b[0m\n",
            "\u001b[?25hRequirement already satisfied: websocket-client<2,>=0.56.0 in /usr/local/lib/python3.11/dist-packages (from alpaca-trade-api) (1.8.0)\n",
            "Collecting websockets<11,>=9.0 (from alpaca-trade-api)\n",
            "  Downloading websockets-10.4-cp311-cp311-manylinux_2_5_x86_64.manylinux1_x86_64.manylinux_2_17_x86_64.manylinux2014_x86_64.whl.metadata (6.4 kB)\n",
            "Collecting msgpack==1.0.3 (from alpaca-trade-api)\n",
            "  Downloading msgpack-1.0.3.tar.gz (123 kB)\n",
            "\u001b[2K     \u001b[90m━━━━━━━━━━━━━━━━━━━━━━━━━━━━━━━━━━━━━━━━\u001b[0m \u001b[32m123.8/123.8 kB\u001b[0m \u001b[31m5.0 MB/s\u001b[0m eta \u001b[36m0:00:00\u001b[0m\n",
            "\u001b[?25h  Preparing metadata (setup.py) ... \u001b[?25l\u001b[?25hdone\n",
            "Requirement already satisfied: aiohttp<4,>=3.8.3 in /usr/local/lib/python3.11/dist-packages (from alpaca-trade-api) (3.11.14)\n",
            "Collecting PyYAML==6.0.1 (from alpaca-trade-api)\n",
            "  Downloading PyYAML-6.0.1-cp311-cp311-manylinux_2_17_x86_64.manylinux2014_x86_64.whl.metadata (2.1 kB)\n",
            "Collecting deprecation==2.1.0 (from alpaca-trade-api)\n",
            "  Downloading deprecation-2.1.0-py2.py3-none-any.whl.metadata (4.6 kB)\n",
            "Requirement already satisfied: packaging in /usr/local/lib/python3.11/dist-packages (from deprecation==2.1.0->alpaca-trade-api) (24.2)\n",
            "Requirement already satisfied: aiohappyeyeballs>=2.3.0 in /usr/local/lib/python3.11/dist-packages (from aiohttp<4,>=3.8.3->alpaca-trade-api) (2.6.1)\n",
            "Requirement already satisfied: aiosignal>=1.1.2 in /usr/local/lib/python3.11/dist-packages (from aiohttp<4,>=3.8.3->alpaca-trade-api) (1.3.2)\n",
            "Requirement already satisfied: attrs>=17.3.0 in /usr/local/lib/python3.11/dist-packages (from aiohttp<4,>=3.8.3->alpaca-trade-api) (25.3.0)\n",
            "Requirement already satisfied: frozenlist>=1.1.1 in /usr/local/lib/python3.11/dist-packages (from aiohttp<4,>=3.8.3->alpaca-trade-api) (1.5.0)\n",
            "Requirement already satisfied: multidict<7.0,>=4.5 in /usr/local/lib/python3.11/dist-packages (from aiohttp<4,>=3.8.3->alpaca-trade-api) (6.2.0)\n",
            "Requirement already satisfied: propcache>=0.2.0 in /usr/local/lib/python3.11/dist-packages (from aiohttp<4,>=3.8.3->alpaca-trade-api) (0.3.0)\n",
            "Requirement already satisfied: yarl<2.0,>=1.17.0 in /usr/local/lib/python3.11/dist-packages (from aiohttp<4,>=3.8.3->alpaca-trade-api) (1.18.3)\n",
            "Requirement already satisfied: python-dateutil>=2.8.2 in /usr/local/lib/python3.11/dist-packages (from pandas>=0.18.1->alpaca-trade-api) (2.8.2)\n",
            "Requirement already satisfied: pytz>=2020.1 in /usr/local/lib/python3.11/dist-packages (from pandas>=0.18.1->alpaca-trade-api) (2025.1)\n",
            "Requirement already satisfied: tzdata>=2022.7 in /usr/local/lib/python3.11/dist-packages (from pandas>=0.18.1->alpaca-trade-api) (2025.1)\n",
            "Requirement already satisfied: charset-normalizer<4,>=2 in /usr/local/lib/python3.11/dist-packages (from requests<3,>2->alpaca-trade-api) (3.4.1)\n",
            "Requirement already satisfied: idna<4,>=2.5 in /usr/local/lib/python3.11/dist-packages (from requests<3,>2->alpaca-trade-api) (3.10)\n",
            "Requirement already satisfied: certifi>=2017.4.17 in /usr/local/lib/python3.11/dist-packages (from requests<3,>2->alpaca-trade-api) (2025.1.31)\n",
            "Requirement already satisfied: six>=1.5 in /usr/local/lib/python3.11/dist-packages (from python-dateutil>=2.8.2->pandas>=0.18.1->alpaca-trade-api) (1.17.0)\n",
            "Downloading alpaca_trade_api-3.2.0-py3-none-any.whl (34 kB)\n",
            "Downloading deprecation-2.1.0-py2.py3-none-any.whl (11 kB)\n",
            "Downloading PyYAML-6.0.1-cp311-cp311-manylinux_2_17_x86_64.manylinux2014_x86_64.whl (757 kB)\n",
            "\u001b[2K   \u001b[90m━━━━━━━━━━━━━━━━━━━━━━━━━━━━━━━━━━━━━━━━\u001b[0m \u001b[32m757.7/757.7 kB\u001b[0m \u001b[31m16.3 MB/s\u001b[0m eta \u001b[36m0:00:00\u001b[0m\n",
            "\u001b[?25hDownloading urllib3-1.26.20-py2.py3-none-any.whl (144 kB)\n",
            "\u001b[2K   \u001b[90m━━━━━━━━━━━━━━━━━━━━━━━━━━━━━━━━━━━━━━━━\u001b[0m \u001b[32m144.2/144.2 kB\u001b[0m \u001b[31m15.5 MB/s\u001b[0m eta \u001b[36m0:00:00\u001b[0m\n",
            "\u001b[?25hDownloading websockets-10.4-cp311-cp311-manylinux_2_5_x86_64.manylinux1_x86_64.manylinux_2_17_x86_64.manylinux2014_x86_64.whl (107 kB)\n",
            "\u001b[2K   \u001b[90m━━━━━━━━━━━━━━━━━━━━━━━━━━━━━━━━━━━━━━━━\u001b[0m \u001b[32m107.4/107.4 kB\u001b[0m \u001b[31m11.8 MB/s\u001b[0m eta \u001b[36m0:00:00\u001b[0m\n",
            "\u001b[?25hBuilding wheels for collected packages: msgpack\n",
            "  Building wheel for msgpack (setup.py) ... \u001b[?25l\u001b[?25hdone\n",
            "  Created wheel for msgpack: filename=msgpack-1.0.3-cp311-cp311-linux_x86_64.whl size=15688 sha256=f7f404c9faba0040bd7bc9c71484113ea9f25e81e64639f2400e4db17e8bb333\n",
            "  Stored in directory: /root/.cache/pip/wheels/f6/35/da/ed9b26b510235e00e3a3c3bab7bad97b59214729662255ab3d\n",
            "Successfully built msgpack\n",
            "Installing collected packages: msgpack, websockets, urllib3, PyYAML, deprecation, alpaca-trade-api\n",
            "  Attempting uninstall: msgpack\n",
            "    Found existing installation: msgpack 1.1.0\n",
            "    Uninstalling msgpack-1.1.0:\n",
            "      Successfully uninstalled msgpack-1.1.0\n",
            "  Attempting uninstall: websockets\n",
            "    Found existing installation: websockets 15.0.1\n",
            "    Uninstalling websockets-15.0.1:\n",
            "      Successfully uninstalled websockets-15.0.1\n",
            "  Attempting uninstall: urllib3\n",
            "    Found existing installation: urllib3 2.3.0\n",
            "    Uninstalling urllib3-2.3.0:\n",
            "      Successfully uninstalled urllib3-2.3.0\n",
            "  Attempting uninstall: PyYAML\n",
            "    Found existing installation: PyYAML 6.0.2\n",
            "    Uninstalling PyYAML-6.0.2:\n",
            "      Successfully uninstalled PyYAML-6.0.2\n",
            "\u001b[31mERROR: pip's dependency resolver does not currently take into account all the packages that are installed. This behaviour is the source of the following dependency conflicts.\n",
            "google-genai 1.7.0 requires websockets<15.1.0,>=13.0.0, but you have websockets 10.4 which is incompatible.\u001b[0m\u001b[31m\n",
            "\u001b[0mSuccessfully installed PyYAML-6.0.1 alpaca-trade-api-3.2.0 deprecation-2.1.0 msgpack-1.0.3 urllib3-1.26.20 websockets-10.4\n"
          ]
        }
      ]
    },
    {
      "cell_type": "markdown",
      "source": [
        "Instalas a biblioteca necessária para calculares o garu necessário de semelhança entre strings"
      ],
      "metadata": {
        "id": "TgkbUA5dmXsZ"
      }
    },
    {
      "cell_type": "code",
      "source": [
        "pip install python-Levenshtein"
      ],
      "metadata": {
        "colab": {
          "base_uri": "https://localhost:8080/"
        },
        "id": "E1KpLbgPBeZw",
        "outputId": "9c5b2ee0-a690-4e21-d7c2-09005abf1dea"
      },
      "execution_count": null,
      "outputs": [
        {
          "output_type": "stream",
          "name": "stdout",
          "text": [
            "Collecting python-Levenshtein\n",
            "  Downloading python_levenshtein-0.27.1-py3-none-any.whl.metadata (3.7 kB)\n",
            "Collecting Levenshtein==0.27.1 (from python-Levenshtein)\n",
            "  Downloading levenshtein-0.27.1-cp311-cp311-manylinux_2_17_x86_64.manylinux2014_x86_64.whl.metadata (3.6 kB)\n",
            "Collecting rapidfuzz<4.0.0,>=3.9.0 (from Levenshtein==0.27.1->python-Levenshtein)\n",
            "  Downloading rapidfuzz-3.12.2-cp311-cp311-manylinux_2_17_x86_64.manylinux2014_x86_64.whl.metadata (12 kB)\n",
            "Downloading python_levenshtein-0.27.1-py3-none-any.whl (9.4 kB)\n",
            "Downloading levenshtein-0.27.1-cp311-cp311-manylinux_2_17_x86_64.manylinux2014_x86_64.whl (161 kB)\n",
            "\u001b[2K   \u001b[90m━━━━━━━━━━━━━━━━━━━━━━━━━━━━━━━━━━━━━━━━\u001b[0m \u001b[32m161.7/161.7 kB\u001b[0m \u001b[31m3.3 MB/s\u001b[0m eta \u001b[36m0:00:00\u001b[0m\n",
            "\u001b[?25hDownloading rapidfuzz-3.12.2-cp311-cp311-manylinux_2_17_x86_64.manylinux2014_x86_64.whl (3.1 MB)\n",
            "\u001b[2K   \u001b[90m━━━━━━━━━━━━━━━━━━━━━━━━━━━━━━━━━━━━━━━━\u001b[0m \u001b[32m3.1/3.1 MB\u001b[0m \u001b[31m17.5 MB/s\u001b[0m eta \u001b[36m0:00:00\u001b[0m\n",
            "\u001b[?25hInstalling collected packages: rapidfuzz, Levenshtein, python-Levenshtein\n",
            "Successfully installed Levenshtein-0.27.1 python-Levenshtein-0.27.1 rapidfuzz-3.12.2\n"
          ]
        }
      ]
    },
    {
      "cell_type": "markdown",
      "source": [
        "Instalas a biblioteca necessária para calculares o garu necessário de semelhança entre strings"
      ],
      "metadata": {
        "id": "2Gm5rqxKmLDO"
      }
    },
    {
      "cell_type": "code",
      "source": [
        "pip install fuzzywuzzy"
      ],
      "metadata": {
        "colab": {
          "base_uri": "https://localhost:8080/"
        },
        "id": "OhwnmPwyBLn8",
        "outputId": "2992d6d4-aa0d-4326-9421-711e0ae8a1bc"
      },
      "execution_count": null,
      "outputs": [
        {
          "output_type": "stream",
          "name": "stdout",
          "text": [
            "Collecting fuzzywuzzy\n",
            "  Downloading fuzzywuzzy-0.18.0-py2.py3-none-any.whl.metadata (4.9 kB)\n",
            "Downloading fuzzywuzzy-0.18.0-py2.py3-none-any.whl (18 kB)\n",
            "Installing collected packages: fuzzywuzzy\n",
            "Successfully installed fuzzywuzzy-0.18.0\n"
          ]
        }
      ]
    },
    {
      "cell_type": "code",
      "source": [
        "import pandas as pd\n",
        "import importlib\n",
        "import json\n",
        "import joblib\n",
        "from datetime import datetime, timedelta, timezone\n",
        "import alpaca_trade_api as tradeapi\n",
        "import time\n",
        "import os\n",
        "from fuzzywuzzy import process\n",
        "import numpy as np\n",
        "from sklearn.model_selection import train_test_split\n",
        "from sklearn.metrics import confusion_matrix as sk_confusion_matrix, ConfusionMatrixDisplay\n",
        "import tensorflow as tf\n",
        "from tensorflow.keras.models import Sequential\n",
        "from tensorflow.keras.layers import Dense, Flatten, LSTM, Dropout, BatchNormalization\n",
        "from tensorflow.keras.optimizers import Adam\n",
        "from tensorflow.keras.callbacks import EarlyStopping\n",
        "import warnings\n",
        "import matplotlib.pyplot as plt"
      ],
      "metadata": {
        "id": "RUOufUGYE9A6"
      },
      "execution_count": null,
      "outputs": []
    },
    {
      "cell_type": "markdown",
      "source": [
        "# **Settings**"
      ],
      "metadata": {
        "id": "XL1EOHgFHA3G"
      }
    },
    {
      "cell_type": "markdown",
      "source": [
        "Caminho dos arquivos do Google Drive"
      ],
      "metadata": {
        "id": "9Pe5FmQOqCFe"
      }
    },
    {
      "cell_type": "code",
      "source": [
        "# Define o caminho base do projeto\n",
        "base_path = '/content/drive/MyDrive/AI Financial Analisys/Summer Project/SandBox Environment'\n",
        "\n",
        "# Monta os caminhos para cada categoria utilizando os nomes originais\n",
        "caminho_secret_keys = os.path.join(base_path, 'API_Keys.txt')       # Arquivo de chaves de API\n",
        "arquivo_old_dataset = os.path.join(base_path, 'Dataset', 'Raw Data')          # Diretório com o dataset antigo (raw data)\n",
        "caminho_para_salvar_imagens = os.path.join(base_path, 'Neural Network', 'Images')   # Diretório para salvar imagens\n",
        "caminho_para_salvar_resultados = os.path.join(base_path, 'Neural Network', 'Results') # Diretório para salvar resultados do modelo\n",
        "caminho_para_salvar_modelo = os.path.join(base_path, 'Neural Network', 'Models')      # Diretório para salvar o modelo\n",
        "caminho_para_salvar_dados = os.path.join(base_path, 'Dataset', 'Raw Data')              # Diretório para salvar dados\n",
        "caminho_para_salvar_scaler = os.path.join(base_path, 'Dataset', 'Scaler')              # Diretório para salvar o scaler\n",
        "caminho_para_salvar_settings = os.path.join(base_path, 'Settings')    # Diretório para salvar os settings\n",
        "caminho_para_salvar_report = os.path.join(base_path, 'Report')                          # Diretório para salvar o report"
      ],
      "metadata": {
        "id": "baKNBw3SqBOM"
      },
      "execution_count": null,
      "outputs": []
    },
    {
      "cell_type": "markdown",
      "source": [
        "**Todas as variaveis que se podem perdsonalizar no algoritmo.**\n",
        "\n",
        "As primeiras possibilidades de cada variável são aquelas as quais inicialmnete pensas-te que faziam mais sentido:\n",
        "\n",
        "* data_source = 'sip', 'iex' (Tipos de fornecedores de dados ou IEX ou SIP.)\n",
        "* symbol = 'AAPL', (retira do ficheito execel, tens o código que extrai)\n",
        "* max_period = True, (podes ter erros por excesso de pedidos do API)\n",
        "* start_date = '', '2022-10-31', (1 ano funciona bem para test runs)\n",
        "* end_date = '', '2023-10-31', (1 ano funciona bem para test runs)\n",
        "* timeframe = '1Min', '5Min', (mais de 5Min parece perder sentido a teoria)\n",
        "* fisrt_marker = 'volume', 'close', 'high', 'low', 'trade_count', 'open', 'vwap', 'average_oc', 'average_hl', (a ideia inicial é ver o volume relativo, mas pode ser interessante estudar o trade_count)\n",
        "* second_marker = 'vwap', 'volume', 'close', 'high', 'low', 'trade_count', 'open', 'average_oc', 'average_hl', (a ideia inicial era ver a média entre o high e o low - 'average_hl', mas fica na duvida ver a média entre o open e o close - 'average_oc', pode também ser muito interessante investigar o vwap)\n",
        "* third_marker = '', 'volume', 'close', 'high', 'low', 'trade_count', 'open', 'vwap', 'average_oc', 'average_hl', (não pensas te em usar uma terceira coluna para criar as matrizes, mas se os resultados impiricos assim o provarem usa)\n",
        "* n_rows = 12, 10, 15, 30, 5, (pensa no timeframe quando fazes isso, o 12 pareceu ser o melhor em testes impiricos)\n",
        "* sort = True, (tens de pensar na sequencia temporal se faz sentido manter ou não)\n",
        "* relative_first_marker = True, (tens de pensar em que marker correspondente estás a usar, pensa se matemáticamente faz sentido ou não colocares o marcador com valores relativos para todo o tensor, faltam te dados impiricos, o volume pensas te inicialmnete deixar em impirico para o tensor para normalizares os tensores)\n",
        "* relative_second_marker = False, (tens de pensar em que marker correspondente estás a usar, pensa se matemáticamente faz sentido ou não colocares o marcador com valores relativos para todo o tensor, faltam te dados impiricos)\n",
        "* relative_third_marker = False, (tens de pensar em que marker correspondente estás a usar, pensa se matemáticamente faz sentido ou não colocares o marcador com valores relativos para todo o tensor, faltam te dados impiricos)\n",
        "* decimals = '', 3, 4 (tens de ver o que os dados impiricos te dizem se com arrendondamentos facilitas ou n a vida do AI)\n",
        "* scaler_type = 'none' (Não se usa scaler), 'minmax' (MinMaxScaler), 'standard' (StandardScaler), 'maxabs' (MaxAbsScaler), 'robust' (RobustScaler), 'quantile' (QuantileTransformer), 'power' (PowerTransformer), 'normalize' (Normalizer), 'binarizer' (Binarizer) (com isto podes escolher qual será o scaler a ser usado no dataset)\n",
        "* cols_to_scale = None (usa o scaler em todas as colunas), [0] (usas o scaler só na 1ª coluna), [0, 1] (usas o scaler na 1ª e na 2ª coluna), [0, 1, 2] (...)\n",
        "* LSTM_boolean = True, (em caso de falso não usas um LSTM e partes do precipio que a relação causal deixa de ser importante para a cosntrução do tensor, quando normalizas os dados a esperança seria de não teres de usar um LSTM)\n",
        "* epochs = 5, (este numero tende a ser irrelevante porque tens um checkpoint de callback referente ao melhor resultado de validation accuracy)\n",
        "* early_stopping = True, (podes ligar ou desligar de forma automática o early_stopping, ou seja, o call back aqui)\n",
        "* call_back = 'val_accuracy', 'val_loss', 'accuracy', 'loss' (escolhes o paramtero que monitora o call back)\n",
        "* patience = 2, 50, 100, 500, 1000 (escolhes a paciencia do call back)\n",
        "* batch_size = 64, 16, 32, 128, 256, 512 (varias com o tramanho do dataset, mas pensa que tens conseguido datasets bem grandes portanto usa os maiores valores)"
      ],
      "metadata": {
        "id": "d6KIcjmYWb5B"
      }
    },
    {
      "cell_type": "code",
      "source": [
        "# Exemplo de dicionário de configuração:\n",
        "config = {\n",
        "    'data_source': 'sip',\n",
        "    'symbol': 'AAPL',\n",
        "    'max_period': True,\n",
        "    'start_date': '2021-10-31',\n",
        "    'end_date': '2023-12-31',\n",
        "    'timeframe': '5Min',\n",
        "    'fisrt_marker': 'volume',\n",
        "    'second_marker': 'vwap',\n",
        "    'third_marker': '',\n",
        "    'n_rows': 12,\n",
        "    'sort': True,\n",
        "    'relative_first_marker': False,\n",
        "    'relative_second_marker': False,\n",
        "    'relative_third_marker': False,\n",
        "    'decimals': '',\n",
        "    'scaler_type': 'robust',\n",
        "    'cols_to_scale': [1],\n",
        "    'LSTM_boolean': True,\n",
        "    'epochs': 5,\n",
        "    'early_stopping': True,\n",
        "    'call_back': 'val_accuracy',\n",
        "    'patience': 2,\n",
        "    'batch_size': 64\n",
        "}"
      ],
      "metadata": {
        "id": "CSPJtOTF8u58"
      },
      "execution_count": null,
      "outputs": []
    },
    {
      "cell_type": "markdown",
      "source": [
        "# **Algorithm**"
      ],
      "metadata": {
        "id": "KSpX1iDkE3wz"
      }
    },
    {
      "cell_type": "code",
      "source": [
        "def assign_config_vars(config):\n",
        "\n",
        "    data_source = config['data_source']\n",
        "    symbol = config['symbol']\n",
        "    max_period = config['max_period']\n",
        "    start_date = config['start_date']\n",
        "    end_date = config['end_date']\n",
        "    timeframe = config['timeframe']\n",
        "    fisrt_marker = config['fisrt_marker']\n",
        "    second_marker = config['second_marker']\n",
        "    third_marker = config['third_marker']\n",
        "    n_rows = config['n_rows']\n",
        "    sort = config['sort']\n",
        "    relative_first_marker = config['relative_first_marker']\n",
        "    relative_second_marker = config['relative_second_marker']\n",
        "    relative_third_marker = config['relative_third_marker']\n",
        "    decimals = config['decimals']\n",
        "    scaler_type = config['scaler_type']\n",
        "    cols_to_scale = config['cols_to_scale']\n",
        "    LSTM_boolean = config['LSTM_boolean']\n",
        "    epochs = config['epochs']\n",
        "    early_stopping = config['early_stopping']\n",
        "    call_back = config['call_back']\n",
        "    patience = config['patience']\n",
        "    batch_size = config['batch_size']\n",
        "\n",
        "    return (data_source, symbol, max_period, start_date, end_date, timeframe,\n",
        "            fisrt_marker, second_marker, third_marker, n_rows, sort,\n",
        "            relative_first_marker, relative_second_marker, relative_third_marker,\n",
        "            decimals, scaler_type, cols_to_scale, LSTM_boolean, epochs,\n",
        "            early_stopping, call_back, patience, batch_size)"
      ],
      "metadata": {
        "id": "1PSybpMOgxjH"
      },
      "execution_count": null,
      "outputs": []
    },
    {
      "cell_type": "code",
      "source": [
        "# Chamada da função, fazendo o \"unpack\" dos valores retornados para as variáveis:\n",
        "(data_source, symbol, max_period, start_date, end_date, timeframe,\n",
        " fisrt_marker, second_marker, third_marker, n_rows, sort,\n",
        " relative_first_marker, relative_second_marker, relative_third_marker,\n",
        " decimals, scaler_type, cols_to_scale, LSTM_boolean, epochs,\n",
        " early_stopping, call_back, patience, batch_size) = assign_config_vars(config)"
      ],
      "metadata": {
        "id": "5fIbWZl4hCw5"
      },
      "execution_count": null,
      "outputs": []
    },
    {
      "cell_type": "markdown",
      "source": [
        "Uso o Yahoo Finance API para saber quando é que a empresa que estou a usar entrou no mercado, quando a empresa IPO."
      ],
      "metadata": {
        "id": "fn-Uyl5AkDkw"
      }
    },
    {
      "cell_type": "code",
      "source": [
        "def get_start_date():\n",
        "    #Data de inicio dos dados historicos do Alpaca\n",
        "    return \"2016-01-01\""
      ],
      "metadata": {
        "id": "2NibJeBQn8Jz"
      },
      "execution_count": null,
      "outputs": []
    },
    {
      "cell_type": "markdown",
      "source": [
        "Saber o dia que é hoje, o dia que o código está a correr, o modelo está a ser criado"
      ],
      "metadata": {
        "id": "aCpXDW-mkwqz"
      }
    },
    {
      "cell_type": "code",
      "source": [
        "def get_end_date(symbol):\n",
        "    # Obter a data e hora atuais\n",
        "    current_date_time = datetime.now()\n",
        "    # Make start timezone aware\n",
        "    current_date_time = current_date_time.replace(tzinfo=timezone.utc)\n",
        "    return current_date_time"
      ],
      "metadata": {
        "id": "P-FBJmdfoKD8"
      },
      "execution_count": null,
      "outputs": []
    },
    {
      "cell_type": "markdown",
      "source": [
        "Usas a tua senha da tua conta no ALpca API para usares a API, tens de te conectar á tua conta."
      ],
      "metadata": {
        "id": "e4cmStbtk8iC"
      }
    },
    {
      "cell_type": "code",
      "source": [
        "def alpaca_autentification(caminho_secret_keys):\n",
        "\n",
        "    # Lê as linhas do arquivo\n",
        "    with open(caminho_secret_keys, 'r') as f:\n",
        "        lines = f.readlines()\n",
        "\n",
        "    # Extrai cada valor (removendo possíveis quebras de linha com .strip())\n",
        "    API_KEY = lines[0].strip()\n",
        "    SECRET_KEY = lines[1].strip()\n",
        "    BASE_URL = lines[2].strip()\n",
        "\n",
        "    # Inicializa a API Alpaca com as credenciais lidas do arquivo\n",
        "    api = tradeapi.REST(API_KEY, SECRET_KEY, BASE_URL, api_version='v2')\n",
        "\n",
        "    return api"
      ],
      "metadata": {
        "id": "JLN6w0ThPf2r"
      },
      "execution_count": null,
      "outputs": []
    },
    {
      "cell_type": "markdown",
      "source": [
        "Depois chamas a API para retirar os dados que necessitas. Para a API não te bloquear usas um intervalo de 1 segundo sempre que chamas a API para conseguires atingir elevada granuralidade dos dados, sem seres bloqueado pela API."
      ],
      "metadata": {
        "id": "EBvR8uldPn23"
      }
    },
    {
      "cell_type": "code",
      "execution_count": null,
      "metadata": {
        "id": "eTHSAnj2VD7q"
      },
      "outputs": [],
      "source": [
        "# Function to fetch data in chunks to avoid rate limits\n",
        "def fetch_data(symbol, start, end, timeframe, api, data_source='sip'):\n",
        "    all_data = []\n",
        "    current_start = start\n",
        "\n",
        "    while current_start < end:\n",
        "        current_end = current_start + timedelta(days=7)\n",
        "        if current_end > end:\n",
        "            current_end = end\n",
        "\n",
        "        # Fetch the historical data\n",
        "        bars = api.get_bars(\n",
        "            symbol,\n",
        "            timeframe,\n",
        "            start=current_start.strftime('%Y-%m-%d'),\n",
        "            end=current_end.strftime('%Y-%m-%d'),\n",
        "            feed=data_source\n",
        "        ).df\n",
        "\n",
        "        all_data.append(bars)\n",
        "        current_start = current_end\n",
        "        time.sleep(1)  # Adjust sleep interval based on rate limits\n",
        "\n",
        "    return pd.concat(all_data)"
      ]
    },
    {
      "cell_type": "markdown",
      "source": [
        "função para criar o nome do ficheiro. O nome do ficheiro encriptará todas varaiveis/hyperparametros necessários para voltar a correr o ficheiro do modelo ou o csv com todos os dados. (tens um dicionário do que cada uma dos paramteros representa mais a baixo)"
      ],
      "metadata": {
        "id": "fm4FGj4syKlR"
      }
    },
    {
      "cell_type": "code",
      "source": [
        "def create_file_name(data_source, symbol, max_period, start_date, end_date,\n",
        "                     timeframe, fisrt_marker, second_marker, third_marker,\n",
        "                     n_rows, sort, relative_first_marker, relative_second_marker,\n",
        "                     relative_third_marker, decimals, scaler_type, cols_to_scale,\n",
        "                     LSTM_boolean, epochs, early_stopping, call_back, patience,\n",
        "                     batch_size, test_loss, test_accuracy, model_file):\n",
        "\n",
        "    # Nome aproximado do arquivo\n",
        "    if model_file == True:\n",
        "        nome_aproximado = 'ds=' + data_source + '+' + 's=' + symbol + '+' + 'mp=' + str(max_period) + '+' + 'sd=' + \\\n",
        "        start_date + '+' + 'ed=' + end_date + '+' + 'tf=' + timeframe + '+' + \\\n",
        "        'fm=' + fisrt_marker + '+' + 'sm=' + second_marker + '+' + \\\n",
        "        'tm=' + third_marker + '+' + 'r=' + str(n_rows) + '+' + \\\n",
        "        'sort=' + str(sort) + '+' + 'rfm=' + str(relative_first_marker) + '+' + \\\n",
        "        'rsm=' + str(relative_second_marker) + '+' + \\\n",
        "        'rtm=' + str(relative_third_marker) + '+' + \\\n",
        "        'd=' + decimals + '+' + 'st=' + scaler_type + '+' + 'cts=' + str(cols_to_scale) + '+' + \\\n",
        "        'Lb=' + str(LSTM_boolean) + '+' + 'e=' + str(epochs) + '+' + \\\n",
        "        'es=' + str(early_stopping) + '+' + 'cb=' + call_back + '+' + \\\n",
        "        'p=' + str(patience) + '+' + 'bs=' + str(batch_size) + '+' + \\\n",
        "        'tl=' + str(test_loss) + '+' + 'ta=' + str(test_accuracy)\n",
        "    else:\n",
        "        nome_aproximado = 'ds=' + data_source + '+' + 's=' + symbol + '+' + 'mp=' + str(max_period) + '+' + 'sd=' + \\\n",
        "        start_date + '+' + 'ed=' + end_date + '+' + 'tf=' + timeframe\n",
        "\n",
        "    return nome_aproximado"
      ],
      "metadata": {
        "id": "yJpHTFerYIzx"
      },
      "execution_count": null,
      "outputs": []
    },
    {
      "cell_type": "code",
      "source": [
        "# Cria o nome do arquivo utilizando a função create_file_name (supondo que ela já esteja definida)\n",
        "file_name_False = create_file_name(data_source, symbol, max_period, start_date, end_date,\n",
        "                     timeframe, fisrt_marker, second_marker, third_marker,\n",
        "                     n_rows, sort, relative_first_marker, relative_second_marker,\n",
        "                     relative_third_marker, decimals, scaler_type, cols_to_scale,\n",
        "                     LSTM_boolean, epochs, early_stopping, call_back, patience,\n",
        "                     batch_size, 0, 0, False)"
      ],
      "metadata": {
        "id": "V-GBN9EeOfdp"
      },
      "execution_count": null,
      "outputs": []
    },
    {
      "cell_type": "markdown",
      "source": [
        "função para procurar se o modelo e os dados são originais, caso não sejamm originais é porque foi encontrado dados e pelo menos um modelo identicos ao que está a ser pedido ao algoritmo já guradado na base de dados e caso isso aconteça, os dados não seram novamente retirados da API mas sim seram usados aqueles que já se encontram na base de dados (arquivos da tua google drive). Isto é feito por compração de nomes de ficheiros, já que no nome dos ficheiros encotra-se encriptado tudo o que é necessário para voltar a correr o algoritmo em termos de hyperparamtros e variaveis."
      ],
      "metadata": {
        "id": "mhnplKm7zhWp"
      }
    },
    {
      "cell_type": "code",
      "source": [
        "def old_dataset_function(arquivo_old_dataset, nome_aproximado):\n",
        "\n",
        "    # Lista todos os arquivos no diretório\n",
        "    arquivos = os.listdir(arquivo_old_dataset)\n",
        "\n",
        "    # Encontra o arquivo mais próximo\n",
        "    if process.extractOne(nome_aproximado, arquivos):\n",
        "        arquivo_mais_proximo, pontuacao = process.extractOne(nome_aproximado, arquivos)\n",
        "    else:\n",
        "        arquivo_mais_proximo = None\n",
        "        pontuacao = None\n",
        "\n",
        "    if arquivo_mais_proximo and pontuacao==100:\n",
        "        caminho_do_modelo = os.path.join(arquivo_old_dataset, arquivo_mais_proximo)\n",
        "        print(\"Nome do arquivo mais próximo:\")\n",
        "        print(arquivo_mais_proximo)\n",
        "        print()\n",
        "        print(\"Caminho completo do modelo:\")\n",
        "        print(caminho_do_modelo)\n",
        "        print()\n",
        "        print(\"Pontuação de similaridade:\")\n",
        "        print(pontuacao)\n",
        "        old_dataset = True\n",
        "    else:\n",
        "        print(\"Nenhum arquivo próximo encontrado.\")\n",
        "        caminho_do_modelo = ''\n",
        "        old_dataset = False\n",
        "\n",
        "    return old_dataset, caminho_do_modelo"
      ],
      "metadata": {
        "id": "H1aTgw85yU4x"
      },
      "execution_count": null,
      "outputs": []
    },
    {
      "cell_type": "markdown",
      "source": [
        "Usando a alpaca API para sacar os dados agora que já deste login á tua conta da alpaca com a tua senha pessoal anteriormente."
      ],
      "metadata": {
        "id": "vlH8R_Wz3rIP"
      }
    },
    {
      "cell_type": "code",
      "source": [
        "def get_all_data(caminho_secret_keys, symbol = 'AAPL', max_period = True, start_date = '', end_date= '', timeframe = '1Min', data_source = 'sip'):\n",
        "    api = alpaca_autentification(caminho_secret_keys)\n",
        "\n",
        "    if max_period and start_date == '' and end_date == '':\n",
        "        start_date = get_start_date(symbol)\n",
        "        end_date = get_end_date(symbol)\n",
        "    elif start_date != '' and end_date != '':\n",
        "        start_date = datetime.strptime(start_date, '%Y-%m-%d')\n",
        "        end_date = datetime.strptime(end_date, '%Y-%m-%d')\n",
        "    else:\n",
        "        start_date = datetime(2022, 12, 31)\n",
        "        end_date = datetime(2023, 12, 31)\n",
        "\n",
        "    # Fetch the historical data\n",
        "    apple_data = fetch_data(symbol, start_date, end_date, timeframe, api, data_source)\n",
        "    return apple_data"
      ],
      "metadata": {
        "id": "hj2WI5PG1nTV"
      },
      "execution_count": null,
      "outputs": []
    },
    {
      "cell_type": "markdown",
      "source": [
        "Esta função irá preparar dos dados para o modelo. Do Alpca seram retirados multiplos parametros do mercado interessa-te selecionar apenas os que queres alimentar ao modelo para isso esat função é usada para os selecionar. podes escolher entre 'close', 'high', 'low', 'trade_count', 'open', 'volume', 'vwap', que são os parametros de mercado dados por default pelo Alpaca. Mas para além disso crias te outras 2 métricas com base nas métricas já dadas caso as queiras testar eslas são: 'average_oc' e 'average_hl', que correspondem, respetivamente, ao ponto médio entre o open e o close e o ponto médio entre o high e o low.\n",
        "\n",
        "\n",
        "\n",
        "*   close é o preço de fecho da ação naquele intervalo temporal\n",
        "*   high é o preço mais alto da ação naquele intervalo temporal\n",
        "*   low é o preço mais baixo da ação naquele intervalo temporal\n",
        "*   trade_count é o número de matches entre compradosres e vendedores naquele intervalo temporal\n",
        "*   open é o preço de abertura da ação naquele intervalo temporal\n",
        "*   vwap é o preço da ação por volume naquele intervalo temporal ( uma forma diferente de olhar para o valor intrinseco de uma ação)\n",
        "\n"
      ],
      "metadata": {
        "id": "UCNj32r838K5"
      }
    },
    {
      "cell_type": "code",
      "source": [
        "# Function to prepare the data\n",
        "def prepare_data(data, fisrt_marker, second_marker, third_marker):\n",
        "    # Selecionar colunas relevantes e fazer uma cópia para evitar advertências\n",
        "    data_selected = data[['close', 'high', 'low', 'trade_count', 'open', 'volume', 'vwap']].copy()\n",
        "\n",
        "    # Calcular a média entre 'Open' e 'Close' usando .loc para evitar o SettingWithCopyWarning\n",
        "    data_selected.loc[:, 'average_oc'] = data_selected[['open', 'close']].mean(axis=1)\n",
        "\n",
        "    # Calcular a média entre 'High' e 'Low' usando .loc para evitar o SettingWithCopyWarning\n",
        "    data_selected.loc[:, 'average_hl'] = data_selected[['high', 'low']].mean(axis=1)\n",
        "\n",
        "    # Selecionar as colunas finais\n",
        "    if third_marker != '':\n",
        "        data_final = data_selected[[fisrt_marker, second_marker, third_marker]]\n",
        "    else:\n",
        "        data_final = data_selected[[fisrt_marker, second_marker]]\n",
        "\n",
        "    return data_final"
      ],
      "metadata": {
        "id": "1ktLcRlNC-s4"
      },
      "execution_count": null,
      "outputs": []
    },
    {
      "cell_type": "markdown",
      "source": [
        "Agora temos de continuara a preparação dos dados para serem alimentado ao modelo para isso crio matrizes para segmentar os dados, cada matriz vai ter uma label: 0 ou 1. Assim o dataset vai ser constituido por ,atrizes de tamanho a defenir pelo o usuário do algoritmo e pelas suas respetivas labels de 0 ou 1. As matrizes no máximo poderão ter até 3 colunas, cada coluna representa uma metrica difrente do mercado. As linhas estam inicialmente organizadas de forma sequencial e representação a cada uma a granuralidade mínima do dataset, assim se a granuralidade é de 1 minuto e uma matriz tem 5 linhas, cada matriz representa 5 minutos continuos de métricas do mercado no tempo. As métricas de cada matriz por coluna podem ser formatadas como relativas, o que significa que as métricas da matriz seram apresentadas de forma relativa á matriz em questão, o que pode ser interessante para modelos sem ser um LSTM, pois permite que os dados históricos sejam baralhados temporalmente e manetenham coerência. Como é o caso por exemplo do preço e do volume, com a inflação é normal que o preço aumente mas não queremos que isso cause uma precepção errada de magnitude superior ao nosso modelo assim o 'relative' faz com que as métricas das matrizes apareçam como valores ponderados aos restantes valores da matriz, assim cada valor da métrica relativa é dividida pelo somatório dos valores dessa métrica presentes na matriz."
      ],
      "metadata": {
        "id": "B36NBIsnCb2M"
      }
    },
    {
      "cell_type": "code",
      "source": [
        "# Função para criar as matrizes e os labels\n",
        "def create_matrices(data_final, n = 12, fisrt_marker = 'volume', second_marker = 'vwap', third_marker = '', relative_fisrt_marker = True, relative_second_marker = False, relative_third_marker = False):\n",
        "    num_rows = data_final.shape[0]\n",
        "    num_matrices = num_rows // n  # Número de matrizes completas que podemos formar\n",
        "\n",
        "    matrices = []\n",
        "    matrices_y = []\n",
        "\n",
        "    for i in range(num_matrices):\n",
        "        start_idx = i * n\n",
        "        end_idx = start_idx + n\n",
        "        matrix = data_final.iloc[start_idx:end_idx].copy()\n",
        "\n",
        "        if relative_fisrt_marker:\n",
        "            # Calcular a soma da coluna de volume\n",
        "            volume_sum = matrix[fisrt_marker].sum()\n",
        "\n",
        "            # Tornar a coluna do volume relativa\n",
        "            matrix[fisrt_marker] = matrix[fisrt_marker] / volume_sum\n",
        "\n",
        "            # Converter para valores numpy e adicionar à lista de matrizes\n",
        "            matrices.append(matrix.values)\n",
        "\n",
        "        if relative_second_marker:\n",
        "            # Calcular a soma da coluna de volume\n",
        "            volume_sum = matrix[second_marker].sum()\n",
        "\n",
        "            # Tornar a coluna do volume relativa\n",
        "            matrix[second_marker] = matrix[second_marker] / volume_sum\n",
        "\n",
        "            # Converter para valores numpy e adicionar à lista de matrizes\n",
        "            matrices.append(matrix.values)\n",
        "\n",
        "        if relative_third_marker:\n",
        "            # Calcular a soma da coluna de volume\n",
        "            volume_sum = matrix[third_marker].sum()\n",
        "\n",
        "            # Tornar a coluna do volume relativa\n",
        "            matrix[third_marker] = matrix[third_marker] / volume_sum\n",
        "\n",
        "            # Converter para valores numpy e adicionar à lista de matrizes\n",
        "            matrices.append(matrix.values)\n",
        "\n",
        "        # Criar labels\n",
        "        if i > 0:  # Ignorar a primeira matriz para alinhamento correto\n",
        "            first_value = matrices[i][0, 1]\n",
        "            last_value = matrices[i][n-1, 1]\n",
        "            delta = last_value - first_value\n",
        "            delta_bi = 1 if delta >= 0 else 0\n",
        "            matrices_y.append(delta_bi)\n",
        "\n",
        "    return matrices, matrices_y"
      ],
      "metadata": {
        "id": "8t2H56cVKuTT"
      },
      "execution_count": null,
      "outputs": []
    },
    {
      "cell_type": "markdown",
      "source": [
        "Caso se entenda que a ordem temporal, devido á elevada granuraridade dos dados de uma matriz, é irrelevante, esta função permite ordenar por ordem decrescente da métrica da segunda coluna os valores de uma matriz e assim por exemplo caso na segunda coluna se tenha o valor de volume estaria se a observar em cada matriz o preço por ordem crescente do volume. Esta função pode ser ativada ou desativada e pode ser interessante para uma elevada granuralidade em que as matrizes apenas representam 5 minutos e não se está a usar uma LSTM."
      ],
      "metadata": {
        "id": "PRnv-jgWIx1T"
      }
    },
    {
      "cell_type": "code",
      "source": [
        "def sort_matrices(matrices):\n",
        "    # Ordenar as linhas de cada matriz por ordem decrescente da coluna Average (segunda coluna)\n",
        "    matrices_x = []\n",
        "    for matrix in matrices:\n",
        "        sorted_indices = np.argsort(matrix[:, 1])[::-1]\n",
        "        sorted_matrix = matrix[sorted_indices]\n",
        "        matrices_x.append(sorted_matrix)\n",
        "    return matrices_x"
      ],
      "metadata": {
        "id": "1hhFCRB2DCZK"
      },
      "execution_count": null,
      "outputs": []
    },
    {
      "cell_type": "markdown",
      "source": [
        "Funçaõ para passar as matrizes para tensores para poderem ser tartadas pelo TensorFlow"
      ],
      "metadata": {
        "id": "T81TdRROfxML"
      }
    },
    {
      "cell_type": "code",
      "source": [
        "def tensor_creator(matrices_x, matrices_y):\n",
        "    # Converter listas para arrays numpy\n",
        "    matrices_x = np.array(matrices_x)\n",
        "    matrices_y = np.array(matrices_y)\n",
        "    return matrices_x, matrices_y"
      ],
      "metadata": {
        "id": "pRejyoiHDEhc"
      },
      "execution_count": null,
      "outputs": []
    },
    {
      "cell_type": "markdown",
      "source": [
        "Função que integra todas as outras funções que falamos para obter o dataset e manipulá-lo conforme o utilizador do algoritmo deseja"
      ],
      "metadata": {
        "id": "dUWkAibmgI5w"
      }
    },
    {
      "cell_type": "code",
      "source": [
        "def get_dataset(company_data, n_rows, sort = True, fisrt_marker = 'volume', second_marker = 'vwap' ,\n",
        "                third_marker = '', relative_fisrt_marker = True, relative_second_marker = False,\n",
        "                relative_third_marker = False, decimals = ''):\n",
        "    matrices_x = []\n",
        "    matrices_y = []\n",
        "\n",
        "    matrices_x, matrices_y = create_matrices(company_data, n_rows, fisrt_marker, second_marker, third_marker, relative_fisrt_marker, relative_second_marker, relative_third_marker)\n",
        "\n",
        "    if sort:\n",
        "        matrices_x = sort_matrices(matrices_x)\n",
        "\n",
        "    # Remover a última matriz de matrices_x para alinhamento com matrices_y\n",
        "    if matrices_x:\n",
        "        matrices_x.pop()\n",
        "\n",
        "    matrices_x, matrices_y = tensor_creator(matrices_x, matrices_y)\n",
        "\n",
        "    if decimals != '':\n",
        "        matrices_x = np.round(matrices_x, decimals = decimals)\n",
        "    return matrices_x, matrices_y"
      ],
      "metadata": {
        "id": "IqP4yd62jdV4"
      },
      "execution_count": null,
      "outputs": []
    },
    {
      "cell_type": "markdown",
      "source": [
        "Esta função divide o dataset em treino, validação e teste. Esta divisão tem de ser feita de forma diferente caso se esteja a usar um LSTM ou não. Se for usado um LSTM para manter a ordem temporal dos dados o datset é dividido em fatias sequêncis primeiros 60% dos dados históricos para treino, proximos 20% para validação e ultimos 20% para teste. Se não for usado uma LSTM os dados históricos são formatados em matrizes, as matrizes são baralhadas e entregues baralhadas tempralmente ao modelo."
      ],
      "metadata": {
        "id": "mIYzhJoenbMb"
      }
    },
    {
      "cell_type": "code",
      "source": [
        "def split_dataset(matrices_x, matrices_y, LSTM = True):\n",
        "\n",
        "    if LSTM:\n",
        "        # Total de amostras\n",
        "        n_samples = matrices_x.shape[0]\n",
        "\n",
        "        # Índices para divisão\n",
        "        train_size = int(0.6 * n_samples)  # 60% para treino\n",
        "        val_size = int(0.2 * n_samples)    # 20% para validação\n",
        "        test_size = n_samples - train_size - val_size  # 20% para teste\n",
        "\n",
        "        # Dividir os dados sequencialmente\n",
        "        X_train = matrices_x[:train_size]\n",
        "        y_train = matrices_y[:train_size]\n",
        "\n",
        "        X_val = matrices_x[train_size:train_size + val_size]\n",
        "        y_val = matrices_y[train_size:train_size + val_size]\n",
        "\n",
        "        X_test = matrices_x[train_size + val_size:]\n",
        "        y_test = matrices_y[train_size + val_size:]\n",
        "    else:\n",
        "        # Dividir os dados em conjuntos de treinamento + validação e teste\n",
        "        X_train_val, X_test, y_train_val, y_test = train_test_split(matrices_x, matrices_y, test_size=0.2, random_state=42)\n",
        "\n",
        "        # Dividir o conjunto de treinamento + validação em treinamento e validação\n",
        "        X_train, X_val, y_train, y_val = train_test_split(X_train_val, y_train_val, test_size=0.25, random_state=42)  # 0.25 * 0.8 = 0.2\n",
        "\n",
        "    return X_train, X_val, X_test, y_train, y_val, y_test\n"
      ],
      "metadata": {
        "id": "uAksoOB0q-_H"
      },
      "execution_count": null,
      "outputs": []
    },
    {
      "cell_type": "markdown",
      "source": [
        "Você pode definir uma função auxiliar que, usando importação dinâmica, retorna o scaler necessário em apenas algumas linhas."
      ],
      "metadata": {
        "id": "JxYdYKRr4_Sa"
      }
    },
    {
      "cell_type": "code",
      "source": [
        "# Função nomeada para transformação identidade (evita problemas com lambda e serialização)\n",
        "def identity_func(x):\n",
        "    return x"
      ],
      "metadata": {
        "id": "QAd5UZKRZ6-W"
      },
      "execution_count": null,
      "outputs": []
    },
    {
      "cell_type": "code",
      "source": [
        "def get_scaler(scaler_type):\n",
        "\n",
        "    if scaler_type in ['minmax', 'standard', 'maxabs', 'robust', 'quantile', 'power', 'normalize', 'binarizer']:\n",
        "        scaler_map = {\n",
        "            'minmax': 'MinMaxScaler',\n",
        "            'standard': 'StandardScaler',\n",
        "            'maxabs': 'MaxAbsScaler',\n",
        "            'robust': 'RobustScaler',\n",
        "            'quantile': 'QuantileTransformer',\n",
        "            'power': 'PowerTransformer',\n",
        "            'normalize': 'Normalizer',\n",
        "            'binarizer': 'Binarizer'\n",
        "        }\n",
        "        module = importlib.import_module(\"sklearn.preprocessing\")\n",
        "        return getattr(module, scaler_map[scaler_type])()\n",
        "    elif scaler_type == 'log':\n",
        "        from sklearn.preprocessing import FunctionTransformer\n",
        "        return FunctionTransformer(np.log1p, validate=True)\n",
        "    elif scaler_type == 'identity':\n",
        "        from sklearn.preprocessing import FunctionTransformer\n",
        "        transformer = FunctionTransformer(identity_func, validate=True)\n",
        "    else:\n",
        "        raise ValueError(\"Tipo de scaler não suportado. Escolha entre: minmax, standard, maxabs, robust, quantile, power, normalize, binarizer, log, identity\")"
      ],
      "metadata": {
        "id": "m2mpBBX41rVF"
      },
      "execution_count": null,
      "outputs": []
    },
    {
      "cell_type": "markdown",
      "source": [
        "Aplica o escalonamento (ou transformação) aos dados 3D para LSTM, permitindo escolher quais colunas (na terceira dimensão) devem ser escalonadas. Realiza os imports apenas do scaler necessário conforme o scaler_type informado."
      ],
      "metadata": {
        "id": "WWbZRAYF4vE2"
      }
    },
    {
      "cell_type": "code",
      "source": [
        "def scale_data(X_train, X_val, X_test, scaler_type=None, cols_to_scale=None):\n",
        "\n",
        "    # Se o usuário não deseja aplicar escalonamento, retorna cópias dos dados originais.\n",
        "    if scaler_type is None or scaler_type.lower() == 'none':\n",
        "        return np.copy(X_train), np.copy(X_val), np.copy(X_test), None\n",
        "\n",
        "    # Obtém o scaler dinamicamente com base no scaler_type informado.\n",
        "    scaler = get_scaler(scaler_type)\n",
        "\n",
        "    n_samples_train, timesteps, n_features = X_train.shape\n",
        "\n",
        "    # Se não foi especificado, escalona todas as colunas (todas as features).\n",
        "    if cols_to_scale is None:\n",
        "        cols_to_scale = list(range(n_features))\n",
        "\n",
        "    # Cria cópias dos dados para não alterar os arrays originais\n",
        "    X_train_scaled = np.copy(X_train)\n",
        "    X_val_scaled = np.copy(X_val)\n",
        "    X_test_scaled = np.copy(X_test)\n",
        "\n",
        "    # Processamento dos dados de treinamento:\n",
        "    # Extrai as colunas a serem escalonadas, achata para 2D,\n",
        "    # aplica o fit_transform e reorganiza para 3D.\n",
        "    X_train_part = X_train[:, :, cols_to_scale].reshape(-1, len(cols_to_scale))\n",
        "    X_train_scaled_part = scaler.fit_transform(X_train_part)\n",
        "    X_train_scaled[:, :, cols_to_scale] = X_train_scaled_part.reshape(n_samples_train, timesteps, len(cols_to_scale))\n",
        "\n",
        "    # Processamento dos dados de validação:\n",
        "    n_samples_val = X_val.shape[0]\n",
        "    X_val_part = X_val[:, :, cols_to_scale].reshape(-1, len(cols_to_scale))\n",
        "    X_val_scaled_part = scaler.transform(X_val_part)\n",
        "    X_val_scaled[:, :, cols_to_scale] = X_val_scaled_part.reshape(n_samples_val, timesteps, len(cols_to_scale))\n",
        "\n",
        "    # Processamento dos dados de teste:\n",
        "    n_samples_test = X_test.shape[0]\n",
        "    X_test_part = X_test[:, :, cols_to_scale].reshape(-1, len(cols_to_scale))\n",
        "    X_test_scaled_part = scaler.transform(X_test_part)\n",
        "    X_test_scaled[:, :, cols_to_scale] = X_test_scaled_part.reshape(n_samples_test, timesteps, len(cols_to_scale))\n",
        "\n",
        "    return X_train_scaled, X_val_scaled, X_test_scaled, scaler"
      ],
      "metadata": {
        "id": "-iJ_-oM-jVAE"
      },
      "execution_count": null,
      "outputs": []
    },
    {
      "cell_type": "markdown",
      "source": [
        "Função para criar o modelo de AI. Esta função permite escolher entre duas arquiteturas diferentes. É possível escolher entre usar uma LSTM, caso se queira dar prioridade á lógica temporal do mercado, ou usar uma arquitetura diferente caso não se queira dar essa relevância à ordem temporal.\n",
        "\n",
        "Pode ser interessante não usar uma LSTM. O padrão de procedimento na industria é usar um LSTM devido ao motivo lógico que esxite uma padrão temporal de acontecimentos obvios no mercado. No entanto, para explorar outras prespetivas de olhar para o mercado, desenvolves te várias ferramentas que em teoria permitiriam olhar para o mercado sem ser relevante a ordem temporal. A ideia é que pela teoria do mercado eficiente combiando com a tua ideia de um torque financeiro, que deve abrir um curto intervalo de tempo no mercado para ganhar lucro comprativamento com os outros players do mercado. Assim se aumentares por muito a granuralidade e assim estarás a fazer previsões para a matriz seguinte, ou seja, se as matrizes apenas representam 5 minutos no mercado, logo somando essa a ideia de uma granuralidade elevada com o facto de tornar os parametros na matriz relativos, e ordenar as linhas da matriz por ordem crecente dos valores e não tempora, todas estas ferramentas juntas em teoria permitiriam analisar o mercado sem ter em conta a ordem temporal.\n"
      ],
      "metadata": {
        "id": "YCc_bVslgY0b"
      }
    },
    {
      "cell_type": "code",
      "source": [
        "# Função para construir a rede neural\n",
        "def build_model(input_shape, LSTM_boolean=True):\n",
        "    warnings.filterwarnings('ignore', category=UserWarning, module='keras')\n",
        "    model = Sequential()\n",
        "\n",
        "    if LSTM_boolean:\n",
        "        model.add(LSTM(64, input_shape=input_shape, return_sequences=True))\n",
        "        model.add(Dropout(0.2))\n",
        "        model.add(LSTM(64, return_sequences=False))\n",
        "        model.add(Dropout(0.2))\n",
        "    else:\n",
        "        model.add(Flatten(input_shape=input_shape))\n",
        "        model.add(Dense(64, activation='relu'))\n",
        "        model.add(BatchNormalization())\n",
        "        model.add(Dropout(0.5))\n",
        "        model.add(Dense(64, activation='relu'))\n",
        "        model.add(BatchNormalization())\n",
        "        model.add(Dropout(0.5))\n",
        "\n",
        "    model.add(Dense(1, activation='sigmoid'))\n",
        "\n",
        "    # Compilando o modelo com uma taxa de aprendizado ajustada\n",
        "    optimizer = Adam(learning_rate=0.001)\n",
        "    model.compile(optimizer=optimizer, loss='binary_crossentropy', metrics=['accuracy'])\n",
        "\n",
        "    model.summary()\n",
        "\n",
        "    return model"
      ],
      "metadata": {
        "id": "VkdihWussdhK"
      },
      "execution_count": null,
      "outputs": []
    },
    {
      "cell_type": "markdown",
      "source": [
        "Função para treinar o modelo, usamos earlystopping para saber qunado para de forma mais correta as épocas. Esta função também grava o histórico de treinamento assim como também testa o modelo contra o dataset de teste e grava os resultados."
      ],
      "metadata": {
        "id": "QL1X35y0p7xg"
      }
    },
    {
      "cell_type": "code",
      "source": [
        "def model_training(model, X_train, X_val, X_test, y_train, y_val, y_test, epochs=5, early_stopping = True, call_back = 'val_accuracy', patience = 2, batch_size=32):\n",
        "\n",
        "    if early_stopping:\n",
        "        early_stopping = EarlyStopping(monitor=call_back, patience=patience, restore_best_weights=True)\n",
        "        history = model.fit(X_train, y_train, epochs = epochs, batch_size = batch_size, validation_data=(X_val, y_val), callbacks=[early_stopping])\n",
        "    else:\n",
        "        history = model.fit(X_train, y_train, epochs = epochs, batch_size = batch_size, validation_data=(X_val, y_val))\n",
        "\n",
        "    return model, history"
      ],
      "metadata": {
        "id": "Fo-yl-ysvUC-"
      },
      "execution_count": null,
      "outputs": []
    },
    {
      "cell_type": "code",
      "source": [
        "def run_model_on_test(model, X_test, y_test):\n",
        "    # Avaliar o modelo nos dados de teste\n",
        "    test_loss, test_accuracy = model.evaluate(X_test, y_test)\n",
        "\n",
        "    return test_loss, test_accuracy"
      ],
      "metadata": {
        "id": "1IZjLxgKTV4h"
      },
      "execution_count": null,
      "outputs": []
    },
    {
      "cell_type": "code",
      "source": [
        "def create_confusion_matrix(model, X_test, y_test):\n",
        "\n",
        "    y_pred = model.predict(X_test)\n",
        "\n",
        "    # Função auxiliar para converter saídas para rótulos\n",
        "    def convert_to_labels(y):\n",
        "        if y.ndim > 1 and y.shape[1] > 1:\n",
        "            return np.argmax(y, axis=1)\n",
        "        elif np.issubdtype(y.dtype, np.floating):\n",
        "            return (y > 0.5).astype(\"int32\").flatten()\n",
        "        else:\n",
        "            return y.flatten() if y.ndim > 1 else y\n",
        "\n",
        "    y_pred_labels = convert_to_labels(y_pred)\n",
        "    y_test_labels = convert_to_labels(y_test)\n",
        "\n",
        "    cm = sk_confusion_matrix(y_test_labels, y_pred_labels)\n",
        "    cm_percentage = cm.astype(float) / cm.sum(axis=1, keepdims=True) * 100\n",
        "\n",
        "    disp = ConfusionMatrixDisplay(confusion_matrix=cm_percentage)\n",
        "    disp.plot(cmap=plt.cm.Blues, values_format='.2f')\n",
        "    plt.title(\"Confusion Matrix (%)\")\n",
        "\n",
        "    fig = disp.figure_\n",
        "    return fig"
      ],
      "metadata": {
        "id": "-CgBdCOPTe6Z"
      },
      "execution_count": null,
      "outputs": []
    },
    {
      "cell_type": "markdown",
      "source": [
        "função que permite dar plot dos resultados da historia de treinamento e dar plot aos resultado do modelo no dataset de teste."
      ],
      "metadata": {
        "id": "ZtI-19T3qYKZ"
      }
    },
    {
      "cell_type": "code",
      "source": [
        "def plot_accuracy(history):\n",
        "\n",
        "    fig, ax = plt.subplots()\n",
        "    ax.plot(history.history['accuracy'], label='Training Accuracy')\n",
        "    ax.plot(history.history['val_accuracy'], label='Validation Accuracy')\n",
        "    ax.set_title('Model Accuracy')\n",
        "    ax.set_xlabel('Epoch')\n",
        "    ax.set_ylabel('Accuracy')\n",
        "    ax.legend()\n",
        "    return fig"
      ],
      "metadata": {
        "id": "e-SwozHITilU"
      },
      "execution_count": null,
      "outputs": []
    },
    {
      "cell_type": "code",
      "source": [
        "def plot_loss(history):\n",
        "\n",
        "    fig, ax = plt.subplots()\n",
        "    ax.plot(history.history['loss'], label='Training Loss')\n",
        "    ax.plot(history.history['val_loss'], label='Validation Loss')\n",
        "    ax.set_title('Model Loss')\n",
        "    ax.set_xlabel('Epoch')\n",
        "    ax.set_ylabel('Loss')\n",
        "    ax.legend()\n",
        "    return fig"
      ],
      "metadata": {
        "id": "42-pWp7Gvz9F"
      },
      "execution_count": null,
      "outputs": []
    },
    {
      "cell_type": "code",
      "source": [
        "def verify_directory(caminho):\n",
        "\n",
        "    # Verifique se o diretório existe, caso contrário, crie-o\n",
        "    if not os.path.exists(caminho):\n",
        "        print(f\"Diretório {caminho} não existe.\")\n",
        "    else:\n",
        "        print(f\"O diretório {caminho} já existe.\")"
      ],
      "metadata": {
        "id": "cQxZ7_Hh8Zg6"
      },
      "execution_count": null,
      "outputs": []
    },
    {
      "cell_type": "markdown",
      "source": [
        "# **Results**"
      ],
      "metadata": {
        "id": "Ul8ukjfiIGam"
      }
    },
    {
      "cell_type": "markdown",
      "source": [
        "Função que agrega todas as anteriores para preceber se com base nas variaveis introduzidas no algoritmo, o algoritmo já foi corrido alguma vez com estes settings ou não. Caso tenha sido ele vai buscar á google drive os dados guardados anteriormente com estes settings o que otimiza o tempo que demora a correr o algoritmo, pois caso contrário é necessário usar a API Alpaca para obter todos os dados o que pode demorar bastante tempo."
      ],
      "metadata": {
        "id": "XCsbuEmMs6LR"
      }
    },
    {
      "cell_type": "code",
      "source": [
        "old_dataset, caminho_do_modelo = old_dataset_function(arquivo_old_dataset, file_name_False)\n",
        "\n",
        "if old_dataset:\n",
        "    company_data = pd.read_csv(caminho_do_modelo, index_col=0)\n",
        "else:\n",
        "    company_data = get_all_data(caminho_secret_keys, symbol, max_period, start_date, end_date, timeframe, data_source)\n",
        "\n",
        "company_data"
      ],
      "metadata": {
        "colab": {
          "base_uri": "https://localhost:8080/"
        },
        "id": "nuIkfBkI-Uvw",
        "outputId": "a175c7b9-2754-497e-9626-eb72bf9fdb46"
      },
      "execution_count": null,
      "outputs": [
        {
          "output_type": "stream",
          "name": "stdout",
          "text": [
            "Nenhum arquivo próximo encontrado.\n"
          ]
        },
        {
          "output_type": "execute_result",
          "data": {
            "text/plain": [
              "                              close    high       low  trade_count      open  \\\n",
              "timestamp                                                                      \n",
              "2021-11-01 08:00:00+00:00  149.9500  150.15  149.9500          481  149.9500   \n",
              "2021-11-01 08:05:00+00:00  149.5700  149.95  149.5700          324  149.9500   \n",
              "2021-11-01 08:10:00+00:00  149.6800  149.68  149.5600          131  149.5600   \n",
              "2021-11-01 08:15:00+00:00  149.8500  149.85  149.7000          151  149.7000   \n",
              "2021-11-01 08:20:00+00:00  149.8000  149.99  149.8000          126  149.9700   \n",
              "...                             ...     ...       ...          ...       ...   \n",
              "2023-12-30 00:35:00+00:00  192.1200  192.14  192.1100           44  192.1400   \n",
              "2023-12-30 00:40:00+00:00  192.1500  192.15  192.1118           41  192.1118   \n",
              "2023-12-30 00:45:00+00:00  192.2000  192.22  192.1500           37  192.1500   \n",
              "2023-12-30 00:50:00+00:00  192.2200  192.24  192.1600           54  192.1600   \n",
              "2023-12-30 00:55:00+00:00  192.1501  192.24  192.1000           89  192.2400   \n",
              "\n",
              "                           volume        vwap  \n",
              "timestamp                                      \n",
              "2021-11-01 08:00:00+00:00    8668  149.989939  \n",
              "2021-11-01 08:05:00+00:00   11535  149.801981  \n",
              "2021-11-01 08:10:00+00:00    7700  149.581088  \n",
              "2021-11-01 08:15:00+00:00    6969  149.793416  \n",
              "2021-11-01 08:20:00+00:00    4360  149.893532  \n",
              "...                           ...         ...  \n",
              "2023-12-30 00:35:00+00:00    1639  192.127635  \n",
              "2023-12-30 00:40:00+00:00    2863  192.136225  \n",
              "2023-12-30 00:45:00+00:00    3105  192.206060  \n",
              "2023-12-30 00:50:00+00:00    8060  192.221794  \n",
              "2023-12-30 00:55:00+00:00    6212  192.181578  \n",
              "\n",
              "[99668 rows x 7 columns]"
            ],
            "text/html": [
              "\n",
              "  <div id=\"df-6fc8ddf0-4007-49f3-b00c-08caa5c401ea\" class=\"colab-df-container\">\n",
              "    <div>\n",
              "<style scoped>\n",
              "    .dataframe tbody tr th:only-of-type {\n",
              "        vertical-align: middle;\n",
              "    }\n",
              "\n",
              "    .dataframe tbody tr th {\n",
              "        vertical-align: top;\n",
              "    }\n",
              "\n",
              "    .dataframe thead th {\n",
              "        text-align: right;\n",
              "    }\n",
              "</style>\n",
              "<table border=\"1\" class=\"dataframe\">\n",
              "  <thead>\n",
              "    <tr style=\"text-align: right;\">\n",
              "      <th></th>\n",
              "      <th>close</th>\n",
              "      <th>high</th>\n",
              "      <th>low</th>\n",
              "      <th>trade_count</th>\n",
              "      <th>open</th>\n",
              "      <th>volume</th>\n",
              "      <th>vwap</th>\n",
              "    </tr>\n",
              "    <tr>\n",
              "      <th>timestamp</th>\n",
              "      <th></th>\n",
              "      <th></th>\n",
              "      <th></th>\n",
              "      <th></th>\n",
              "      <th></th>\n",
              "      <th></th>\n",
              "      <th></th>\n",
              "    </tr>\n",
              "  </thead>\n",
              "  <tbody>\n",
              "    <tr>\n",
              "      <th>2021-11-01 08:00:00+00:00</th>\n",
              "      <td>149.9500</td>\n",
              "      <td>150.15</td>\n",
              "      <td>149.9500</td>\n",
              "      <td>481</td>\n",
              "      <td>149.9500</td>\n",
              "      <td>8668</td>\n",
              "      <td>149.989939</td>\n",
              "    </tr>\n",
              "    <tr>\n",
              "      <th>2021-11-01 08:05:00+00:00</th>\n",
              "      <td>149.5700</td>\n",
              "      <td>149.95</td>\n",
              "      <td>149.5700</td>\n",
              "      <td>324</td>\n",
              "      <td>149.9500</td>\n",
              "      <td>11535</td>\n",
              "      <td>149.801981</td>\n",
              "    </tr>\n",
              "    <tr>\n",
              "      <th>2021-11-01 08:10:00+00:00</th>\n",
              "      <td>149.6800</td>\n",
              "      <td>149.68</td>\n",
              "      <td>149.5600</td>\n",
              "      <td>131</td>\n",
              "      <td>149.5600</td>\n",
              "      <td>7700</td>\n",
              "      <td>149.581088</td>\n",
              "    </tr>\n",
              "    <tr>\n",
              "      <th>2021-11-01 08:15:00+00:00</th>\n",
              "      <td>149.8500</td>\n",
              "      <td>149.85</td>\n",
              "      <td>149.7000</td>\n",
              "      <td>151</td>\n",
              "      <td>149.7000</td>\n",
              "      <td>6969</td>\n",
              "      <td>149.793416</td>\n",
              "    </tr>\n",
              "    <tr>\n",
              "      <th>2021-11-01 08:20:00+00:00</th>\n",
              "      <td>149.8000</td>\n",
              "      <td>149.99</td>\n",
              "      <td>149.8000</td>\n",
              "      <td>126</td>\n",
              "      <td>149.9700</td>\n",
              "      <td>4360</td>\n",
              "      <td>149.893532</td>\n",
              "    </tr>\n",
              "    <tr>\n",
              "      <th>...</th>\n",
              "      <td>...</td>\n",
              "      <td>...</td>\n",
              "      <td>...</td>\n",
              "      <td>...</td>\n",
              "      <td>...</td>\n",
              "      <td>...</td>\n",
              "      <td>...</td>\n",
              "    </tr>\n",
              "    <tr>\n",
              "      <th>2023-12-30 00:35:00+00:00</th>\n",
              "      <td>192.1200</td>\n",
              "      <td>192.14</td>\n",
              "      <td>192.1100</td>\n",
              "      <td>44</td>\n",
              "      <td>192.1400</td>\n",
              "      <td>1639</td>\n",
              "      <td>192.127635</td>\n",
              "    </tr>\n",
              "    <tr>\n",
              "      <th>2023-12-30 00:40:00+00:00</th>\n",
              "      <td>192.1500</td>\n",
              "      <td>192.15</td>\n",
              "      <td>192.1118</td>\n",
              "      <td>41</td>\n",
              "      <td>192.1118</td>\n",
              "      <td>2863</td>\n",
              "      <td>192.136225</td>\n",
              "    </tr>\n",
              "    <tr>\n",
              "      <th>2023-12-30 00:45:00+00:00</th>\n",
              "      <td>192.2000</td>\n",
              "      <td>192.22</td>\n",
              "      <td>192.1500</td>\n",
              "      <td>37</td>\n",
              "      <td>192.1500</td>\n",
              "      <td>3105</td>\n",
              "      <td>192.206060</td>\n",
              "    </tr>\n",
              "    <tr>\n",
              "      <th>2023-12-30 00:50:00+00:00</th>\n",
              "      <td>192.2200</td>\n",
              "      <td>192.24</td>\n",
              "      <td>192.1600</td>\n",
              "      <td>54</td>\n",
              "      <td>192.1600</td>\n",
              "      <td>8060</td>\n",
              "      <td>192.221794</td>\n",
              "    </tr>\n",
              "    <tr>\n",
              "      <th>2023-12-30 00:55:00+00:00</th>\n",
              "      <td>192.1501</td>\n",
              "      <td>192.24</td>\n",
              "      <td>192.1000</td>\n",
              "      <td>89</td>\n",
              "      <td>192.2400</td>\n",
              "      <td>6212</td>\n",
              "      <td>192.181578</td>\n",
              "    </tr>\n",
              "  </tbody>\n",
              "</table>\n",
              "<p>99668 rows × 7 columns</p>\n",
              "</div>\n",
              "    <div class=\"colab-df-buttons\">\n",
              "\n",
              "  <div class=\"colab-df-container\">\n",
              "    <button class=\"colab-df-convert\" onclick=\"convertToInteractive('df-6fc8ddf0-4007-49f3-b00c-08caa5c401ea')\"\n",
              "            title=\"Convert this dataframe to an interactive table.\"\n",
              "            style=\"display:none;\">\n",
              "\n",
              "  <svg xmlns=\"http://www.w3.org/2000/svg\" height=\"24px\" viewBox=\"0 -960 960 960\">\n",
              "    <path d=\"M120-120v-720h720v720H120Zm60-500h600v-160H180v160Zm220 220h160v-160H400v160Zm0 220h160v-160H400v160ZM180-400h160v-160H180v160Zm440 0h160v-160H620v160ZM180-180h160v-160H180v160Zm440 0h160v-160H620v160Z\"/>\n",
              "  </svg>\n",
              "    </button>\n",
              "\n",
              "  <style>\n",
              "    .colab-df-container {\n",
              "      display:flex;\n",
              "      gap: 12px;\n",
              "    }\n",
              "\n",
              "    .colab-df-convert {\n",
              "      background-color: #E8F0FE;\n",
              "      border: none;\n",
              "      border-radius: 50%;\n",
              "      cursor: pointer;\n",
              "      display: none;\n",
              "      fill: #1967D2;\n",
              "      height: 32px;\n",
              "      padding: 0 0 0 0;\n",
              "      width: 32px;\n",
              "    }\n",
              "\n",
              "    .colab-df-convert:hover {\n",
              "      background-color: #E2EBFA;\n",
              "      box-shadow: 0px 1px 2px rgba(60, 64, 67, 0.3), 0px 1px 3px 1px rgba(60, 64, 67, 0.15);\n",
              "      fill: #174EA6;\n",
              "    }\n",
              "\n",
              "    .colab-df-buttons div {\n",
              "      margin-bottom: 4px;\n",
              "    }\n",
              "\n",
              "    [theme=dark] .colab-df-convert {\n",
              "      background-color: #3B4455;\n",
              "      fill: #D2E3FC;\n",
              "    }\n",
              "\n",
              "    [theme=dark] .colab-df-convert:hover {\n",
              "      background-color: #434B5C;\n",
              "      box-shadow: 0px 1px 3px 1px rgba(0, 0, 0, 0.15);\n",
              "      filter: drop-shadow(0px 1px 2px rgba(0, 0, 0, 0.3));\n",
              "      fill: #FFFFFF;\n",
              "    }\n",
              "  </style>\n",
              "\n",
              "    <script>\n",
              "      const buttonEl =\n",
              "        document.querySelector('#df-6fc8ddf0-4007-49f3-b00c-08caa5c401ea button.colab-df-convert');\n",
              "      buttonEl.style.display =\n",
              "        google.colab.kernel.accessAllowed ? 'block' : 'none';\n",
              "\n",
              "      async function convertToInteractive(key) {\n",
              "        const element = document.querySelector('#df-6fc8ddf0-4007-49f3-b00c-08caa5c401ea');\n",
              "        const dataTable =\n",
              "          await google.colab.kernel.invokeFunction('convertToInteractive',\n",
              "                                                    [key], {});\n",
              "        if (!dataTable) return;\n",
              "\n",
              "        const docLinkHtml = 'Like what you see? Visit the ' +\n",
              "          '<a target=\"_blank\" href=https://colab.research.google.com/notebooks/data_table.ipynb>data table notebook</a>'\n",
              "          + ' to learn more about interactive tables.';\n",
              "        element.innerHTML = '';\n",
              "        dataTable['output_type'] = 'display_data';\n",
              "        await google.colab.output.renderOutput(dataTable, element);\n",
              "        const docLink = document.createElement('div');\n",
              "        docLink.innerHTML = docLinkHtml;\n",
              "        element.appendChild(docLink);\n",
              "      }\n",
              "    </script>\n",
              "  </div>\n",
              "\n",
              "\n",
              "<div id=\"df-7030eeb4-e1de-4f21-9a13-e2453003ee2c\">\n",
              "  <button class=\"colab-df-quickchart\" onclick=\"quickchart('df-7030eeb4-e1de-4f21-9a13-e2453003ee2c')\"\n",
              "            title=\"Suggest charts\"\n",
              "            style=\"display:none;\">\n",
              "\n",
              "<svg xmlns=\"http://www.w3.org/2000/svg\" height=\"24px\"viewBox=\"0 0 24 24\"\n",
              "     width=\"24px\">\n",
              "    <g>\n",
              "        <path d=\"M19 3H5c-1.1 0-2 .9-2 2v14c0 1.1.9 2 2 2h14c1.1 0 2-.9 2-2V5c0-1.1-.9-2-2-2zM9 17H7v-7h2v7zm4 0h-2V7h2v10zm4 0h-2v-4h2v4z\"/>\n",
              "    </g>\n",
              "</svg>\n",
              "  </button>\n",
              "\n",
              "<style>\n",
              "  .colab-df-quickchart {\n",
              "      --bg-color: #E8F0FE;\n",
              "      --fill-color: #1967D2;\n",
              "      --hover-bg-color: #E2EBFA;\n",
              "      --hover-fill-color: #174EA6;\n",
              "      --disabled-fill-color: #AAA;\n",
              "      --disabled-bg-color: #DDD;\n",
              "  }\n",
              "\n",
              "  [theme=dark] .colab-df-quickchart {\n",
              "      --bg-color: #3B4455;\n",
              "      --fill-color: #D2E3FC;\n",
              "      --hover-bg-color: #434B5C;\n",
              "      --hover-fill-color: #FFFFFF;\n",
              "      --disabled-bg-color: #3B4455;\n",
              "      --disabled-fill-color: #666;\n",
              "  }\n",
              "\n",
              "  .colab-df-quickchart {\n",
              "    background-color: var(--bg-color);\n",
              "    border: none;\n",
              "    border-radius: 50%;\n",
              "    cursor: pointer;\n",
              "    display: none;\n",
              "    fill: var(--fill-color);\n",
              "    height: 32px;\n",
              "    padding: 0;\n",
              "    width: 32px;\n",
              "  }\n",
              "\n",
              "  .colab-df-quickchart:hover {\n",
              "    background-color: var(--hover-bg-color);\n",
              "    box-shadow: 0 1px 2px rgba(60, 64, 67, 0.3), 0 1px 3px 1px rgba(60, 64, 67, 0.15);\n",
              "    fill: var(--button-hover-fill-color);\n",
              "  }\n",
              "\n",
              "  .colab-df-quickchart-complete:disabled,\n",
              "  .colab-df-quickchart-complete:disabled:hover {\n",
              "    background-color: var(--disabled-bg-color);\n",
              "    fill: var(--disabled-fill-color);\n",
              "    box-shadow: none;\n",
              "  }\n",
              "\n",
              "  .colab-df-spinner {\n",
              "    border: 2px solid var(--fill-color);\n",
              "    border-color: transparent;\n",
              "    border-bottom-color: var(--fill-color);\n",
              "    animation:\n",
              "      spin 1s steps(1) infinite;\n",
              "  }\n",
              "\n",
              "  @keyframes spin {\n",
              "    0% {\n",
              "      border-color: transparent;\n",
              "      border-bottom-color: var(--fill-color);\n",
              "      border-left-color: var(--fill-color);\n",
              "    }\n",
              "    20% {\n",
              "      border-color: transparent;\n",
              "      border-left-color: var(--fill-color);\n",
              "      border-top-color: var(--fill-color);\n",
              "    }\n",
              "    30% {\n",
              "      border-color: transparent;\n",
              "      border-left-color: var(--fill-color);\n",
              "      border-top-color: var(--fill-color);\n",
              "      border-right-color: var(--fill-color);\n",
              "    }\n",
              "    40% {\n",
              "      border-color: transparent;\n",
              "      border-right-color: var(--fill-color);\n",
              "      border-top-color: var(--fill-color);\n",
              "    }\n",
              "    60% {\n",
              "      border-color: transparent;\n",
              "      border-right-color: var(--fill-color);\n",
              "    }\n",
              "    80% {\n",
              "      border-color: transparent;\n",
              "      border-right-color: var(--fill-color);\n",
              "      border-bottom-color: var(--fill-color);\n",
              "    }\n",
              "    90% {\n",
              "      border-color: transparent;\n",
              "      border-bottom-color: var(--fill-color);\n",
              "    }\n",
              "  }\n",
              "</style>\n",
              "\n",
              "  <script>\n",
              "    async function quickchart(key) {\n",
              "      const quickchartButtonEl =\n",
              "        document.querySelector('#' + key + ' button');\n",
              "      quickchartButtonEl.disabled = true;  // To prevent multiple clicks.\n",
              "      quickchartButtonEl.classList.add('colab-df-spinner');\n",
              "      try {\n",
              "        const charts = await google.colab.kernel.invokeFunction(\n",
              "            'suggestCharts', [key], {});\n",
              "      } catch (error) {\n",
              "        console.error('Error during call to suggestCharts:', error);\n",
              "      }\n",
              "      quickchartButtonEl.classList.remove('colab-df-spinner');\n",
              "      quickchartButtonEl.classList.add('colab-df-quickchart-complete');\n",
              "    }\n",
              "    (() => {\n",
              "      let quickchartButtonEl =\n",
              "        document.querySelector('#df-7030eeb4-e1de-4f21-9a13-e2453003ee2c button');\n",
              "      quickchartButtonEl.style.display =\n",
              "        google.colab.kernel.accessAllowed ? 'block' : 'none';\n",
              "    })();\n",
              "  </script>\n",
              "</div>\n",
              "\n",
              "  <div id=\"id_83b6e945-dfbc-471f-99be-428672288d59\">\n",
              "    <style>\n",
              "      .colab-df-generate {\n",
              "        background-color: #E8F0FE;\n",
              "        border: none;\n",
              "        border-radius: 50%;\n",
              "        cursor: pointer;\n",
              "        display: none;\n",
              "        fill: #1967D2;\n",
              "        height: 32px;\n",
              "        padding: 0 0 0 0;\n",
              "        width: 32px;\n",
              "      }\n",
              "\n",
              "      .colab-df-generate:hover {\n",
              "        background-color: #E2EBFA;\n",
              "        box-shadow: 0px 1px 2px rgba(60, 64, 67, 0.3), 0px 1px 3px 1px rgba(60, 64, 67, 0.15);\n",
              "        fill: #174EA6;\n",
              "      }\n",
              "\n",
              "      [theme=dark] .colab-df-generate {\n",
              "        background-color: #3B4455;\n",
              "        fill: #D2E3FC;\n",
              "      }\n",
              "\n",
              "      [theme=dark] .colab-df-generate:hover {\n",
              "        background-color: #434B5C;\n",
              "        box-shadow: 0px 1px 3px 1px rgba(0, 0, 0, 0.15);\n",
              "        filter: drop-shadow(0px 1px 2px rgba(0, 0, 0, 0.3));\n",
              "        fill: #FFFFFF;\n",
              "      }\n",
              "    </style>\n",
              "    <button class=\"colab-df-generate\" onclick=\"generateWithVariable('company_data')\"\n",
              "            title=\"Generate code using this dataframe.\"\n",
              "            style=\"display:none;\">\n",
              "\n",
              "  <svg xmlns=\"http://www.w3.org/2000/svg\" height=\"24px\"viewBox=\"0 0 24 24\"\n",
              "       width=\"24px\">\n",
              "    <path d=\"M7,19H8.4L18.45,9,17,7.55,7,17.6ZM5,21V16.75L18.45,3.32a2,2,0,0,1,2.83,0l1.4,1.43a1.91,1.91,0,0,1,.58,1.4,1.91,1.91,0,0,1-.58,1.4L9.25,21ZM18.45,9,17,7.55Zm-12,3A5.31,5.31,0,0,0,4.9,8.1,5.31,5.31,0,0,0,1,6.5,5.31,5.31,0,0,0,4.9,4.9,5.31,5.31,0,0,0,6.5,1,5.31,5.31,0,0,0,8.1,4.9,5.31,5.31,0,0,0,12,6.5,5.46,5.46,0,0,0,6.5,12Z\"/>\n",
              "  </svg>\n",
              "    </button>\n",
              "    <script>\n",
              "      (() => {\n",
              "      const buttonEl =\n",
              "        document.querySelector('#id_83b6e945-dfbc-471f-99be-428672288d59 button.colab-df-generate');\n",
              "      buttonEl.style.display =\n",
              "        google.colab.kernel.accessAllowed ? 'block' : 'none';\n",
              "\n",
              "      buttonEl.onclick = () => {\n",
              "        google.colab.notebook.generateWithVariable('company_data');\n",
              "      }\n",
              "      })();\n",
              "    </script>\n",
              "  </div>\n",
              "\n",
              "    </div>\n",
              "  </div>\n"
            ],
            "application/vnd.google.colaboratory.intrinsic+json": {
              "type": "dataframe",
              "variable_name": "company_data",
              "summary": "{\n  \"name\": \"company_data\",\n  \"rows\": 99668,\n  \"fields\": [\n    {\n      \"column\": \"timestamp\",\n      \"properties\": {\n        \"dtype\": \"date\",\n        \"min\": \"2021-11-01 08:00:00+00:00\",\n        \"max\": \"2023-12-30 00:55:00+00:00\",\n        \"num_unique_values\": 99668,\n        \"samples\": [\n          \"2021-11-22 15:10:00+00:00\",\n          \"2022-08-12 09:15:00+00:00\",\n          \"2022-11-29 16:05:00+00:00\"\n        ],\n        \"semantic_type\": \"\",\n        \"description\": \"\"\n      }\n    },\n    {\n      \"column\": \"close\",\n      \"properties\": {\n        \"dtype\": \"number\",\n        \"std\": 17.236010760396066,\n        \"min\": 124.23,\n        \"max\": 199.3752,\n        \"num_unique_values\": 23992,\n        \"samples\": [\n          164.9701,\n          182.6601,\n          169.59\n        ],\n        \"semantic_type\": \"\",\n        \"description\": \"\"\n      }\n    },\n    {\n      \"column\": \"high\",\n      \"properties\": {\n        \"dtype\": \"number\",\n        \"std\": 17.22107188220038,\n        \"min\": 124.3,\n        \"max\": 199.62,\n        \"num_unique_values\": 17026,\n        \"samples\": [\n          179.5841,\n          170.7394,\n          189.7591\n        ],\n        \"semantic_type\": \"\",\n        \"description\": \"\"\n      }\n    },\n    {\n      \"column\": \"low\",\n      \"properties\": {\n        \"dtype\": \"number\",\n        \"std\": 17.250711524863497,\n        \"min\": 124.17,\n        \"max\": 199.166,\n        \"num_unique_values\": 16624,\n        \"samples\": [\n          145.7202,\n          161.97,\n          153.99\n        ],\n        \"semantic_type\": \"\",\n        \"description\": \"\"\n      }\n    },\n    {\n      \"column\": \"trade_count\",\n      \"properties\": {\n        \"dtype\": \"number\",\n        \"std\": 5622,\n        \"min\": 1,\n        \"max\": 109929,\n        \"num_unique_values\": 16301,\n        \"samples\": [\n          12562,\n          6231,\n          9257\n        ],\n        \"semantic_type\": \"\",\n        \"description\": \"\"\n      }\n    },\n    {\n      \"column\": \"open\",\n      \"properties\": {\n        \"dtype\": \"number\",\n        \"std\": 17.235502183841536,\n        \"min\": 124.235,\n        \"max\": 199.38,\n        \"num_unique_values\": 19636,\n        \"samples\": [\n          168.655,\n          196.615,\n          141.1301\n        ],\n        \"semantic_type\": \"\",\n        \"description\": \"\"\n      }\n    },\n    {\n      \"column\": \"volume\",\n      \"properties\": {\n        \"dtype\": \"number\",\n        \"std\": 1387238,\n        \"min\": 100,\n        \"max\": 103621191,\n        \"num_unique_values\": 68161,\n        \"samples\": [\n          598492,\n          312572,\n          32553\n        ],\n        \"semantic_type\": \"\",\n        \"description\": \"\"\n      }\n    },\n    {\n      \"column\": \"vwap\",\n      \"properties\": {\n        \"dtype\": \"number\",\n        \"std\": 17.23592224443388,\n        \"min\": 124.222861,\n        \"max\": 199.451909,\n        \"num_unique_values\": 97586,\n        \"samples\": [\n          170.674424,\n          168.469975,\n          172.526596\n        ],\n        \"semantic_type\": \"\",\n        \"description\": \"\"\n      }\n    }\n  ]\n}"
            }
          },
          "metadata": {},
          "execution_count": 34
        }
      ]
    },
    {
      "cell_type": "markdown",
      "source": [
        "Esta função é chamada para fazer o tratamento dos dados brutos conforme as settings que o usuário decidiu antes dos dados serem alimentados ao modelo."
      ],
      "metadata": {
        "id": "SSWCEYoPtt_O"
      }
    },
    {
      "cell_type": "code",
      "source": [
        "company_data_prepared = prepare_data(company_data, fisrt_marker, second_marker, third_marker)\n",
        "\n",
        "company_data_prepared"
      ],
      "metadata": {
        "id": "3EvayUzCP499",
        "colab": {
          "base_uri": "https://localhost:8080/"
        },
        "outputId": "db12005b-c15f-429f-c842-c213c01185ee"
      },
      "execution_count": null,
      "outputs": [
        {
          "output_type": "execute_result",
          "data": {
            "text/plain": [
              "                           volume        vwap\n",
              "timestamp                                    \n",
              "2021-11-01 08:00:00+00:00    8668  149.989939\n",
              "2021-11-01 08:05:00+00:00   11535  149.801981\n",
              "2021-11-01 08:10:00+00:00    7700  149.581088\n",
              "2021-11-01 08:15:00+00:00    6969  149.793416\n",
              "2021-11-01 08:20:00+00:00    4360  149.893532\n",
              "...                           ...         ...\n",
              "2023-12-30 00:35:00+00:00    1639  192.127635\n",
              "2023-12-30 00:40:00+00:00    2863  192.136225\n",
              "2023-12-30 00:45:00+00:00    3105  192.206060\n",
              "2023-12-30 00:50:00+00:00    8060  192.221794\n",
              "2023-12-30 00:55:00+00:00    6212  192.181578\n",
              "\n",
              "[99668 rows x 2 columns]"
            ],
            "text/html": [
              "\n",
              "  <div id=\"df-c4f11429-d8a8-4128-85b9-26e09b795a39\" class=\"colab-df-container\">\n",
              "    <div>\n",
              "<style scoped>\n",
              "    .dataframe tbody tr th:only-of-type {\n",
              "        vertical-align: middle;\n",
              "    }\n",
              "\n",
              "    .dataframe tbody tr th {\n",
              "        vertical-align: top;\n",
              "    }\n",
              "\n",
              "    .dataframe thead th {\n",
              "        text-align: right;\n",
              "    }\n",
              "</style>\n",
              "<table border=\"1\" class=\"dataframe\">\n",
              "  <thead>\n",
              "    <tr style=\"text-align: right;\">\n",
              "      <th></th>\n",
              "      <th>volume</th>\n",
              "      <th>vwap</th>\n",
              "    </tr>\n",
              "    <tr>\n",
              "      <th>timestamp</th>\n",
              "      <th></th>\n",
              "      <th></th>\n",
              "    </tr>\n",
              "  </thead>\n",
              "  <tbody>\n",
              "    <tr>\n",
              "      <th>2021-11-01 08:00:00+00:00</th>\n",
              "      <td>8668</td>\n",
              "      <td>149.989939</td>\n",
              "    </tr>\n",
              "    <tr>\n",
              "      <th>2021-11-01 08:05:00+00:00</th>\n",
              "      <td>11535</td>\n",
              "      <td>149.801981</td>\n",
              "    </tr>\n",
              "    <tr>\n",
              "      <th>2021-11-01 08:10:00+00:00</th>\n",
              "      <td>7700</td>\n",
              "      <td>149.581088</td>\n",
              "    </tr>\n",
              "    <tr>\n",
              "      <th>2021-11-01 08:15:00+00:00</th>\n",
              "      <td>6969</td>\n",
              "      <td>149.793416</td>\n",
              "    </tr>\n",
              "    <tr>\n",
              "      <th>2021-11-01 08:20:00+00:00</th>\n",
              "      <td>4360</td>\n",
              "      <td>149.893532</td>\n",
              "    </tr>\n",
              "    <tr>\n",
              "      <th>...</th>\n",
              "      <td>...</td>\n",
              "      <td>...</td>\n",
              "    </tr>\n",
              "    <tr>\n",
              "      <th>2023-12-30 00:35:00+00:00</th>\n",
              "      <td>1639</td>\n",
              "      <td>192.127635</td>\n",
              "    </tr>\n",
              "    <tr>\n",
              "      <th>2023-12-30 00:40:00+00:00</th>\n",
              "      <td>2863</td>\n",
              "      <td>192.136225</td>\n",
              "    </tr>\n",
              "    <tr>\n",
              "      <th>2023-12-30 00:45:00+00:00</th>\n",
              "      <td>3105</td>\n",
              "      <td>192.206060</td>\n",
              "    </tr>\n",
              "    <tr>\n",
              "      <th>2023-12-30 00:50:00+00:00</th>\n",
              "      <td>8060</td>\n",
              "      <td>192.221794</td>\n",
              "    </tr>\n",
              "    <tr>\n",
              "      <th>2023-12-30 00:55:00+00:00</th>\n",
              "      <td>6212</td>\n",
              "      <td>192.181578</td>\n",
              "    </tr>\n",
              "  </tbody>\n",
              "</table>\n",
              "<p>99668 rows × 2 columns</p>\n",
              "</div>\n",
              "    <div class=\"colab-df-buttons\">\n",
              "\n",
              "  <div class=\"colab-df-container\">\n",
              "    <button class=\"colab-df-convert\" onclick=\"convertToInteractive('df-c4f11429-d8a8-4128-85b9-26e09b795a39')\"\n",
              "            title=\"Convert this dataframe to an interactive table.\"\n",
              "            style=\"display:none;\">\n",
              "\n",
              "  <svg xmlns=\"http://www.w3.org/2000/svg\" height=\"24px\" viewBox=\"0 -960 960 960\">\n",
              "    <path d=\"M120-120v-720h720v720H120Zm60-500h600v-160H180v160Zm220 220h160v-160H400v160Zm0 220h160v-160H400v160ZM180-400h160v-160H180v160Zm440 0h160v-160H620v160ZM180-180h160v-160H180v160Zm440 0h160v-160H620v160Z\"/>\n",
              "  </svg>\n",
              "    </button>\n",
              "\n",
              "  <style>\n",
              "    .colab-df-container {\n",
              "      display:flex;\n",
              "      gap: 12px;\n",
              "    }\n",
              "\n",
              "    .colab-df-convert {\n",
              "      background-color: #E8F0FE;\n",
              "      border: none;\n",
              "      border-radius: 50%;\n",
              "      cursor: pointer;\n",
              "      display: none;\n",
              "      fill: #1967D2;\n",
              "      height: 32px;\n",
              "      padding: 0 0 0 0;\n",
              "      width: 32px;\n",
              "    }\n",
              "\n",
              "    .colab-df-convert:hover {\n",
              "      background-color: #E2EBFA;\n",
              "      box-shadow: 0px 1px 2px rgba(60, 64, 67, 0.3), 0px 1px 3px 1px rgba(60, 64, 67, 0.15);\n",
              "      fill: #174EA6;\n",
              "    }\n",
              "\n",
              "    .colab-df-buttons div {\n",
              "      margin-bottom: 4px;\n",
              "    }\n",
              "\n",
              "    [theme=dark] .colab-df-convert {\n",
              "      background-color: #3B4455;\n",
              "      fill: #D2E3FC;\n",
              "    }\n",
              "\n",
              "    [theme=dark] .colab-df-convert:hover {\n",
              "      background-color: #434B5C;\n",
              "      box-shadow: 0px 1px 3px 1px rgba(0, 0, 0, 0.15);\n",
              "      filter: drop-shadow(0px 1px 2px rgba(0, 0, 0, 0.3));\n",
              "      fill: #FFFFFF;\n",
              "    }\n",
              "  </style>\n",
              "\n",
              "    <script>\n",
              "      const buttonEl =\n",
              "        document.querySelector('#df-c4f11429-d8a8-4128-85b9-26e09b795a39 button.colab-df-convert');\n",
              "      buttonEl.style.display =\n",
              "        google.colab.kernel.accessAllowed ? 'block' : 'none';\n",
              "\n",
              "      async function convertToInteractive(key) {\n",
              "        const element = document.querySelector('#df-c4f11429-d8a8-4128-85b9-26e09b795a39');\n",
              "        const dataTable =\n",
              "          await google.colab.kernel.invokeFunction('convertToInteractive',\n",
              "                                                    [key], {});\n",
              "        if (!dataTable) return;\n",
              "\n",
              "        const docLinkHtml = 'Like what you see? Visit the ' +\n",
              "          '<a target=\"_blank\" href=https://colab.research.google.com/notebooks/data_table.ipynb>data table notebook</a>'\n",
              "          + ' to learn more about interactive tables.';\n",
              "        element.innerHTML = '';\n",
              "        dataTable['output_type'] = 'display_data';\n",
              "        await google.colab.output.renderOutput(dataTable, element);\n",
              "        const docLink = document.createElement('div');\n",
              "        docLink.innerHTML = docLinkHtml;\n",
              "        element.appendChild(docLink);\n",
              "      }\n",
              "    </script>\n",
              "  </div>\n",
              "\n",
              "\n",
              "<div id=\"df-26425113-1e71-4d3a-a5e5-c7ab84f65f19\">\n",
              "  <button class=\"colab-df-quickchart\" onclick=\"quickchart('df-26425113-1e71-4d3a-a5e5-c7ab84f65f19')\"\n",
              "            title=\"Suggest charts\"\n",
              "            style=\"display:none;\">\n",
              "\n",
              "<svg xmlns=\"http://www.w3.org/2000/svg\" height=\"24px\"viewBox=\"0 0 24 24\"\n",
              "     width=\"24px\">\n",
              "    <g>\n",
              "        <path d=\"M19 3H5c-1.1 0-2 .9-2 2v14c0 1.1.9 2 2 2h14c1.1 0 2-.9 2-2V5c0-1.1-.9-2-2-2zM9 17H7v-7h2v7zm4 0h-2V7h2v10zm4 0h-2v-4h2v4z\"/>\n",
              "    </g>\n",
              "</svg>\n",
              "  </button>\n",
              "\n",
              "<style>\n",
              "  .colab-df-quickchart {\n",
              "      --bg-color: #E8F0FE;\n",
              "      --fill-color: #1967D2;\n",
              "      --hover-bg-color: #E2EBFA;\n",
              "      --hover-fill-color: #174EA6;\n",
              "      --disabled-fill-color: #AAA;\n",
              "      --disabled-bg-color: #DDD;\n",
              "  }\n",
              "\n",
              "  [theme=dark] .colab-df-quickchart {\n",
              "      --bg-color: #3B4455;\n",
              "      --fill-color: #D2E3FC;\n",
              "      --hover-bg-color: #434B5C;\n",
              "      --hover-fill-color: #FFFFFF;\n",
              "      --disabled-bg-color: #3B4455;\n",
              "      --disabled-fill-color: #666;\n",
              "  }\n",
              "\n",
              "  .colab-df-quickchart {\n",
              "    background-color: var(--bg-color);\n",
              "    border: none;\n",
              "    border-radius: 50%;\n",
              "    cursor: pointer;\n",
              "    display: none;\n",
              "    fill: var(--fill-color);\n",
              "    height: 32px;\n",
              "    padding: 0;\n",
              "    width: 32px;\n",
              "  }\n",
              "\n",
              "  .colab-df-quickchart:hover {\n",
              "    background-color: var(--hover-bg-color);\n",
              "    box-shadow: 0 1px 2px rgba(60, 64, 67, 0.3), 0 1px 3px 1px rgba(60, 64, 67, 0.15);\n",
              "    fill: var(--button-hover-fill-color);\n",
              "  }\n",
              "\n",
              "  .colab-df-quickchart-complete:disabled,\n",
              "  .colab-df-quickchart-complete:disabled:hover {\n",
              "    background-color: var(--disabled-bg-color);\n",
              "    fill: var(--disabled-fill-color);\n",
              "    box-shadow: none;\n",
              "  }\n",
              "\n",
              "  .colab-df-spinner {\n",
              "    border: 2px solid var(--fill-color);\n",
              "    border-color: transparent;\n",
              "    border-bottom-color: var(--fill-color);\n",
              "    animation:\n",
              "      spin 1s steps(1) infinite;\n",
              "  }\n",
              "\n",
              "  @keyframes spin {\n",
              "    0% {\n",
              "      border-color: transparent;\n",
              "      border-bottom-color: var(--fill-color);\n",
              "      border-left-color: var(--fill-color);\n",
              "    }\n",
              "    20% {\n",
              "      border-color: transparent;\n",
              "      border-left-color: var(--fill-color);\n",
              "      border-top-color: var(--fill-color);\n",
              "    }\n",
              "    30% {\n",
              "      border-color: transparent;\n",
              "      border-left-color: var(--fill-color);\n",
              "      border-top-color: var(--fill-color);\n",
              "      border-right-color: var(--fill-color);\n",
              "    }\n",
              "    40% {\n",
              "      border-color: transparent;\n",
              "      border-right-color: var(--fill-color);\n",
              "      border-top-color: var(--fill-color);\n",
              "    }\n",
              "    60% {\n",
              "      border-color: transparent;\n",
              "      border-right-color: var(--fill-color);\n",
              "    }\n",
              "    80% {\n",
              "      border-color: transparent;\n",
              "      border-right-color: var(--fill-color);\n",
              "      border-bottom-color: var(--fill-color);\n",
              "    }\n",
              "    90% {\n",
              "      border-color: transparent;\n",
              "      border-bottom-color: var(--fill-color);\n",
              "    }\n",
              "  }\n",
              "</style>\n",
              "\n",
              "  <script>\n",
              "    async function quickchart(key) {\n",
              "      const quickchartButtonEl =\n",
              "        document.querySelector('#' + key + ' button');\n",
              "      quickchartButtonEl.disabled = true;  // To prevent multiple clicks.\n",
              "      quickchartButtonEl.classList.add('colab-df-spinner');\n",
              "      try {\n",
              "        const charts = await google.colab.kernel.invokeFunction(\n",
              "            'suggestCharts', [key], {});\n",
              "      } catch (error) {\n",
              "        console.error('Error during call to suggestCharts:', error);\n",
              "      }\n",
              "      quickchartButtonEl.classList.remove('colab-df-spinner');\n",
              "      quickchartButtonEl.classList.add('colab-df-quickchart-complete');\n",
              "    }\n",
              "    (() => {\n",
              "      let quickchartButtonEl =\n",
              "        document.querySelector('#df-26425113-1e71-4d3a-a5e5-c7ab84f65f19 button');\n",
              "      quickchartButtonEl.style.display =\n",
              "        google.colab.kernel.accessAllowed ? 'block' : 'none';\n",
              "    })();\n",
              "  </script>\n",
              "</div>\n",
              "\n",
              "  <div id=\"id_09d0f0e5-050e-4c01-a2b7-ef358a75bd47\">\n",
              "    <style>\n",
              "      .colab-df-generate {\n",
              "        background-color: #E8F0FE;\n",
              "        border: none;\n",
              "        border-radius: 50%;\n",
              "        cursor: pointer;\n",
              "        display: none;\n",
              "        fill: #1967D2;\n",
              "        height: 32px;\n",
              "        padding: 0 0 0 0;\n",
              "        width: 32px;\n",
              "      }\n",
              "\n",
              "      .colab-df-generate:hover {\n",
              "        background-color: #E2EBFA;\n",
              "        box-shadow: 0px 1px 2px rgba(60, 64, 67, 0.3), 0px 1px 3px 1px rgba(60, 64, 67, 0.15);\n",
              "        fill: #174EA6;\n",
              "      }\n",
              "\n",
              "      [theme=dark] .colab-df-generate {\n",
              "        background-color: #3B4455;\n",
              "        fill: #D2E3FC;\n",
              "      }\n",
              "\n",
              "      [theme=dark] .colab-df-generate:hover {\n",
              "        background-color: #434B5C;\n",
              "        box-shadow: 0px 1px 3px 1px rgba(0, 0, 0, 0.15);\n",
              "        filter: drop-shadow(0px 1px 2px rgba(0, 0, 0, 0.3));\n",
              "        fill: #FFFFFF;\n",
              "      }\n",
              "    </style>\n",
              "    <button class=\"colab-df-generate\" onclick=\"generateWithVariable('company_data_prepared')\"\n",
              "            title=\"Generate code using this dataframe.\"\n",
              "            style=\"display:none;\">\n",
              "\n",
              "  <svg xmlns=\"http://www.w3.org/2000/svg\" height=\"24px\"viewBox=\"0 0 24 24\"\n",
              "       width=\"24px\">\n",
              "    <path d=\"M7,19H8.4L18.45,9,17,7.55,7,17.6ZM5,21V16.75L18.45,3.32a2,2,0,0,1,2.83,0l1.4,1.43a1.91,1.91,0,0,1,.58,1.4,1.91,1.91,0,0,1-.58,1.4L9.25,21ZM18.45,9,17,7.55Zm-12,3A5.31,5.31,0,0,0,4.9,8.1,5.31,5.31,0,0,0,1,6.5,5.31,5.31,0,0,0,4.9,4.9,5.31,5.31,0,0,0,6.5,1,5.31,5.31,0,0,0,8.1,4.9,5.31,5.31,0,0,0,12,6.5,5.46,5.46,0,0,0,6.5,12Z\"/>\n",
              "  </svg>\n",
              "    </button>\n",
              "    <script>\n",
              "      (() => {\n",
              "      const buttonEl =\n",
              "        document.querySelector('#id_09d0f0e5-050e-4c01-a2b7-ef358a75bd47 button.colab-df-generate');\n",
              "      buttonEl.style.display =\n",
              "        google.colab.kernel.accessAllowed ? 'block' : 'none';\n",
              "\n",
              "      buttonEl.onclick = () => {\n",
              "        google.colab.notebook.generateWithVariable('company_data_prepared');\n",
              "      }\n",
              "      })();\n",
              "    </script>\n",
              "  </div>\n",
              "\n",
              "    </div>\n",
              "  </div>\n"
            ],
            "application/vnd.google.colaboratory.intrinsic+json": {
              "type": "dataframe",
              "variable_name": "company_data_prepared",
              "summary": "{\n  \"name\": \"company_data_prepared\",\n  \"rows\": 99668,\n  \"fields\": [\n    {\n      \"column\": \"timestamp\",\n      \"properties\": {\n        \"dtype\": \"date\",\n        \"min\": \"2021-11-01 08:00:00+00:00\",\n        \"max\": \"2023-12-30 00:55:00+00:00\",\n        \"num_unique_values\": 99668,\n        \"samples\": [\n          \"2021-11-22 15:10:00+00:00\",\n          \"2022-08-12 09:15:00+00:00\",\n          \"2022-11-29 16:05:00+00:00\"\n        ],\n        \"semantic_type\": \"\",\n        \"description\": \"\"\n      }\n    },\n    {\n      \"column\": \"volume\",\n      \"properties\": {\n        \"dtype\": \"number\",\n        \"std\": 1387238,\n        \"min\": 100,\n        \"max\": 103621191,\n        \"num_unique_values\": 68161,\n        \"samples\": [\n          598492,\n          312572,\n          32553\n        ],\n        \"semantic_type\": \"\",\n        \"description\": \"\"\n      }\n    },\n    {\n      \"column\": \"vwap\",\n      \"properties\": {\n        \"dtype\": \"number\",\n        \"std\": 17.23592224443388,\n        \"min\": 124.222861,\n        \"max\": 199.451909,\n        \"num_unique_values\": 97586,\n        \"samples\": [\n          170.674424,\n          168.469975,\n          172.526596\n        ],\n        \"semantic_type\": \"\",\n        \"description\": \"\"\n      }\n    }\n  ]\n}"
            }
          },
          "metadata": {},
          "execution_count": 35
        }
      ]
    },
    {
      "cell_type": "markdown",
      "source": [
        "esta função separa os dadaos em matrizes com as dimensões esplicitas nas settings do algoritmo."
      ],
      "metadata": {
        "id": "qwO0z4-RuBUx"
      }
    },
    {
      "cell_type": "code",
      "source": [
        "matrices_x, matrices_y = get_dataset(company_data_prepared, n_rows, sort, fisrt_marker, second_marker , third_marker, relative_first_marker, relative_second_marker, relative_third_marker, decimals)\n",
        "\n",
        "print(matrices_x)\n",
        "print(matrices_x.shape)\n",
        "print(matrices_y)\n",
        "print(matrices_y.shape)\n",
        "print()"
      ],
      "metadata": {
        "id": "iejgU_5vP8KQ",
        "colab": {
          "base_uri": "https://localhost:8080/"
        },
        "outputId": "e7cd77fa-d1c2-47e9-a66d-3a40e89a33f9"
      },
      "execution_count": null,
      "outputs": [
        {
          "output_type": "stream",
          "name": "stdout",
          "text": [
            "[[[1.24325875e-01 1.49989939e+02]\n",
            "  [6.25358577e-02 1.49893532e+02]\n",
            "  [1.65447504e-01 1.49801981e+02]\n",
            "  ...\n",
            "  [1.22346529e-02 1.49658457e+02]\n",
            "  [1.93602983e-01 1.49603898e+02]\n",
            "  [1.10441767e-01 1.49581088e+02]]\n",
            "\n",
            " [[4.97618988e-02 1.49685455e+02]\n",
            "  [2.83201895e-02 1.49683231e+02]\n",
            "  [4.94343521e-02 1.49664721e+02]\n",
            "  ...\n",
            "  [1.94084003e-01 1.49598501e+02]\n",
            "  [1.88692081e-01 1.49597056e+02]\n",
            "  [5.05681675e-02 1.49596140e+02]]\n",
            "\n",
            " [[4.18339046e-01 1.49691199e+02]\n",
            "  [5.34353919e-02 1.49638852e+02]\n",
            "  [3.77753824e-02 1.49634950e+02]\n",
            "  ...\n",
            "  [4.14814635e-02 1.49547656e+02]\n",
            "  [7.57082127e-02 1.49534509e+02]\n",
            "  [4.52965470e-03 1.49530000e+02]]\n",
            "\n",
            " ...\n",
            "\n",
            " [[3.77526740e-02 1.92694975e+02]\n",
            "  [1.74833685e-02 1.92675424e+02]\n",
            "  [1.08355699e-01 1.92663674e+02]\n",
            "  ...\n",
            "  [2.90408570e-02 1.92544165e+02]\n",
            "  [4.76995453e-01 1.92534328e+02]\n",
            "  [2.32410485e-02 1.92533919e+02]]\n",
            "\n",
            " [[5.30569708e-02 1.92607915e+02]\n",
            "  [1.15840667e-02 1.92545160e+02]\n",
            "  [1.24735989e-01 1.92508355e+02]\n",
            "  ...\n",
            "  [1.12623900e-01 1.92384361e+02]\n",
            "  [4.22788328e-02 1.92309957e+02]\n",
            "  [1.07774433e-01 1.92297898e+02]]\n",
            "\n",
            " [[2.19183473e-01 1.92449508e+02]\n",
            "  [1.66945401e-01 1.92305057e+02]\n",
            "  [1.68027545e-02 1.92256827e+02]\n",
            "  ...\n",
            "  [6.96507624e-03 1.92170000e+02]\n",
            "  [1.22774225e-02 1.92160000e+02]\n",
            "  [1.22577472e-01 1.92090519e+02]]]\n",
            "(8304, 12, 2)\n",
            "[0 1 0 ... 0 0 0]\n",
            "(8304,)\n",
            "\n"
          ]
        }
      ]
    },
    {
      "cell_type": "markdown",
      "source": [
        "Esta função divide o dataset em treino, teste e validação"
      ],
      "metadata": {
        "id": "tmPuLFl4uLKt"
      }
    },
    {
      "cell_type": "code",
      "source": [
        "X_train, X_val, X_test, y_train, y_val, y_test = split_dataset(matrices_x, matrices_y, LSTM_boolean)\n",
        "\n",
        "# Exibir as formas dos arrays resultantes\n",
        "print(\"Shape of X_train:\", X_train.shape)\n",
        "print(\"Shape of y_train:\", y_train.shape)\n",
        "print(\"Shape of X_val:\", X_val.shape)\n",
        "print(\"Shape of y_val:\", y_val.shape)\n",
        "print(\"Shape of X_test:\", X_test.shape)\n",
        "print(\"Shape of y_test:\", y_test.shape)"
      ],
      "metadata": {
        "id": "edWtixMXP-QD",
        "colab": {
          "base_uri": "https://localhost:8080/"
        },
        "outputId": "d5d033ff-fedc-48cc-c484-f63a3c785333"
      },
      "execution_count": null,
      "outputs": [
        {
          "output_type": "stream",
          "name": "stdout",
          "text": [
            "Shape of X_train: (4982, 12, 2)\n",
            "Shape of y_train: (4982,)\n",
            "Shape of X_val: (1660, 12, 2)\n",
            "Shape of y_val: (1660,)\n",
            "Shape of X_test: (1662, 12, 2)\n",
            "Shape of y_test: (1662,)\n"
          ]
        }
      ]
    },
    {
      "cell_type": "code",
      "source": [
        "X_train, X_val, X_test, scaler = scale_data(X_train, X_val, X_test, scaler_type, cols_to_scale)\n",
        "\n",
        "# Exibir as formas dos arrays resultantes\n",
        "print(\"Shape of X_train:\", X_train.shape)\n",
        "print(\"Shape of X_val:\", X_val.shape)\n",
        "print(\"Shape of X_test:\", X_test.shape)\n",
        "print(\"Scaler utilizado:\", scaler)"
      ],
      "metadata": {
        "id": "49E-4onZ54KE",
        "colab": {
          "base_uri": "https://localhost:8080/"
        },
        "outputId": "c87de535-75a9-483f-f716-9f2bf6cf5583"
      },
      "execution_count": null,
      "outputs": [
        {
          "output_type": "stream",
          "name": "stdout",
          "text": [
            "Shape of X_train: (4982, 12, 2)\n",
            "Shape of X_val: (1660, 12, 2)\n",
            "Shape of X_test: (1662, 12, 2)\n",
            "Scaler utilizado: RobustScaler()\n"
          ]
        }
      ]
    },
    {
      "cell_type": "markdown",
      "source": [
        "Este parte do código permite obter as características da arqitetura do AI que está a ser usada."
      ],
      "metadata": {
        "id": "0hDJwwbxuS9-"
      }
    },
    {
      "cell_type": "code",
      "source": [
        "if third_marker == '':\n",
        "  input_shape = (n_rows, 2)\n",
        "else:\n",
        "  input_shape = (n_rows, 3)\n",
        "model = build_model(input_shape, LSTM_boolean)"
      ],
      "metadata": {
        "id": "7k-Pt2rQQFiO",
        "colab": {
          "base_uri": "https://localhost:8080/"
        },
        "outputId": "c232b2af-2fbf-448d-e72e-5c659cdb4bc8"
      },
      "execution_count": null,
      "outputs": [
        {
          "output_type": "display_data",
          "data": {
            "text/plain": [
              "\u001b[1mModel: \"sequential\"\u001b[0m\n"
            ],
            "text/html": [
              "<pre style=\"white-space:pre;overflow-x:auto;line-height:normal;font-family:Menlo,'DejaVu Sans Mono',consolas,'Courier New',monospace\"><span style=\"font-weight: bold\">Model: \"sequential\"</span>\n",
              "</pre>\n"
            ]
          },
          "metadata": {}
        },
        {
          "output_type": "display_data",
          "data": {
            "text/plain": [
              "┏━━━━━━━━━━━━━━━━━━━━━━━━━━━━━━━━━━━━━━┳━━━━━━━━━━━━━━━━━━━━━━━━━━━━━┳━━━━━━━━━━━━━━━━━┓\n",
              "┃\u001b[1m \u001b[0m\u001b[1mLayer (type)                        \u001b[0m\u001b[1m \u001b[0m┃\u001b[1m \u001b[0m\u001b[1mOutput Shape               \u001b[0m\u001b[1m \u001b[0m┃\u001b[1m \u001b[0m\u001b[1m        Param #\u001b[0m\u001b[1m \u001b[0m┃\n",
              "┡━━━━━━━━━━━━━━━━━━━━━━━━━━━━━━━━━━━━━━╇━━━━━━━━━━━━━━━━━━━━━━━━━━━━━╇━━━━━━━━━━━━━━━━━┩\n",
              "│ lstm (\u001b[38;5;33mLSTM\u001b[0m)                          │ (\u001b[38;5;45mNone\u001b[0m, \u001b[38;5;34m12\u001b[0m, \u001b[38;5;34m64\u001b[0m)              │          \u001b[38;5;34m17,152\u001b[0m │\n",
              "├──────────────────────────────────────┼─────────────────────────────┼─────────────────┤\n",
              "│ dropout (\u001b[38;5;33mDropout\u001b[0m)                    │ (\u001b[38;5;45mNone\u001b[0m, \u001b[38;5;34m12\u001b[0m, \u001b[38;5;34m64\u001b[0m)              │               \u001b[38;5;34m0\u001b[0m │\n",
              "├──────────────────────────────────────┼─────────────────────────────┼─────────────────┤\n",
              "│ lstm_1 (\u001b[38;5;33mLSTM\u001b[0m)                        │ (\u001b[38;5;45mNone\u001b[0m, \u001b[38;5;34m64\u001b[0m)                  │          \u001b[38;5;34m33,024\u001b[0m │\n",
              "├──────────────────────────────────────┼─────────────────────────────┼─────────────────┤\n",
              "│ dropout_1 (\u001b[38;5;33mDropout\u001b[0m)                  │ (\u001b[38;5;45mNone\u001b[0m, \u001b[38;5;34m64\u001b[0m)                  │               \u001b[38;5;34m0\u001b[0m │\n",
              "├──────────────────────────────────────┼─────────────────────────────┼─────────────────┤\n",
              "│ dense (\u001b[38;5;33mDense\u001b[0m)                        │ (\u001b[38;5;45mNone\u001b[0m, \u001b[38;5;34m1\u001b[0m)                   │              \u001b[38;5;34m65\u001b[0m │\n",
              "└──────────────────────────────────────┴─────────────────────────────┴─────────────────┘\n"
            ],
            "text/html": [
              "<pre style=\"white-space:pre;overflow-x:auto;line-height:normal;font-family:Menlo,'DejaVu Sans Mono',consolas,'Courier New',monospace\">┏━━━━━━━━━━━━━━━━━━━━━━━━━━━━━━━━━━━━━━┳━━━━━━━━━━━━━━━━━━━━━━━━━━━━━┳━━━━━━━━━━━━━━━━━┓\n",
              "┃<span style=\"font-weight: bold\"> Layer (type)                         </span>┃<span style=\"font-weight: bold\"> Output Shape                </span>┃<span style=\"font-weight: bold\">         Param # </span>┃\n",
              "┡━━━━━━━━━━━━━━━━━━━━━━━━━━━━━━━━━━━━━━╇━━━━━━━━━━━━━━━━━━━━━━━━━━━━━╇━━━━━━━━━━━━━━━━━┩\n",
              "│ lstm (<span style=\"color: #0087ff; text-decoration-color: #0087ff\">LSTM</span>)                          │ (<span style=\"color: #00d7ff; text-decoration-color: #00d7ff\">None</span>, <span style=\"color: #00af00; text-decoration-color: #00af00\">12</span>, <span style=\"color: #00af00; text-decoration-color: #00af00\">64</span>)              │          <span style=\"color: #00af00; text-decoration-color: #00af00\">17,152</span> │\n",
              "├──────────────────────────────────────┼─────────────────────────────┼─────────────────┤\n",
              "│ dropout (<span style=\"color: #0087ff; text-decoration-color: #0087ff\">Dropout</span>)                    │ (<span style=\"color: #00d7ff; text-decoration-color: #00d7ff\">None</span>, <span style=\"color: #00af00; text-decoration-color: #00af00\">12</span>, <span style=\"color: #00af00; text-decoration-color: #00af00\">64</span>)              │               <span style=\"color: #00af00; text-decoration-color: #00af00\">0</span> │\n",
              "├──────────────────────────────────────┼─────────────────────────────┼─────────────────┤\n",
              "│ lstm_1 (<span style=\"color: #0087ff; text-decoration-color: #0087ff\">LSTM</span>)                        │ (<span style=\"color: #00d7ff; text-decoration-color: #00d7ff\">None</span>, <span style=\"color: #00af00; text-decoration-color: #00af00\">64</span>)                  │          <span style=\"color: #00af00; text-decoration-color: #00af00\">33,024</span> │\n",
              "├──────────────────────────────────────┼─────────────────────────────┼─────────────────┤\n",
              "│ dropout_1 (<span style=\"color: #0087ff; text-decoration-color: #0087ff\">Dropout</span>)                  │ (<span style=\"color: #00d7ff; text-decoration-color: #00d7ff\">None</span>, <span style=\"color: #00af00; text-decoration-color: #00af00\">64</span>)                  │               <span style=\"color: #00af00; text-decoration-color: #00af00\">0</span> │\n",
              "├──────────────────────────────────────┼─────────────────────────────┼─────────────────┤\n",
              "│ dense (<span style=\"color: #0087ff; text-decoration-color: #0087ff\">Dense</span>)                        │ (<span style=\"color: #00d7ff; text-decoration-color: #00d7ff\">None</span>, <span style=\"color: #00af00; text-decoration-color: #00af00\">1</span>)                   │              <span style=\"color: #00af00; text-decoration-color: #00af00\">65</span> │\n",
              "└──────────────────────────────────────┴─────────────────────────────┴─────────────────┘\n",
              "</pre>\n"
            ]
          },
          "metadata": {}
        },
        {
          "output_type": "display_data",
          "data": {
            "text/plain": [
              "\u001b[1m Total params: \u001b[0m\u001b[38;5;34m50,241\u001b[0m (196.25 KB)\n"
            ],
            "text/html": [
              "<pre style=\"white-space:pre;overflow-x:auto;line-height:normal;font-family:Menlo,'DejaVu Sans Mono',consolas,'Courier New',monospace\"><span style=\"font-weight: bold\"> Total params: </span><span style=\"color: #00af00; text-decoration-color: #00af00\">50,241</span> (196.25 KB)\n",
              "</pre>\n"
            ]
          },
          "metadata": {}
        },
        {
          "output_type": "display_data",
          "data": {
            "text/plain": [
              "\u001b[1m Trainable params: \u001b[0m\u001b[38;5;34m50,241\u001b[0m (196.25 KB)\n"
            ],
            "text/html": [
              "<pre style=\"white-space:pre;overflow-x:auto;line-height:normal;font-family:Menlo,'DejaVu Sans Mono',consolas,'Courier New',monospace\"><span style=\"font-weight: bold\"> Trainable params: </span><span style=\"color: #00af00; text-decoration-color: #00af00\">50,241</span> (196.25 KB)\n",
              "</pre>\n"
            ]
          },
          "metadata": {}
        },
        {
          "output_type": "display_data",
          "data": {
            "text/plain": [
              "\u001b[1m Non-trainable params: \u001b[0m\u001b[38;5;34m0\u001b[0m (0.00 B)\n"
            ],
            "text/html": [
              "<pre style=\"white-space:pre;overflow-x:auto;line-height:normal;font-family:Menlo,'DejaVu Sans Mono',consolas,'Courier New',monospace\"><span style=\"font-weight: bold\"> Non-trainable params: </span><span style=\"color: #00af00; text-decoration-color: #00af00\">0</span> (0.00 B)\n",
              "</pre>\n"
            ]
          },
          "metadata": {}
        }
      ]
    },
    {
      "cell_type": "markdown",
      "source": [
        "Esta função treina o modelo nos dados de treino e validação. E testa o modelo contra os dados de teste."
      ],
      "metadata": {
        "id": "WB739fMbudj4"
      }
    },
    {
      "cell_type": "code",
      "source": [
        "model, history = model_training(model, X_train, X_val, X_test, y_train, y_val, y_test, epochs, early_stopping, call_back, patience, batch_size)"
      ],
      "metadata": {
        "id": "yRLU8McBQKdV",
        "colab": {
          "base_uri": "https://localhost:8080/"
        },
        "outputId": "a19090e6-7dbb-4745-f5a6-d80fe4ce5bac"
      },
      "execution_count": null,
      "outputs": [
        {
          "output_type": "stream",
          "name": "stdout",
          "text": [
            "Epoch 1/5\n",
            "\u001b[1m78/78\u001b[0m \u001b[32m━━━━━━━━━━━━━━━━━━━━\u001b[0m\u001b[37m\u001b[0m \u001b[1m6s\u001b[0m 25ms/step - accuracy: 0.5048 - loss: 0.6944 - val_accuracy: 0.4789 - val_loss: 0.6968\n",
            "Epoch 2/5\n",
            "\u001b[1m78/78\u001b[0m \u001b[32m━━━━━━━━━━━━━━━━━━━━\u001b[0m\u001b[37m\u001b[0m \u001b[1m2s\u001b[0m 23ms/step - accuracy: 0.5056 - loss: 0.6934 - val_accuracy: 0.4753 - val_loss: 0.6953\n",
            "Epoch 3/5\n",
            "\u001b[1m78/78\u001b[0m \u001b[32m━━━━━━━━━━━━━━━━━━━━\u001b[0m\u001b[37m\u001b[0m \u001b[1m2s\u001b[0m 30ms/step - accuracy: 0.4971 - loss: 0.6935 - val_accuracy: 0.4705 - val_loss: 0.6958\n"
          ]
        }
      ]
    },
    {
      "cell_type": "code",
      "source": [
        "# Executa o modelo nos dados de teste e obtém as predições e rótulos\n",
        "test_loss, test_accuracy = run_model_on_test(model, X_test, y_test)"
      ],
      "metadata": {
        "colab": {
          "base_uri": "https://localhost:8080/"
        },
        "id": "kacVd48qTrNc",
        "outputId": "76f91bba-36b7-419c-ef6e-6ee11182f045"
      },
      "execution_count": null,
      "outputs": [
        {
          "output_type": "stream",
          "name": "stdout",
          "text": [
            "\u001b[1m52/52\u001b[0m \u001b[32m━━━━━━━━━━━━━━━━━━━━\u001b[0m\u001b[37m\u001b[0m \u001b[1m0s\u001b[0m 6ms/step - accuracy: 0.5071 - loss: 0.6936\n"
          ]
        }
      ]
    },
    {
      "cell_type": "code",
      "source": [
        "# Cria a matriz de confusão e obtém a figura\n",
        "fig_confusion_matrix = create_confusion_matrix(model, X_test, y_test)"
      ],
      "metadata": {
        "colab": {
          "base_uri": "https://localhost:8080/"
        },
        "id": "6ncLYZZ3Txne",
        "outputId": "283bf63b-d73d-4e0f-f394-c7657378f75b"
      },
      "execution_count": null,
      "outputs": [
        {
          "output_type": "stream",
          "name": "stdout",
          "text": [
            "\u001b[1m52/52\u001b[0m \u001b[32m━━━━━━━━━━━━━━━━━━━━\u001b[0m\u001b[37m\u001b[0m \u001b[1m1s\u001b[0m 10ms/step\n"
          ]
        },
        {
          "output_type": "display_data",
          "data": {
            "text/plain": [
              "<Figure size 640x480 with 2 Axes>"
            ],
            "image/png": "[encoded data removed]"
          },
          "metadata": {}
        }
      ]
    },
    {
      "cell_type": "markdown",
      "source": [
        "Plota os resultados durante a fase de treinamento e durante a fase de teste."
      ],
      "metadata": {
        "id": "1thPzlJJvDta"
      }
    },
    {
      "cell_type": "code",
      "source": [
        "fig_loss = plot_loss(history)"
      ],
      "metadata": {
        "colab": {
          "base_uri": "https://localhost:8080/"
        },
        "id": "2ae372z0T9RB",
        "outputId": "f6003665-5531-4681-b10c-68fb740ae575"
      },
      "execution_count": null,
      "outputs": [
        {
          "output_type": "display_data",
          "data": {
            "text/plain": [
              "<Figure size 640x480 with 1 Axes>"
            ],
            "image/png": "[encoded data removed]"
          },
          "metadata": {}
        }
      ]
    },
    {
      "cell_type": "code",
      "source": [
        "fig_accuracy = plot_accuracy(history)"
      ],
      "metadata": {
        "id": "Dl7PDLgBtW66",
        "colab": {
          "base_uri": "https://localhost:8080/"
        },
        "outputId": "f3acef76-ca33-4852-c194-b5d9d6c8db2d"
      },
      "execution_count": null,
      "outputs": [
        {
          "output_type": "display_data",
          "data": {
            "text/plain": [
              "<Figure size 640x480 with 1 Axes>"
            ],
            "image/png": "[encoded data removed]"
          },
          "metadata": {}
        }
      ]
    },
    {
      "cell_type": "markdown",
      "source": [
        "# **Save Model Metrics & Images**"
      ],
      "metadata": {
        "id": "JR_khO43UALA"
      }
    },
    {
      "cell_type": "code",
      "source": [
        "# Cria o nome do arquivo utilizando a função create_file_name (supondo que ela já esteja definida)\n",
        "file_name_True = create_file_name(data_source, symbol, max_period, start_date, end_date,\n",
        "                     timeframe, fisrt_marker, second_marker, third_marker,\n",
        "                     n_rows, sort, relative_first_marker, relative_second_marker,\n",
        "                     relative_third_marker, decimals, scaler_type, cols_to_scale,\n",
        "                     LSTM_boolean, epochs, early_stopping, call_back, patience,\n",
        "                     batch_size, test_loss, test_accuracy, True)"
      ],
      "metadata": {
        "id": "yxNDfjHPOejI"
      },
      "execution_count": null,
      "outputs": []
    },
    {
      "cell_type": "markdown",
      "source": [
        "Salvar o historico do modelo, a loss de teste e a acurácia de teste"
      ],
      "metadata": {
        "id": "QEvSO8NsvigR"
      }
    },
    {
      "cell_type": "code",
      "source": [
        "# Verifique se o diretório existe, caso contrário, crie-o\n",
        "verify_directory(caminho_para_salvar_resultados)\n",
        "\n",
        "caminho_completo_resultados = os.path.join(caminho_para_salvar_resultados, file_name_True + \".json\")\n",
        "\n",
        "# Cria um dicionário com os resultados do modelo\n",
        "model_results = {\n",
        "    \"history\": history.history,  # history.history é um dicionário com os valores das métricas por época\n",
        "    \"test_loss\": test_loss,\n",
        "    \"test_accuracy\": test_accuracy\n",
        "}\n",
        "\n",
        "# Salva os resultados em um arquivo JSON com formatação legível\n",
        "with open(caminho_completo_resultados, \"w\") as f:\n",
        "    json.dump(model_results, f, indent=4)\n",
        "\n",
        "print(\"\\nFicheiro dos resultados do modelo:\")\n",
        "print(file_name_True + \".json\")\n",
        "print()\n",
        "print(\"Ficheiro salvo em:\")\n",
        "print(caminho_para_salvar_resultados)"
      ],
      "metadata": {
        "colab": {
          "base_uri": "https://localhost:8080/"
        },
        "id": "Jrp7pVA2otc1",
        "outputId": "47fe00cc-8846-4236-db0f-965e33aa6cce"
      },
      "execution_count": null,
      "outputs": [
        {
          "output_type": "stream",
          "name": "stdout",
          "text": [
            "O diretório /content/drive/MyDrive/AI Financial Analisys/Summer Project/SandBox Environment/Neural Network/Results já existe.\n",
            "\n",
            "Ficheiro dos resultados do modelo:\n",
            "ds=sip+s=AAPL+mp=True+sd=2021-10-31+ed=2023-12-31+tf=5Min+fm=volume+sm=vwap+tm=+r=12+sort=True+rfm=True+rsm=False+rtm=False+d=+st=robust+cts=[1]+Lb=True+e=5+es=True+cb=val_accuracy+p=2+bs=64+tl=0.6965882778167725+ta=0.488567978143692.json\n",
            "\n",
            "Ficheiro salvo em:\n",
            "/content/drive/MyDrive/AI Financial Analisys/Summer Project/SandBox Environment/Neural Network/Results\n"
          ]
        }
      ]
    },
    {
      "cell_type": "markdown",
      "source": [
        "Salvar a matriz de confusão, a curva de loss e a curva de precisão"
      ],
      "metadata": {
        "id": "sHbzriA1vovv"
      }
    },
    {
      "cell_type": "code",
      "source": [
        "# Verifique se o diretório existe, caso contrário, crie-o~\n",
        "verify_directory(caminho_para_salvar_imagens)\n",
        "\n",
        "# Monta o caminho completo para cada imagem\n",
        "caminho_completo_confusion = os.path.join(caminho_para_salvar_imagens, \"confusion_matrix_\" + file_name_True + \".png\")\n",
        "caminho_completo_loss = os.path.join(caminho_para_salvar_imagens, \"loss_\" + file_name_True + \".png\")\n",
        "caminho_completo_accuracy = os.path.join(caminho_para_salvar_imagens, \"accuracy_\" + file_name_True + \".png\")\n",
        "\n",
        "# Salva as figuras com alta qualidade (300 dpi)\n",
        "fig_confusion_matrix.savefig(caminho_completo_confusion, dpi=300, bbox_inches='tight')\n",
        "fig_loss.savefig(caminho_completo_loss, dpi=300, bbox_inches='tight')\n",
        "fig_accuracy.savefig(caminho_completo_accuracy, dpi=300, bbox_inches='tight')\n",
        "\n",
        "print(\"\\nImagens:\")\n",
        "print(\"Matriz de Confusão:\", \"confusion_matrix_\" + file_name_True + \".png\")\n",
        "print(\"Gráfico de Loss:\", \"loss_\" + file_name_True + \".png\")\n",
        "print(\"Gráfico de Accuracy:\", \"accuracy_\" + file_name_True + \".png\")\n",
        "print()\n",
        "print(\"Imagens salvas em:\")\n",
        "print(caminho_para_salvar_imagens)"
      ],
      "metadata": {
        "id": "vbcnbSemjc1X",
        "colab": {
          "base_uri": "https://localhost:8080/"
        },
        "outputId": "a836121e-e9e3-4b40-ceba-936d4b499ec5"
      },
      "execution_count": null,
      "outputs": [
        {
          "output_type": "stream",
          "name": "stdout",
          "text": [
            "O diretório /content/drive/MyDrive/AI Financial Analisys/Summer Project/SandBox Environment/Neural Network/Images já existe.\n",
            "\n",
            "Imagens:\n",
            "Matriz de Confusão: confusion_matrix_ds=sip+s=AAPL+mp=True+sd=2021-10-31+ed=2023-12-31+tf=5Min+fm=volume+sm=vwap+tm=+r=12+sort=True+rfm=True+rsm=False+rtm=False+d=+st=robust+cts=[1]+Lb=True+e=5+es=True+cb=val_accuracy+p=2+bs=64+tl=0.6965882778167725+ta=0.488567978143692.png\n",
            "Gráfico de Loss: loss_ds=sip+s=AAPL+mp=True+sd=2021-10-31+ed=2023-12-31+tf=5Min+fm=volume+sm=vwap+tm=+r=12+sort=True+rfm=True+rsm=False+rtm=False+d=+st=robust+cts=[1]+Lb=True+e=5+es=True+cb=val_accuracy+p=2+bs=64+tl=0.6965882778167725+ta=0.488567978143692.png\n",
            "Gráfico de Accuracy: accuracy_ds=sip+s=AAPL+mp=True+sd=2021-10-31+ed=2023-12-31+tf=5Min+fm=volume+sm=vwap+tm=+r=12+sort=True+rfm=True+rsm=False+rtm=False+d=+st=robust+cts=[1]+Lb=True+e=5+es=True+cb=val_accuracy+p=2+bs=64+tl=0.6965882778167725+ta=0.488567978143692.png\n",
            "\n",
            "Imagens salvas em:\n",
            "/content/drive/MyDrive/AI Financial Analisys/Summer Project/SandBox Environment/Neural Network/Images\n"
          ]
        }
      ]
    },
    {
      "cell_type": "markdown",
      "source": [
        "# **Save Model, Dataset, Scaler & Settings**"
      ],
      "metadata": {
        "id": "Ndvfx5vaHr9s"
      }
    },
    {
      "cell_type": "markdown",
      "source": [
        "Caso o modelo seja corrido em settings originais ou caso o modelo apresente resultados inovadores o modelo será gravado usando esta função e os settings que influenciram o modelo e os resultados obtidos pelo modelo são encriptados no nome do ficheiro no qual o modelo fica guardado."
      ],
      "metadata": {
        "id": "45o5Ea1axTw1"
      }
    },
    {
      "cell_type": "code",
      "source": [
        "# Verifique se o diretório existe, caso contrário, crie-o~\n",
        "verify_directory(caminho_para_salvar_modelo)\n",
        "\n",
        "caminho_completo_modelo = os.path.join(caminho_para_salvar_modelo, file_name_True + \".keras\")\n",
        "\n",
        "# Salva o modelo em formato\n",
        "model.save(caminho_completo_modelo)\n",
        "\n",
        "print(\"\\nFicheiro do Modelo:\")\n",
        "print(file_name_True)\n",
        "print()\n",
        "print(\"Modelo salvo em:\")\n",
        "print(caminho_para_salvar_modelo)"
      ],
      "metadata": {
        "id": "ukvgCcVq2KhG",
        "colab": {
          "base_uri": "https://localhost:8080/"
        },
        "outputId": "1b10a595-7df6-4a96-b720-d2b0d374e7eb"
      },
      "execution_count": null,
      "outputs": [
        {
          "output_type": "stream",
          "name": "stdout",
          "text": [
            "O diretório /content/drive/MyDrive/AI Financial Analisys/Summer Project/SandBox Environment/Neural Network/Models já existe.\n",
            "\n",
            "Ficheiro do Modelo:\n",
            "ds=sip+s=AAPL+mp=True+sd=2021-10-31+ed=2023-12-31+tf=5Min+fm=volume+sm=vwap+tm=+r=12+sort=True+rfm=True+rsm=False+rtm=False+d=+st=robust+cts=[1]+Lb=True+e=5+es=True+cb=val_accuracy+p=2+bs=64+tl=0.6965882778167725+ta=0.488567978143692\n",
            "\n",
            "Modelo salvo em:\n",
            "/content/drive/MyDrive/AI Financial Analisys/Summer Project/SandBox Environment/Neural Network/Models\n"
          ]
        }
      ]
    },
    {
      "cell_type": "markdown",
      "source": [
        "Caso os dados sejam coletados por uma versão do algoritmo que correu em settings originais os dados seram gravados usando esta função e os settings que influenciram o levaram a obeter os respetivos dados/dataset modelo são encriptados no nome do ficheiro CSV no qual os dados ficam guardados."
      ],
      "metadata": {
        "id": "NOFMb-rxx8HP"
      }
    },
    {
      "cell_type": "code",
      "source": [
        "# Verifique se o diretório existe, caso contrário, crie-o\n",
        "verify_directory(caminho_para_salvar_dados)\n",
        "\n",
        "# Defina o caminho completo para salvar o arquivo\n",
        "caminho_completo_dados = os.path.join(caminho_para_salvar_dados, file_name_False + \".csv\")\n",
        "\n",
        "# Salve o dataframe no caminho especificado\n",
        "company_data.to_csv(caminho_completo_dados)\n",
        "\n",
        "print(\"\\nFicheiro dos Dados:\")\n",
        "print(file_name_False)\n",
        "print()\n",
        "print(\"Dados salvos em:\")\n",
        "print(caminho_para_salvar_dados)"
      ],
      "metadata": {
        "id": "dDtkMLFeDQRh",
        "colab": {
          "base_uri": "https://localhost:8080/"
        },
        "outputId": "0f188ec3-6d5e-49df-e5b5-4b649175b7c1"
      },
      "execution_count": null,
      "outputs": [
        {
          "output_type": "stream",
          "name": "stdout",
          "text": [
            "O diretório /content/drive/MyDrive/AI Financial Analisys/Summer Project/SandBox Environment/Dataset/Raw Data já existe.\n",
            "\n",
            "Ficheiro dos Dados:\n",
            "ds=sip+s=AAPL+mp=True+sd=2021-10-31+ed=2023-12-31+tf=5Min\n",
            "\n",
            "Dados salvos em:\n",
            "/content/drive/MyDrive/AI Financial Analisys/Summer Project/SandBox Environment/Dataset/Raw Data\n"
          ]
        }
      ]
    },
    {
      "cell_type": "code",
      "source": [
        "# Verifique se o diretório existe, caso contrário, crie-o\n",
        "verify_directory(caminho_para_salvar_dados)\n",
        "\n",
        "nome_do_ficheiro_scaler = str(scaler_type) + \"_\" + file_name_False + \".pkl\"\n",
        "\n",
        "# Defina o caminho completo para salvar o arquivo\n",
        "caminho_completo_scaler = os.path.join(caminho_para_salvar_scaler, nome_do_ficheiro_scaler)\n",
        "\n",
        "# Salva o scaler na pasta MyDrive (você pode ajustar o caminho conforme necessário)\n",
        "joblib.dump(scaler, caminho_completo_scaler)\n",
        "\n",
        "print(\"\\nFicheiro do Scaler:\")\n",
        "print(nome_do_ficheiro_scaler)\n",
        "print()\n",
        "print(\"Dados salvos em:\")\n",
        "print(caminho_para_salvar_dados)"
      ],
      "metadata": {
        "colab": {
          "base_uri": "https://localhost:8080/"
        },
        "id": "w98wqKFvRbEY",
        "outputId": "3194a61e-f000-40f4-a909-b31756028af8"
      },
      "execution_count": 92,
      "outputs": [
        {
          "output_type": "stream",
          "name": "stdout",
          "text": [
            "O diretório /content/drive/MyDrive/AI Financial Analisys/Summer Project/SandBox Environment/Dataset/Raw Data já existe.\n",
            "\n",
            "Ficheiro do Scaler:\n",
            "robust_ds=sip+s=AAPL+mp=True+sd=2021-10-31+ed=2023-12-31+tf=5Min.pkl\n",
            "\n",
            "Dados salvos em:\n",
            "/content/drive/MyDrive/AI Financial Analisys/Summer Project/SandBox Environment/Dataset/Raw Data\n"
          ]
        }
      ]
    },
    {
      "cell_type": "code",
      "source": [
        "# Verifique se o diretório existe, caso contrário, crie-o\n",
        "verify_directory(caminho_para_salvar_settings)\n",
        "\n",
        "nome_do_ficheiro_settings = \"settings_\" + file_name_True + \".json\"\n",
        "\n",
        "# Defina o caminho completo para salvar o arquivo\n",
        "caminho_completo_settings = os.path.join(caminho_para_salvar_settings, nome_do_ficheiro_settings)\n",
        "\n",
        "# Salva as configurações em um arquivo JSON\n",
        "with open(caminho_completo_settings, 'w') as f:\n",
        "    json.dump(config, f, indent=4)\n",
        "\n",
        "print(\"\\nFicheiro dos Settings:\")\n",
        "print(nome_do_ficheiro_settings)\n",
        "print()\n",
        "print(\"Settings salvos em:\")\n",
        "print(caminho_para_salvar_settings)"
      ],
      "metadata": {
        "colab": {
          "base_uri": "https://localhost:8080/"
        },
        "id": "lx47y56af0WN",
        "outputId": "333594ad-8b11-4534-d9fe-f1c979ff877d"
      },
      "execution_count": 93,
      "outputs": [
        {
          "output_type": "stream",
          "name": "stdout",
          "text": [
            "O diretório /content/drive/MyDrive/AI Financial Analisys/Summer Project/SandBox Environment/Settings já existe.\n",
            "\n",
            "Ficheiro dos Settings:\n",
            "settings_ds=sip+s=AAPL+mp=True+sd=2021-10-31+ed=2023-12-31+tf=5Min+fm=volume+sm=vwap+tm=+r=12+sort=True+rfm=True+rsm=False+rtm=False+d=+st=robust+cts=[1]+Lb=True+e=5+es=True+cb=val_accuracy+p=2+bs=64+tl=0.6965882778167725+ta=0.488567978143692.json\n",
            "\n",
            "Settings salvos em:\n",
            "/content/drive/MyDrive/AI Financial Analisys/Summer Project/SandBox Environment/Settings\n"
          ]
        }
      ]
    },
    {
      "cell_type": "markdown",
      "source": [
        "# **Model Report**"
      ],
      "metadata": {
        "id": "fvT-mpvQwV_1"
      }
    },
    {
      "cell_type": "code",
      "source": [
        "# Verifique se o diretório existe, caso contrário, crie-o~\n",
        "verify_directory(caminho_para_salvar_report)"
      ],
      "metadata": {
        "colab": {
          "base_uri": "https://localhost:8080/"
        },
        "id": "KCL95UacSG56",
        "outputId": "2f5d96a7-3dc4-4c18-8b64-d7f2fbe3fd58"
      },
      "execution_count": 94,
      "outputs": [
        {
          "output_type": "stream",
          "name": "stdout",
          "text": [
            "O diretório /content/drive/MyDrive/AI Financial Analisys/Summer Project/SandBox Environment/Report já existe.\n"
          ]
        }
      ]
    },
    {
      "cell_type": "code",
      "source": [
        "# --- Carrega os resultados do modelo (JSON) ---\n",
        "model_results = {}\n",
        "if os.path.exists(caminho_completo_resultados):\n",
        "    try:\n",
        "        with open(caminho_completo_resultados, 'r', encoding='utf-8') as f:\n",
        "            model_results = json.load(f)\n",
        "    except json.JSONDecodeError as e:\n",
        "        print(f\"Erro ao decodificar o JSON de resultados: {e}\")\n",
        "else:\n",
        "    print(\"Arquivo de resultados do modelo não encontrado:\", caminho_completo_resultados)\n",
        "\n",
        "test_loss     = model_results.get(\"test_loss\", \"N/A\")\n",
        "test_accuracy = model_results.get(\"test_accuracy\", \"N/A\")\n",
        "history       = model_results.get(\"history\", {})\n",
        "\n",
        "# --- Carrega os settings do modelo (JSON) ---\n",
        "settings = {}\n",
        "if os.path.exists(caminho_completo_settings):\n",
        "    try:\n",
        "        with open(caminho_completo_settings, 'r', encoding='utf-8') as f:\n",
        "            settings = json.load(f)\n",
        "    except json.JSONDecodeError as e:\n",
        "        print(f\"Erro ao decodificar o JSON dos settings: {e}\")\n",
        "else:\n",
        "    print(\"Arquivo de settings não encontrado:\", caminho_completo_settings)"
      ],
      "metadata": {
        "id": "tdl7hWsUUkMH"
      },
      "execution_count": 95,
      "outputs": []
    },
    {
      "cell_type": "code",
      "source": [
        "import base64\n",
        "\n",
        "def image_to_base64(path):\n",
        "    with open(path, \"rb\") as image_file:\n",
        "        return base64.b64encode(image_file.read()).decode('utf-8')\n",
        "\n",
        "# Converte as imagens para Base64\n",
        "confusion_matrix_b64 = image_to_base64(caminho_completo_confusion)\n",
        "loss_b64 = image_to_base64(caminho_completo_loss)\n",
        "accuracy_b64 = image_to_base64(caminho_completo_accuracy)"
      ],
      "metadata": {
        "id": "AWo69jHbvKDK"
      },
      "execution_count": 96,
      "outputs": []
    },
    {
      "cell_type": "code",
      "source": [
        "html_content = f\"\"\"\n",
        "<!DOCTYPE html>\n",
        "<html lang=\"pt\">\n",
        "<head>\n",
        "  <meta charset=\"UTF-8\">\n",
        "  <title>Relatório Interativo do Modelo</title>\n",
        "  <meta name=\"viewport\" content=\"width=device-width, initial-scale=1\">\n",
        "  <!-- Google Fonts -->\n",
        "  <link href=\"https://fonts.googleapis.com/css2?family=Roboto:wght@400;500;700&display=swap\" rel=\"stylesheet\">\n",
        "  <style>\n",
        "    :root {{\n",
        "      --primary-color: #007BFF;\n",
        "      --secondary-color: #333;\n",
        "      --accent-color: #FF5722;\n",
        "      --light-gray: #eaeaea;\n",
        "      --background-color: #f2f2f2;\n",
        "    }}\n",
        "\n",
        "    * {{\n",
        "      box-sizing: border-box;\n",
        "      margin: 0;\n",
        "      padding: 0;\n",
        "    }}\n",
        "\n",
        "    body {{\n",
        "      font-family: 'Roboto', sans-serif;\n",
        "      background-color: var(--background-color);\n",
        "      color: var(--secondary-color);\n",
        "      line-height: 1.6;\n",
        "      padding-top: 70px;\n",
        "    }}\n",
        "\n",
        "    header {{\n",
        "      position: fixed;\n",
        "      top: 0;\n",
        "      left: 0;\n",
        "      width: 100%;\n",
        "      background: linear-gradient(135deg, var(--primary-color), var(--accent-color));\n",
        "      color: #fff;\n",
        "      padding: 1rem 2rem;\n",
        "      text-align: center;\n",
        "      box-shadow: 0 4px 6px rgba(0,0,0,0.1);\n",
        "      z-index: 1000;\n",
        "    }}\n",
        "\n",
        "    header h1 {{\n",
        "      font-size: 1.8rem;\n",
        "      letter-spacing: 1px;\n",
        "    }}\n",
        "\n",
        "    nav {{\n",
        "      display: flex;\n",
        "      justify-content: center;\n",
        "      background: #fff;\n",
        "      box-shadow: 0 2px 4px rgba(0,0,0,0.1);\n",
        "      margin-top: 20px;\n",
        "      border-radius: 6px;\n",
        "      overflow: hidden;\n",
        "    }}\n",
        "\n",
        "    nav button {{\n",
        "      flex: 1;\n",
        "      padding: 1rem;\n",
        "      border: none;\n",
        "      background: #fff;\n",
        "      font-size: 1rem;\n",
        "      cursor: pointer;\n",
        "      transition: background 0.3s ease, color 0.3s ease;\n",
        "    }}\n",
        "\n",
        "    nav button:hover,\n",
        "    nav button.active {{\n",
        "      background: var(--primary-color);\n",
        "      color: #fff;\n",
        "    }}\n",
        "\n",
        "    .container {{\n",
        "      max-width: 1100px;\n",
        "      margin: 2rem auto;\n",
        "      padding: 2rem;\n",
        "      background: #fff;\n",
        "      border-radius: 8px;\n",
        "      box-shadow: 0 4px 12px rgba(0,0,0,0.1);\n",
        "    }}\n",
        "\n",
        "    .tab-content {{\n",
        "      display: none;\n",
        "      opacity: 0;\n",
        "      transform: translateX(20px);\n",
        "      animation: fadeSlide 0.5s forwards;\n",
        "    }}\n",
        "\n",
        "    .tab-content.active {{\n",
        "      display: block;\n",
        "    }}\n",
        "\n",
        "    .tab-content img {{\n",
        "      max-width: 100%;\n",
        "      border-radius: 8px;\n",
        "      margin-bottom: 1rem;\n",
        "      transition: transform 0.3s ease;\n",
        "    }}\n",
        "\n",
        "    .tab-content img:hover {{\n",
        "      transform: scale(1.02);\n",
        "    }}\n",
        "\n",
        "    pre {{\n",
        "      background: var(--light-gray);\n",
        "      padding: 1rem;\n",
        "      border-radius: 8px;\n",
        "      overflow-x: auto;\n",
        "      font-size: 0.9rem;\n",
        "    }}\n",
        "\n",
        "    footer {{\n",
        "      text-align: center;\n",
        "      padding: 1rem;\n",
        "      background: var(--secondary-color);\n",
        "      color: #fff;\n",
        "      margin-top: 2rem;\n",
        "      border-radius: 8px;\n",
        "    }}\n",
        "\n",
        "    @keyframes fadeSlide {{\n",
        "      from {{\n",
        "        opacity: 0;\n",
        "        transform: translateX(20px);\n",
        "      }}\n",
        "      to {{\n",
        "        opacity: 1;\n",
        "        transform: translateX(0);\n",
        "      }}\n",
        "    }}\n",
        "\n",
        "    /* Responsividade */\n",
        "    @media (max-width: 768px) {{\n",
        "      header h1 {{\n",
        "        font-size: 1.5rem;\n",
        "      }}\n",
        "      nav button {{\n",
        "        font-size: 0.9rem;\n",
        "        padding: 0.8rem;\n",
        "      }}\n",
        "      .container {{\n",
        "        padding: 1.5rem;\n",
        "        margin: 1rem;\n",
        "      }}\n",
        "    }}\n",
        "  </style>\n",
        "</head>\n",
        "<body>\n",
        "  <header>\n",
        "    <h1>Relatório Interativo do Modelo</h1>\n",
        "  </header>\n",
        "\n",
        "  <nav>\n",
        "    <button class=\"tab-link active\" data-tab=\"metrics\">Métricas</button>\n",
        "    <button class=\"tab-link\" data-tab=\"confusion\">Matriz de Confusão</button>\n",
        "    <button class=\"tab-link\" data-tab=\"loss\">Gráfico de Loss</button>\n",
        "    <button class=\"tab-link\" data-tab=\"accuracy\">Gráfico de Accuracy</button>\n",
        "    <button class=\"tab-link\" data-tab=\"history\">Histórico</button>\n",
        "    <button class=\"tab-link\" data-tab=\"scaler\">Scaler</button>\n",
        "    <button class=\"tab-link\" data-tab=\"settings\">Settings</button>\n",
        "  </nav>\n",
        "\n",
        "  <div class=\"container\">\n",
        "    <!-- Abas -->\n",
        "    <div id=\"metrics\" class=\"tab-content active\">\n",
        "      <h2>Métricas do Teste</h2>\n",
        "      <p><strong>Test Loss:</strong> <span id=\"test-loss\">{test_loss}</span></p>\n",
        "      <p><strong>Test Accuracy:</strong> <span id=\"test-accuracy\">{test_accuracy}</span></p>\n",
        "    </div>\n",
        "\n",
        "    <div id=\"confusion\" class=\"tab-content\">\n",
        "      <h2>Matriz de Confusão</h2>\n",
        "      <img id=\"confusion-img\" src=\"data:image/png;base64,{confusion_matrix_b64}\" alt=\"Matriz de Confusão\">\n",
        "    </div>\n",
        "\n",
        "    <div id=\"loss\" class=\"tab-content\">\n",
        "      <h2>Gráfico de Loss</h2>\n",
        "      <img id=\"loss-img\" src=\"data:image/png;base64,{loss_b64}\" alt=\"Gráfico de Loss\">\n",
        "    </div>\n",
        "\n",
        "    <div id=\"accuracy\" class=\"tab-content\">\n",
        "      <h2>Gráfico de Accuracy</h2>\n",
        "      <img id=\"accuracy-img\" src=\"data:image/png;base64,{accuracy_b64}\" alt=\"Gráfico de Accuracy\">\n",
        "    </div>\n",
        "\n",
        "    <div id=\"history\" class=\"tab-content\">\n",
        "      <h2>Histórico de Treinamento</h2>\n",
        "      <pre id=\"history-json\">{json.dumps(history, indent=2, ensure_ascii=False)}</pre>\n",
        "    </div>\n",
        "\n",
        "    <div id=\"scaler\" class=\"tab-content\">\n",
        "      <h2>Scaler</h2>\n",
        "      <p>Arquivo do Scaler: <strong>{nome_do_ficheiro_scaler}</strong></p>\n",
        "      <p><a href=\"file://{caminho_completo_scaler}\" download>Baixar Scaler</a></p>\n",
        "    </div>\n",
        "\n",
        "    <div id=\"settings\" class=\"tab-content\">\n",
        "      <h2>Settings</h2>\n",
        "      <p>Arquivo de Settings: <strong>{nome_do_ficheiro_settings}</strong></p>\n",
        "      <p><a href=\"file://{caminho_completo_settings}\" download>Baixar Settings</a></p>\n",
        "      <pre id=\"settings-json\">{json.dumps(settings, indent=2, ensure_ascii=False)}</pre>\n",
        "    </div>\n",
        "  </div>\n",
        "\n",
        "  <footer>\n",
        "    <p>&copy; 2025 Prometheus</p>\n",
        "  </footer>\n",
        "\n",
        "  <script>\n",
        "    // Troca de abas com animação\n",
        "    document.querySelectorAll('.tab-link').forEach(button => {{\n",
        "      button.addEventListener('click', () => {{\n",
        "        document.querySelectorAll('.tab-link').forEach(btn => btn.classList.remove('active'));\n",
        "        document.querySelectorAll('.tab-content').forEach(content => {{\n",
        "          content.classList.remove('active');\n",
        "          // Força reinício da animação removendo a classe e re-adicionando após um pequeno delay\n",
        "          content.style.animation = 'none';\n",
        "          setTimeout(() => {{\n",
        "            content.style.animation = '';\n",
        "          }}, 10);\n",
        "        }});\n",
        "        button.classList.add('active');\n",
        "        const tab = button.getAttribute('data-tab');\n",
        "        document.getElementById(tab).classList.add('active');\n",
        "      }});\n",
        "    }});\n",
        "\n",
        "    // Injeção dos dados do modelo (os dados já estão incorporados no HTML)\n",
        "    const modelResults = {json.dumps(model_results, indent=2, ensure_ascii=False)};\n",
        "    document.getElementById('test-loss').textContent = modelResults.test_loss;\n",
        "    document.getElementById('test-accuracy').textContent = modelResults.test_accuracy;\n",
        "    document.getElementById('history-json').textContent = JSON.stringify(modelResults.history, null, 2);\n",
        "    document.getElementById('settings-json').textContent = JSON.stringify({json.dumps(settings, indent=2, ensure_ascii=False)}, null, 2);\n",
        "  </script>\n",
        "</body>\n",
        "</html>\n",
        "\"\"\""
      ],
      "metadata": {
        "id": "Uw5iPMQ1-sfM"
      },
      "execution_count": 97,
      "outputs": []
    },
    {
      "cell_type": "code",
      "source": [
        "# --- Grava o relatório HTML ---\n",
        "report_file_path = os.path.join(caminho_para_salvar_report, file_name_True + \".html\")\n",
        "with open(report_file_path, \"w\", encoding=\"utf-8\") as f:\n",
        "    f.write(html_content)\n",
        "\n",
        "print(\"\\nFicheiro do Report:\")\n",
        "print(file_name_True + \".html\")\n",
        "print()\n",
        "print(\"Report salvo em:\")\n",
        "print(caminho_para_salvar_report)"
      ],
      "metadata": {
        "colab": {
          "base_uri": "https://localhost:8080/"
        },
        "id": "IvLNkutNUp0f",
        "outputId": "6955862d-03ba-4bbc-8619-b174188a860a"
      },
      "execution_count": 98,
      "outputs": [
        {
          "output_type": "stream",
          "name": "stdout",
          "text": [
            "\n",
            "Ficheiro do Report:\n",
            "ds=sip+s=AAPL+mp=True+sd=2021-10-31+ed=2023-12-31+tf=5Min+fm=volume+sm=vwap+tm=+r=12+sort=True+rfm=True+rsm=False+rtm=False+d=+st=robust+cts=[1]+Lb=True+e=5+es=True+cb=val_accuracy+p=2+bs=64+tl=0.6965882778167725+ta=0.488567978143692.html\n",
            "\n",
            "Report salvo em:\n",
            "/content/drive/MyDrive/AI Financial Analisys/Summer Project/SandBox Environment/Report\n"
          ]
        }
      ]
    }
  ]
}