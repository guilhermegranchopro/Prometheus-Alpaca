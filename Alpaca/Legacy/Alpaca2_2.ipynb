{
  "nbformat": 4,
  "nbformat_minor": 0,
  "metadata": {
    "colab": {
      "provenance": [],
      "include_colab_link": true
    },
    "kernelspec": {
      "name": "python3",
      "display_name": "Python 3"
    },
    "language_info": {
      "name": "python"
    }
  },
  "cells": [
    {
      "cell_type": "markdown",
      "metadata": {
        "id": "view-in-github",
        "colab_type": "text"
      },
      "source": [
        "<a href=\"https://colab.research.google.com/github/guilhermegranchopro/Prometheus/blob/main/Prometheus/Alpaca/Alpaca2_2.ipynb\" target=\"_parent\"><img src=\"https://colab.research.google.com/assets/colab-badge.svg\" alt=\"Open In Colab\"/></a>"
      ]
    },
    {
      "cell_type": "code",
      "source": [
        "pip install alpaca-trade-api"
      ],
      "metadata": {
        "colab": {
          "base_uri": "https://localhost:8080/"
        },
        "id": "VXOskRT-coC_",
        "outputId": "97072906-2277-49aa-8009-106cc69da203"
      },
      "execution_count": null,
      "outputs": [
        {
          "output_type": "stream",
          "name": "stdout",
          "text": [
            "Requirement already satisfied: alpaca-trade-api in /usr/local/lib/python3.10/dist-packages (3.2.0)\n",
            "Requirement already satisfied: pandas>=0.18.1 in /usr/local/lib/python3.10/dist-packages (from alpaca-trade-api) (2.1.4)\n",
            "Requirement already satisfied: numpy>=1.11.1 in /usr/local/lib/python3.10/dist-packages (from alpaca-trade-api) (1.26.4)\n",
            "Requirement already satisfied: requests<3,>2 in /usr/local/lib/python3.10/dist-packages (from alpaca-trade-api) (2.32.3)\n",
            "Requirement already satisfied: urllib3<2,>1.24 in /usr/local/lib/python3.10/dist-packages (from alpaca-trade-api) (1.26.20)\n",
            "Requirement already satisfied: websocket-client<2,>=0.56.0 in /usr/local/lib/python3.10/dist-packages (from alpaca-trade-api) (1.8.0)\n",
            "Requirement already satisfied: websockets<11,>=9.0 in /usr/local/lib/python3.10/dist-packages (from alpaca-trade-api) (10.4)\n",
            "Requirement already satisfied: msgpack==1.0.3 in /usr/local/lib/python3.10/dist-packages (from alpaca-trade-api) (1.0.3)\n",
            "Requirement already satisfied: aiohttp<4,>=3.8.3 in /usr/local/lib/python3.10/dist-packages (from alpaca-trade-api) (3.10.5)\n",
            "Requirement already satisfied: PyYAML==6.0.1 in /usr/local/lib/python3.10/dist-packages (from alpaca-trade-api) (6.0.1)\n",
            "Requirement already satisfied: deprecation==2.1.0 in /usr/local/lib/python3.10/dist-packages (from alpaca-trade-api) (2.1.0)\n",
            "Requirement already satisfied: packaging in /usr/local/lib/python3.10/dist-packages (from deprecation==2.1.0->alpaca-trade-api) (24.1)\n",
            "Requirement already satisfied: aiohappyeyeballs>=2.3.0 in /usr/local/lib/python3.10/dist-packages (from aiohttp<4,>=3.8.3->alpaca-trade-api) (2.4.0)\n",
            "Requirement already satisfied: aiosignal>=1.1.2 in /usr/local/lib/python3.10/dist-packages (from aiohttp<4,>=3.8.3->alpaca-trade-api) (1.3.1)\n",
            "Requirement already satisfied: attrs>=17.3.0 in /usr/local/lib/python3.10/dist-packages (from aiohttp<4,>=3.8.3->alpaca-trade-api) (24.2.0)\n",
            "Requirement already satisfied: frozenlist>=1.1.1 in /usr/local/lib/python3.10/dist-packages (from aiohttp<4,>=3.8.3->alpaca-trade-api) (1.4.1)\n",
            "Requirement already satisfied: multidict<7.0,>=4.5 in /usr/local/lib/python3.10/dist-packages (from aiohttp<4,>=3.8.3->alpaca-trade-api) (6.0.5)\n",
            "Requirement already satisfied: yarl<2.0,>=1.0 in /usr/local/lib/python3.10/dist-packages (from aiohttp<4,>=3.8.3->alpaca-trade-api) (1.9.4)\n",
            "Requirement already satisfied: async-timeout<5.0,>=4.0 in /usr/local/lib/python3.10/dist-packages (from aiohttp<4,>=3.8.3->alpaca-trade-api) (4.0.3)\n",
            "Requirement already satisfied: python-dateutil>=2.8.2 in /usr/local/lib/python3.10/dist-packages (from pandas>=0.18.1->alpaca-trade-api) (2.8.2)\n",
            "Requirement already satisfied: pytz>=2020.1 in /usr/local/lib/python3.10/dist-packages (from pandas>=0.18.1->alpaca-trade-api) (2024.1)\n",
            "Requirement already satisfied: tzdata>=2022.1 in /usr/local/lib/python3.10/dist-packages (from pandas>=0.18.1->alpaca-trade-api) (2024.1)\n",
            "Requirement already satisfied: charset-normalizer<4,>=2 in /usr/local/lib/python3.10/dist-packages (from requests<3,>2->alpaca-trade-api) (3.3.2)\n",
            "Requirement already satisfied: idna<4,>=2.5 in /usr/local/lib/python3.10/dist-packages (from requests<3,>2->alpaca-trade-api) (3.8)\n",
            "Requirement already satisfied: certifi>=2017.4.17 in /usr/local/lib/python3.10/dist-packages (from requests<3,>2->alpaca-trade-api) (2024.7.4)\n",
            "Requirement already satisfied: six>=1.5 in /usr/local/lib/python3.10/dist-packages (from python-dateutil>=2.8.2->pandas>=0.18.1->alpaca-trade-api) (1.16.0)\n"
          ]
        }
      ]
    },
    {
      "cell_type": "code",
      "source": [
        "import yfinance as yf\n",
        "\n",
        "# Defina o símbolo da empresa\n",
        "ticker_symbol = 'AAPL'  # Exemplo com Apple\n",
        "\n",
        "# Obtenha os dados históricos\n",
        "ticker_data = yf.Ticker(ticker_symbol)\n",
        "historical_data = ticker_data.history(period='max')\n",
        "\n",
        "# Obtenha a data da primeira cotação\n",
        "first_trading_date = historical_data.index[0]\n",
        "print(f\"A empresa {ticker_symbol} começou a ser cotada na bolsa em:\", first_trading_date.strftime(\"%Y-%m-%d\"))\n",
        "\n",
        "def get_start_date(symbol):\n",
        "    ticker_data = yf.Ticker(symbol)\n",
        "    historical_data = ticker_data.history(period='max')\n",
        "    first_trading_date = historical_data.index[0]\n",
        "    return first_trading_date"
      ],
      "metadata": {
        "colab": {
          "base_uri": "https://localhost:8080/"
        },
        "id": "2NibJeBQn8Jz",
        "outputId": "e7316f3f-2f49-4670-f4d4-5c71731d4995"
      },
      "execution_count": null,
      "outputs": [
        {
          "output_type": "stream",
          "name": "stdout",
          "text": [
            "A empresa AAPL começou a ser cotada na bolsa em: 1980-12-12\n"
          ]
        }
      ]
    },
    {
      "cell_type": "code",
      "source": [
        "import pandas as pd\n",
        "from datetime import datetime, timedelta, timezone\n",
        "\n",
        "# Obter a data e hora atuais\n",
        "current_date_time = datetime.now()\n",
        "\n",
        "# Formatar a data como string\n",
        "current_date = current_date_time.strftime(\"%Y-%m-%d\")\n",
        "print(f\"Hoje é: {current_date}\")\n",
        "\n",
        "def get_end_date(symbol):\n",
        "    # Obter a data e hora atuais\n",
        "    current_date_time = datetime.now()\n",
        "    # Make start timezone aware\n",
        "    current_date_time = current_date_time.replace(tzinfo=timezone.utc)\n",
        "    return current_date_time"
      ],
      "metadata": {
        "colab": {
          "base_uri": "https://localhost:8080/"
        },
        "id": "P-FBJmdfoKD8",
        "outputId": "22c7e62a-91d7-432e-f884-325f10ba6a03"
      },
      "execution_count": null,
      "outputs": [
        {
          "output_type": "stream",
          "name": "stdout",
          "text": [
            "Hoje é: 2024-09-04\n"
          ]
        }
      ]
    },
    {
      "cell_type": "code",
      "execution_count": null,
      "metadata": {
        "id": "eTHSAnj2VD7q"
      },
      "outputs": [],
      "source": [
        "import alpaca_trade_api as tradeapi\n",
        "import pandas as pd\n",
        "import time\n",
        "from datetime import datetime, timedelta\n",
        "\n",
        "def alpaca_autentification():\n",
        "    # Replace with your Alpaca API credentials\n",
        "    API_KEY = 'AK1RX6F8W6QX207XPLDF'\n",
        "    SECRET_KEY = 'WaPoTTxkQBGzC51LajCdyw8Pl6svbINa9eDu9TMK'\n",
        "    BASE_URL = 'https://api.alpaca.markets'  # Use 'https://api.alpaca.markets' for live trading\n",
        "\n",
        "    # Initialize the Alpaca API\n",
        "    api = tradeapi.REST(API_KEY, SECRET_KEY, BASE_URL, api_version='v2')\n",
        "\n",
        "    return api\n",
        "\n",
        "# Function to fetch data in chunks to avoid rate limits\n",
        "def fetch_data(symbol, start, end, timeframe, api):\n",
        "    all_data = []\n",
        "    current_start = start\n",
        "\n",
        "    while current_start < end:\n",
        "        current_end = current_start + timedelta(days=7)\n",
        "        if current_end > end:\n",
        "            current_end = end\n",
        "\n",
        "        # Fetch the historical data\n",
        "        bars = api.get_bars(\n",
        "            symbol,\n",
        "            timeframe,\n",
        "            start=current_start.strftime('%Y-%m-%d'),\n",
        "            end=current_end.strftime('%Y-%m-%d')\n",
        "        ).df\n",
        "\n",
        "        all_data.append(bars)\n",
        "        current_start = current_end\n",
        "        time.sleep(1)  # Adjust sleep interval based on rate limits\n",
        "\n",
        "    return pd.concat(all_data)"
      ]
    },
    {
      "cell_type": "code",
      "source": [
        "def get_all_data(symbol = 'AAPL', max_period = True, start_date = '', end_date= '', timeframe = '1Min'):\n",
        "    api = alpaca_autentification()\n",
        "\n",
        "    if max_period and start_date == '' and end_date == '':\n",
        "        start_date = get_start_date(symbol)\n",
        "        end_date = get_end_date(symbol)\n",
        "    elif start_date != '' and end_date != '':\n",
        "        start_date = datetime.strptime(start_date, '%Y-%m-%d')\n",
        "        end_date = datetime.strptime(end_date, '%Y-%m-%d')\n",
        "    else:\n",
        "        start_date = datetime(2022, 12, 31)\n",
        "        end_date = datetime(2023, 12, 31)\n",
        "\n",
        "    # Fetch the historical data\n",
        "    apple_data = fetch_data(symbol, start_date, end_date, timeframe, api)\n",
        "    return apple_data"
      ],
      "metadata": {
        "id": "hj2WI5PG1nTV"
      },
      "execution_count": null,
      "outputs": []
    },
    {
      "cell_type": "code",
      "source": [
        "# Function to prepare the data\n",
        "def prepare_data(data, fisrt_marker, second_marker, third_marker):\n",
        "    # Selecionar colunas relevantes e fazer uma cópia para evitar advertências\n",
        "    data_selected = data[['close', 'high', 'low', 'trade_count', 'open', 'volume', 'vwap']].copy()\n",
        "\n",
        "    # Calcular a média entre 'Open' e 'Close' usando .loc para evitar o SettingWithCopyWarning\n",
        "    data_selected.loc[:, 'average_oc'] = data_selected[['open', 'close']].mean(axis=1)\n",
        "\n",
        "    # Calcular a média entre 'High' e 'Low' usando .loc para evitar o SettingWithCopyWarning\n",
        "    data_selected.loc[:, 'average_hl'] = data_selected[['high', 'low']].mean(axis=1)\n",
        "\n",
        "    # Selecionar as colunas finais\n",
        "    if third_marker != '':\n",
        "        data_final = data_selected[[fisrt_marker, second_marker, third_marker]]\n",
        "    else:\n",
        "        data_final = data_selected[[fisrt_marker, second_marker]]\n",
        "\n",
        "    return data_final"
      ],
      "metadata": {
        "id": "1ktLcRlNC-s4"
      },
      "execution_count": null,
      "outputs": []
    },
    {
      "cell_type": "code",
      "source": [
        "import numpy as np\n",
        "\n",
        "# Função para criar as matrizes e os labels\n",
        "def create_matrices(data_final, n = 12, fisrt_marker = 'volume', second_marker = 'vwap', third_marker = '', relative_fisrt_marker = True, relative_second_marker = False, relative_third_marker = False):\n",
        "    num_rows = data_final.shape[0]\n",
        "    num_matrices = num_rows // n  # Número de matrizes completas que podemos formar\n",
        "\n",
        "    matrices = []\n",
        "    matrices_y = []\n",
        "\n",
        "    for i in range(num_matrices):\n",
        "        start_idx = i * n\n",
        "        end_idx = start_idx + n\n",
        "        matrix = data_final.iloc[start_idx:end_idx].copy()\n",
        "\n",
        "        if relative_fisrt_marker:\n",
        "            # Calcular a soma da coluna de volume\n",
        "            volume_sum = matrix[fisrt_marker].sum()\n",
        "\n",
        "            # Tornar a coluna do volume relativa\n",
        "            matrix[fisrt_marker] = matrix[fisrt_marker] / volume_sum\n",
        "\n",
        "            # Converter para valores numpy e adicionar à lista de matrizes\n",
        "            matrices.append(matrix.values)\n",
        "\n",
        "        if relative_second_marker:\n",
        "            # Calcular a soma da coluna de volume\n",
        "            volume_sum = matrix[second_marker].sum()\n",
        "\n",
        "            # Tornar a coluna do volume relativa\n",
        "            matrix[second_marker] = matrix[second_marker] / volume_sum\n",
        "\n",
        "            # Converter para valores numpy e adicionar à lista de matrizes\n",
        "            matrices.append(matrix.values)\n",
        "\n",
        "        if relative_third_marker:\n",
        "            # Calcular a soma da coluna de volume\n",
        "            volume_sum = matrix[third_marker].sum()\n",
        "\n",
        "            # Tornar a coluna do volume relativa\n",
        "            matrix[third_marker] = matrix[third_marker] / volume_sum\n",
        "\n",
        "            # Converter para valores numpy e adicionar à lista de matrizes\n",
        "            matrices.append(matrix.values)\n",
        "\n",
        "        # Criar labels\n",
        "        if i > 0:  # Ignorar a primeira matriz para alinhamento correto\n",
        "            first_value = matrices[i][0, 1]\n",
        "            last_value = matrices[i][n-1, 1]\n",
        "            delta = last_value - first_value\n",
        "            delta_bi = 1 if delta >= 0 else 0\n",
        "            matrices_y.append(delta_bi)\n",
        "\n",
        "    return matrices, matrices_y\n",
        "\n",
        "def sort_matrices(matrices):\n",
        "    # Ordenar as linhas de cada matriz por ordem decrescente da coluna Average (segunda coluna)\n",
        "    matrices_x = []\n",
        "    for matrix in matrices:\n",
        "        sorted_indices = np.argsort(matrix[:, 1])[::-1]\n",
        "        sorted_matrix = matrix[sorted_indices]\n",
        "        matrices_x.append(sorted_matrix)\n",
        "    return matrices_x\n",
        "\n",
        "def tensor_creator(matrices_x, matrices_y):\n",
        "    # Converter listas para arrays numpy\n",
        "    matrices_x = np.array(matrices_x)\n",
        "    matrices_y = np.array(matrices_y)\n",
        "    return matrices_x, matrices_y"
      ],
      "metadata": {
        "id": "8t2H56cVKuTT"
      },
      "execution_count": null,
      "outputs": []
    },
    {
      "cell_type": "code",
      "source": [
        "def get_dataset(company_data, n_rows, sort = True, fisrt_marker = 'volume', second_marker = 'vwap' ,\n",
        "                third_marker = '', relative_fisrt_marker = True, relative_second_marker = False,\n",
        "                relative_third_marker = False, decimals = ''):\n",
        "    matrices_x = []\n",
        "    matrices_y = []\n",
        "\n",
        "    matrices_x, matrices_y = create_matrices(company_data, n_rows, fisrt_marker, second_marker, third_marker, relative_fisrt_marker, relative_second_marker, relative_third_marker)\n",
        "\n",
        "    if sort:\n",
        "        matrices_x = sort_matrices(matrices_x)\n",
        "\n",
        "    # Remover a última matriz de matrices_x para alinhamento com matrices_y\n",
        "    if matrices_x:\n",
        "        matrices_x.pop()\n",
        "\n",
        "    matrices_x, matrices_y = tensor_creator(matrices_x, matrices_y)\n",
        "\n",
        "    if decimals != '':\n",
        "        matrices_x = np.round(matrices_x, decimals = decimals)\n",
        "    return matrices_x, matrices_y"
      ],
      "metadata": {
        "id": "IqP4yd62jdV4"
      },
      "execution_count": null,
      "outputs": []
    },
    {
      "cell_type": "code",
      "source": [
        "from sklearn.model_selection import train_test_split\n",
        "\n",
        "def split_dataset(matrices_x, matrices_y, LSTM = True):\n",
        "\n",
        "    if LSTM:\n",
        "        # Total de amostras\n",
        "        n_samples = matrices_x.shape[0]\n",
        "\n",
        "        # Índices para divisão\n",
        "        train_size = int(0.6 * n_samples)  # 60% para treino\n",
        "        val_size = int(0.2 * n_samples)    # 20% para validação\n",
        "        test_size = n_samples - train_size - val_size  # 20% para teste\n",
        "\n",
        "        # Dividir os dados sequencialmente\n",
        "        X_train = matrices_x[:train_size]\n",
        "        y_train = matrices_y[:train_size]\n",
        "\n",
        "        X_val = matrices_x[train_size:train_size + val_size]\n",
        "        y_val = matrices_y[train_size:train_size + val_size]\n",
        "\n",
        "        X_test = matrices_x[train_size + val_size:]\n",
        "        y_test = matrices_y[train_size + val_size:]\n",
        "    else:\n",
        "        # Dividir os dados em conjuntos de treinamento + validação e teste\n",
        "        X_train_val, X_test, y_train_val, y_test = train_test_split(matrices_x, matrices_y, test_size=0.2, random_state=42)\n",
        "\n",
        "        # Dividir o conjunto de treinamento + validação em treinamento e validação\n",
        "        X_train, X_val, y_train, y_val = train_test_split(X_train_val, y_train_val, test_size=0.25, random_state=42)  # 0.25 * 0.8 = 0.2\n",
        "\n",
        "    return X_train, X_val, X_test, y_train, y_val, y_test\n"
      ],
      "metadata": {
        "id": "uAksoOB0q-_H"
      },
      "execution_count": null,
      "outputs": []
    },
    {
      "cell_type": "code",
      "source": [
        "import tensorflow as tf\n",
        "from tensorflow.keras.models import Sequential\n",
        "from tensorflow.keras.layers import Dense, Flatten, LSTM, Dropout, BatchNormalization\n",
        "from tensorflow.keras.optimizers import Adam\n",
        "from tensorflow.keras.callbacks import EarlyStopping\n",
        "import warnings\n",
        "\n",
        "# Função para construir a rede neural\n",
        "def build_model(input_shape, LSTM_boolean=True):\n",
        "    warnings.filterwarnings('ignore', category=UserWarning, module='keras')\n",
        "    model = Sequential()\n",
        "\n",
        "    if LSTM_boolean:\n",
        "        model.add(LSTM(64, input_shape=input_shape, return_sequences=True))\n",
        "        model.add(Dropout(0.2))\n",
        "        model.add(LSTM(64, return_sequences=False))\n",
        "        model.add(Dropout(0.2))\n",
        "    else:\n",
        "        model.add(Flatten(input_shape=input_shape))\n",
        "        model.add(Dense(64, activation='relu'))\n",
        "        model.add(BatchNormalization())\n",
        "        model.add(Dropout(0.5))\n",
        "        model.add(Dense(64, activation='relu'))\n",
        "        model.add(BatchNormalization())\n",
        "        model.add(Dropout(0.5))\n",
        "\n",
        "    model.add(Dense(1, activation='sigmoid'))\n",
        "\n",
        "    # Compilando o modelo com uma taxa de aprendizado ajustada\n",
        "    optimizer = Adam(learning_rate=0.001)\n",
        "    model.compile(optimizer=optimizer, loss='binary_crossentropy', metrics=['accuracy'])\n",
        "\n",
        "    model.summary()\n",
        "\n",
        "    return model"
      ],
      "metadata": {
        "id": "VkdihWussdhK"
      },
      "execution_count": null,
      "outputs": []
    },
    {
      "cell_type": "code",
      "source": [
        "def model_training(model, X_train, X_val, X_test, y_train, y_val, y_test, epochs=5, early_stopping = True, call_back = 'val_accuracy', patience = 2, batch_size=32):\n",
        "\n",
        "    # Treinar o modelo\n",
        "    print(\"Treinando o modelo...\")\n",
        "\n",
        "    if early_stopping:\n",
        "        early_stopping = EarlyStopping(monitor=call_back, patience=patience, restore_best_weights=True)\n",
        "        history = model.fit(X_train, y_train, epochs = epochs, batch_size = batch_size, validation_data=(X_val, y_val), callbacks=[early_stopping])\n",
        "    else:\n",
        "        history = model.fit(X_train, y_train, epochs = epochs, batch_size = batch_size, validation_data=(X_val, y_val))\n",
        "\n",
        "    print()\n",
        "\n",
        "    # Avaliar o modelo nos dados de teste\n",
        "    print(\"Avaliação no conjunto de teste:\")\n",
        "    test_loss, test_accuracy = model.evaluate(X_test, y_test)\n",
        "\n",
        "    return model, history, test_loss, test_accuracy"
      ],
      "metadata": {
        "id": "Fo-yl-ysvUC-"
      },
      "execution_count": null,
      "outputs": []
    },
    {
      "cell_type": "code",
      "source": [
        "# Plotar a precisão e a perda ao longo das épocas\n",
        "import matplotlib.pyplot as plt\n",
        "\n",
        "def graphics_analysis(history):\n",
        "\n",
        "    # Precisão\n",
        "    plt.plot(history.history['accuracy'], label='Training Accuracy')\n",
        "    plt.plot(history.history['val_accuracy'], label='Validation Accuracy')\n",
        "    plt.title('Model Accuracy')\n",
        "    plt.xlabel('Epoch')\n",
        "    plt.ylabel('Accuracy')\n",
        "    plt.legend()\n",
        "    plt.show()\n",
        "\n",
        "    # Perda\n",
        "    plt.plot(history.history['loss'], label='Training Loss')\n",
        "    plt.plot(history.history['val_loss'], label='Validation Loss')\n",
        "    plt.title('Model Loss')\n",
        "    plt.xlabel('Epoch')\n",
        "    plt.ylabel('Loss')\n",
        "    plt.legend()\n",
        "    plt.show()"
      ],
      "metadata": {
        "id": "42-pWp7Gvz9F"
      },
      "execution_count": null,
      "outputs": []
    },
    {
      "cell_type": "markdown",
      "source": [
        "As primeiras possibilidades de cada variável são aquelas as quais inicialmnete pensas-te que faziam mais sentido:\n",
        "\n",
        "* symbol = 'AAPL', (retira do ficheito execel, tens o código que extrai)\n",
        "* max_period = True, (podes ter erros por excesso de pedidos do API)\n",
        "* start_date = '', '2022-10-31', (1 ano funciona bem para test runs)\n",
        "* end_date = '', '2023-10-31', (1 ano funciona bem para test runs)\n",
        "* timeframe = '1Min', '5Min', (mais de 5Min parece perder sentido a teoria)\n",
        "* fisrt_marker = 'volume', 'close', 'high', 'low', 'trade_count', 'open', 'vwap', 'average_oc', 'average_hl', (a ideia inicial é ver o volume relativo, mas pode ser interessante estudar o trade_count)\n",
        "* second_marker = 'vwap', 'volume', 'close', 'high', 'low', 'trade_count', 'open', 'average_oc', 'average_hl', (a ideia inicial era ver a média entre o high e o low - 'average_hl', mas fica na duvida ver a média entre o open e o close - 'average_oc', pode também ser muito interessante investigar o vwap)\n",
        "* third_marker = '', 'volume', 'close', 'high', 'low', 'trade_count', 'open', 'vwap', 'average_oc', 'average_hl', (não pensas te em usar uma terceira coluna para criar as matrizes, mas se os resultados impiricos assim o provarem usa)\n",
        "* n_rows = 12, 10, 15, 30, 5, (pensa no timeframe quando fazes isso, o 12 pareceu ser o melhor em testes impiricos)\n",
        "* sort = True, (tens de pensar na sequencia temporal se faz sentido manter ou não)\n",
        "* relative_first_marker = True, (tens de pensar em que marker correspondente estás a usar, pensa se matemáticamente faz sentido ou não colocares o marcador com valores relativos para todo o tensor, faltam te dados impiricos, o volume pensas te inicialmnete deixar em impirico para o tensor para normalizares os tensores)\n",
        "* relative_second_marker = False, (tens de pensar em que marker correspondente estás a usar, pensa se matemáticamente faz sentido ou não colocares o marcador com valores relativos para todo o tensor, faltam te dados impiricos)\n",
        "* relative_third_marker = False, (tens de pensar em que marker correspondente estás a usar, pensa se matemáticamente faz sentido ou não colocares o marcador com valores relativos para todo o tensor, faltam te dados impiricos)\n",
        "* decimals = '', 3, 4 (tens de ver o que os dados impiricos te dizem se com arrendondamentos facilitas ou n a vida do AI)\n",
        "* LSTM_boolean = True, (em caso de falso não usas um LSTM e partes do precipio que a relação causal deixa de ser importante para a cosntrução do tensor, quando normalizas os dados a esperança seria de não teres de usar um LSTM)\n",
        "* epochs = 5, (este numero tende a ser irrelevante porque tens um checkpoint de callback referente ao melhor resultado de validation accuracy)\n",
        "* early_stopping = True, (podes ligar ou desligar de forma automática o early_stopping, ou seja, o call back aqui)\n",
        "* call_back = 'val_accuracy', 'val_loss', 'accuracy', 'loss' (escolhes o paramtero que monitora o call back)\n",
        "* patience = 2, 50, 100, 500, 1000 (escolhes a paciencia do call back)\n",
        "* batch_size = 64, 16, 32, 128, 256, 512 (varias com o tramanho do dataset, mas pensa que tens conseguido datasets bem grandes portanto usa os maiores valores)"
      ],
      "metadata": {
        "id": "d6KIcjmYWb5B"
      }
    },
    {
      "cell_type": "code",
      "source": [
        "symbol = 'AAPL'\n",
        "max_period = True\n",
        "start_date = '2022-10-31'\n",
        "end_date = '2023-12-31'\n",
        "timeframe = '1Min'\n",
        "fisrt_marker = 'volume'\n",
        "second_marker = 'vwap'\n",
        "third_marker = ''\n",
        "n_rows = 12\n",
        "sort = True\n",
        "relative_first_marker = True\n",
        "relative_second_marker = False\n",
        "relative_third_marker = False\n",
        "decimals = ''\n",
        "LSTM_boolean = True\n",
        "epochs = 5\n",
        "early_stopping = True\n",
        "call_back = 'val_accuracy'\n",
        "patience = 2\n",
        "batch_size = 64"
      ],
      "metadata": {
        "id": "CSPJtOTF8u58"
      },
      "execution_count": null,
      "outputs": []
    },
    {
      "cell_type": "code",
      "source": [
        "company_data = get_all_data(symbol, max_period, start_date, end_date, timeframe)\n",
        "\n",
        "print(company_data)\n",
        "print(company_data.shape)\n",
        "print()"
      ],
      "metadata": {
        "colab": {
          "base_uri": "https://localhost:8080/"
        },
        "id": "nuIkfBkI-Uvw",
        "outputId": "543bc20f-86d1-4cfe-9362-bf74102ee4f4"
      },
      "execution_count": null,
      "outputs": [
        {
          "output_type": "stream",
          "name": "stdout",
          "text": [
            "                              close      high       low  trade_count  \\\n",
            "timestamp                                                              \n",
            "2022-10-31 08:00:00+00:00  154.8000  155.6600  154.5400          157   \n",
            "2022-10-31 08:01:00+00:00  154.8600  154.8600  154.7400           47   \n",
            "2022-10-31 08:02:00+00:00  154.7500  154.7800  154.7500           70   \n",
            "2022-10-31 08:03:00+00:00  154.7000  154.7500  154.6700          122   \n",
            "2022-10-31 08:04:00+00:00  154.6900  154.7500  154.6900          104   \n",
            "...                             ...       ...       ...          ...   \n",
            "2023-12-30 00:55:00+00:00  192.2400  192.2400  192.2400           15   \n",
            "2023-12-30 00:56:00+00:00  192.2300  192.2300  192.2300           15   \n",
            "2023-12-30 00:57:00+00:00  192.2200  192.2300  192.2200           15   \n",
            "2023-12-30 00:58:00+00:00  192.1000  192.2200  192.1000           32   \n",
            "2023-12-30 00:59:00+00:00  192.1501  192.1505  192.1501           12   \n",
            "\n",
            "                               open  volume        vwap  \n",
            "timestamp                                                \n",
            "2022-10-31 08:00:00+00:00  155.0000   10455  154.930632  \n",
            "2022-10-31 08:01:00+00:00  154.7900    3084  154.806910  \n",
            "2022-10-31 08:02:00+00:00  154.7600    2291  154.763549  \n",
            "2022-10-31 08:03:00+00:00  154.7500   12671  154.704598  \n",
            "2022-10-31 08:04:00+00:00  154.7000    7064  154.712889  \n",
            "...                             ...     ...         ...  \n",
            "2023-12-30 00:55:00+00:00  192.2400     717  192.237197  \n",
            "2023-12-30 00:56:00+00:00  192.2300     532  192.229964  \n",
            "2023-12-30 00:57:00+00:00  192.2300     662  192.225242  \n",
            "2023-12-30 00:58:00+00:00  192.2200    2154  192.172983  \n",
            "2023-12-30 00:59:00+00:00  192.1505    2147  192.151211  \n",
            "\n",
            "[260125 rows x 7 columns]\n",
            "(260125, 7)\n",
            "\n"
          ]
        }
      ]
    },
    {
      "cell_type": "code",
      "source": [
        "company_data = prepare_data(company_data, fisrt_marker, second_marker, third_marker)\n",
        "\n",
        "print(company_data)\n",
        "print(company_data.shape)\n",
        "print()"
      ],
      "metadata": {
        "colab": {
          "base_uri": "https://localhost:8080/"
        },
        "id": "3EvayUzCP499",
        "outputId": "d2e35a67-7f76-4048-9db3-e5abec6e3d57"
      },
      "execution_count": null,
      "outputs": [
        {
          "output_type": "stream",
          "name": "stdout",
          "text": [
            "                           volume        vwap\n",
            "timestamp                                    \n",
            "2022-10-31 08:00:00+00:00   10455  154.930632\n",
            "2022-10-31 08:01:00+00:00    3084  154.806910\n",
            "2022-10-31 08:02:00+00:00    2291  154.763549\n",
            "2022-10-31 08:03:00+00:00   12671  154.704598\n",
            "2022-10-31 08:04:00+00:00    7064  154.712889\n",
            "...                           ...         ...\n",
            "2023-12-30 00:55:00+00:00     717  192.237197\n",
            "2023-12-30 00:56:00+00:00     532  192.229964\n",
            "2023-12-30 00:57:00+00:00     662  192.225242\n",
            "2023-12-30 00:58:00+00:00    2154  192.172983\n",
            "2023-12-30 00:59:00+00:00    2147  192.151211\n",
            "\n",
            "[260125 rows x 2 columns]\n",
            "(260125, 2)\n",
            "\n"
          ]
        }
      ]
    },
    {
      "cell_type": "code",
      "source": [
        "matrices_x, matrices_y = get_dataset(company_data, n_rows, sort, fisrt_marker, second_marker , third_marker, relative_first_marker, relative_second_marker, relative_third_marker, decimals)\n",
        "\n",
        "print(matrices_x)\n",
        "print(matrices_x.shape)\n",
        "print(matrices_y)\n",
        "print(matrices_y.shape)\n",
        "print()"
      ],
      "metadata": {
        "colab": {
          "base_uri": "https://localhost:8080/"
        },
        "id": "iejgU_5vP8KQ",
        "outputId": "c923ac9f-eab2-4285-a0a8-367fe6017cfd"
      },
      "execution_count": null,
      "outputs": [
        {
          "output_type": "stream",
          "name": "stdout",
          "text": [
            "[[[1.54276355e-01 1.54930632e+02]\n",
            "  [4.55082045e-02 1.54806910e+02]\n",
            "  [9.71254870e-02 1.54763809e+02]\n",
            "  ...\n",
            "  [1.86976154e-01 1.54704598e+02]\n",
            "  [5.51292645e-02 1.54692987e+02]\n",
            "  [5.43471845e-02 1.54667537e+02]]\n",
            "\n",
            " [[3.36043669e-02 1.54863587e+02]\n",
            "  [4.30431569e-02 1.54798164e+02]\n",
            "  [9.93915961e-02 1.54793272e+02]\n",
            "  ...\n",
            "  [1.29982373e-01 1.54739055e+02]\n",
            "  [1.38625121e-01 1.54715238e+02]\n",
            "  [1.09285268e-01 1.54700239e+02]]\n",
            "\n",
            " [[6.54518223e-02 1.54846087e+02]\n",
            "  [1.05441837e-01 1.54824484e+02]\n",
            "  [7.36894658e-02 1.54799472e+02]\n",
            "  ...\n",
            "  [3.67948078e-02 1.54528060e+02]\n",
            "  [2.40888667e-01 1.54505602e+02]\n",
            "  [5.37194209e-02 1.54451180e+02]]\n",
            "\n",
            " ...\n",
            "\n",
            " [[2.96650718e-02 1.92239194e+02]\n",
            "  [5.37081340e-02 1.92229310e+02]\n",
            "  [2.90669856e-02 1.92224733e+02]\n",
            "  ...\n",
            "  [3.10526316e-01 1.92163871e+02]\n",
            "  [8.15789474e-02 1.92162654e+02]\n",
            "  [6.39952153e-02 1.92156327e+02]]\n",
            "\n",
            " [[2.53869969e-02 1.92189146e+02]\n",
            "  [6.68730650e-02 1.92169221e+02]\n",
            "  [3.34365325e-02 1.92168935e+02]\n",
            "  ...\n",
            "  [3.62074303e-01 1.92145452e+02]\n",
            "  [4.93808050e-02 1.92142665e+02]\n",
            "  [2.29256966e-01 1.92138670e+02]]\n",
            "\n",
            " [[1.93886463e-01 1.92134680e+02]\n",
            "  [1.05676856e-01 1.92129099e+02]\n",
            "  [9.24017467e-02 1.92121276e+02]\n",
            "  ...\n",
            "  [1.27685590e-01 1.92110328e+02]\n",
            "  [5.29257642e-02 1.92108020e+02]\n",
            "  [6.55021834e-02 1.92102213e+02]]]\n",
            "(21676, 12, 2)\n",
            "[1 0 1 ... 0 0 1]\n",
            "(21676,)\n",
            "\n"
          ]
        }
      ]
    },
    {
      "cell_type": "code",
      "source": [
        "X_train, X_val, X_test, y_train, y_val, y_test = split_dataset(matrices_x, matrices_y, LSTM_boolean)\n",
        "\n",
        "# Exibir as formas dos arrays resultantes\n",
        "print(\"Shape of X_train:\", X_train.shape)\n",
        "print(\"Shape of y_train:\", y_train.shape)\n",
        "print(\"Shape of X_val:\", X_val.shape)\n",
        "print(\"Shape of y_val:\", y_val.shape)\n",
        "print(\"Shape of X_test:\", X_test.shape)\n",
        "print(\"Shape of y_test:\", y_test.shape)\n",
        "print()"
      ],
      "metadata": {
        "colab": {
          "base_uri": "https://localhost:8080/"
        },
        "id": "edWtixMXP-QD",
        "outputId": "88774f55-bed5-49fc-87f2-7a4206bffdba"
      },
      "execution_count": null,
      "outputs": [
        {
          "output_type": "stream",
          "name": "stdout",
          "text": [
            "Shape of X_train: (13005, 12, 2)\n",
            "Shape of y_train: (13005,)\n",
            "Shape of X_val: (4335, 12, 2)\n",
            "Shape of y_val: (4335,)\n",
            "Shape of X_test: (4336, 12, 2)\n",
            "Shape of y_test: (4336,)\n",
            "\n"
          ]
        }
      ]
    },
    {
      "cell_type": "code",
      "source": [
        "if third_marker == '':\n",
        "  input_shape = (n_rows, 2)\n",
        "else:\n",
        "  input_shape = (n_rows, 3)\n",
        "model = build_model(input_shape, LSTM_boolean)"
      ],
      "metadata": {
        "colab": {
          "base_uri": "https://localhost:8080/",
          "height": 289
        },
        "id": "7k-Pt2rQQFiO",
        "outputId": "ad92170f-1422-4f88-8bb1-edeb97a9ec80"
      },
      "execution_count": null,
      "outputs": [
        {
          "output_type": "display_data",
          "data": {
            "text/plain": [
              "\u001b[1mModel: \"sequential\"\u001b[0m\n"
            ],
            "text/html": [
              "<pre style=\"white-space:pre;overflow-x:auto;line-height:normal;font-family:Menlo,'DejaVu Sans Mono',consolas,'Courier New',monospace\"><span style=\"font-weight: bold\">Model: \"sequential\"</span>\n",
              "</pre>\n"
            ]
          },
          "metadata": {}
        },
        {
          "output_type": "display_data",
          "data": {
            "text/plain": [
              "┏━━━━━━━━━━━━━━━━━━━━━━━━━━━━━━━━━━━━━━┳━━━━━━━━━━━━━━━━━━━━━━━━━━━━━┳━━━━━━━━━━━━━━━━━┓\n",
              "┃\u001b[1m \u001b[0m\u001b[1mLayer (type)                        \u001b[0m\u001b[1m \u001b[0m┃\u001b[1m \u001b[0m\u001b[1mOutput Shape               \u001b[0m\u001b[1m \u001b[0m┃\u001b[1m \u001b[0m\u001b[1m        Param #\u001b[0m\u001b[1m \u001b[0m┃\n",
              "┡━━━━━━━━━━━━━━━━━━━━━━━━━━━━━━━━━━━━━━╇━━━━━━━━━━━━━━━━━━━━━━━━━━━━━╇━━━━━━━━━━━━━━━━━┩\n",
              "│ lstm (\u001b[38;5;33mLSTM\u001b[0m)                          │ (\u001b[38;5;45mNone\u001b[0m, \u001b[38;5;34m12\u001b[0m, \u001b[38;5;34m64\u001b[0m)              │          \u001b[38;5;34m17,152\u001b[0m │\n",
              "├──────────────────────────────────────┼─────────────────────────────┼─────────────────┤\n",
              "│ dropout (\u001b[38;5;33mDropout\u001b[0m)                    │ (\u001b[38;5;45mNone\u001b[0m, \u001b[38;5;34m12\u001b[0m, \u001b[38;5;34m64\u001b[0m)              │               \u001b[38;5;34m0\u001b[0m │\n",
              "├──────────────────────────────────────┼─────────────────────────────┼─────────────────┤\n",
              "│ lstm_1 (\u001b[38;5;33mLSTM\u001b[0m)                        │ (\u001b[38;5;45mNone\u001b[0m, \u001b[38;5;34m64\u001b[0m)                  │          \u001b[38;5;34m33,024\u001b[0m │\n",
              "├──────────────────────────────────────┼─────────────────────────────┼─────────────────┤\n",
              "│ dropout_1 (\u001b[38;5;33mDropout\u001b[0m)                  │ (\u001b[38;5;45mNone\u001b[0m, \u001b[38;5;34m64\u001b[0m)                  │               \u001b[38;5;34m0\u001b[0m │\n",
              "├──────────────────────────────────────┼─────────────────────────────┼─────────────────┤\n",
              "│ dense (\u001b[38;5;33mDense\u001b[0m)                        │ (\u001b[38;5;45mNone\u001b[0m, \u001b[38;5;34m1\u001b[0m)                   │              \u001b[38;5;34m65\u001b[0m │\n",
              "└──────────────────────────────────────┴─────────────────────────────┴─────────────────┘\n"
            ],
            "text/html": [
              "<pre style=\"white-space:pre;overflow-x:auto;line-height:normal;font-family:Menlo,'DejaVu Sans Mono',consolas,'Courier New',monospace\">┏━━━━━━━━━━━━━━━━━━━━━━━━━━━━━━━━━━━━━━┳━━━━━━━━━━━━━━━━━━━━━━━━━━━━━┳━━━━━━━━━━━━━━━━━┓\n",
              "┃<span style=\"font-weight: bold\"> Layer (type)                         </span>┃<span style=\"font-weight: bold\"> Output Shape                </span>┃<span style=\"font-weight: bold\">         Param # </span>┃\n",
              "┡━━━━━━━━━━━━━━━━━━━━━━━━━━━━━━━━━━━━━━╇━━━━━━━━━━━━━━━━━━━━━━━━━━━━━╇━━━━━━━━━━━━━━━━━┩\n",
              "│ lstm (<span style=\"color: #0087ff; text-decoration-color: #0087ff\">LSTM</span>)                          │ (<span style=\"color: #00d7ff; text-decoration-color: #00d7ff\">None</span>, <span style=\"color: #00af00; text-decoration-color: #00af00\">12</span>, <span style=\"color: #00af00; text-decoration-color: #00af00\">64</span>)              │          <span style=\"color: #00af00; text-decoration-color: #00af00\">17,152</span> │\n",
              "├──────────────────────────────────────┼─────────────────────────────┼─────────────────┤\n",
              "│ dropout (<span style=\"color: #0087ff; text-decoration-color: #0087ff\">Dropout</span>)                    │ (<span style=\"color: #00d7ff; text-decoration-color: #00d7ff\">None</span>, <span style=\"color: #00af00; text-decoration-color: #00af00\">12</span>, <span style=\"color: #00af00; text-decoration-color: #00af00\">64</span>)              │               <span style=\"color: #00af00; text-decoration-color: #00af00\">0</span> │\n",
              "├──────────────────────────────────────┼─────────────────────────────┼─────────────────┤\n",
              "│ lstm_1 (<span style=\"color: #0087ff; text-decoration-color: #0087ff\">LSTM</span>)                        │ (<span style=\"color: #00d7ff; text-decoration-color: #00d7ff\">None</span>, <span style=\"color: #00af00; text-decoration-color: #00af00\">64</span>)                  │          <span style=\"color: #00af00; text-decoration-color: #00af00\">33,024</span> │\n",
              "├──────────────────────────────────────┼─────────────────────────────┼─────────────────┤\n",
              "│ dropout_1 (<span style=\"color: #0087ff; text-decoration-color: #0087ff\">Dropout</span>)                  │ (<span style=\"color: #00d7ff; text-decoration-color: #00d7ff\">None</span>, <span style=\"color: #00af00; text-decoration-color: #00af00\">64</span>)                  │               <span style=\"color: #00af00; text-decoration-color: #00af00\">0</span> │\n",
              "├──────────────────────────────────────┼─────────────────────────────┼─────────────────┤\n",
              "│ dense (<span style=\"color: #0087ff; text-decoration-color: #0087ff\">Dense</span>)                        │ (<span style=\"color: #00d7ff; text-decoration-color: #00d7ff\">None</span>, <span style=\"color: #00af00; text-decoration-color: #00af00\">1</span>)                   │              <span style=\"color: #00af00; text-decoration-color: #00af00\">65</span> │\n",
              "└──────────────────────────────────────┴─────────────────────────────┴─────────────────┘\n",
              "</pre>\n"
            ]
          },
          "metadata": {}
        },
        {
          "output_type": "display_data",
          "data": {
            "text/plain": [
              "\u001b[1m Total params: \u001b[0m\u001b[38;5;34m50,241\u001b[0m (196.25 KB)\n"
            ],
            "text/html": [
              "<pre style=\"white-space:pre;overflow-x:auto;line-height:normal;font-family:Menlo,'DejaVu Sans Mono',consolas,'Courier New',monospace\"><span style=\"font-weight: bold\"> Total params: </span><span style=\"color: #00af00; text-decoration-color: #00af00\">50,241</span> (196.25 KB)\n",
              "</pre>\n"
            ]
          },
          "metadata": {}
        },
        {
          "output_type": "display_data",
          "data": {
            "text/plain": [
              "\u001b[1m Trainable params: \u001b[0m\u001b[38;5;34m50,241\u001b[0m (196.25 KB)\n"
            ],
            "text/html": [
              "<pre style=\"white-space:pre;overflow-x:auto;line-height:normal;font-family:Menlo,'DejaVu Sans Mono',consolas,'Courier New',monospace\"><span style=\"font-weight: bold\"> Trainable params: </span><span style=\"color: #00af00; text-decoration-color: #00af00\">50,241</span> (196.25 KB)\n",
              "</pre>\n"
            ]
          },
          "metadata": {}
        },
        {
          "output_type": "display_data",
          "data": {
            "text/plain": [
              "\u001b[1m Non-trainable params: \u001b[0m\u001b[38;5;34m0\u001b[0m (0.00 B)\n"
            ],
            "text/html": [
              "<pre style=\"white-space:pre;overflow-x:auto;line-height:normal;font-family:Menlo,'DejaVu Sans Mono',consolas,'Courier New',monospace\"><span style=\"font-weight: bold\"> Non-trainable params: </span><span style=\"color: #00af00; text-decoration-color: #00af00\">0</span> (0.00 B)\n",
              "</pre>\n"
            ]
          },
          "metadata": {}
        }
      ]
    },
    {
      "cell_type": "code",
      "source": [
        "model, history, test_loss, test_accuracy = model_training(model, X_train, X_val, X_test, y_train, y_val, y_test, epochs, early_stopping, call_back, patience, batch_size)"
      ],
      "metadata": {
        "colab": {
          "base_uri": "https://localhost:8080/"
        },
        "id": "yRLU8McBQKdV",
        "outputId": "99c83f00-b5cd-423b-c322-bf7990b87c47"
      },
      "execution_count": null,
      "outputs": [
        {
          "output_type": "stream",
          "name": "stdout",
          "text": [
            "Treinando o modelo...\n",
            "Epoch 1/5\n",
            "\u001b[1m204/204\u001b[0m \u001b[32m━━━━━━━━━━━━━━━━━━━━\u001b[0m\u001b[37m\u001b[0m \u001b[1m8s\u001b[0m 23ms/step - accuracy: 0.5009 - loss: 0.6991 - val_accuracy: 0.4994 - val_loss: 0.6938\n",
            "Epoch 2/5\n",
            "\u001b[1m204/204\u001b[0m \u001b[32m━━━━━━━━━━━━━━━━━━━━\u001b[0m\u001b[37m\u001b[0m \u001b[1m5s\u001b[0m 24ms/step - accuracy: 0.5069 - loss: 0.6943 - val_accuracy: 0.4994 - val_loss: 0.6940\n",
            "Epoch 3/5\n",
            "\u001b[1m204/204\u001b[0m \u001b[32m━━━━━━━━━━━━━━━━━━━━\u001b[0m\u001b[37m\u001b[0m \u001b[1m4s\u001b[0m 19ms/step - accuracy: 0.4958 - loss: 0.6942 - val_accuracy: 0.4994 - val_loss: 0.6944\n",
            "\n",
            "Avaliação no conjunto de teste:\n",
            "\u001b[1m136/136\u001b[0m \u001b[32m━━━━━━━━━━━━━━━━━━━━\u001b[0m\u001b[37m\u001b[0m \u001b[1m1s\u001b[0m 5ms/step - accuracy: 0.5033 - loss: 0.6935\n"
          ]
        }
      ]
    },
    {
      "cell_type": "code",
      "source": [
        "graphics_analysis(history)"
      ],
      "metadata": {
        "colab": {
          "base_uri": "https://localhost:8080/",
          "height": 927
        },
        "id": "Dl7PDLgBtW66",
        "outputId": "8429fdbb-c5cd-440d-d3db-9fce5922cc30"
      },
      "execution_count": null,
      "outputs": [
        {
          "output_type": "display_data",
          "data": {
            "text/plain": [
              "<Figure size 640x480 with 1 Axes>"
            ],
            "image/png": "[encoded data removed]"
          },
          "metadata": {}
        },
        {
          "output_type": "display_data",
          "data": {
            "text/plain": [
              "<Figure size 640x480 with 1 Axes>"
            ],
            "image/png": "[encoded data removed]"
          },
          "metadata": {}
        }
      ]
    },
    {
      "cell_type": "code",
      "source": [
        "def create_file_name(symbol, max_period, start_date, end_date,\n",
        "                     timeframe, fisrt_marker, second_marker, third_marker,\n",
        "                     n_rows, sort, relative_first_marker, relative_second_marker,\n",
        "                     relative_third_marker, decimals, LSTM_boolean, epochs,\n",
        "                     early_stopping, call_back, patience, batch_size,\n",
        "                     test_loss, test_accuracy):\n",
        "\n",
        "    # Nome aproximado do arquivo\n",
        "    nome_aproximado = 's=' + symbol + '+' + 'mp=' + str(max_period) + '+' + 'sd=' + \\\n",
        "    start_date + '+' + 'ed=' + end_date + '+' + 'tf=' + timeframe + '+' + \\\n",
        "    'fm=' + fisrt_marker + '+' + 'sm=' + second_marker + '+' + \\\n",
        "    'tm=' + third_marker + '+' + 'r=' + str(n_rows) + '+' + \\\n",
        "    'sort=' + str(sort) + '+' + 'rfm=' + str(relative_first_marker) + '+' + \\\n",
        "    'rsm=' + str(relative_second_marker) + '+' + \\\n",
        "    'rtm=' + str(relative_third_marker) + '+' + \\\n",
        "    'd=' + decimals + '+' + 'Lb=' + str(LSTM_boolean) + '+' + 'e=' + str(epochs) + '+' + \\\n",
        "    'es=' + str(early_stopping) + '+' + 'cb=' + call_back + '+' + \\\n",
        "    'p=' + str(patience) + '+' + 'bs=' + str(batch_size) + '+' + \\\n",
        "    'tl=' + str(test_loss) + '+' + 'ta=' + str(test_accuracy)\n",
        "\n",
        "    return nome_aproximado"
      ],
      "metadata": {
        "id": "yJpHTFerYIzx"
      },
      "execution_count": null,
      "outputs": []
    },
    {
      "cell_type": "code",
      "source": [
        "from google.colab import drive\n",
        "import os\n",
        "\n",
        "# Montar o Google Drive\n",
        "drive.mount('/content/drive')\n",
        "print()\n",
        "\n",
        "# Defina o caminho do diretório no Google Drive\n",
        "caminho_para_salvar = '/content/drive/MyDrive/AI Financial Analisys/Summer Project/Neural Network/Models'\n",
        "\n",
        "# Verifique se o diretório existe, caso contrário, crie-o\n",
        "if not os.path.exists(caminho_para_salvar):\n",
        "    print(f\"O dirétório {caminho_para_salvar} não existe.\")\n",
        "\n",
        "model_name = create_file_name(symbol, max_period, start_date, end_date,\n",
        "                     timeframe, fisrt_marker, second_marker, third_marker,\n",
        "                     n_rows, sort, relative_first_marker, relative_second_marker,\n",
        "                     relative_third_marker, decimals, LSTM_boolean, epochs,\n",
        "                     early_stopping, call_back, patience, batch_size,\n",
        "                     test_loss, test_accuracy)\n",
        "\n",
        "caminho_completo = os.path.join(caminho_para_salvar, model_name + '.keras')\n",
        "\n",
        "# Salva o modelo em formato\n",
        "model.save(caminho_completo)\n",
        "\n",
        "print(\"Ficheiro do Modelo:\")\n",
        "print(model_name + '.keras')\n",
        "print()\n",
        "print(\"Modelo salvo em:\")\n",
        "print(caminho_para_salvar)"
      ],
      "metadata": {
        "colab": {
          "base_uri": "https://localhost:8080/"
        },
        "id": "ukvgCcVq2KhG",
        "outputId": "3fa659f1-5230-4316-f1c8-ccc0347210a8"
      },
      "execution_count": null,
      "outputs": [
        {
          "output_type": "stream",
          "name": "stdout",
          "text": [
            "Mounted at /content/drive\n",
            "\n",
            "Ficheiro do Modelo:\n",
            "s=AAPL+mp=True+sd=2022-10-31+ed=2023-12-31+tf=1Min+fm=volume+sm=vwap+tm=+r=12+sort=True+rfm=True+rsm=False+rtm=False+d=+Lb=True+e=5+es=True+cb=val_accuracy+p=2+bs=64+tl=0.6930793523788452+ta=0.5094557404518127.keras\n",
            "\n",
            "Modelo salvo em:\n",
            "/content/drive/MyDrive/AI Financial Analisys/Summer Project/Neural Network/Models\n"
          ]
        }
      ]
    }
  ]
}