{
  "nbformat": 4,
  "nbformat_minor": 0,
  "metadata": {
    "colab": {
      "provenance": [],
      "include_colab_link": true
    },
    "kernelspec": {
      "name": "python3",
      "display_name": "Python 3"
    },
    "language_info": {
      "name": "python"
    }
  },
  "cells": [
    {
      "cell_type": "markdown",
      "metadata": {
        "id": "view-in-github",
        "colab_type": "text"
      },
      "source": [
        "<a href=\"https://colab.research.google.com/github/guilhermegranchopro/Prometheus/blob/main/Prometheus/Alpaca/Alpaca3_0.ipynb\" target=\"_parent\"><img src=\"https://colab.research.google.com/assets/colab-badge.svg\" alt=\"Open In Colab\"/></a>"
      ]
    },
    {
      "cell_type": "code",
      "source": [
        "pip install alpaca-trade-api"
      ],
      "metadata": {
        "colab": {
          "base_uri": "https://localhost:8080/"
        },
        "id": "VXOskRT-coC_",
        "outputId": "16111f27-ef41-4ac0-c65c-bcf88c1733a2"
      },
      "execution_count": null,
      "outputs": [
        {
          "output_type": "stream",
          "name": "stdout",
          "text": [
            "Requirement already satisfied: alpaca-trade-api in /usr/local/lib/python3.10/dist-packages (3.2.0)\n",
            "Requirement already satisfied: pandas>=0.18.1 in /usr/local/lib/python3.10/dist-packages (from alpaca-trade-api) (2.1.4)\n",
            "Requirement already satisfied: numpy>=1.11.1 in /usr/local/lib/python3.10/dist-packages (from alpaca-trade-api) (1.26.4)\n",
            "Requirement already satisfied: requests<3,>2 in /usr/local/lib/python3.10/dist-packages (from alpaca-trade-api) (2.32.3)\n",
            "Requirement already satisfied: urllib3<2,>1.24 in /usr/local/lib/python3.10/dist-packages (from alpaca-trade-api) (1.26.20)\n",
            "Requirement already satisfied: websocket-client<2,>=0.56.0 in /usr/local/lib/python3.10/dist-packages (from alpaca-trade-api) (1.8.0)\n",
            "Requirement already satisfied: websockets<11,>=9.0 in /usr/local/lib/python3.10/dist-packages (from alpaca-trade-api) (10.4)\n",
            "Requirement already satisfied: msgpack==1.0.3 in /usr/local/lib/python3.10/dist-packages (from alpaca-trade-api) (1.0.3)\n",
            "Requirement already satisfied: aiohttp<4,>=3.8.3 in /usr/local/lib/python3.10/dist-packages (from alpaca-trade-api) (3.10.5)\n",
            "Requirement already satisfied: PyYAML==6.0.1 in /usr/local/lib/python3.10/dist-packages (from alpaca-trade-api) (6.0.1)\n",
            "Requirement already satisfied: deprecation==2.1.0 in /usr/local/lib/python3.10/dist-packages (from alpaca-trade-api) (2.1.0)\n",
            "Requirement already satisfied: packaging in /usr/local/lib/python3.10/dist-packages (from deprecation==2.1.0->alpaca-trade-api) (24.1)\n",
            "Requirement already satisfied: aiohappyeyeballs>=2.3.0 in /usr/local/lib/python3.10/dist-packages (from aiohttp<4,>=3.8.3->alpaca-trade-api) (2.4.0)\n",
            "Requirement already satisfied: aiosignal>=1.1.2 in /usr/local/lib/python3.10/dist-packages (from aiohttp<4,>=3.8.3->alpaca-trade-api) (1.3.1)\n",
            "Requirement already satisfied: attrs>=17.3.0 in /usr/local/lib/python3.10/dist-packages (from aiohttp<4,>=3.8.3->alpaca-trade-api) (24.2.0)\n",
            "Requirement already satisfied: frozenlist>=1.1.1 in /usr/local/lib/python3.10/dist-packages (from aiohttp<4,>=3.8.3->alpaca-trade-api) (1.4.1)\n",
            "Requirement already satisfied: multidict<7.0,>=4.5 in /usr/local/lib/python3.10/dist-packages (from aiohttp<4,>=3.8.3->alpaca-trade-api) (6.0.5)\n",
            "Requirement already satisfied: yarl<2.0,>=1.0 in /usr/local/lib/python3.10/dist-packages (from aiohttp<4,>=3.8.3->alpaca-trade-api) (1.11.1)\n",
            "Requirement already satisfied: async-timeout<5.0,>=4.0 in /usr/local/lib/python3.10/dist-packages (from aiohttp<4,>=3.8.3->alpaca-trade-api) (4.0.3)\n",
            "Requirement already satisfied: python-dateutil>=2.8.2 in /usr/local/lib/python3.10/dist-packages (from pandas>=0.18.1->alpaca-trade-api) (2.8.2)\n",
            "Requirement already satisfied: pytz>=2020.1 in /usr/local/lib/python3.10/dist-packages (from pandas>=0.18.1->alpaca-trade-api) (2024.1)\n",
            "Requirement already satisfied: tzdata>=2022.1 in /usr/local/lib/python3.10/dist-packages (from pandas>=0.18.1->alpaca-trade-api) (2024.1)\n",
            "Requirement already satisfied: charset-normalizer<4,>=2 in /usr/local/lib/python3.10/dist-packages (from requests<3,>2->alpaca-trade-api) (3.3.2)\n",
            "Requirement already satisfied: idna<4,>=2.5 in /usr/local/lib/python3.10/dist-packages (from requests<3,>2->alpaca-trade-api) (3.8)\n",
            "Requirement already satisfied: certifi>=2017.4.17 in /usr/local/lib/python3.10/dist-packages (from requests<3,>2->alpaca-trade-api) (2024.8.30)\n",
            "Requirement already satisfied: six>=1.5 in /usr/local/lib/python3.10/dist-packages (from python-dateutil>=2.8.2->pandas>=0.18.1->alpaca-trade-api) (1.16.0)\n"
          ]
        }
      ]
    },
    {
      "cell_type": "code",
      "source": [
        "import yfinance as yf\n",
        "\n",
        "# Defina o símbolo da empresa\n",
        "ticker_symbol = 'AAPL'  # Exemplo com Apple\n",
        "\n",
        "# Obtenha os dados históricos\n",
        "ticker_data = yf.Ticker(ticker_symbol)\n",
        "historical_data = ticker_data.history(period='max')\n",
        "\n",
        "# Obtenha a data da primeira cotação\n",
        "first_trading_date = historical_data.index[0]\n",
        "print(f\"A empresa {ticker_symbol} começou a ser cotada na bolsa em:\", first_trading_date.strftime(\"%Y-%m-%d\"))\n",
        "\n",
        "def get_start_date(symbol):\n",
        "    ticker_data = yf.Ticker(symbol)\n",
        "    historical_data = ticker_data.history(period='max')\n",
        "    first_trading_date = historical_data.index[0]\n",
        "    return first_trading_date"
      ],
      "metadata": {
        "colab": {
          "base_uri": "https://localhost:8080/"
        },
        "id": "2NibJeBQn8Jz",
        "outputId": "731c793e-ff67-4c07-e6e8-f4ccb456c875"
      },
      "execution_count": null,
      "outputs": [
        {
          "output_type": "stream",
          "name": "stdout",
          "text": [
            "A empresa AAPL começou a ser cotada na bolsa em: 1980-12-12\n"
          ]
        }
      ]
    },
    {
      "cell_type": "code",
      "source": [
        "import pandas as pd\n",
        "from datetime import datetime, timedelta, timezone\n",
        "\n",
        "# Obter a data e hora atuais\n",
        "current_date_time = datetime.now()\n",
        "\n",
        "# Formatar a data como string\n",
        "current_date = current_date_time.strftime(\"%Y-%m-%d\")\n",
        "print(f\"Hoje é: {current_date}\")\n",
        "\n",
        "def get_end_date(symbol):\n",
        "    # Obter a data e hora atuais\n",
        "    current_date_time = datetime.now()\n",
        "    # Make start timezone aware\n",
        "    current_date_time = current_date_time.replace(tzinfo=timezone.utc)\n",
        "    return current_date_time"
      ],
      "metadata": {
        "colab": {
          "base_uri": "https://localhost:8080/"
        },
        "id": "P-FBJmdfoKD8",
        "outputId": "759552ed-653f-4538-9010-2f719b3493de"
      },
      "execution_count": null,
      "outputs": [
        {
          "output_type": "stream",
          "name": "stdout",
          "text": [
            "Hoje é: 2024-09-12\n"
          ]
        }
      ]
    },
    {
      "cell_type": "code",
      "execution_count": null,
      "metadata": {
        "id": "eTHSAnj2VD7q"
      },
      "outputs": [],
      "source": [
        "import alpaca_trade_api as tradeapi\n",
        "import pandas as pd\n",
        "import time\n",
        "from datetime import datetime, timedelta\n",
        "\n",
        "def alpaca_autentification():\n",
        "    # Replace with your Alpaca API credentials\n",
        "    API_KEY = 'AK1RX6F8W6QX207XPLDF'\n",
        "    SECRET_KEY = 'WaPoTTxkQBGzC51LajCdyw8Pl6svbINa9eDu9TMK'\n",
        "    BASE_URL = 'https://api.alpaca.markets'  # Use 'https://api.alpaca.markets' for live trading\n",
        "\n",
        "    # Initialize the Alpaca API\n",
        "    api = tradeapi.REST(API_KEY, SECRET_KEY, BASE_URL, api_version='v2')\n",
        "\n",
        "    return api\n",
        "\n",
        "# Function to fetch data in chunks to avoid rate limits\n",
        "def fetch_data(symbol, start, end, timeframe, api):\n",
        "    all_data = []\n",
        "    current_start = start\n",
        "\n",
        "    while current_start < end:\n",
        "        current_end = current_start + timedelta(days=7)\n",
        "        if current_end > end:\n",
        "            current_end = end\n",
        "\n",
        "        # Fetch the historical data\n",
        "        bars = api.get_bars(\n",
        "            symbol,\n",
        "            timeframe,\n",
        "            start=current_start.strftime('%Y-%m-%d'),\n",
        "            end=current_end.strftime('%Y-%m-%d')\n",
        "        ).df\n",
        "\n",
        "        all_data.append(bars)\n",
        "        current_start = current_end\n",
        "        time.sleep(1)  # Adjust sleep interval based on rate limits\n",
        "\n",
        "    return pd.concat(all_data)"
      ]
    },
    {
      "cell_type": "code",
      "source": [
        "pip install python-Levenshtein"
      ],
      "metadata": {
        "colab": {
          "base_uri": "https://localhost:8080/"
        },
        "id": "E1KpLbgPBeZw",
        "outputId": "16c73f4b-df93-47ca-8e45-b7e51234ca38"
      },
      "execution_count": null,
      "outputs": [
        {
          "output_type": "stream",
          "name": "stdout",
          "text": [
            "Requirement already satisfied: python-Levenshtein in /usr/local/lib/python3.10/dist-packages (0.25.1)\n",
            "Requirement already satisfied: Levenshtein==0.25.1 in /usr/local/lib/python3.10/dist-packages (from python-Levenshtein) (0.25.1)\n",
            "Requirement already satisfied: rapidfuzz<4.0.0,>=3.8.0 in /usr/local/lib/python3.10/dist-packages (from Levenshtein==0.25.1->python-Levenshtein) (3.9.7)\n"
          ]
        }
      ]
    },
    {
      "cell_type": "code",
      "source": [
        "pip install fuzzywuzzy"
      ],
      "metadata": {
        "colab": {
          "base_uri": "https://localhost:8080/"
        },
        "id": "OhwnmPwyBLn8",
        "outputId": "992936ed-5a11-4cb9-a977-2ab8410f8b50"
      },
      "execution_count": null,
      "outputs": [
        {
          "output_type": "stream",
          "name": "stdout",
          "text": [
            "Requirement already satisfied: fuzzywuzzy in /usr/local/lib/python3.10/dist-packages (0.18.0)\n"
          ]
        }
      ]
    },
    {
      "cell_type": "code",
      "source": [
        "from google.colab import drive\n",
        "\n",
        "drive.mount('/content/drive')"
      ],
      "metadata": {
        "id": "fvmqaTcxDCBb",
        "colab": {
          "base_uri": "https://localhost:8080/"
        },
        "outputId": "ca1b673c-db8b-4935-99a5-87f5e8203d37"
      },
      "execution_count": null,
      "outputs": [
        {
          "output_type": "stream",
          "name": "stdout",
          "text": [
            "Drive already mounted at /content/drive; to attempt to forcibly remount, call drive.mount(\"/content/drive\", force_remount=True).\n"
          ]
        }
      ]
    },
    {
      "cell_type": "code",
      "source": [
        "def create_file_name(symbol, max_period, start_date, end_date,\n",
        "                     timeframe, fisrt_marker, second_marker, third_marker,\n",
        "                     n_rows, sort, relative_first_marker, relative_second_marker,\n",
        "                     relative_third_marker, decimals, LSTM_boolean, epochs,\n",
        "                     early_stopping, call_back, patience, batch_size,\n",
        "                     test_loss, test_accuracy, model_file):\n",
        "\n",
        "    # Nome aproximado do arquivo\n",
        "    if model_file == True:\n",
        "        nome_aproximado = 's=' + symbol + '+' + 'mp=' + str(max_period) + '+' + 'sd=' + \\\n",
        "        start_date + '+' + 'ed=' + end_date + '+' + 'tf=' + timeframe + '+' + \\\n",
        "        'fm=' + fisrt_marker + '+' + 'sm=' + second_marker + '+' + \\\n",
        "        'tm=' + third_marker + '+' + 'r=' + str(n_rows) + '+' + \\\n",
        "        'sort=' + str(sort) + '+' + 'rfm=' + str(relative_first_marker) + '+' + \\\n",
        "        'rsm=' + str(relative_second_marker) + '+' + \\\n",
        "        'rtm=' + str(relative_third_marker) + '+' + \\\n",
        "        'd=' + decimals + '+' + 'Lb=' + str(LSTM_boolean) + '+' + 'e=' + str(epochs) + '+' + \\\n",
        "        'es=' + str(early_stopping) + '+' + 'cb=' + call_back + '+' + \\\n",
        "        'p=' + str(patience) + '+' + 'bs=' + str(batch_size) + '+' + \\\n",
        "        'tl=' + str(test_loss) + '+' + 'ta=' + str(test_accuracy) + '.keras'\n",
        "    else:\n",
        "        nome_aproximado = 's=' + symbol + '+' + 'mp=' + str(max_period) + '+' + 'sd=' + \\\n",
        "        start_date + '+' + 'ed=' + end_date + '+' + 'tf=' + timeframe + '.csv'\n",
        "\n",
        "    return nome_aproximado"
      ],
      "metadata": {
        "id": "yJpHTFerYIzx"
      },
      "execution_count": null,
      "outputs": []
    },
    {
      "cell_type": "code",
      "source": [
        "import os\n",
        "from fuzzywuzzy import process\n",
        "\n",
        "def old_dataset_function(symbol, max_period, start_date, end_date,\n",
        "                timeframe, fisrt_marker, second_marker, third_marker,\n",
        "                n_rows, sort, relative_first_marker, relative_second_marker,\n",
        "                relative_third_marker, decimals, LSTM_boolean, epochs,\n",
        "                early_stopping, call_back, patience, batch_size,\n",
        "                test_loss, test_accuracy, model_file):\n",
        "\n",
        "    # Defina o caminho do diretório no Google Drive\n",
        "    diretorio = '/content/drive/MyDrive/AI Financial Analisys/Summer Project/Dataset/Raw Data'\n",
        "\n",
        "    # Nome aproximado do arquivo\n",
        "    nome_aproximado = create_file_name(symbol, max_period, start_date, end_date,\n",
        "                                      timeframe, fisrt_marker, second_marker, third_marker,\n",
        "                                      n_rows, sort, relative_first_marker, relative_second_marker,\n",
        "                                      relative_third_marker, decimals, LSTM_boolean, epochs,\n",
        "                                      early_stopping, call_back, patience, batch_size,\n",
        "                                      test_loss, test_accuracy, model_file)\n",
        "\n",
        "    # Lista todos os arquivos no diretório\n",
        "    arquivos = os.listdir(diretorio)\n",
        "\n",
        "    # Encontra o arquivo mais próximo\n",
        "    if process.extractOne(nome_aproximado, arquivos):\n",
        "        arquivo_mais_proximo, pontuacao = process.extractOne(nome_aproximado, arquivos)\n",
        "    else:\n",
        "        arquivo_mais_proximo = None\n",
        "        pontuacao = None\n",
        "\n",
        "    if arquivo_mais_proximo and pontuacao==100:\n",
        "        caminho_do_modelo = os.path.join(diretorio, arquivo_mais_proximo)\n",
        "        print(\"Nome do arquivo mais próximo:\")\n",
        "        print(arquivo_mais_proximo)\n",
        "        print()\n",
        "        print(\"Caminho completo do modelo:\")\n",
        "        print(caminho_do_modelo)\n",
        "        print()\n",
        "        print(\"Pontuação de similaridade:\")\n",
        "        print(pontuacao)\n",
        "        old_dataset = True\n",
        "    else:\n",
        "        print(\"Nenhum arquivo próximo encontrado.\")\n",
        "        caminho_do_modelo = ''\n",
        "        old_dataset = False\n",
        "\n",
        "    return old_dataset, caminho_do_modelo"
      ],
      "metadata": {
        "id": "H1aTgw85yU4x"
      },
      "execution_count": null,
      "outputs": []
    },
    {
      "cell_type": "code",
      "source": [
        "def get_all_data(symbol = 'AAPL', max_period = True, start_date = '', end_date= '', timeframe = '1Min'):\n",
        "    api = alpaca_autentification()\n",
        "\n",
        "    if max_period and start_date == '' and end_date == '':\n",
        "        start_date = get_start_date(symbol)\n",
        "        end_date = get_end_date(symbol)\n",
        "    elif start_date != '' and end_date != '':\n",
        "        start_date = datetime.strptime(start_date, '%Y-%m-%d')\n",
        "        end_date = datetime.strptime(end_date, '%Y-%m-%d')\n",
        "    else:\n",
        "        start_date = datetime(2022, 12, 31)\n",
        "        end_date = datetime(2023, 12, 31)\n",
        "\n",
        "    # Fetch the historical data\n",
        "    apple_data = fetch_data(symbol, start_date, end_date, timeframe, api)\n",
        "    return apple_data"
      ],
      "metadata": {
        "id": "hj2WI5PG1nTV"
      },
      "execution_count": null,
      "outputs": []
    },
    {
      "cell_type": "code",
      "source": [
        "# Function to prepare the data\n",
        "def prepare_data(data, fisrt_marker, second_marker, third_marker):\n",
        "    # Selecionar colunas relevantes e fazer uma cópia para evitar advertências\n",
        "    data_selected = data[['close', 'high', 'low', 'trade_count', 'open', 'volume', 'vwap']].copy()\n",
        "\n",
        "    # Calcular a média entre 'Open' e 'Close' usando .loc para evitar o SettingWithCopyWarning\n",
        "    data_selected.loc[:, 'average_oc'] = data_selected[['open', 'close']].mean(axis=1)\n",
        "\n",
        "    # Calcular a média entre 'High' e 'Low' usando .loc para evitar o SettingWithCopyWarning\n",
        "    data_selected.loc[:, 'average_hl'] = data_selected[['high', 'low']].mean(axis=1)\n",
        "\n",
        "    # Selecionar as colunas finais\n",
        "    if third_marker != '':\n",
        "        data_final = data_selected[[fisrt_marker, second_marker, third_marker]]\n",
        "    else:\n",
        "        data_final = data_selected[[fisrt_marker, second_marker]]\n",
        "\n",
        "    return data_final"
      ],
      "metadata": {
        "id": "1ktLcRlNC-s4"
      },
      "execution_count": null,
      "outputs": []
    },
    {
      "cell_type": "code",
      "source": [
        "import numpy as np\n",
        "\n",
        "# Função para criar as matrizes e os labels\n",
        "def create_matrices(data_final, n = 12, fisrt_marker = 'volume', second_marker = 'vwap', third_marker = '', relative_fisrt_marker = True, relative_second_marker = False, relative_third_marker = False):\n",
        "    num_rows = data_final.shape[0]\n",
        "    num_matrices = num_rows // n  # Número de matrizes completas que podemos formar\n",
        "\n",
        "    matrices = []\n",
        "    matrices_y = []\n",
        "\n",
        "    for i in range(num_matrices):\n",
        "        start_idx = i * n\n",
        "        end_idx = start_idx + n\n",
        "        matrix = data_final.iloc[start_idx:end_idx].copy()\n",
        "\n",
        "        if relative_fisrt_marker:\n",
        "            # Calcular a soma da coluna de volume\n",
        "            volume_sum = matrix[fisrt_marker].sum()\n",
        "\n",
        "            # Tornar a coluna do volume relativa\n",
        "            matrix[fisrt_marker] = matrix[fisrt_marker] / volume_sum\n",
        "\n",
        "            # Converter para valores numpy e adicionar à lista de matrizes\n",
        "            matrices.append(matrix.values)\n",
        "\n",
        "        if relative_second_marker:\n",
        "            # Calcular a soma da coluna de volume\n",
        "            volume_sum = matrix[second_marker].sum()\n",
        "\n",
        "            # Tornar a coluna do volume relativa\n",
        "            matrix[second_marker] = matrix[second_marker] / volume_sum\n",
        "\n",
        "            # Converter para valores numpy e adicionar à lista de matrizes\n",
        "            matrices.append(matrix.values)\n",
        "\n",
        "        if relative_third_marker:\n",
        "            # Calcular a soma da coluna de volume\n",
        "            volume_sum = matrix[third_marker].sum()\n",
        "\n",
        "            # Tornar a coluna do volume relativa\n",
        "            matrix[third_marker] = matrix[third_marker] / volume_sum\n",
        "\n",
        "            # Converter para valores numpy e adicionar à lista de matrizes\n",
        "            matrices.append(matrix.values)\n",
        "\n",
        "        # Criar labels\n",
        "        if i > 0:  # Ignorar a primeira matriz para alinhamento correto\n",
        "            first_value = matrices[i][0, 1]\n",
        "            last_value = matrices[i][n-1, 1]\n",
        "            delta = last_value - first_value\n",
        "            delta_bi = 1 if delta >= 0 else 0\n",
        "            matrices_y.append(delta_bi)\n",
        "\n",
        "    return matrices, matrices_y\n",
        "\n",
        "def sort_matrices(matrices):\n",
        "    # Ordenar as linhas de cada matriz por ordem decrescente da coluna Average (segunda coluna)\n",
        "    matrices_x = []\n",
        "    for matrix in matrices:\n",
        "        sorted_indices = np.argsort(matrix[:, 1])[::-1]\n",
        "        sorted_matrix = matrix[sorted_indices]\n",
        "        matrices_x.append(sorted_matrix)\n",
        "    return matrices_x\n",
        "\n",
        "def tensor_creator(matrices_x, matrices_y):\n",
        "    # Converter listas para arrays numpy\n",
        "    matrices_x = np.array(matrices_x)\n",
        "    matrices_y = np.array(matrices_y)\n",
        "    return matrices_x, matrices_y"
      ],
      "metadata": {
        "id": "8t2H56cVKuTT"
      },
      "execution_count": null,
      "outputs": []
    },
    {
      "cell_type": "code",
      "source": [
        "def get_dataset(company_data, n_rows, sort = True, fisrt_marker = 'volume', second_marker = 'vwap' ,\n",
        "                third_marker = '', relative_fisrt_marker = True, relative_second_marker = False,\n",
        "                relative_third_marker = False, decimals = ''):\n",
        "    matrices_x = []\n",
        "    matrices_y = []\n",
        "\n",
        "    matrices_x, matrices_y = create_matrices(company_data, n_rows, fisrt_marker, second_marker, third_marker, relative_fisrt_marker, relative_second_marker, relative_third_marker)\n",
        "\n",
        "    if sort:\n",
        "        matrices_x = sort_matrices(matrices_x)\n",
        "\n",
        "    # Remover a última matriz de matrices_x para alinhamento com matrices_y\n",
        "    if matrices_x:\n",
        "        matrices_x.pop()\n",
        "\n",
        "    matrices_x, matrices_y = tensor_creator(matrices_x, matrices_y)\n",
        "\n",
        "    if decimals != '':\n",
        "        matrices_x = np.round(matrices_x, decimals = decimals)\n",
        "    return matrices_x, matrices_y"
      ],
      "metadata": {
        "id": "IqP4yd62jdV4"
      },
      "execution_count": null,
      "outputs": []
    },
    {
      "cell_type": "code",
      "source": [
        "from sklearn.model_selection import train_test_split\n",
        "\n",
        "def split_dataset(matrices_x, matrices_y, LSTM = True):\n",
        "\n",
        "    if LSTM:\n",
        "        # Total de amostras\n",
        "        n_samples = matrices_x.shape[0]\n",
        "\n",
        "        # Índices para divisão\n",
        "        train_size = int(0.6 * n_samples)  # 60% para treino\n",
        "        val_size = int(0.2 * n_samples)    # 20% para validação\n",
        "        test_size = n_samples - train_size - val_size  # 20% para teste\n",
        "\n",
        "        # Dividir os dados sequencialmente\n",
        "        X_train = matrices_x[:train_size]\n",
        "        y_train = matrices_y[:train_size]\n",
        "\n",
        "        X_val = matrices_x[train_size:train_size + val_size]\n",
        "        y_val = matrices_y[train_size:train_size + val_size]\n",
        "\n",
        "        X_test = matrices_x[train_size + val_size:]\n",
        "        y_test = matrices_y[train_size + val_size:]\n",
        "    else:\n",
        "        # Dividir os dados em conjuntos de treinamento + validação e teste\n",
        "        X_train_val, X_test, y_train_val, y_test = train_test_split(matrices_x, matrices_y, test_size=0.2, random_state=42)\n",
        "\n",
        "        # Dividir o conjunto de treinamento + validação em treinamento e validação\n",
        "        X_train, X_val, y_train, y_val = train_test_split(X_train_val, y_train_val, test_size=0.25, random_state=42)  # 0.25 * 0.8 = 0.2\n",
        "\n",
        "    return X_train, X_val, X_test, y_train, y_val, y_test\n"
      ],
      "metadata": {
        "id": "uAksoOB0q-_H"
      },
      "execution_count": null,
      "outputs": []
    },
    {
      "cell_type": "code",
      "source": [
        "import tensorflow as tf\n",
        "from tensorflow.keras.models import Sequential\n",
        "from tensorflow.keras.layers import Dense, Flatten, LSTM, Dropout, BatchNormalization\n",
        "from tensorflow.keras.optimizers import Adam\n",
        "from tensorflow.keras.callbacks import EarlyStopping\n",
        "import warnings\n",
        "\n",
        "# Função para construir a rede neural\n",
        "def build_model(input_shape, LSTM_boolean=True):\n",
        "    warnings.filterwarnings('ignore', category=UserWarning, module='keras')\n",
        "    model = Sequential()\n",
        "\n",
        "    if LSTM_boolean:\n",
        "        model.add(LSTM(64, input_shape=input_shape, return_sequences=True))\n",
        "        model.add(Dropout(0.2))\n",
        "        model.add(LSTM(64, return_sequences=False))\n",
        "        model.add(Dropout(0.2))\n",
        "    else:\n",
        "        model.add(Flatten(input_shape=input_shape))\n",
        "        model.add(Dense(64, activation='relu'))\n",
        "        model.add(BatchNormalization())\n",
        "        model.add(Dropout(0.5))\n",
        "        model.add(Dense(64, activation='relu'))\n",
        "        model.add(BatchNormalization())\n",
        "        model.add(Dropout(0.5))\n",
        "\n",
        "    model.add(Dense(1, activation='sigmoid'))\n",
        "\n",
        "    # Compilando o modelo com uma taxa de aprendizado ajustada\n",
        "    optimizer = Adam(learning_rate=0.001)\n",
        "    model.compile(optimizer=optimizer, loss='binary_crossentropy', metrics=['accuracy'])\n",
        "\n",
        "    model.summary()\n",
        "\n",
        "    return model"
      ],
      "metadata": {
        "id": "VkdihWussdhK"
      },
      "execution_count": null,
      "outputs": []
    },
    {
      "cell_type": "code",
      "source": [
        "def model_training(model, X_train, X_val, X_test, y_train, y_val, y_test, epochs=5, early_stopping = True, call_back = 'val_accuracy', patience = 2, batch_size=32):\n",
        "\n",
        "    # Treinar o modelo\n",
        "    print(\"Treinando o modelo...\")\n",
        "\n",
        "    if early_stopping:\n",
        "        early_stopping = EarlyStopping(monitor=call_back, patience=patience, restore_best_weights=True)\n",
        "        history = model.fit(X_train, y_train, epochs = epochs, batch_size = batch_size, validation_data=(X_val, y_val), callbacks=[early_stopping])\n",
        "    else:\n",
        "        history = model.fit(X_train, y_train, epochs = epochs, batch_size = batch_size, validation_data=(X_val, y_val))\n",
        "\n",
        "    print()\n",
        "\n",
        "    # Avaliar o modelo nos dados de teste\n",
        "    print(\"Avaliação no conjunto de teste:\")\n",
        "    test_loss, test_accuracy = model.evaluate(X_test, y_test)\n",
        "\n",
        "    return model, history, test_loss, test_accuracy"
      ],
      "metadata": {
        "id": "Fo-yl-ysvUC-"
      },
      "execution_count": null,
      "outputs": []
    },
    {
      "cell_type": "code",
      "source": [
        "# Plotar a precisão e a perda ao longo das épocas\n",
        "import matplotlib.pyplot as plt\n",
        "\n",
        "def graphics_analysis(history):\n",
        "\n",
        "    # Precisão\n",
        "    plt.plot(history.history['accuracy'], label='Training Accuracy')\n",
        "    plt.plot(history.history['val_accuracy'], label='Validation Accuracy')\n",
        "    plt.title('Model Accuracy')\n",
        "    plt.xlabel('Epoch')\n",
        "    plt.ylabel('Accuracy')\n",
        "    plt.legend()\n",
        "    plt.show()\n",
        "\n",
        "    # Perda\n",
        "    plt.plot(history.history['loss'], label='Training Loss')\n",
        "    plt.plot(history.history['val_loss'], label='Validation Loss')\n",
        "    plt.title('Model Loss')\n",
        "    plt.xlabel('Epoch')\n",
        "    plt.ylabel('Loss')\n",
        "    plt.legend()\n",
        "    plt.show()"
      ],
      "metadata": {
        "id": "42-pWp7Gvz9F"
      },
      "execution_count": null,
      "outputs": []
    },
    {
      "cell_type": "markdown",
      "source": [
        "As primeiras possibilidades de cada variável são aquelas as quais inicialmnete pensas-te que faziam mais sentido:\n",
        "\n",
        "* symbol = 'AAPL', (retira do ficheito execel, tens o código que extrai)\n",
        "* max_period = True, (podes ter erros por excesso de pedidos do API)\n",
        "* start_date = '', '2022-10-31', (1 ano funciona bem para test runs)\n",
        "* end_date = '', '2023-10-31', (1 ano funciona bem para test runs)\n",
        "* timeframe = '1Min', '5Min', (mais de 5Min parece perder sentido a teoria)\n",
        "* fisrt_marker = 'volume', 'close', 'high', 'low', 'trade_count', 'open', 'vwap', 'average_oc', 'average_hl', (a ideia inicial é ver o volume relativo, mas pode ser interessante estudar o trade_count)\n",
        "* second_marker = 'vwap', 'volume', 'close', 'high', 'low', 'trade_count', 'open', 'average_oc', 'average_hl', (a ideia inicial era ver a média entre o high e o low - 'average_hl', mas fica na duvida ver a média entre o open e o close - 'average_oc', pode também ser muito interessante investigar o vwap)\n",
        "* third_marker = '', 'volume', 'close', 'high', 'low', 'trade_count', 'open', 'vwap', 'average_oc', 'average_hl', (não pensas te em usar uma terceira coluna para criar as matrizes, mas se os resultados impiricos assim o provarem usa)\n",
        "* n_rows = 12, 10, 15, 30, 5, (pensa no timeframe quando fazes isso, o 12 pareceu ser o melhor em testes impiricos)\n",
        "* sort = True, (tens de pensar na sequencia temporal se faz sentido manter ou não)\n",
        "* relative_first_marker = True, (tens de pensar em que marker correspondente estás a usar, pensa se matemáticamente faz sentido ou não colocares o marcador com valores relativos para todo o tensor, faltam te dados impiricos, o volume pensas te inicialmnete deixar em impirico para o tensor para normalizares os tensores)\n",
        "* relative_second_marker = False, (tens de pensar em que marker correspondente estás a usar, pensa se matemáticamente faz sentido ou não colocares o marcador com valores relativos para todo o tensor, faltam te dados impiricos)\n",
        "* relative_third_marker = False, (tens de pensar em que marker correspondente estás a usar, pensa se matemáticamente faz sentido ou não colocares o marcador com valores relativos para todo o tensor, faltam te dados impiricos)\n",
        "* decimals = '', 3, 4 (tens de ver o que os dados impiricos te dizem se com arrendondamentos facilitas ou n a vida do AI)\n",
        "* LSTM_boolean = True, (em caso de falso não usas um LSTM e partes do precipio que a relação causal deixa de ser importante para a cosntrução do tensor, quando normalizas os dados a esperança seria de não teres de usar um LSTM)\n",
        "* epochs = 5, (este numero tende a ser irrelevante porque tens um checkpoint de callback referente ao melhor resultado de validation accuracy)\n",
        "* early_stopping = True, (podes ligar ou desligar de forma automática o early_stopping, ou seja, o call back aqui)\n",
        "* call_back = 'val_accuracy', 'val_loss', 'accuracy', 'loss' (escolhes o paramtero que monitora o call back)\n",
        "* patience = 2, 50, 100, 500, 1000 (escolhes a paciencia do call back)\n",
        "* batch_size = 64, 16, 32, 128, 256, 512 (varias com o tramanho do dataset, mas pensa que tens conseguido datasets bem grandes portanto usa os maiores valores)"
      ],
      "metadata": {
        "id": "d6KIcjmYWb5B"
      }
    },
    {
      "cell_type": "code",
      "source": [
        "symbol = 'AAPL'\n",
        "max_period = True\n",
        "start_date = '2016-10-31'\n",
        "end_date = '2023-12-31'\n",
        "timeframe = '5Min'\n",
        "fisrt_marker = 'volume'\n",
        "second_marker = 'vwap'\n",
        "third_marker = ''\n",
        "n_rows = 12\n",
        "sort = True\n",
        "relative_first_marker = True\n",
        "relative_second_marker = False\n",
        "relative_third_marker = False\n",
        "decimals = ''\n",
        "LSTM_boolean = True\n",
        "epochs = 5\n",
        "early_stopping = True\n",
        "call_back = 'val_accuracy'\n",
        "patience = 2\n",
        "batch_size = 64"
      ],
      "metadata": {
        "id": "CSPJtOTF8u58"
      },
      "execution_count": null,
      "outputs": []
    },
    {
      "cell_type": "code",
      "source": [
        "import pandas as pd\n",
        "\n",
        "old_dataset, caminho_do_modelo = old_dataset_function(symbol, max_period, start_date, end_date,\n",
        "                                  timeframe, fisrt_marker, second_marker, third_marker,\n",
        "                                  n_rows, sort, relative_first_marker, relative_second_marker,\n",
        "                                  relative_third_marker, decimals, LSTM_boolean, epochs,\n",
        "                                  early_stopping, call_back, patience, batch_size, 0, 0, False)\n",
        "\n",
        "if old_dataset:\n",
        "    company_data = pd.read_csv(caminho_do_modelo, index_col=0)\n",
        "else:\n",
        "    company_data = get_all_data(symbol, max_period, start_date, end_date, timeframe)\n",
        "\n",
        "print(company_data)\n",
        "print(company_data.shape)\n",
        "print()"
      ],
      "metadata": {
        "colab": {
          "base_uri": "https://localhost:8080/"
        },
        "id": "nuIkfBkI-Uvw",
        "outputId": "46ef834f-7db1-43a5-eda0-90aa0a47b3a6"
      },
      "execution_count": null,
      "outputs": [
        {
          "output_type": "stream",
          "name": "stdout",
          "text": [
            "Nenhum arquivo próximo encontrado.\n",
            "                              close    high       low  trade_count      open  \\\n",
            "timestamp                                                                      \n",
            "2016-10-31 08:00:00+00:00  113.9000  113.90  113.7500            6  113.8900   \n",
            "2016-10-31 08:05:00+00:00  113.4000  113.76  113.4000            3  113.7600   \n",
            "2016-10-31 09:00:00+00:00  113.7600  113.76  113.7600            2  113.7600   \n",
            "2016-10-31 09:20:00+00:00  113.9500  113.95  113.8800            2  113.8800   \n",
            "2016-10-31 10:05:00+00:00  113.7500  113.75  113.7500            1  113.7500   \n",
            "...                             ...     ...       ...          ...       ...   \n",
            "2023-12-30 00:35:00+00:00  192.1200  192.14  192.1100           44  192.1400   \n",
            "2023-12-30 00:40:00+00:00  192.1500  192.15  192.1118           41  192.1118   \n",
            "2023-12-30 00:45:00+00:00  192.2000  192.22  192.1500           37  192.1500   \n",
            "2023-12-30 00:50:00+00:00  192.2200  192.24  192.1600           54  192.1600   \n",
            "2023-12-30 00:55:00+00:00  192.1501  192.24  192.1000           89  192.2400   \n",
            "\n",
            "                           volume        vwap  \n",
            "timestamp                                      \n",
            "2016-10-31 08:00:00+00:00     500  113.845860  \n",
            "2016-10-31 08:05:00+00:00     823  113.650304  \n",
            "2016-10-31 09:00:00+00:00     144  113.780833  \n",
            "2016-10-31 09:20:00+00:00     275  113.905455  \n",
            "2016-10-31 10:05:00+00:00     245  113.750000  \n",
            "...                           ...         ...  \n",
            "2023-12-30 00:35:00+00:00    1639  192.130354  \n",
            "2023-12-30 00:40:00+00:00    2863  192.135717  \n",
            "2023-12-30 00:45:00+00:00    3105  192.204240  \n",
            "2023-12-30 00:50:00+00:00    8060  192.221821  \n",
            "2023-12-30 00:55:00+00:00    6212  192.183319  \n",
            "\n",
            "[369080 rows x 7 columns]\n",
            "(369080, 7)\n",
            "\n"
          ]
        }
      ]
    },
    {
      "cell_type": "code",
      "source": [
        "company_data_prepared = prepare_data(company_data, fisrt_marker, second_marker, third_marker)\n",
        "\n",
        "print(company_data_prepared)\n",
        "print(company_data_prepared.shape)\n",
        "print()"
      ],
      "metadata": {
        "id": "3EvayUzCP499",
        "colab": {
          "base_uri": "https://localhost:8080/"
        },
        "outputId": "5a9d27d6-4c56-49a0-d2b3-be3452bb6b23"
      },
      "execution_count": null,
      "outputs": [
        {
          "output_type": "stream",
          "name": "stdout",
          "text": [
            "                           volume        vwap\n",
            "timestamp                                    \n",
            "2016-10-31 08:00:00+00:00     500  113.845860\n",
            "2016-10-31 08:05:00+00:00     823  113.650304\n",
            "2016-10-31 09:00:00+00:00     144  113.780833\n",
            "2016-10-31 09:20:00+00:00     275  113.905455\n",
            "2016-10-31 10:05:00+00:00     245  113.750000\n",
            "...                           ...         ...\n",
            "2023-12-30 00:35:00+00:00    1639  192.130354\n",
            "2023-12-30 00:40:00+00:00    2863  192.135717\n",
            "2023-12-30 00:45:00+00:00    3105  192.204240\n",
            "2023-12-30 00:50:00+00:00    8060  192.221821\n",
            "2023-12-30 00:55:00+00:00    6212  192.183319\n",
            "\n",
            "[369080 rows x 2 columns]\n",
            "(369080, 2)\n",
            "\n"
          ]
        }
      ]
    },
    {
      "cell_type": "code",
      "source": [
        "matrices_x, matrices_y = get_dataset(company_data_prepared, n_rows, sort, fisrt_marker, second_marker , third_marker, relative_first_marker, relative_second_marker, relative_third_marker, decimals)\n",
        "\n",
        "print(matrices_x)\n",
        "print(matrices_x.shape)\n",
        "print(matrices_y)\n",
        "print(matrices_y.shape)\n",
        "print()"
      ],
      "metadata": {
        "id": "iejgU_5vP8KQ",
        "colab": {
          "base_uri": "https://localhost:8080/"
        },
        "outputId": "e1ccf783-29bf-4ef4-beb1-65f5433bdfb7"
      },
      "execution_count": null,
      "outputs": [
        {
          "output_type": "stream",
          "name": "stdout",
          "text": [
            "[[[2.55980639e-02 1.13905455e+02]\n",
            "  [1.11700642e-01 1.13870000e+02]\n",
            "  [4.65419343e-02 1.13845860e+02]\n",
            "  ...\n",
            "  [1.21009029e-01 1.13738462e+02]\n",
            "  [1.86167737e-02 1.13720000e+02]\n",
            "  [7.66080238e-02 1.13650304e+02]]\n",
            "\n",
            " [[8.74403410e-02 1.13793012e+02]\n",
            "  [2.04180598e-02 1.13757500e+02]\n",
            "  [3.90571961e-01 1.13734021e+02]\n",
            "  ...\n",
            "  [1.65896736e-02 1.13644323e+02]\n",
            "  [1.56963835e-01 1.13638618e+02]\n",
            "  [1.65896736e-01 1.13628711e+02]]\n",
            "\n",
            " [[2.32956492e-03 1.13786212e+02]\n",
            "  [6.06592053e-04 1.13780000e+02]\n",
            "  [4.24614437e-04 1.13772694e+02]\n",
            "  ...\n",
            "  [3.23410996e-03 1.13578300e+02]\n",
            "  [5.31160917e-04 1.13558154e+02]\n",
            "  [2.23570344e-01 1.13368599e+02]]\n",
            "\n",
            " ...\n",
            "\n",
            " [[3.77526740e-02 1.92689513e+02]\n",
            "  [1.74833685e-02 1.92675211e+02]\n",
            "  [1.08355699e-01 1.92668680e+02]\n",
            "  ...\n",
            "  [2.69245237e-02 1.92536548e+02]\n",
            "  [4.76995453e-01 1.92534327e+02]\n",
            "  [2.32410485e-02 1.92532662e+02]]\n",
            "\n",
            " [[5.30569708e-02 1.92568595e+02]\n",
            "  [1.15840667e-02 1.92545147e+02]\n",
            "  [1.24735989e-01 1.92506790e+02]\n",
            "  ...\n",
            "  [1.12623900e-01 1.92384073e+02]\n",
            "  [4.22788328e-02 1.92310076e+02]\n",
            "  [1.07774433e-01 1.92297930e+02]]\n",
            "\n",
            " [[2.19183473e-01 1.92444855e+02]\n",
            "  [1.66945401e-01 1.92305369e+02]\n",
            "  [1.68027545e-02 1.92256240e+02]\n",
            "  ...\n",
            "  [6.96507624e-03 1.92172995e+02]\n",
            "  [1.22774225e-02 1.92162107e+02]\n",
            "  [1.22577472e-01 1.92092063e+02]]]\n",
            "(30755, 12, 2)\n",
            "[1 0 1 ... 0 0 0]\n",
            "(30755,)\n",
            "\n"
          ]
        }
      ]
    },
    {
      "cell_type": "code",
      "source": [
        "X_train, X_val, X_test, y_train, y_val, y_test = split_dataset(matrices_x, matrices_y, LSTM_boolean)\n",
        "\n",
        "# Exibir as formas dos arrays resultantes\n",
        "print(\"Shape of X_train:\", X_train.shape)\n",
        "print(\"Shape of y_train:\", y_train.shape)\n",
        "print(\"Shape of X_val:\", X_val.shape)\n",
        "print(\"Shape of y_val:\", y_val.shape)\n",
        "print(\"Shape of X_test:\", X_test.shape)\n",
        "print(\"Shape of y_test:\", y_test.shape)\n",
        "print()"
      ],
      "metadata": {
        "id": "edWtixMXP-QD",
        "colab": {
          "base_uri": "https://localhost:8080/"
        },
        "outputId": "88b36765-9452-4212-f309-96dd133c1250"
      },
      "execution_count": null,
      "outputs": [
        {
          "output_type": "stream",
          "name": "stdout",
          "text": [
            "Shape of X_train: (18453, 12, 2)\n",
            "Shape of y_train: (18453,)\n",
            "Shape of X_val: (6151, 12, 2)\n",
            "Shape of y_val: (6151,)\n",
            "Shape of X_test: (6151, 12, 2)\n",
            "Shape of y_test: (6151,)\n",
            "\n"
          ]
        }
      ]
    },
    {
      "cell_type": "code",
      "source": [
        "if third_marker == '':\n",
        "  input_shape = (n_rows, 2)\n",
        "else:\n",
        "  input_shape = (n_rows, 3)\n",
        "model = build_model(input_shape, LSTM_boolean)"
      ],
      "metadata": {
        "id": "7k-Pt2rQQFiO",
        "colab": {
          "base_uri": "https://localhost:8080/",
          "height": 289
        },
        "outputId": "d6054fa0-1f66-4f18-ffe3-1b6c998d73bf"
      },
      "execution_count": null,
      "outputs": [
        {
          "output_type": "display_data",
          "data": {
            "text/plain": [
              "\u001b[1mModel: \"sequential_1\"\u001b[0m\n"
            ],
            "text/html": [
              "<pre style=\"white-space:pre;overflow-x:auto;line-height:normal;font-family:Menlo,'DejaVu Sans Mono',consolas,'Courier New',monospace\"><span style=\"font-weight: bold\">Model: \"sequential_1\"</span>\n",
              "</pre>\n"
            ]
          },
          "metadata": {}
        },
        {
          "output_type": "display_data",
          "data": {
            "text/plain": [
              "┏━━━━━━━━━━━━━━━━━━━━━━━━━━━━━━━━━━━━━━┳━━━━━━━━━━━━━━━━━━━━━━━━━━━━━┳━━━━━━━━━━━━━━━━━┓\n",
              "┃\u001b[1m \u001b[0m\u001b[1mLayer (type)                        \u001b[0m\u001b[1m \u001b[0m┃\u001b[1m \u001b[0m\u001b[1mOutput Shape               \u001b[0m\u001b[1m \u001b[0m┃\u001b[1m \u001b[0m\u001b[1m        Param #\u001b[0m\u001b[1m \u001b[0m┃\n",
              "┡━━━━━━━━━━━━━━━━━━━━━━━━━━━━━━━━━━━━━━╇━━━━━━━━━━━━━━━━━━━━━━━━━━━━━╇━━━━━━━━━━━━━━━━━┩\n",
              "│ lstm_2 (\u001b[38;5;33mLSTM\u001b[0m)                        │ (\u001b[38;5;45mNone\u001b[0m, \u001b[38;5;34m12\u001b[0m, \u001b[38;5;34m64\u001b[0m)              │          \u001b[38;5;34m17,152\u001b[0m │\n",
              "├──────────────────────────────────────┼─────────────────────────────┼─────────────────┤\n",
              "│ dropout_2 (\u001b[38;5;33mDropout\u001b[0m)                  │ (\u001b[38;5;45mNone\u001b[0m, \u001b[38;5;34m12\u001b[0m, \u001b[38;5;34m64\u001b[0m)              │               \u001b[38;5;34m0\u001b[0m │\n",
              "├──────────────────────────────────────┼─────────────────────────────┼─────────────────┤\n",
              "│ lstm_3 (\u001b[38;5;33mLSTM\u001b[0m)                        │ (\u001b[38;5;45mNone\u001b[0m, \u001b[38;5;34m64\u001b[0m)                  │          \u001b[38;5;34m33,024\u001b[0m │\n",
              "├──────────────────────────────────────┼─────────────────────────────┼─────────────────┤\n",
              "│ dropout_3 (\u001b[38;5;33mDropout\u001b[0m)                  │ (\u001b[38;5;45mNone\u001b[0m, \u001b[38;5;34m64\u001b[0m)                  │               \u001b[38;5;34m0\u001b[0m │\n",
              "├──────────────────────────────────────┼─────────────────────────────┼─────────────────┤\n",
              "│ dense_1 (\u001b[38;5;33mDense\u001b[0m)                      │ (\u001b[38;5;45mNone\u001b[0m, \u001b[38;5;34m1\u001b[0m)                   │              \u001b[38;5;34m65\u001b[0m │\n",
              "└──────────────────────────────────────┴─────────────────────────────┴─────────────────┘\n"
            ],
            "text/html": [
              "<pre style=\"white-space:pre;overflow-x:auto;line-height:normal;font-family:Menlo,'DejaVu Sans Mono',consolas,'Courier New',monospace\">┏━━━━━━━━━━━━━━━━━━━━━━━━━━━━━━━━━━━━━━┳━━━━━━━━━━━━━━━━━━━━━━━━━━━━━┳━━━━━━━━━━━━━━━━━┓\n",
              "┃<span style=\"font-weight: bold\"> Layer (type)                         </span>┃<span style=\"font-weight: bold\"> Output Shape                </span>┃<span style=\"font-weight: bold\">         Param # </span>┃\n",
              "┡━━━━━━━━━━━━━━━━━━━━━━━━━━━━━━━━━━━━━━╇━━━━━━━━━━━━━━━━━━━━━━━━━━━━━╇━━━━━━━━━━━━━━━━━┩\n",
              "│ lstm_2 (<span style=\"color: #0087ff; text-decoration-color: #0087ff\">LSTM</span>)                        │ (<span style=\"color: #00d7ff; text-decoration-color: #00d7ff\">None</span>, <span style=\"color: #00af00; text-decoration-color: #00af00\">12</span>, <span style=\"color: #00af00; text-decoration-color: #00af00\">64</span>)              │          <span style=\"color: #00af00; text-decoration-color: #00af00\">17,152</span> │\n",
              "├──────────────────────────────────────┼─────────────────────────────┼─────────────────┤\n",
              "│ dropout_2 (<span style=\"color: #0087ff; text-decoration-color: #0087ff\">Dropout</span>)                  │ (<span style=\"color: #00d7ff; text-decoration-color: #00d7ff\">None</span>, <span style=\"color: #00af00; text-decoration-color: #00af00\">12</span>, <span style=\"color: #00af00; text-decoration-color: #00af00\">64</span>)              │               <span style=\"color: #00af00; text-decoration-color: #00af00\">0</span> │\n",
              "├──────────────────────────────────────┼─────────────────────────────┼─────────────────┤\n",
              "│ lstm_3 (<span style=\"color: #0087ff; text-decoration-color: #0087ff\">LSTM</span>)                        │ (<span style=\"color: #00d7ff; text-decoration-color: #00d7ff\">None</span>, <span style=\"color: #00af00; text-decoration-color: #00af00\">64</span>)                  │          <span style=\"color: #00af00; text-decoration-color: #00af00\">33,024</span> │\n",
              "├──────────────────────────────────────┼─────────────────────────────┼─────────────────┤\n",
              "│ dropout_3 (<span style=\"color: #0087ff; text-decoration-color: #0087ff\">Dropout</span>)                  │ (<span style=\"color: #00d7ff; text-decoration-color: #00d7ff\">None</span>, <span style=\"color: #00af00; text-decoration-color: #00af00\">64</span>)                  │               <span style=\"color: #00af00; text-decoration-color: #00af00\">0</span> │\n",
              "├──────────────────────────────────────┼─────────────────────────────┼─────────────────┤\n",
              "│ dense_1 (<span style=\"color: #0087ff; text-decoration-color: #0087ff\">Dense</span>)                      │ (<span style=\"color: #00d7ff; text-decoration-color: #00d7ff\">None</span>, <span style=\"color: #00af00; text-decoration-color: #00af00\">1</span>)                   │              <span style=\"color: #00af00; text-decoration-color: #00af00\">65</span> │\n",
              "└──────────────────────────────────────┴─────────────────────────────┴─────────────────┘\n",
              "</pre>\n"
            ]
          },
          "metadata": {}
        },
        {
          "output_type": "display_data",
          "data": {
            "text/plain": [
              "\u001b[1m Total params: \u001b[0m\u001b[38;5;34m50,241\u001b[0m (196.25 KB)\n"
            ],
            "text/html": [
              "<pre style=\"white-space:pre;overflow-x:auto;line-height:normal;font-family:Menlo,'DejaVu Sans Mono',consolas,'Courier New',monospace\"><span style=\"font-weight: bold\"> Total params: </span><span style=\"color: #00af00; text-decoration-color: #00af00\">50,241</span> (196.25 KB)\n",
              "</pre>\n"
            ]
          },
          "metadata": {}
        },
        {
          "output_type": "display_data",
          "data": {
            "text/plain": [
              "\u001b[1m Trainable params: \u001b[0m\u001b[38;5;34m50,241\u001b[0m (196.25 KB)\n"
            ],
            "text/html": [
              "<pre style=\"white-space:pre;overflow-x:auto;line-height:normal;font-family:Menlo,'DejaVu Sans Mono',consolas,'Courier New',monospace\"><span style=\"font-weight: bold\"> Trainable params: </span><span style=\"color: #00af00; text-decoration-color: #00af00\">50,241</span> (196.25 KB)\n",
              "</pre>\n"
            ]
          },
          "metadata": {}
        },
        {
          "output_type": "display_data",
          "data": {
            "text/plain": [
              "\u001b[1m Non-trainable params: \u001b[0m\u001b[38;5;34m0\u001b[0m (0.00 B)\n"
            ],
            "text/html": [
              "<pre style=\"white-space:pre;overflow-x:auto;line-height:normal;font-family:Menlo,'DejaVu Sans Mono',consolas,'Courier New',monospace\"><span style=\"font-weight: bold\"> Non-trainable params: </span><span style=\"color: #00af00; text-decoration-color: #00af00\">0</span> (0.00 B)\n",
              "</pre>\n"
            ]
          },
          "metadata": {}
        }
      ]
    },
    {
      "cell_type": "code",
      "source": [
        "model, history, test_loss, test_accuracy = model_training(model, X_train, X_val, X_test, y_train, y_val, y_test, epochs, early_stopping, call_back, patience, batch_size)"
      ],
      "metadata": {
        "id": "yRLU8McBQKdV",
        "colab": {
          "base_uri": "https://localhost:8080/"
        },
        "outputId": "a2d6287e-6262-409b-d121-8b944649a70d"
      },
      "execution_count": null,
      "outputs": [
        {
          "output_type": "stream",
          "name": "stdout",
          "text": [
            "Treinando o modelo...\n",
            "Epoch 1/5\n",
            "\u001b[1m289/289\u001b[0m \u001b[32m━━━━━━━━━━━━━━━━━━━━\u001b[0m\u001b[37m\u001b[0m \u001b[1m11s\u001b[0m 21ms/step - accuracy: 0.5121 - loss: 0.6973 - val_accuracy: 0.5202 - val_loss: 0.6927\n",
            "Epoch 2/5\n",
            "\u001b[1m289/289\u001b[0m \u001b[32m━━━━━━━━━━━━━━━━━━━━\u001b[0m\u001b[37m\u001b[0m \u001b[1m12s\u001b[0m 26ms/step - accuracy: 0.5108 - loss: 0.6948 - val_accuracy: 0.5202 - val_loss: 0.6924\n",
            "Epoch 3/5\n",
            "\u001b[1m289/289\u001b[0m \u001b[32m━━━━━━━━━━━━━━━━━━━━\u001b[0m\u001b[37m\u001b[0m \u001b[1m6s\u001b[0m 19ms/step - accuracy: 0.5219 - loss: 0.6926 - val_accuracy: 0.5202 - val_loss: 0.6924\n",
            "\n",
            "Avaliação no conjunto de teste:\n",
            "\u001b[1m193/193\u001b[0m \u001b[32m━━━━━━━━━━━━━━━━━━━━\u001b[0m\u001b[37m\u001b[0m \u001b[1m1s\u001b[0m 5ms/step - accuracy: 0.5151 - loss: 0.6933\n"
          ]
        }
      ]
    },
    {
      "cell_type": "code",
      "source": [
        "graphics_analysis(history)"
      ],
      "metadata": {
        "id": "Dl7PDLgBtW66",
        "colab": {
          "base_uri": "https://localhost:8080/",
          "height": 927
        },
        "outputId": "3e14f2f2-6254-4b4a-cb32-9c608fc24aeb"
      },
      "execution_count": null,
      "outputs": [
        {
          "output_type": "display_data",
          "data": {
            "text/plain": [
              "<Figure size 640x480 with 1 Axes>"
            ],
            "image/png": "[encoded data removed]"
          },
          "metadata": {}
        },
        {
          "output_type": "display_data",
          "data": {
            "text/plain": [
              "<Figure size 640x480 with 1 Axes>"
            ],
            "image/png": "[encoded data removed]"
          },
          "metadata": {}
        }
      ]
    },
    {
      "cell_type": "code",
      "source": [
        "import os\n",
        "\n",
        "# Defina o caminho do diretório no Google Drive\n",
        "caminho_para_salvar_modelo = '/content/drive/MyDrive/AI Financial Analisys/Summer Project/Neural Network/Models'\n",
        "\n",
        "# Verifique se o diretório existe, caso contrário, crie-o\n",
        "if not os.path.exists(caminho_para_salvar_modelo):\n",
        "    print(f\"O dirétório {caminho_para_salvar_modelo} não existe.\")\n",
        "\n",
        "file_name = create_file_name(symbol, max_period, start_date, end_date,\n",
        "                     timeframe, fisrt_marker, second_marker, third_marker,\n",
        "                     n_rows, sort, relative_first_marker, relative_second_marker,\n",
        "                     relative_third_marker, decimals, LSTM_boolean, epochs,\n",
        "                     early_stopping, call_back, patience, batch_size,\n",
        "                     test_loss, test_accuracy, True)\n",
        "\n",
        "caminho_completo_modelo = os.path.join(caminho_para_salvar_modelo, file_name)\n",
        "\n",
        "# Salva o modelo em formato\n",
        "model.save(caminho_completo_modelo)\n",
        "\n",
        "print(\"Ficheiro do Modelo:\")\n",
        "print(file_name)\n",
        "print()\n",
        "print(\"Modelo salvo em:\")\n",
        "print(caminho_para_salvar_modelo)"
      ],
      "metadata": {
        "id": "ukvgCcVq2KhG",
        "colab": {
          "base_uri": "https://localhost:8080/"
        },
        "outputId": "b5fb0b47-55d0-47d4-eaae-9eac2dd3b15a"
      },
      "execution_count": null,
      "outputs": [
        {
          "output_type": "stream",
          "name": "stdout",
          "text": [
            "Ficheiro do Modelo:\n",
            "s=AAPL+mp=True+sd=2016-10-31+ed=2023-12-31+tf=5Min+fm=volume+sm=vwap+tm=+r=12+sort=True+rfm=True+rsm=False+rtm=False+d=+Lb=True+e=5+es=True+cb=val_accuracy+p=2+bs=64+tl=0.6923301815986633+ta=0.522516667842865.keras\n",
            "\n",
            "Modelo salvo em:\n",
            "/content/drive/MyDrive/AI Financial Analisys/Summer Project/Neural Network/Models\n"
          ]
        }
      ]
    },
    {
      "cell_type": "code",
      "source": [
        "import os\n",
        "\n",
        "# Defina o caminho do diretório no Google Drive\n",
        "caminho_para_salvar_dados = '/content/drive/MyDrive/AI Financial Analisys/Summer Project/Dataset/Raw Data'\n",
        "\n",
        "# Verifique se o diretório existe, caso contrário, crie-o\n",
        "if not os.path.exists(caminho_para_salvar_dados):\n",
        "    os.makedirs(caminho_para_salvar_dados)\n",
        "    print(f\"Diretório {caminho_para_salvar_dados} criado com sucesso.\")\n",
        "else:\n",
        "    print(f\"O diretório {caminho_para_salvar_dados} já existe.\")\n",
        "\n",
        "print()\n",
        "\n",
        "file_name = create_file_name(symbol, max_period, start_date, end_date,\n",
        "                     timeframe, fisrt_marker, second_marker, third_marker,\n",
        "                     n_rows, sort, relative_first_marker, relative_second_marker,\n",
        "                     relative_third_marker, decimals, LSTM_boolean, epochs,\n",
        "                     early_stopping, call_back, patience, batch_size,\n",
        "                     test_loss, test_accuracy, False)\n",
        "\n",
        "# Defina o caminho completo para salvar o arquivo\n",
        "caminho_completo_dados = os.path.join(caminho_para_salvar_dados, file_name)\n",
        "\n",
        "# Salve o dataframe no caminho especificado\n",
        "company_data.to_csv(caminho_completo_dados)\n",
        "\n",
        "print(\"Ficheiro dos Dados:\")\n",
        "print(file_name)\n",
        "print()\n",
        "print(\"Dados salvos em:\")\n",
        "print(caminho_para_salvar_dados)"
      ],
      "metadata": {
        "id": "dDtkMLFeDQRh",
        "colab": {
          "base_uri": "https://localhost:8080/"
        },
        "outputId": "682fc86a-b8ee-474c-8e3a-0520756b679f"
      },
      "execution_count": null,
      "outputs": [
        {
          "output_type": "stream",
          "name": "stdout",
          "text": [
            "O diretório /content/drive/MyDrive/AI Financial Analisys/Summer Project/Dataset/Raw Data já existe.\n",
            "\n",
            "Ficheiro dos Dados:\n",
            "s=AAPL+mp=True+sd=2016-10-31+ed=2023-12-31+tf=5Min.csv\n",
            "\n",
            "Dados salvos em:\n",
            "/content/drive/MyDrive/AI Financial Analisys/Summer Project/Dataset/Raw Data\n"
          ]
        }
      ]
    }
  ]
}