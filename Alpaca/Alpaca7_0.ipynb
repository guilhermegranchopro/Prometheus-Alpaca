{
  "nbformat": 4,
  "nbformat_minor": 0,
  "metadata": {
    "colab": {
      "provenance": [],
      "include_colab_link": true
    },
    "kernelspec": {
      "name": "python3",
      "display_name": "Python 3"
    },
    "language_info": {
      "name": "python"
    }
  },
  "cells": [
    {
      "cell_type": "markdown",
      "metadata": {
        "id": "view-in-github",
        "colab_type": "text"
      },
      "source": [
        "<a href=\"https://colab.research.google.com/github/guilhermegranchopro/Prometheus-Alpaca/blob/Guilherme/Alpaca/Alpaca7_0.ipynb\" target=\"_parent\"><img src=\"https://colab.research.google.com/assets/colab-badge.svg\" alt=\"Open In Colab\"/></a>"
      ]
    },
    {
      "cell_type": "markdown",
      "source": [
        "# **Install Requeriments**"
      ],
      "metadata": {
        "id": "UYXhsiNTExCh"
      }
    },
    {
      "cell_type": "markdown",
      "source": [
        "Connecta com a tua google drive"
      ],
      "metadata": {
        "id": "Xs8gnneeyAno"
      }
    },
    {
      "cell_type": "code",
      "source": [
        "from google.colab import drive\n",
        "drive.mount('/content/drive')"
      ],
      "metadata": {
        "id": "fvmqaTcxDCBb",
        "colab": {
          "base_uri": "https://localhost:8080/"
        },
        "outputId": "094ff99c-8fc3-4cea-e7fb-5368f87c161f"
      },
      "execution_count": 115,
      "outputs": [
        {
          "output_type": "stream",
          "name": "stdout",
          "text": [
            "Drive already mounted at /content/drive; to attempt to forcibly remount, call drive.mount(\"/content/drive\", force_remount=True).\n"
          ]
        }
      ]
    },
    {
      "cell_type": "markdown",
      "source": [
        "Instalar os requeriemntos do Alpaca API"
      ],
      "metadata": {
        "id": "QNdv0UPHj57_"
      }
    },
    {
      "cell_type": "code",
      "source": [
        "pip install alpaca-trade-api"
      ],
      "metadata": {
        "colab": {
          "base_uri": "https://localhost:8080/"
        },
        "id": "VXOskRT-coC_",
        "outputId": "d8723889-3f12-42e4-a693-c4994b3c74e7"
      },
      "execution_count": 116,
      "outputs": [
        {
          "output_type": "stream",
          "name": "stdout",
          "text": [
            "Requirement already satisfied: alpaca-trade-api in /usr/local/lib/python3.11/dist-packages (3.2.0)\n",
            "Requirement already satisfied: pandas>=0.18.1 in /usr/local/lib/python3.11/dist-packages (from alpaca-trade-api) (2.2.2)\n",
            "Requirement already satisfied: numpy>=1.11.1 in /usr/local/lib/python3.11/dist-packages (from alpaca-trade-api) (2.0.2)\n",
            "Requirement already satisfied: requests<3,>2 in /usr/local/lib/python3.11/dist-packages (from alpaca-trade-api) (2.32.3)\n",
            "Requirement already satisfied: urllib3<2,>1.24 in /usr/local/lib/python3.11/dist-packages (from alpaca-trade-api) (1.26.20)\n",
            "Requirement already satisfied: websocket-client<2,>=0.56.0 in /usr/local/lib/python3.11/dist-packages (from alpaca-trade-api) (1.8.0)\n",
            "Requirement already satisfied: websockets<11,>=9.0 in /usr/local/lib/python3.11/dist-packages (from alpaca-trade-api) (10.4)\n",
            "Requirement already satisfied: msgpack==1.0.3 in /usr/local/lib/python3.11/dist-packages (from alpaca-trade-api) (1.0.3)\n",
            "Requirement already satisfied: aiohttp<4,>=3.8.3 in /usr/local/lib/python3.11/dist-packages (from alpaca-trade-api) (3.11.14)\n",
            "Requirement already satisfied: PyYAML==6.0.1 in /usr/local/lib/python3.11/dist-packages (from alpaca-trade-api) (6.0.1)\n",
            "Requirement already satisfied: deprecation==2.1.0 in /usr/local/lib/python3.11/dist-packages (from alpaca-trade-api) (2.1.0)\n",
            "Requirement already satisfied: packaging in /usr/local/lib/python3.11/dist-packages (from deprecation==2.1.0->alpaca-trade-api) (24.2)\n",
            "Requirement already satisfied: aiohappyeyeballs>=2.3.0 in /usr/local/lib/python3.11/dist-packages (from aiohttp<4,>=3.8.3->alpaca-trade-api) (2.6.1)\n",
            "Requirement already satisfied: aiosignal>=1.1.2 in /usr/local/lib/python3.11/dist-packages (from aiohttp<4,>=3.8.3->alpaca-trade-api) (1.3.2)\n",
            "Requirement already satisfied: attrs>=17.3.0 in /usr/local/lib/python3.11/dist-packages (from aiohttp<4,>=3.8.3->alpaca-trade-api) (25.3.0)\n",
            "Requirement already satisfied: frozenlist>=1.1.1 in /usr/local/lib/python3.11/dist-packages (from aiohttp<4,>=3.8.3->alpaca-trade-api) (1.5.0)\n",
            "Requirement already satisfied: multidict<7.0,>=4.5 in /usr/local/lib/python3.11/dist-packages (from aiohttp<4,>=3.8.3->alpaca-trade-api) (6.2.0)\n",
            "Requirement already satisfied: propcache>=0.2.0 in /usr/local/lib/python3.11/dist-packages (from aiohttp<4,>=3.8.3->alpaca-trade-api) (0.3.0)\n",
            "Requirement already satisfied: yarl<2.0,>=1.17.0 in /usr/local/lib/python3.11/dist-packages (from aiohttp<4,>=3.8.3->alpaca-trade-api) (1.18.3)\n",
            "Requirement already satisfied: python-dateutil>=2.8.2 in /usr/local/lib/python3.11/dist-packages (from pandas>=0.18.1->alpaca-trade-api) (2.8.2)\n",
            "Requirement already satisfied: pytz>=2020.1 in /usr/local/lib/python3.11/dist-packages (from pandas>=0.18.1->alpaca-trade-api) (2025.1)\n",
            "Requirement already satisfied: tzdata>=2022.7 in /usr/local/lib/python3.11/dist-packages (from pandas>=0.18.1->alpaca-trade-api) (2025.1)\n",
            "Requirement already satisfied: charset-normalizer<4,>=2 in /usr/local/lib/python3.11/dist-packages (from requests<3,>2->alpaca-trade-api) (3.4.1)\n",
            "Requirement already satisfied: idna<4,>=2.5 in /usr/local/lib/python3.11/dist-packages (from requests<3,>2->alpaca-trade-api) (3.10)\n",
            "Requirement already satisfied: certifi>=2017.4.17 in /usr/local/lib/python3.11/dist-packages (from requests<3,>2->alpaca-trade-api) (2025.1.31)\n",
            "Requirement already satisfied: six>=1.5 in /usr/local/lib/python3.11/dist-packages (from python-dateutil>=2.8.2->pandas>=0.18.1->alpaca-trade-api) (1.17.0)\n"
          ]
        }
      ]
    },
    {
      "cell_type": "markdown",
      "source": [
        "Instalas a biblioteca necessária para calculares o garu necessário de semelhança entre strings"
      ],
      "metadata": {
        "id": "TgkbUA5dmXsZ"
      }
    },
    {
      "cell_type": "code",
      "source": [
        "pip install python-Levenshtein"
      ],
      "metadata": {
        "colab": {
          "base_uri": "https://localhost:8080/"
        },
        "id": "E1KpLbgPBeZw",
        "outputId": "83213b3a-ee58-4408-e92e-60731ef881cb"
      },
      "execution_count": 117,
      "outputs": [
        {
          "output_type": "stream",
          "name": "stdout",
          "text": [
            "Requirement already satisfied: python-Levenshtein in /usr/local/lib/python3.11/dist-packages (0.27.1)\n",
            "Requirement already satisfied: Levenshtein==0.27.1 in /usr/local/lib/python3.11/dist-packages (from python-Levenshtein) (0.27.1)\n",
            "Requirement already satisfied: rapidfuzz<4.0.0,>=3.9.0 in /usr/local/lib/python3.11/dist-packages (from Levenshtein==0.27.1->python-Levenshtein) (3.12.2)\n"
          ]
        }
      ]
    },
    {
      "cell_type": "markdown",
      "source": [
        "Instalas a biblioteca necessária para calculares o garu necessário de semelhança entre strings"
      ],
      "metadata": {
        "id": "2Gm5rqxKmLDO"
      }
    },
    {
      "cell_type": "code",
      "source": [
        "pip install fuzzywuzzy"
      ],
      "metadata": {
        "colab": {
          "base_uri": "https://localhost:8080/"
        },
        "id": "OhwnmPwyBLn8",
        "outputId": "fde18f01-dd78-4ac8-924c-a64deb7d738c"
      },
      "execution_count": 118,
      "outputs": [
        {
          "output_type": "stream",
          "name": "stdout",
          "text": [
            "Requirement already satisfied: fuzzywuzzy in /usr/local/lib/python3.11/dist-packages (0.18.0)\n"
          ]
        }
      ]
    },
    {
      "cell_type": "code",
      "source": [
        "import pandas as pd\n",
        "import json\n",
        "from datetime import datetime, timedelta, timezone\n",
        "import alpaca_trade_api as tradeapi\n",
        "import time\n",
        "import os\n",
        "from fuzzywuzzy import process\n",
        "import numpy as np\n",
        "from sklearn.model_selection import train_test_split\n",
        "from sklearn.metrics import confusion_matrix as sk_confusion_matrix, ConfusionMatrixDisplay\n",
        "import tensorflow as tf\n",
        "from tensorflow.keras.models import Sequential\n",
        "from tensorflow.keras.layers import Dense, Flatten, LSTM, Dropout, BatchNormalization\n",
        "from tensorflow.keras.optimizers import Adam\n",
        "from tensorflow.keras.callbacks import EarlyStopping\n",
        "import warnings\n",
        "import matplotlib.pyplot as plt"
      ],
      "metadata": {
        "id": "RUOufUGYE9A6"
      },
      "execution_count": 119,
      "outputs": []
    },
    {
      "cell_type": "markdown",
      "source": [
        "# **Settings**"
      ],
      "metadata": {
        "id": "XL1EOHgFHA3G"
      }
    },
    {
      "cell_type": "markdown",
      "source": [
        "Caminho dos arquivos do Google Drive"
      ],
      "metadata": {
        "id": "9Pe5FmQOqCFe"
      }
    },
    {
      "cell_type": "code",
      "source": [
        "# Define o caminho base do projeto\n",
        "base_path = '/content/drive/MyDrive/AI Financial Analisys/Summer Project/SandBox Environment'\n",
        "\n",
        "# Monta os caminhos para cada categoria utilizando os nomes originais\n",
        "caminho_secret_keys = os.path.join(base_path, 'API_Keys.txt')       # Arquivo de chaves de API\n",
        "arquivo_old_dataset = os.path.join(base_path, 'Dataset', 'Raw Data')          # Diretório com o dataset antigo (raw data)\n",
        "caminho_para_salvar_imagens = os.path.join(base_path, 'Neural Network', 'Images')   # Diretório para salvar imagens\n",
        "caminho_para_salvar_resultados = os.path.join(base_path, 'Neural Network', 'Results') # Diretório para salvar resultados do modelo\n",
        "caminho_para_salvar_modelo = os.path.join(base_path, 'Neural Network', 'Models')      # Diretório para salvar o modelo\n",
        "caminho_para_salvar_dados = os.path.join(base_path, 'Dataset', 'Raw Data')              # Diretório para salvar dados\n",
        "caminho_para_salvar_report = os.path.join(base_path, 'Report')                          # Diretório para salvar o report"
      ],
      "metadata": {
        "id": "baKNBw3SqBOM"
      },
      "execution_count": 120,
      "outputs": []
    },
    {
      "cell_type": "markdown",
      "source": [
        "Tipos de fornecedores de dados ou IEX ou SIP."
      ],
      "metadata": {
        "id": "447yvW88Ib56"
      }
    },
    {
      "cell_type": "code",
      "source": [
        "# data_source = 'sip' or 'iex'\n",
        "data_source = 'sip'"
      ],
      "metadata": {
        "id": "wNaT0JuDIlbE"
      },
      "execution_count": 121,
      "outputs": []
    },
    {
      "cell_type": "markdown",
      "source": [
        "Todas as variaveis que se podem perdsonalizar no algoritmo."
      ],
      "metadata": {
        "id": "6P7EmkqFqyvO"
      }
    },
    {
      "cell_type": "markdown",
      "source": [
        "As primeiras possibilidades de cada variável são aquelas as quais inicialmnete pensas-te que faziam mais sentido:\n",
        "\n",
        "* symbol = 'AAPL', (retira do ficheito execel, tens o código que extrai)\n",
        "* max_period = True, (podes ter erros por excesso de pedidos do API)\n",
        "* start_date = '', '2022-10-31', (1 ano funciona bem para test runs)\n",
        "* end_date = '', '2023-10-31', (1 ano funciona bem para test runs)\n",
        "* timeframe = '1Min', '5Min', (mais de 5Min parece perder sentido a teoria)\n",
        "* fisrt_marker = 'volume', 'close', 'high', 'low', 'trade_count', 'open', 'vwap', 'average_oc', 'average_hl', (a ideia inicial é ver o volume relativo, mas pode ser interessante estudar o trade_count)\n",
        "* second_marker = 'vwap', 'volume', 'close', 'high', 'low', 'trade_count', 'open', 'average_oc', 'average_hl', (a ideia inicial era ver a média entre o high e o low - 'average_hl', mas fica na duvida ver a média entre o open e o close - 'average_oc', pode também ser muito interessante investigar o vwap)\n",
        "* third_marker = '', 'volume', 'close', 'high', 'low', 'trade_count', 'open', 'vwap', 'average_oc', 'average_hl', (não pensas te em usar uma terceira coluna para criar as matrizes, mas se os resultados impiricos assim o provarem usa)\n",
        "* n_rows = 12, 10, 15, 30, 5, (pensa no timeframe quando fazes isso, o 12 pareceu ser o melhor em testes impiricos)\n",
        "* sort = True, (tens de pensar na sequencia temporal se faz sentido manter ou não)\n",
        "* relative_first_marker = True, (tens de pensar em que marker correspondente estás a usar, pensa se matemáticamente faz sentido ou não colocares o marcador com valores relativos para todo o tensor, faltam te dados impiricos, o volume pensas te inicialmnete deixar em impirico para o tensor para normalizares os tensores)\n",
        "* relative_second_marker = False, (tens de pensar em que marker correspondente estás a usar, pensa se matemáticamente faz sentido ou não colocares o marcador com valores relativos para todo o tensor, faltam te dados impiricos)\n",
        "* relative_third_marker = False, (tens de pensar em que marker correspondente estás a usar, pensa se matemáticamente faz sentido ou não colocares o marcador com valores relativos para todo o tensor, faltam te dados impiricos)\n",
        "* decimals = '', 3, 4 (tens de ver o que os dados impiricos te dizem se com arrendondamentos facilitas ou n a vida do AI)\n",
        "* LSTM_boolean = True, (em caso de falso não usas um LSTM e partes do precipio que a relação causal deixa de ser importante para a cosntrução do tensor, quando normalizas os dados a esperança seria de não teres de usar um LSTM)\n",
        "* epochs = 5, (este numero tende a ser irrelevante porque tens um checkpoint de callback referente ao melhor resultado de validation accuracy)\n",
        "* early_stopping = True, (podes ligar ou desligar de forma automática o early_stopping, ou seja, o call back aqui)\n",
        "* call_back = 'val_accuracy', 'val_loss', 'accuracy', 'loss' (escolhes o paramtero que monitora o call back)\n",
        "* patience = 2, 50, 100, 500, 1000 (escolhes a paciencia do call back)\n",
        "* batch_size = 64, 16, 32, 128, 256, 512 (varias com o tramanho do dataset, mas pensa que tens conseguido datasets bem grandes portanto usa os maiores valores)"
      ],
      "metadata": {
        "id": "d6KIcjmYWb5B"
      }
    },
    {
      "cell_type": "code",
      "source": [
        "symbol = 'AAPL'\n",
        "max_period = True\n",
        "start_date = '2021-10-31'\n",
        "end_date = '2023-12-31'\n",
        "timeframe = '5Min'\n",
        "fisrt_marker = 'volume'\n",
        "second_marker = 'vwap'\n",
        "third_marker = ''\n",
        "n_rows = 12\n",
        "sort = True\n",
        "relative_first_marker = True\n",
        "relative_second_marker = False\n",
        "relative_third_marker = False\n",
        "decimals = ''\n",
        "LSTM_boolean = True\n",
        "epochs = 5\n",
        "early_stopping = True\n",
        "call_back = 'val_accuracy'\n",
        "patience = 2\n",
        "batch_size = 64"
      ],
      "metadata": {
        "id": "CSPJtOTF8u58"
      },
      "execution_count": 122,
      "outputs": []
    },
    {
      "cell_type": "markdown",
      "source": [
        "# **Algorithm**"
      ],
      "metadata": {
        "id": "KSpX1iDkE3wz"
      }
    },
    {
      "cell_type": "markdown",
      "source": [
        "Uso o Yahoo Finance API para saber quando é que a empresa que estou a usar entrou no mercado, quando a empresa IPO."
      ],
      "metadata": {
        "id": "fn-Uyl5AkDkw"
      }
    },
    {
      "cell_type": "code",
      "source": [
        "def get_start_date():\n",
        "    #Data de inicio dos dados historicos do Alpaca\n",
        "    return \"2016-01-01\""
      ],
      "metadata": {
        "id": "2NibJeBQn8Jz"
      },
      "execution_count": 123,
      "outputs": []
    },
    {
      "cell_type": "markdown",
      "source": [
        "Saber o dia que é hoje, o dia que o código está a correr, o modelo está a ser criado"
      ],
      "metadata": {
        "id": "aCpXDW-mkwqz"
      }
    },
    {
      "cell_type": "code",
      "source": [
        "def get_end_date(symbol):\n",
        "    # Obter a data e hora atuais\n",
        "    current_date_time = datetime.now()\n",
        "    # Make start timezone aware\n",
        "    current_date_time = current_date_time.replace(tzinfo=timezone.utc)\n",
        "    return current_date_time"
      ],
      "metadata": {
        "id": "P-FBJmdfoKD8"
      },
      "execution_count": 124,
      "outputs": []
    },
    {
      "cell_type": "markdown",
      "source": [
        "Usas a tua senha da tua conta no ALpca API para usares a API, tens de te conectar á tua conta."
      ],
      "metadata": {
        "id": "e4cmStbtk8iC"
      }
    },
    {
      "cell_type": "code",
      "source": [
        "def alpaca_autentification(caminho_secret_keys):\n",
        "\n",
        "    # Lê as linhas do arquivo\n",
        "    with open(caminho_secret_keys, 'r') as f:\n",
        "        lines = f.readlines()\n",
        "\n",
        "    # Extrai cada valor (removendo possíveis quebras de linha com .strip())\n",
        "    API_KEY = lines[0].strip()\n",
        "    SECRET_KEY = lines[1].strip()\n",
        "    BASE_URL = lines[2].strip()\n",
        "\n",
        "    # Inicializa a API Alpaca com as credenciais lidas do arquivo\n",
        "    api = tradeapi.REST(API_KEY, SECRET_KEY, BASE_URL, api_version='v2')\n",
        "\n",
        "    return api"
      ],
      "metadata": {
        "id": "JLN6w0ThPf2r"
      },
      "execution_count": 125,
      "outputs": []
    },
    {
      "cell_type": "markdown",
      "source": [
        "Depois chamas a API para retirar os dados que necessitas. Para a API não te bloquear usas um intervalo de 1 segundo sempre que chamas a API para conseguires atingir elevada granuralidade dos dados, sem seres bloqueado pela API."
      ],
      "metadata": {
        "id": "EBvR8uldPn23"
      }
    },
    {
      "cell_type": "code",
      "execution_count": 126,
      "metadata": {
        "id": "eTHSAnj2VD7q"
      },
      "outputs": [],
      "source": [
        "# Function to fetch data in chunks to avoid rate limits\n",
        "def fetch_data(symbol, start, end, timeframe, api, data_source='sip'):\n",
        "    all_data = []\n",
        "    current_start = start\n",
        "\n",
        "    while current_start < end:\n",
        "        current_end = current_start + timedelta(days=7)\n",
        "        if current_end > end:\n",
        "            current_end = end\n",
        "\n",
        "        # Fetch the historical data\n",
        "        bars = api.get_bars(\n",
        "            symbol,\n",
        "            timeframe,\n",
        "            start=current_start.strftime('%Y-%m-%d'),\n",
        "            end=current_end.strftime('%Y-%m-%d'),\n",
        "            feed=data_source\n",
        "        ).df\n",
        "\n",
        "        all_data.append(bars)\n",
        "        current_start = current_end\n",
        "        time.sleep(1)  # Adjust sleep interval based on rate limits\n",
        "\n",
        "    return pd.concat(all_data)"
      ]
    },
    {
      "cell_type": "markdown",
      "source": [
        "função para criar o nome do ficheiro. O nome do ficheiro encriptará todas varaiveis/hyperparametros necessários para voltar a correr o ficheiro do modelo ou o csv com todos os dados. (tens um dicionário do que cada uma dos paramteros representa mais a baixo)"
      ],
      "metadata": {
        "id": "fm4FGj4syKlR"
      }
    },
    {
      "cell_type": "code",
      "source": [
        "def create_file_name(symbol, max_period, start_date, end_date,\n",
        "                     timeframe, fisrt_marker, second_marker, third_marker,\n",
        "                     n_rows, sort, relative_first_marker, relative_second_marker,\n",
        "                     relative_third_marker, decimals, LSTM_boolean, epochs,\n",
        "                     early_stopping, call_back, patience, batch_size,\n",
        "                     test_loss, test_accuracy, model_file):\n",
        "\n",
        "    # Nome aproximado do arquivo\n",
        "    if model_file == True:\n",
        "        nome_aproximado = 's=' + symbol + '+' + 'mp=' + str(max_period) + '+' + 'sd=' + \\\n",
        "        start_date + '+' + 'ed=' + end_date + '+' + 'tf=' + timeframe + '+' + \\\n",
        "        'fm=' + fisrt_marker + '+' + 'sm=' + second_marker + '+' + \\\n",
        "        'tm=' + third_marker + '+' + 'r=' + str(n_rows) + '+' + \\\n",
        "        'sort=' + str(sort) + '+' + 'rfm=' + str(relative_first_marker) + '+' + \\\n",
        "        'rsm=' + str(relative_second_marker) + '+' + \\\n",
        "        'rtm=' + str(relative_third_marker) + '+' + \\\n",
        "        'd=' + decimals + '+' + 'Lb=' + str(LSTM_boolean) + '+' + 'e=' + str(epochs) + '+' + \\\n",
        "        'es=' + str(early_stopping) + '+' + 'cb=' + call_back + '+' + \\\n",
        "        'p=' + str(patience) + '+' + 'bs=' + str(batch_size) + '+' + \\\n",
        "        'tl=' + str(test_loss) + '+' + 'ta=' + str(test_accuracy)\n",
        "    else:\n",
        "        nome_aproximado = 's=' + symbol + '+' + 'mp=' + str(max_period) + '+' + 'sd=' + \\\n",
        "        start_date + '+' + 'ed=' + end_date + '+' + 'tf=' + timeframe\n",
        "\n",
        "    return nome_aproximado"
      ],
      "metadata": {
        "id": "yJpHTFerYIzx"
      },
      "execution_count": 127,
      "outputs": []
    },
    {
      "cell_type": "markdown",
      "source": [
        "função para procurar se o modelo e os dados são originais, caso não sejamm originais é porque foi encontrado dados e pelo menos um modelo identicos ao que está a ser pedido ao algoritmo já guradado na base de dados e caso isso aconteça, os dados não seram novamente retirados da API mas sim seram usados aqueles que já se encontram na base de dados (arquivos da tua google drive). Isto é feito por compração de nomes de ficheiros, já que no nome dos ficheiros encotra-se encriptado tudo o que é necessário para voltar a correr o algoritmo em termos de hyperparamtros e variaveis."
      ],
      "metadata": {
        "id": "mhnplKm7zhWp"
      }
    },
    {
      "cell_type": "code",
      "source": [
        "def old_dataset_function(arquivo_old_dataset, symbol, max_period, start_date, end_date,\n",
        "                timeframe, fisrt_marker, second_marker, third_marker,\n",
        "                n_rows, sort, relative_first_marker, relative_second_marker,\n",
        "                relative_third_marker, decimals, LSTM_boolean, epochs,\n",
        "                early_stopping, call_back, patience, batch_size,\n",
        "                test_loss, test_accuracy, model_file):\n",
        "\n",
        "    # Nome aproximado do arquivo\n",
        "    nome_aproximado = create_file_name(symbol, max_period, start_date, end_date,\n",
        "                                      timeframe, fisrt_marker, second_marker, third_marker,\n",
        "                                      n_rows, sort, relative_first_marker, relative_second_marker,\n",
        "                                      relative_third_marker, decimals, LSTM_boolean, epochs,\n",
        "                                      early_stopping, call_back, patience, batch_size,\n",
        "                                      test_loss, test_accuracy, model_file)\n",
        "\n",
        "    # Lista todos os arquivos no diretório\n",
        "    arquivos = os.listdir(arquivo_old_dataset)\n",
        "\n",
        "    # Encontra o arquivo mais próximo\n",
        "    if process.extractOne(nome_aproximado, arquivos):\n",
        "        arquivo_mais_proximo, pontuacao = process.extractOne(nome_aproximado, arquivos)\n",
        "    else:\n",
        "        arquivo_mais_proximo = None\n",
        "        pontuacao = None\n",
        "\n",
        "    if arquivo_mais_proximo and pontuacao==100:\n",
        "        caminho_do_modelo = os.path.join(arquivo_old_dataset, arquivo_mais_proximo)\n",
        "        print(\"Nome do arquivo mais próximo:\")\n",
        "        print(arquivo_mais_proximo)\n",
        "        print()\n",
        "        print(\"Caminho completo do modelo:\")\n",
        "        print(caminho_do_modelo)\n",
        "        print()\n",
        "        print(\"Pontuação de similaridade:\")\n",
        "        print(pontuacao)\n",
        "        old_dataset = True\n",
        "    else:\n",
        "        print(\"Nenhum arquivo próximo encontrado.\")\n",
        "        caminho_do_modelo = ''\n",
        "        old_dataset = False\n",
        "\n",
        "    return old_dataset, caminho_do_modelo"
      ],
      "metadata": {
        "id": "H1aTgw85yU4x"
      },
      "execution_count": 128,
      "outputs": []
    },
    {
      "cell_type": "markdown",
      "source": [
        "Usando a alpaca API para sacar os dados agora que já deste login á tua conta da alpaca com a tua senha pessoal anteriormente."
      ],
      "metadata": {
        "id": "vlH8R_Wz3rIP"
      }
    },
    {
      "cell_type": "code",
      "source": [
        "def get_all_data(caminho_secret_keys, symbol = 'AAPL', max_period = True, start_date = '', end_date= '', timeframe = '1Min', data_source = 'sip'):\n",
        "    api = alpaca_autentification(caminho_secret_keys)\n",
        "\n",
        "    if max_period and start_date == '' and end_date == '':\n",
        "        start_date = get_start_date(symbol)\n",
        "        end_date = get_end_date(symbol)\n",
        "    elif start_date != '' and end_date != '':\n",
        "        start_date = datetime.strptime(start_date, '%Y-%m-%d')\n",
        "        end_date = datetime.strptime(end_date, '%Y-%m-%d')\n",
        "    else:\n",
        "        start_date = datetime(2022, 12, 31)\n",
        "        end_date = datetime(2023, 12, 31)\n",
        "\n",
        "    # Fetch the historical data\n",
        "    apple_data = fetch_data(symbol, start_date, end_date, timeframe, api, data_source)\n",
        "    return apple_data"
      ],
      "metadata": {
        "id": "hj2WI5PG1nTV"
      },
      "execution_count": 129,
      "outputs": []
    },
    {
      "cell_type": "markdown",
      "source": [
        "Esta função irá preparar dos dados para o modelo. Do Alpca seram retirados multiplos parametros do mercado interessa-te selecionar apenas os que queres alimentar ao modelo para isso esat função é usada para os selecionar. podes escolher entre 'close', 'high', 'low', 'trade_count', 'open', 'volume', 'vwap', que são os parametros de mercado dados por default pelo Alpaca. Mas para além disso crias te outras 2 métricas com base nas métricas já dadas caso as queiras testar eslas são: 'average_oc' e 'average_hl', que correspondem, respetivamente, ao ponto médio entre o open e o close e o ponto médio entre o high e o low.\n",
        "\n",
        "\n",
        "\n",
        "*   close é o preço de fecho da ação naquele intervalo temporal\n",
        "*   high é o preço mais alto da ação naquele intervalo temporal\n",
        "*   low é o preço mais baixo da ação naquele intervalo temporal\n",
        "*   trade_count é o número de matches entre compradosres e vendedores naquele intervalo temporal\n",
        "*   open é o preço de abertura da ação naquele intervalo temporal\n",
        "*   vwap é o preço da ação por volume naquele intervalo temporal ( uma forma diferente de olhar para o valor intrinseco de uma ação)\n",
        "\n"
      ],
      "metadata": {
        "id": "UCNj32r838K5"
      }
    },
    {
      "cell_type": "code",
      "source": [
        "# Function to prepare the data\n",
        "def prepare_data(data, fisrt_marker, second_marker, third_marker):\n",
        "    # Selecionar colunas relevantes e fazer uma cópia para evitar advertências\n",
        "    data_selected = data[['close', 'high', 'low', 'trade_count', 'open', 'volume', 'vwap']].copy()\n",
        "\n",
        "    # Calcular a média entre 'Open' e 'Close' usando .loc para evitar o SettingWithCopyWarning\n",
        "    data_selected.loc[:, 'average_oc'] = data_selected[['open', 'close']].mean(axis=1)\n",
        "\n",
        "    # Calcular a média entre 'High' e 'Low' usando .loc para evitar o SettingWithCopyWarning\n",
        "    data_selected.loc[:, 'average_hl'] = data_selected[['high', 'low']].mean(axis=1)\n",
        "\n",
        "    # Selecionar as colunas finais\n",
        "    if third_marker != '':\n",
        "        data_final = data_selected[[fisrt_marker, second_marker, third_marker]]\n",
        "    else:\n",
        "        data_final = data_selected[[fisrt_marker, second_marker]]\n",
        "\n",
        "    return data_final"
      ],
      "metadata": {
        "id": "1ktLcRlNC-s4"
      },
      "execution_count": 130,
      "outputs": []
    },
    {
      "cell_type": "markdown",
      "source": [
        "Agora temos de continuara a preparação dos dados para serem alimentado ao modelo para isso crio matrizes para segmentar os dados, cada matriz vai ter uma label: 0 ou 1. Assim o dataset vai ser constituido por ,atrizes de tamanho a defenir pelo o usuário do algoritmo e pelas suas respetivas labels de 0 ou 1. As matrizes no máximo poderão ter até 3 colunas, cada coluna representa uma metrica difrente do mercado. As linhas estam inicialmente organizadas de forma sequencial e representação a cada uma a granuralidade mínima do dataset, assim se a granuralidade é de 1 minuto e uma matriz tem 5 linhas, cada matriz representa 5 minutos continuos de métricas do mercado no tempo. As métricas de cada matriz por coluna podem ser formatadas como relativas, o que significa que as métricas da matriz seram apresentadas de forma relativa á matriz em questão, o que pode ser interessante para modelos sem ser um LSTM, pois permite que os dados históricos sejam baralhados temporalmente e manetenham coerência. Como é o caso por exemplo do preço e do volume, com a inflação é normal que o preço aumente mas não queremos que isso cause uma precepção errada de magnitude superior ao nosso modelo assim o 'relative' faz com que as métricas das matrizes apareçam como valores ponderados aos restantes valores da matriz, assim cada valor da métrica relativa é dividida pelo somatório dos valores dessa métrica presentes na matriz."
      ],
      "metadata": {
        "id": "B36NBIsnCb2M"
      }
    },
    {
      "cell_type": "code",
      "source": [
        "# Função para criar as matrizes e os labels\n",
        "def create_matrices(data_final, n = 12, fisrt_marker = 'volume', second_marker = 'vwap', third_marker = '', relative_fisrt_marker = True, relative_second_marker = False, relative_third_marker = False):\n",
        "    num_rows = data_final.shape[0]\n",
        "    num_matrices = num_rows // n  # Número de matrizes completas que podemos formar\n",
        "\n",
        "    matrices = []\n",
        "    matrices_y = []\n",
        "\n",
        "    for i in range(num_matrices):\n",
        "        start_idx = i * n\n",
        "        end_idx = start_idx + n\n",
        "        matrix = data_final.iloc[start_idx:end_idx].copy()\n",
        "\n",
        "        if relative_fisrt_marker:\n",
        "            # Calcular a soma da coluna de volume\n",
        "            volume_sum = matrix[fisrt_marker].sum()\n",
        "\n",
        "            # Tornar a coluna do volume relativa\n",
        "            matrix[fisrt_marker] = matrix[fisrt_marker] / volume_sum\n",
        "\n",
        "            # Converter para valores numpy e adicionar à lista de matrizes\n",
        "            matrices.append(matrix.values)\n",
        "\n",
        "        if relative_second_marker:\n",
        "            # Calcular a soma da coluna de volume\n",
        "            volume_sum = matrix[second_marker].sum()\n",
        "\n",
        "            # Tornar a coluna do volume relativa\n",
        "            matrix[second_marker] = matrix[second_marker] / volume_sum\n",
        "\n",
        "            # Converter para valores numpy e adicionar à lista de matrizes\n",
        "            matrices.append(matrix.values)\n",
        "\n",
        "        if relative_third_marker:\n",
        "            # Calcular a soma da coluna de volume\n",
        "            volume_sum = matrix[third_marker].sum()\n",
        "\n",
        "            # Tornar a coluna do volume relativa\n",
        "            matrix[third_marker] = matrix[third_marker] / volume_sum\n",
        "\n",
        "            # Converter para valores numpy e adicionar à lista de matrizes\n",
        "            matrices.append(matrix.values)\n",
        "\n",
        "        # Criar labels\n",
        "        if i > 0:  # Ignorar a primeira matriz para alinhamento correto\n",
        "            first_value = matrices[i][0, 1]\n",
        "            last_value = matrices[i][n-1, 1]\n",
        "            delta = last_value - first_value\n",
        "            delta_bi = 1 if delta >= 0 else 0\n",
        "            matrices_y.append(delta_bi)\n",
        "\n",
        "    return matrices, matrices_y"
      ],
      "metadata": {
        "id": "8t2H56cVKuTT"
      },
      "execution_count": 131,
      "outputs": []
    },
    {
      "cell_type": "markdown",
      "source": [
        "Caso se entenda que a ordem temporal, devido á elevada granuraridade dos dados de uma matriz, é irrelevante, esta função permite ordenar por ordem decrescente da métrica da segunda coluna os valores de uma matriz e assim por exemplo caso na segunda coluna se tenha o valor de volume estaria se a observar em cada matriz o preço por ordem crescente do volume. Esta função pode ser ativada ou desativada e pode ser interessante para uma elevada granuralidade em que as matrizes apenas representam 5 minutos e não se está a usar uma LSTM."
      ],
      "metadata": {
        "id": "PRnv-jgWIx1T"
      }
    },
    {
      "cell_type": "code",
      "source": [
        "def sort_matrices(matrices):\n",
        "    # Ordenar as linhas de cada matriz por ordem decrescente da coluna Average (segunda coluna)\n",
        "    matrices_x = []\n",
        "    for matrix in matrices:\n",
        "        sorted_indices = np.argsort(matrix[:, 1])[::-1]\n",
        "        sorted_matrix = matrix[sorted_indices]\n",
        "        matrices_x.append(sorted_matrix)\n",
        "    return matrices_x"
      ],
      "metadata": {
        "id": "1hhFCRB2DCZK"
      },
      "execution_count": 132,
      "outputs": []
    },
    {
      "cell_type": "markdown",
      "source": [
        "Funçaõ para passar as matrizes para tensores para poderem ser tartadas pelo TensorFlow"
      ],
      "metadata": {
        "id": "T81TdRROfxML"
      }
    },
    {
      "cell_type": "code",
      "source": [
        "def tensor_creator(matrices_x, matrices_y):\n",
        "    # Converter listas para arrays numpy\n",
        "    matrices_x = np.array(matrices_x)\n",
        "    matrices_y = np.array(matrices_y)\n",
        "    return matrices_x, matrices_y"
      ],
      "metadata": {
        "id": "pRejyoiHDEhc"
      },
      "execution_count": 133,
      "outputs": []
    },
    {
      "cell_type": "markdown",
      "source": [
        "Função que integra todas as outras funções que falamos para obter o dataset e manipulá-lo conforme o utilizador do algoritmo deseja"
      ],
      "metadata": {
        "id": "dUWkAibmgI5w"
      }
    },
    {
      "cell_type": "code",
      "source": [
        "def get_dataset(company_data, n_rows, sort = True, fisrt_marker = 'volume', second_marker = 'vwap' ,\n",
        "                third_marker = '', relative_fisrt_marker = True, relative_second_marker = False,\n",
        "                relative_third_marker = False, decimals = ''):\n",
        "    matrices_x = []\n",
        "    matrices_y = []\n",
        "\n",
        "    matrices_x, matrices_y = create_matrices(company_data, n_rows, fisrt_marker, second_marker, third_marker, relative_fisrt_marker, relative_second_marker, relative_third_marker)\n",
        "\n",
        "    if sort:\n",
        "        matrices_x = sort_matrices(matrices_x)\n",
        "\n",
        "    # Remover a última matriz de matrices_x para alinhamento com matrices_y\n",
        "    if matrices_x:\n",
        "        matrices_x.pop()\n",
        "\n",
        "    matrices_x, matrices_y = tensor_creator(matrices_x, matrices_y)\n",
        "\n",
        "    if decimals != '':\n",
        "        matrices_x = np.round(matrices_x, decimals = decimals)\n",
        "    return matrices_x, matrices_y"
      ],
      "metadata": {
        "id": "IqP4yd62jdV4"
      },
      "execution_count": 134,
      "outputs": []
    },
    {
      "cell_type": "markdown",
      "source": [
        "Esta função divide o dataset em treino, validação e teste. Esta divisão tem de ser feita de forma diferente caso se esteja a usar um LSTM ou não. Se for usado um LSTM para manter a ordem temporal dos dados o datset é dividido em fatias sequêncis primeiros 60% dos dados históricos para treino, proximos 20% para validação e ultimos 20% para teste. Se não for usado uma LSTM os dados históricos são formatados em matrizes, as matrizes são baralhadas e entregues baralhadas tempralmente ao modelo."
      ],
      "metadata": {
        "id": "mIYzhJoenbMb"
      }
    },
    {
      "cell_type": "code",
      "source": [
        "def split_dataset(matrices_x, matrices_y, LSTM = True):\n",
        "\n",
        "    if LSTM:\n",
        "        # Total de amostras\n",
        "        n_samples = matrices_x.shape[0]\n",
        "\n",
        "        # Índices para divisão\n",
        "        train_size = int(0.6 * n_samples)  # 60% para treino\n",
        "        val_size = int(0.2 * n_samples)    # 20% para validação\n",
        "        test_size = n_samples - train_size - val_size  # 20% para teste\n",
        "\n",
        "        # Dividir os dados sequencialmente\n",
        "        X_train = matrices_x[:train_size]\n",
        "        y_train = matrices_y[:train_size]\n",
        "\n",
        "        X_val = matrices_x[train_size:train_size + val_size]\n",
        "        y_val = matrices_y[train_size:train_size + val_size]\n",
        "\n",
        "        X_test = matrices_x[train_size + val_size:]\n",
        "        y_test = matrices_y[train_size + val_size:]\n",
        "    else:\n",
        "        # Dividir os dados em conjuntos de treinamento + validação e teste\n",
        "        X_train_val, X_test, y_train_val, y_test = train_test_split(matrices_x, matrices_y, test_size=0.2, random_state=42)\n",
        "\n",
        "        # Dividir o conjunto de treinamento + validação em treinamento e validação\n",
        "        X_train, X_val, y_train, y_val = train_test_split(X_train_val, y_train_val, test_size=0.25, random_state=42)  # 0.25 * 0.8 = 0.2\n",
        "\n",
        "    return X_train, X_val, X_test, y_train, y_val, y_test\n"
      ],
      "metadata": {
        "id": "uAksoOB0q-_H"
      },
      "execution_count": 135,
      "outputs": []
    },
    {
      "cell_type": "markdown",
      "source": [
        "Função para criar o modelo de AI. Esta função permite escolher entre duas arquiteturas diferentes. É possível escolher entre usar uma LSTM, caso se queira dar prioridade á lógica temporal do mercado, ou usar uma arquitetura diferente caso não se queira dar essa relevância à ordem temporal.\n",
        "\n",
        "Pode ser interessante não usar uma LSTM. O padrão de procedimento na industria é usar um LSTM devido ao motivo lógico que esxite uma padrão temporal de acontecimentos obvios no mercado. No entanto, para explorar outras prespetivas de olhar para o mercado, desenvolves te várias ferramentas que em teoria permitiriam olhar para o mercado sem ser relevante a ordem temporal. A ideia é que pela teoria do mercado eficiente combiando com a tua ideia de um torque financeiro, que deve abrir um curto intervalo de tempo no mercado para ganhar lucro comprativamento com os outros players do mercado. Assim se aumentares por muito a granuralidade e assim estarás a fazer previsões para a matriz seguinte, ou seja, se as matrizes apenas representam 5 minutos no mercado, logo somando essa a ideia de uma granuralidade elevada com o facto de tornar os parametros na matriz relativos, e ordenar as linhas da matriz por ordem crecente dos valores e não tempora, todas estas ferramentas juntas em teoria permitiriam analisar o mercado sem ter em conta a ordem temporal.\n"
      ],
      "metadata": {
        "id": "YCc_bVslgY0b"
      }
    },
    {
      "cell_type": "code",
      "source": [
        "# Função para construir a rede neural\n",
        "def build_model(input_shape, LSTM_boolean=True):\n",
        "    warnings.filterwarnings('ignore', category=UserWarning, module='keras')\n",
        "    model = Sequential()\n",
        "\n",
        "    if LSTM_boolean:\n",
        "        model.add(LSTM(64, input_shape=input_shape, return_sequences=True))\n",
        "        model.add(Dropout(0.2))\n",
        "        model.add(LSTM(64, return_sequences=False))\n",
        "        model.add(Dropout(0.2))\n",
        "    else:\n",
        "        model.add(Flatten(input_shape=input_shape))\n",
        "        model.add(Dense(64, activation='relu'))\n",
        "        model.add(BatchNormalization())\n",
        "        model.add(Dropout(0.5))\n",
        "        model.add(Dense(64, activation='relu'))\n",
        "        model.add(BatchNormalization())\n",
        "        model.add(Dropout(0.5))\n",
        "\n",
        "    model.add(Dense(1, activation='sigmoid'))\n",
        "\n",
        "    # Compilando o modelo com uma taxa de aprendizado ajustada\n",
        "    optimizer = Adam(learning_rate=0.001)\n",
        "    model.compile(optimizer=optimizer, loss='binary_crossentropy', metrics=['accuracy'])\n",
        "\n",
        "    model.summary()\n",
        "\n",
        "    return model"
      ],
      "metadata": {
        "id": "VkdihWussdhK"
      },
      "execution_count": 136,
      "outputs": []
    },
    {
      "cell_type": "markdown",
      "source": [
        "Função para treinar o modelo, usamos earlystopping para saber qunado para de forma mais correta as épocas. Esta função também grava o histórico de treinamento assim como também testa o modelo contra o dataset de teste e grava os resultados."
      ],
      "metadata": {
        "id": "QL1X35y0p7xg"
      }
    },
    {
      "cell_type": "code",
      "source": [
        "def model_training(model, X_train, X_val, X_test, y_train, y_val, y_test, epochs=5, early_stopping = True, call_back = 'val_accuracy', patience = 2, batch_size=32):\n",
        "\n",
        "    if early_stopping:\n",
        "        early_stopping = EarlyStopping(monitor=call_back, patience=patience, restore_best_weights=True)\n",
        "        history = model.fit(X_train, y_train, epochs = epochs, batch_size = batch_size, validation_data=(X_val, y_val), callbacks=[early_stopping])\n",
        "    else:\n",
        "        history = model.fit(X_train, y_train, epochs = epochs, batch_size = batch_size, validation_data=(X_val, y_val))\n",
        "\n",
        "    return model, history"
      ],
      "metadata": {
        "id": "Fo-yl-ysvUC-"
      },
      "execution_count": 137,
      "outputs": []
    },
    {
      "cell_type": "code",
      "source": [
        "def run_model_on_test(model, X_test, y_test):\n",
        "    # Avaliar o modelo nos dados de teste\n",
        "    test_loss, test_accuracy = model.evaluate(X_test, y_test)\n",
        "\n",
        "    return test_loss, test_accuracy"
      ],
      "metadata": {
        "id": "1IZjLxgKTV4h"
      },
      "execution_count": 138,
      "outputs": []
    },
    {
      "cell_type": "code",
      "source": [
        "def create_confusion_matrix(model, X_test, y_test):\n",
        "\n",
        "    y_pred = model.predict(X_test)\n",
        "\n",
        "    # Função auxiliar para converter saídas para rótulos\n",
        "    def convert_to_labels(y):\n",
        "        if y.ndim > 1 and y.shape[1] > 1:\n",
        "            return np.argmax(y, axis=1)\n",
        "        elif np.issubdtype(y.dtype, np.floating):\n",
        "            return (y > 0.5).astype(\"int32\").flatten()\n",
        "        else:\n",
        "            return y.flatten() if y.ndim > 1 else y\n",
        "\n",
        "    y_pred_labels = convert_to_labels(y_pred)\n",
        "    y_test_labels = convert_to_labels(y_test)\n",
        "\n",
        "    cm = sk_confusion_matrix(y_test_labels, y_pred_labels)\n",
        "    cm_percentage = cm.astype(float) / cm.sum(axis=1, keepdims=True) * 100\n",
        "\n",
        "    disp = ConfusionMatrixDisplay(confusion_matrix=cm_percentage)\n",
        "    disp.plot(cmap=plt.cm.Blues, values_format='.2f')\n",
        "    plt.title(\"Confusion Matrix (%)\")\n",
        "\n",
        "    fig = disp.figure_\n",
        "    return fig"
      ],
      "metadata": {
        "id": "-CgBdCOPTe6Z"
      },
      "execution_count": 139,
      "outputs": []
    },
    {
      "cell_type": "markdown",
      "source": [
        "função que permite dar plot dos resultados da historia de treinamento e dar plot aos resultado do modelo no dataset de teste."
      ],
      "metadata": {
        "id": "ZtI-19T3qYKZ"
      }
    },
    {
      "cell_type": "code",
      "source": [
        "def plot_accuracy(history):\n",
        "\n",
        "    fig, ax = plt.subplots()\n",
        "    ax.plot(history.history['accuracy'], label='Training Accuracy')\n",
        "    ax.plot(history.history['val_accuracy'], label='Validation Accuracy')\n",
        "    ax.set_title('Model Accuracy')\n",
        "    ax.set_xlabel('Epoch')\n",
        "    ax.set_ylabel('Accuracy')\n",
        "    ax.legend()\n",
        "    return fig"
      ],
      "metadata": {
        "id": "e-SwozHITilU"
      },
      "execution_count": 140,
      "outputs": []
    },
    {
      "cell_type": "code",
      "source": [
        "def plot_loss(history):\n",
        "\n",
        "    fig, ax = plt.subplots()\n",
        "    ax.plot(history.history['loss'], label='Training Loss')\n",
        "    ax.plot(history.history['val_loss'], label='Validation Loss')\n",
        "    ax.set_title('Model Loss')\n",
        "    ax.set_xlabel('Epoch')\n",
        "    ax.set_ylabel('Loss')\n",
        "    ax.legend()\n",
        "    return fig"
      ],
      "metadata": {
        "id": "42-pWp7Gvz9F"
      },
      "execution_count": 141,
      "outputs": []
    },
    {
      "cell_type": "code",
      "source": [
        "def verify_directory(caminho):\n",
        "\n",
        "    # Verifique se o diretório existe, caso contrário, crie-o\n",
        "    if not os.path.exists(caminho):\n",
        "        print(f\"Diretório {caminho} não existe.\")\n",
        "    else:\n",
        "        print(f\"O diretório {caminho} já existe.\")"
      ],
      "metadata": {
        "id": "cQxZ7_Hh8Zg6"
      },
      "execution_count": 142,
      "outputs": []
    },
    {
      "cell_type": "markdown",
      "source": [
        "# **Results**"
      ],
      "metadata": {
        "id": "Ul8ukjfiIGam"
      }
    },
    {
      "cell_type": "markdown",
      "source": [
        "Função que agrega todas as anteriores para preceber se com base nas variaveis introduzidas no algoritmo, o algoritmo já foi corrido alguma vez com estes settings ou não. Caso tenha sido ele vai buscar á google drive os dados guardados anteriormente com estes settings o que otimiza o tempo que demora a correr o algoritmo, pois caso contrário é necessário usar a API Alpaca para obter todos os dados o que pode demorar bastante tempo."
      ],
      "metadata": {
        "id": "XCsbuEmMs6LR"
      }
    },
    {
      "cell_type": "code",
      "source": [
        "old_dataset, caminho_do_modelo = old_dataset_function(arquivo_old_dataset, symbol, max_period, start_date, end_date,\n",
        "                                  timeframe, fisrt_marker, second_marker, third_marker,\n",
        "                                  n_rows, sort, relative_first_marker, relative_second_marker,\n",
        "                                  relative_third_marker, decimals, LSTM_boolean, epochs,\n",
        "                                  early_stopping, call_back, patience, batch_size, 0, 0, False)\n",
        "\n",
        "if old_dataset:\n",
        "    company_data = pd.read_csv(caminho_do_modelo, index_col=0)\n",
        "else:\n",
        "    company_data = get_all_data(caminho_secret_keys, symbol, max_period, start_date, end_date, timeframe, data_source)\n",
        "\n",
        "company_data"
      ],
      "metadata": {
        "colab": {
          "base_uri": "https://localhost:8080/",
          "height": 472
        },
        "id": "nuIkfBkI-Uvw",
        "outputId": "4209c7f8-7573-4ffe-9efc-180dac22ca87"
      },
      "execution_count": 143,
      "outputs": [
        {
          "output_type": "stream",
          "name": "stdout",
          "text": [
            "Nenhum arquivo próximo encontrado.\n"
          ]
        },
        {
          "output_type": "execute_result",
          "data": {
            "text/plain": [
              "                              close    high       low  trade_count      open  \\\n",
              "timestamp                                                                      \n",
              "2021-11-01 08:00:00+00:00  149.9500  150.15  149.9500          481  149.9500   \n",
              "2021-11-01 08:05:00+00:00  149.5700  149.95  149.5700          324  149.9500   \n",
              "2021-11-01 08:10:00+00:00  149.6800  149.68  149.5600          131  149.5600   \n",
              "2021-11-01 08:15:00+00:00  149.8500  149.85  149.7000          151  149.7000   \n",
              "2021-11-01 08:20:00+00:00  149.8000  149.99  149.8000          126  149.9700   \n",
              "...                             ...     ...       ...          ...       ...   \n",
              "2023-12-30 00:35:00+00:00  192.1200  192.14  192.1100           44  192.1400   \n",
              "2023-12-30 00:40:00+00:00  192.1500  192.15  192.1118           41  192.1118   \n",
              "2023-12-30 00:45:00+00:00  192.2000  192.22  192.1500           37  192.1500   \n",
              "2023-12-30 00:50:00+00:00  192.2200  192.24  192.1600           54  192.1600   \n",
              "2023-12-30 00:55:00+00:00  192.1501  192.24  192.1000           89  192.2400   \n",
              "\n",
              "                           volume        vwap  \n",
              "timestamp                                      \n",
              "2021-11-01 08:00:00+00:00    8668  149.989939  \n",
              "2021-11-01 08:05:00+00:00   11535  149.801981  \n",
              "2021-11-01 08:10:00+00:00    7700  149.581088  \n",
              "2021-11-01 08:15:00+00:00    6969  149.793416  \n",
              "2021-11-01 08:20:00+00:00    4360  149.893532  \n",
              "...                           ...         ...  \n",
              "2023-12-30 00:35:00+00:00    1639  192.127635  \n",
              "2023-12-30 00:40:00+00:00    2863  192.136225  \n",
              "2023-12-30 00:45:00+00:00    3105  192.206060  \n",
              "2023-12-30 00:50:00+00:00    8060  192.221794  \n",
              "2023-12-30 00:55:00+00:00    6212  192.181578  \n",
              "\n",
              "[99668 rows x 7 columns]"
            ],
            "text/html": [
              "\n",
              "  <div id=\"df-50f3ccae-0162-40dc-a508-40ae9d7a706e\" class=\"colab-df-container\">\n",
              "    <div>\n",
              "<style scoped>\n",
              "    .dataframe tbody tr th:only-of-type {\n",
              "        vertical-align: middle;\n",
              "    }\n",
              "\n",
              "    .dataframe tbody tr th {\n",
              "        vertical-align: top;\n",
              "    }\n",
              "\n",
              "    .dataframe thead th {\n",
              "        text-align: right;\n",
              "    }\n",
              "</style>\n",
              "<table border=\"1\" class=\"dataframe\">\n",
              "  <thead>\n",
              "    <tr style=\"text-align: right;\">\n",
              "      <th></th>\n",
              "      <th>close</th>\n",
              "      <th>high</th>\n",
              "      <th>low</th>\n",
              "      <th>trade_count</th>\n",
              "      <th>open</th>\n",
              "      <th>volume</th>\n",
              "      <th>vwap</th>\n",
              "    </tr>\n",
              "    <tr>\n",
              "      <th>timestamp</th>\n",
              "      <th></th>\n",
              "      <th></th>\n",
              "      <th></th>\n",
              "      <th></th>\n",
              "      <th></th>\n",
              "      <th></th>\n",
              "      <th></th>\n",
              "    </tr>\n",
              "  </thead>\n",
              "  <tbody>\n",
              "    <tr>\n",
              "      <th>2021-11-01 08:00:00+00:00</th>\n",
              "      <td>149.9500</td>\n",
              "      <td>150.15</td>\n",
              "      <td>149.9500</td>\n",
              "      <td>481</td>\n",
              "      <td>149.9500</td>\n",
              "      <td>8668</td>\n",
              "      <td>149.989939</td>\n",
              "    </tr>\n",
              "    <tr>\n",
              "      <th>2021-11-01 08:05:00+00:00</th>\n",
              "      <td>149.5700</td>\n",
              "      <td>149.95</td>\n",
              "      <td>149.5700</td>\n",
              "      <td>324</td>\n",
              "      <td>149.9500</td>\n",
              "      <td>11535</td>\n",
              "      <td>149.801981</td>\n",
              "    </tr>\n",
              "    <tr>\n",
              "      <th>2021-11-01 08:10:00+00:00</th>\n",
              "      <td>149.6800</td>\n",
              "      <td>149.68</td>\n",
              "      <td>149.5600</td>\n",
              "      <td>131</td>\n",
              "      <td>149.5600</td>\n",
              "      <td>7700</td>\n",
              "      <td>149.581088</td>\n",
              "    </tr>\n",
              "    <tr>\n",
              "      <th>2021-11-01 08:15:00+00:00</th>\n",
              "      <td>149.8500</td>\n",
              "      <td>149.85</td>\n",
              "      <td>149.7000</td>\n",
              "      <td>151</td>\n",
              "      <td>149.7000</td>\n",
              "      <td>6969</td>\n",
              "      <td>149.793416</td>\n",
              "    </tr>\n",
              "    <tr>\n",
              "      <th>2021-11-01 08:20:00+00:00</th>\n",
              "      <td>149.8000</td>\n",
              "      <td>149.99</td>\n",
              "      <td>149.8000</td>\n",
              "      <td>126</td>\n",
              "      <td>149.9700</td>\n",
              "      <td>4360</td>\n",
              "      <td>149.893532</td>\n",
              "    </tr>\n",
              "    <tr>\n",
              "      <th>...</th>\n",
              "      <td>...</td>\n",
              "      <td>...</td>\n",
              "      <td>...</td>\n",
              "      <td>...</td>\n",
              "      <td>...</td>\n",
              "      <td>...</td>\n",
              "      <td>...</td>\n",
              "    </tr>\n",
              "    <tr>\n",
              "      <th>2023-12-30 00:35:00+00:00</th>\n",
              "      <td>192.1200</td>\n",
              "      <td>192.14</td>\n",
              "      <td>192.1100</td>\n",
              "      <td>44</td>\n",
              "      <td>192.1400</td>\n",
              "      <td>1639</td>\n",
              "      <td>192.127635</td>\n",
              "    </tr>\n",
              "    <tr>\n",
              "      <th>2023-12-30 00:40:00+00:00</th>\n",
              "      <td>192.1500</td>\n",
              "      <td>192.15</td>\n",
              "      <td>192.1118</td>\n",
              "      <td>41</td>\n",
              "      <td>192.1118</td>\n",
              "      <td>2863</td>\n",
              "      <td>192.136225</td>\n",
              "    </tr>\n",
              "    <tr>\n",
              "      <th>2023-12-30 00:45:00+00:00</th>\n",
              "      <td>192.2000</td>\n",
              "      <td>192.22</td>\n",
              "      <td>192.1500</td>\n",
              "      <td>37</td>\n",
              "      <td>192.1500</td>\n",
              "      <td>3105</td>\n",
              "      <td>192.206060</td>\n",
              "    </tr>\n",
              "    <tr>\n",
              "      <th>2023-12-30 00:50:00+00:00</th>\n",
              "      <td>192.2200</td>\n",
              "      <td>192.24</td>\n",
              "      <td>192.1600</td>\n",
              "      <td>54</td>\n",
              "      <td>192.1600</td>\n",
              "      <td>8060</td>\n",
              "      <td>192.221794</td>\n",
              "    </tr>\n",
              "    <tr>\n",
              "      <th>2023-12-30 00:55:00+00:00</th>\n",
              "      <td>192.1501</td>\n",
              "      <td>192.24</td>\n",
              "      <td>192.1000</td>\n",
              "      <td>89</td>\n",
              "      <td>192.2400</td>\n",
              "      <td>6212</td>\n",
              "      <td>192.181578</td>\n",
              "    </tr>\n",
              "  </tbody>\n",
              "</table>\n",
              "<p>99668 rows × 7 columns</p>\n",
              "</div>\n",
              "    <div class=\"colab-df-buttons\">\n",
              "\n",
              "  <div class=\"colab-df-container\">\n",
              "    <button class=\"colab-df-convert\" onclick=\"convertToInteractive('df-50f3ccae-0162-40dc-a508-40ae9d7a706e')\"\n",
              "            title=\"Convert this dataframe to an interactive table.\"\n",
              "            style=\"display:none;\">\n",
              "\n",
              "  <svg xmlns=\"http://www.w3.org/2000/svg\" height=\"24px\" viewBox=\"0 -960 960 960\">\n",
              "    <path d=\"M120-120v-720h720v720H120Zm60-500h600v-160H180v160Zm220 220h160v-160H400v160Zm0 220h160v-160H400v160ZM180-400h160v-160H180v160Zm440 0h160v-160H620v160ZM180-180h160v-160H180v160Zm440 0h160v-160H620v160Z\"/>\n",
              "  </svg>\n",
              "    </button>\n",
              "\n",
              "  <style>\n",
              "    .colab-df-container {\n",
              "      display:flex;\n",
              "      gap: 12px;\n",
              "    }\n",
              "\n",
              "    .colab-df-convert {\n",
              "      background-color: #E8F0FE;\n",
              "      border: none;\n",
              "      border-radius: 50%;\n",
              "      cursor: pointer;\n",
              "      display: none;\n",
              "      fill: #1967D2;\n",
              "      height: 32px;\n",
              "      padding: 0 0 0 0;\n",
              "      width: 32px;\n",
              "    }\n",
              "\n",
              "    .colab-df-convert:hover {\n",
              "      background-color: #E2EBFA;\n",
              "      box-shadow: 0px 1px 2px rgba(60, 64, 67, 0.3), 0px 1px 3px 1px rgba(60, 64, 67, 0.15);\n",
              "      fill: #174EA6;\n",
              "    }\n",
              "\n",
              "    .colab-df-buttons div {\n",
              "      margin-bottom: 4px;\n",
              "    }\n",
              "\n",
              "    [theme=dark] .colab-df-convert {\n",
              "      background-color: #3B4455;\n",
              "      fill: #D2E3FC;\n",
              "    }\n",
              "\n",
              "    [theme=dark] .colab-df-convert:hover {\n",
              "      background-color: #434B5C;\n",
              "      box-shadow: 0px 1px 3px 1px rgba(0, 0, 0, 0.15);\n",
              "      filter: drop-shadow(0px 1px 2px rgba(0, 0, 0, 0.3));\n",
              "      fill: #FFFFFF;\n",
              "    }\n",
              "  </style>\n",
              "\n",
              "    <script>\n",
              "      const buttonEl =\n",
              "        document.querySelector('#df-50f3ccae-0162-40dc-a508-40ae9d7a706e button.colab-df-convert');\n",
              "      buttonEl.style.display =\n",
              "        google.colab.kernel.accessAllowed ? 'block' : 'none';\n",
              "\n",
              "      async function convertToInteractive(key) {\n",
              "        const element = document.querySelector('#df-50f3ccae-0162-40dc-a508-40ae9d7a706e');\n",
              "        const dataTable =\n",
              "          await google.colab.kernel.invokeFunction('convertToInteractive',\n",
              "                                                    [key], {});\n",
              "        if (!dataTable) return;\n",
              "\n",
              "        const docLinkHtml = 'Like what you see? Visit the ' +\n",
              "          '<a target=\"_blank\" href=https://colab.research.google.com/notebooks/data_table.ipynb>data table notebook</a>'\n",
              "          + ' to learn more about interactive tables.';\n",
              "        element.innerHTML = '';\n",
              "        dataTable['output_type'] = 'display_data';\n",
              "        await google.colab.output.renderOutput(dataTable, element);\n",
              "        const docLink = document.createElement('div');\n",
              "        docLink.innerHTML = docLinkHtml;\n",
              "        element.appendChild(docLink);\n",
              "      }\n",
              "    </script>\n",
              "  </div>\n",
              "\n",
              "\n",
              "<div id=\"df-2c8374ce-0190-406f-9dbd-4f70f04bed14\">\n",
              "  <button class=\"colab-df-quickchart\" onclick=\"quickchart('df-2c8374ce-0190-406f-9dbd-4f70f04bed14')\"\n",
              "            title=\"Suggest charts\"\n",
              "            style=\"display:none;\">\n",
              "\n",
              "<svg xmlns=\"http://www.w3.org/2000/svg\" height=\"24px\"viewBox=\"0 0 24 24\"\n",
              "     width=\"24px\">\n",
              "    <g>\n",
              "        <path d=\"M19 3H5c-1.1 0-2 .9-2 2v14c0 1.1.9 2 2 2h14c1.1 0 2-.9 2-2V5c0-1.1-.9-2-2-2zM9 17H7v-7h2v7zm4 0h-2V7h2v10zm4 0h-2v-4h2v4z\"/>\n",
              "    </g>\n",
              "</svg>\n",
              "  </button>\n",
              "\n",
              "<style>\n",
              "  .colab-df-quickchart {\n",
              "      --bg-color: #E8F0FE;\n",
              "      --fill-color: #1967D2;\n",
              "      --hover-bg-color: #E2EBFA;\n",
              "      --hover-fill-color: #174EA6;\n",
              "      --disabled-fill-color: #AAA;\n",
              "      --disabled-bg-color: #DDD;\n",
              "  }\n",
              "\n",
              "  [theme=dark] .colab-df-quickchart {\n",
              "      --bg-color: #3B4455;\n",
              "      --fill-color: #D2E3FC;\n",
              "      --hover-bg-color: #434B5C;\n",
              "      --hover-fill-color: #FFFFFF;\n",
              "      --disabled-bg-color: #3B4455;\n",
              "      --disabled-fill-color: #666;\n",
              "  }\n",
              "\n",
              "  .colab-df-quickchart {\n",
              "    background-color: var(--bg-color);\n",
              "    border: none;\n",
              "    border-radius: 50%;\n",
              "    cursor: pointer;\n",
              "    display: none;\n",
              "    fill: var(--fill-color);\n",
              "    height: 32px;\n",
              "    padding: 0;\n",
              "    width: 32px;\n",
              "  }\n",
              "\n",
              "  .colab-df-quickchart:hover {\n",
              "    background-color: var(--hover-bg-color);\n",
              "    box-shadow: 0 1px 2px rgba(60, 64, 67, 0.3), 0 1px 3px 1px rgba(60, 64, 67, 0.15);\n",
              "    fill: var(--button-hover-fill-color);\n",
              "  }\n",
              "\n",
              "  .colab-df-quickchart-complete:disabled,\n",
              "  .colab-df-quickchart-complete:disabled:hover {\n",
              "    background-color: var(--disabled-bg-color);\n",
              "    fill: var(--disabled-fill-color);\n",
              "    box-shadow: none;\n",
              "  }\n",
              "\n",
              "  .colab-df-spinner {\n",
              "    border: 2px solid var(--fill-color);\n",
              "    border-color: transparent;\n",
              "    border-bottom-color: var(--fill-color);\n",
              "    animation:\n",
              "      spin 1s steps(1) infinite;\n",
              "  }\n",
              "\n",
              "  @keyframes spin {\n",
              "    0% {\n",
              "      border-color: transparent;\n",
              "      border-bottom-color: var(--fill-color);\n",
              "      border-left-color: var(--fill-color);\n",
              "    }\n",
              "    20% {\n",
              "      border-color: transparent;\n",
              "      border-left-color: var(--fill-color);\n",
              "      border-top-color: var(--fill-color);\n",
              "    }\n",
              "    30% {\n",
              "      border-color: transparent;\n",
              "      border-left-color: var(--fill-color);\n",
              "      border-top-color: var(--fill-color);\n",
              "      border-right-color: var(--fill-color);\n",
              "    }\n",
              "    40% {\n",
              "      border-color: transparent;\n",
              "      border-right-color: var(--fill-color);\n",
              "      border-top-color: var(--fill-color);\n",
              "    }\n",
              "    60% {\n",
              "      border-color: transparent;\n",
              "      border-right-color: var(--fill-color);\n",
              "    }\n",
              "    80% {\n",
              "      border-color: transparent;\n",
              "      border-right-color: var(--fill-color);\n",
              "      border-bottom-color: var(--fill-color);\n",
              "    }\n",
              "    90% {\n",
              "      border-color: transparent;\n",
              "      border-bottom-color: var(--fill-color);\n",
              "    }\n",
              "  }\n",
              "</style>\n",
              "\n",
              "  <script>\n",
              "    async function quickchart(key) {\n",
              "      const quickchartButtonEl =\n",
              "        document.querySelector('#' + key + ' button');\n",
              "      quickchartButtonEl.disabled = true;  // To prevent multiple clicks.\n",
              "      quickchartButtonEl.classList.add('colab-df-spinner');\n",
              "      try {\n",
              "        const charts = await google.colab.kernel.invokeFunction(\n",
              "            'suggestCharts', [key], {});\n",
              "      } catch (error) {\n",
              "        console.error('Error during call to suggestCharts:', error);\n",
              "      }\n",
              "      quickchartButtonEl.classList.remove('colab-df-spinner');\n",
              "      quickchartButtonEl.classList.add('colab-df-quickchart-complete');\n",
              "    }\n",
              "    (() => {\n",
              "      let quickchartButtonEl =\n",
              "        document.querySelector('#df-2c8374ce-0190-406f-9dbd-4f70f04bed14 button');\n",
              "      quickchartButtonEl.style.display =\n",
              "        google.colab.kernel.accessAllowed ? 'block' : 'none';\n",
              "    })();\n",
              "  </script>\n",
              "</div>\n",
              "\n",
              "  <div id=\"id_82c18100-af12-48c0-beac-890499dde4eb\">\n",
              "    <style>\n",
              "      .colab-df-generate {\n",
              "        background-color: #E8F0FE;\n",
              "        border: none;\n",
              "        border-radius: 50%;\n",
              "        cursor: pointer;\n",
              "        display: none;\n",
              "        fill: #1967D2;\n",
              "        height: 32px;\n",
              "        padding: 0 0 0 0;\n",
              "        width: 32px;\n",
              "      }\n",
              "\n",
              "      .colab-df-generate:hover {\n",
              "        background-color: #E2EBFA;\n",
              "        box-shadow: 0px 1px 2px rgba(60, 64, 67, 0.3), 0px 1px 3px 1px rgba(60, 64, 67, 0.15);\n",
              "        fill: #174EA6;\n",
              "      }\n",
              "\n",
              "      [theme=dark] .colab-df-generate {\n",
              "        background-color: #3B4455;\n",
              "        fill: #D2E3FC;\n",
              "      }\n",
              "\n",
              "      [theme=dark] .colab-df-generate:hover {\n",
              "        background-color: #434B5C;\n",
              "        box-shadow: 0px 1px 3px 1px rgba(0, 0, 0, 0.15);\n",
              "        filter: drop-shadow(0px 1px 2px rgba(0, 0, 0, 0.3));\n",
              "        fill: #FFFFFF;\n",
              "      }\n",
              "    </style>\n",
              "    <button class=\"colab-df-generate\" onclick=\"generateWithVariable('company_data')\"\n",
              "            title=\"Generate code using this dataframe.\"\n",
              "            style=\"display:none;\">\n",
              "\n",
              "  <svg xmlns=\"http://www.w3.org/2000/svg\" height=\"24px\"viewBox=\"0 0 24 24\"\n",
              "       width=\"24px\">\n",
              "    <path d=\"M7,19H8.4L18.45,9,17,7.55,7,17.6ZM5,21V16.75L18.45,3.32a2,2,0,0,1,2.83,0l1.4,1.43a1.91,1.91,0,0,1,.58,1.4,1.91,1.91,0,0,1-.58,1.4L9.25,21ZM18.45,9,17,7.55Zm-12,3A5.31,5.31,0,0,0,4.9,8.1,5.31,5.31,0,0,0,1,6.5,5.31,5.31,0,0,0,4.9,4.9,5.31,5.31,0,0,0,6.5,1,5.31,5.31,0,0,0,8.1,4.9,5.31,5.31,0,0,0,12,6.5,5.46,5.46,0,0,0,6.5,12Z\"/>\n",
              "  </svg>\n",
              "    </button>\n",
              "    <script>\n",
              "      (() => {\n",
              "      const buttonEl =\n",
              "        document.querySelector('#id_82c18100-af12-48c0-beac-890499dde4eb button.colab-df-generate');\n",
              "      buttonEl.style.display =\n",
              "        google.colab.kernel.accessAllowed ? 'block' : 'none';\n",
              "\n",
              "      buttonEl.onclick = () => {\n",
              "        google.colab.notebook.generateWithVariable('company_data');\n",
              "      }\n",
              "      })();\n",
              "    </script>\n",
              "  </div>\n",
              "\n",
              "    </div>\n",
              "  </div>\n"
            ],
            "application/vnd.google.colaboratory.intrinsic+json": {
              "type": "dataframe",
              "variable_name": "company_data",
              "summary": "{\n  \"name\": \"company_data\",\n  \"rows\": 99668,\n  \"fields\": [\n    {\n      \"column\": \"timestamp\",\n      \"properties\": {\n        \"dtype\": \"date\",\n        \"min\": \"2021-11-01 08:00:00+00:00\",\n        \"max\": \"2023-12-30 00:55:00+00:00\",\n        \"num_unique_values\": 99668,\n        \"samples\": [\n          \"2021-11-22 15:10:00+00:00\",\n          \"2022-08-12 09:15:00+00:00\",\n          \"2022-11-29 16:05:00+00:00\"\n        ],\n        \"semantic_type\": \"\",\n        \"description\": \"\"\n      }\n    },\n    {\n      \"column\": \"close\",\n      \"properties\": {\n        \"dtype\": \"number\",\n        \"std\": 17.236010760396066,\n        \"min\": 124.23,\n        \"max\": 199.3752,\n        \"num_unique_values\": 23992,\n        \"samples\": [\n          164.9701,\n          182.6601,\n          169.59\n        ],\n        \"semantic_type\": \"\",\n        \"description\": \"\"\n      }\n    },\n    {\n      \"column\": \"high\",\n      \"properties\": {\n        \"dtype\": \"number\",\n        \"std\": 17.22107188220038,\n        \"min\": 124.3,\n        \"max\": 199.62,\n        \"num_unique_values\": 17026,\n        \"samples\": [\n          179.5841,\n          170.7394,\n          189.7591\n        ],\n        \"semantic_type\": \"\",\n        \"description\": \"\"\n      }\n    },\n    {\n      \"column\": \"low\",\n      \"properties\": {\n        \"dtype\": \"number\",\n        \"std\": 17.250711524863497,\n        \"min\": 124.17,\n        \"max\": 199.166,\n        \"num_unique_values\": 16624,\n        \"samples\": [\n          145.7202,\n          161.97,\n          153.99\n        ],\n        \"semantic_type\": \"\",\n        \"description\": \"\"\n      }\n    },\n    {\n      \"column\": \"trade_count\",\n      \"properties\": {\n        \"dtype\": \"number\",\n        \"std\": 5622,\n        \"min\": 1,\n        \"max\": 109929,\n        \"num_unique_values\": 16301,\n        \"samples\": [\n          12562,\n          6231,\n          9257\n        ],\n        \"semantic_type\": \"\",\n        \"description\": \"\"\n      }\n    },\n    {\n      \"column\": \"open\",\n      \"properties\": {\n        \"dtype\": \"number\",\n        \"std\": 17.235502183841536,\n        \"min\": 124.235,\n        \"max\": 199.38,\n        \"num_unique_values\": 19636,\n        \"samples\": [\n          168.655,\n          196.615,\n          141.1301\n        ],\n        \"semantic_type\": \"\",\n        \"description\": \"\"\n      }\n    },\n    {\n      \"column\": \"volume\",\n      \"properties\": {\n        \"dtype\": \"number\",\n        \"std\": 1387238,\n        \"min\": 100,\n        \"max\": 103621191,\n        \"num_unique_values\": 68161,\n        \"samples\": [\n          598492,\n          312572,\n          32553\n        ],\n        \"semantic_type\": \"\",\n        \"description\": \"\"\n      }\n    },\n    {\n      \"column\": \"vwap\",\n      \"properties\": {\n        \"dtype\": \"number\",\n        \"std\": 17.23592224443388,\n        \"min\": 124.222861,\n        \"max\": 199.451909,\n        \"num_unique_values\": 97586,\n        \"samples\": [\n          170.674424,\n          168.469975,\n          172.526596\n        ],\n        \"semantic_type\": \"\",\n        \"description\": \"\"\n      }\n    }\n  ]\n}"
            }
          },
          "metadata": {},
          "execution_count": 143
        }
      ]
    },
    {
      "cell_type": "markdown",
      "source": [
        "Esta função é chamada para fazer o tratamento dos dados brutos conforme as settings que o usuário decidiu antes dos dados serem alimentados ao modelo."
      ],
      "metadata": {
        "id": "SSWCEYoPtt_O"
      }
    },
    {
      "cell_type": "code",
      "source": [
        "company_data_prepared = prepare_data(company_data, fisrt_marker, second_marker, third_marker)\n",
        "\n",
        "company_data_prepared"
      ],
      "metadata": {
        "id": "3EvayUzCP499",
        "colab": {
          "base_uri": "https://localhost:8080/",
          "height": 455
        },
        "outputId": "0944c97e-c44f-4876-8c1e-08d16baec581"
      },
      "execution_count": 144,
      "outputs": [
        {
          "output_type": "execute_result",
          "data": {
            "text/plain": [
              "                           volume        vwap\n",
              "timestamp                                    \n",
              "2021-11-01 08:00:00+00:00    8668  149.989939\n",
              "2021-11-01 08:05:00+00:00   11535  149.801981\n",
              "2021-11-01 08:10:00+00:00    7700  149.581088\n",
              "2021-11-01 08:15:00+00:00    6969  149.793416\n",
              "2021-11-01 08:20:00+00:00    4360  149.893532\n",
              "...                           ...         ...\n",
              "2023-12-30 00:35:00+00:00    1639  192.127635\n",
              "2023-12-30 00:40:00+00:00    2863  192.136225\n",
              "2023-12-30 00:45:00+00:00    3105  192.206060\n",
              "2023-12-30 00:50:00+00:00    8060  192.221794\n",
              "2023-12-30 00:55:00+00:00    6212  192.181578\n",
              "\n",
              "[99668 rows x 2 columns]"
            ],
            "text/html": [
              "\n",
              "  <div id=\"df-113f2eae-0fe2-4245-9913-2cc46bb7127a\" class=\"colab-df-container\">\n",
              "    <div>\n",
              "<style scoped>\n",
              "    .dataframe tbody tr th:only-of-type {\n",
              "        vertical-align: middle;\n",
              "    }\n",
              "\n",
              "    .dataframe tbody tr th {\n",
              "        vertical-align: top;\n",
              "    }\n",
              "\n",
              "    .dataframe thead th {\n",
              "        text-align: right;\n",
              "    }\n",
              "</style>\n",
              "<table border=\"1\" class=\"dataframe\">\n",
              "  <thead>\n",
              "    <tr style=\"text-align: right;\">\n",
              "      <th></th>\n",
              "      <th>volume</th>\n",
              "      <th>vwap</th>\n",
              "    </tr>\n",
              "    <tr>\n",
              "      <th>timestamp</th>\n",
              "      <th></th>\n",
              "      <th></th>\n",
              "    </tr>\n",
              "  </thead>\n",
              "  <tbody>\n",
              "    <tr>\n",
              "      <th>2021-11-01 08:00:00+00:00</th>\n",
              "      <td>8668</td>\n",
              "      <td>149.989939</td>\n",
              "    </tr>\n",
              "    <tr>\n",
              "      <th>2021-11-01 08:05:00+00:00</th>\n",
              "      <td>11535</td>\n",
              "      <td>149.801981</td>\n",
              "    </tr>\n",
              "    <tr>\n",
              "      <th>2021-11-01 08:10:00+00:00</th>\n",
              "      <td>7700</td>\n",
              "      <td>149.581088</td>\n",
              "    </tr>\n",
              "    <tr>\n",
              "      <th>2021-11-01 08:15:00+00:00</th>\n",
              "      <td>6969</td>\n",
              "      <td>149.793416</td>\n",
              "    </tr>\n",
              "    <tr>\n",
              "      <th>2021-11-01 08:20:00+00:00</th>\n",
              "      <td>4360</td>\n",
              "      <td>149.893532</td>\n",
              "    </tr>\n",
              "    <tr>\n",
              "      <th>...</th>\n",
              "      <td>...</td>\n",
              "      <td>...</td>\n",
              "    </tr>\n",
              "    <tr>\n",
              "      <th>2023-12-30 00:35:00+00:00</th>\n",
              "      <td>1639</td>\n",
              "      <td>192.127635</td>\n",
              "    </tr>\n",
              "    <tr>\n",
              "      <th>2023-12-30 00:40:00+00:00</th>\n",
              "      <td>2863</td>\n",
              "      <td>192.136225</td>\n",
              "    </tr>\n",
              "    <tr>\n",
              "      <th>2023-12-30 00:45:00+00:00</th>\n",
              "      <td>3105</td>\n",
              "      <td>192.206060</td>\n",
              "    </tr>\n",
              "    <tr>\n",
              "      <th>2023-12-30 00:50:00+00:00</th>\n",
              "      <td>8060</td>\n",
              "      <td>192.221794</td>\n",
              "    </tr>\n",
              "    <tr>\n",
              "      <th>2023-12-30 00:55:00+00:00</th>\n",
              "      <td>6212</td>\n",
              "      <td>192.181578</td>\n",
              "    </tr>\n",
              "  </tbody>\n",
              "</table>\n",
              "<p>99668 rows × 2 columns</p>\n",
              "</div>\n",
              "    <div class=\"colab-df-buttons\">\n",
              "\n",
              "  <div class=\"colab-df-container\">\n",
              "    <button class=\"colab-df-convert\" onclick=\"convertToInteractive('df-113f2eae-0fe2-4245-9913-2cc46bb7127a')\"\n",
              "            title=\"Convert this dataframe to an interactive table.\"\n",
              "            style=\"display:none;\">\n",
              "\n",
              "  <svg xmlns=\"http://www.w3.org/2000/svg\" height=\"24px\" viewBox=\"0 -960 960 960\">\n",
              "    <path d=\"M120-120v-720h720v720H120Zm60-500h600v-160H180v160Zm220 220h160v-160H400v160Zm0 220h160v-160H400v160ZM180-400h160v-160H180v160Zm440 0h160v-160H620v160ZM180-180h160v-160H180v160Zm440 0h160v-160H620v160Z\"/>\n",
              "  </svg>\n",
              "    </button>\n",
              "\n",
              "  <style>\n",
              "    .colab-df-container {\n",
              "      display:flex;\n",
              "      gap: 12px;\n",
              "    }\n",
              "\n",
              "    .colab-df-convert {\n",
              "      background-color: #E8F0FE;\n",
              "      border: none;\n",
              "      border-radius: 50%;\n",
              "      cursor: pointer;\n",
              "      display: none;\n",
              "      fill: #1967D2;\n",
              "      height: 32px;\n",
              "      padding: 0 0 0 0;\n",
              "      width: 32px;\n",
              "    }\n",
              "\n",
              "    .colab-df-convert:hover {\n",
              "      background-color: #E2EBFA;\n",
              "      box-shadow: 0px 1px 2px rgba(60, 64, 67, 0.3), 0px 1px 3px 1px rgba(60, 64, 67, 0.15);\n",
              "      fill: #174EA6;\n",
              "    }\n",
              "\n",
              "    .colab-df-buttons div {\n",
              "      margin-bottom: 4px;\n",
              "    }\n",
              "\n",
              "    [theme=dark] .colab-df-convert {\n",
              "      background-color: #3B4455;\n",
              "      fill: #D2E3FC;\n",
              "    }\n",
              "\n",
              "    [theme=dark] .colab-df-convert:hover {\n",
              "      background-color: #434B5C;\n",
              "      box-shadow: 0px 1px 3px 1px rgba(0, 0, 0, 0.15);\n",
              "      filter: drop-shadow(0px 1px 2px rgba(0, 0, 0, 0.3));\n",
              "      fill: #FFFFFF;\n",
              "    }\n",
              "  </style>\n",
              "\n",
              "    <script>\n",
              "      const buttonEl =\n",
              "        document.querySelector('#df-113f2eae-0fe2-4245-9913-2cc46bb7127a button.colab-df-convert');\n",
              "      buttonEl.style.display =\n",
              "        google.colab.kernel.accessAllowed ? 'block' : 'none';\n",
              "\n",
              "      async function convertToInteractive(key) {\n",
              "        const element = document.querySelector('#df-113f2eae-0fe2-4245-9913-2cc46bb7127a');\n",
              "        const dataTable =\n",
              "          await google.colab.kernel.invokeFunction('convertToInteractive',\n",
              "                                                    [key], {});\n",
              "        if (!dataTable) return;\n",
              "\n",
              "        const docLinkHtml = 'Like what you see? Visit the ' +\n",
              "          '<a target=\"_blank\" href=https://colab.research.google.com/notebooks/data_table.ipynb>data table notebook</a>'\n",
              "          + ' to learn more about interactive tables.';\n",
              "        element.innerHTML = '';\n",
              "        dataTable['output_type'] = 'display_data';\n",
              "        await google.colab.output.renderOutput(dataTable, element);\n",
              "        const docLink = document.createElement('div');\n",
              "        docLink.innerHTML = docLinkHtml;\n",
              "        element.appendChild(docLink);\n",
              "      }\n",
              "    </script>\n",
              "  </div>\n",
              "\n",
              "\n",
              "<div id=\"df-0643dd51-927f-4cc6-ab52-1c9a7a519e8b\">\n",
              "  <button class=\"colab-df-quickchart\" onclick=\"quickchart('df-0643dd51-927f-4cc6-ab52-1c9a7a519e8b')\"\n",
              "            title=\"Suggest charts\"\n",
              "            style=\"display:none;\">\n",
              "\n",
              "<svg xmlns=\"http://www.w3.org/2000/svg\" height=\"24px\"viewBox=\"0 0 24 24\"\n",
              "     width=\"24px\">\n",
              "    <g>\n",
              "        <path d=\"M19 3H5c-1.1 0-2 .9-2 2v14c0 1.1.9 2 2 2h14c1.1 0 2-.9 2-2V5c0-1.1-.9-2-2-2zM9 17H7v-7h2v7zm4 0h-2V7h2v10zm4 0h-2v-4h2v4z\"/>\n",
              "    </g>\n",
              "</svg>\n",
              "  </button>\n",
              "\n",
              "<style>\n",
              "  .colab-df-quickchart {\n",
              "      --bg-color: #E8F0FE;\n",
              "      --fill-color: #1967D2;\n",
              "      --hover-bg-color: #E2EBFA;\n",
              "      --hover-fill-color: #174EA6;\n",
              "      --disabled-fill-color: #AAA;\n",
              "      --disabled-bg-color: #DDD;\n",
              "  }\n",
              "\n",
              "  [theme=dark] .colab-df-quickchart {\n",
              "      --bg-color: #3B4455;\n",
              "      --fill-color: #D2E3FC;\n",
              "      --hover-bg-color: #434B5C;\n",
              "      --hover-fill-color: #FFFFFF;\n",
              "      --disabled-bg-color: #3B4455;\n",
              "      --disabled-fill-color: #666;\n",
              "  }\n",
              "\n",
              "  .colab-df-quickchart {\n",
              "    background-color: var(--bg-color);\n",
              "    border: none;\n",
              "    border-radius: 50%;\n",
              "    cursor: pointer;\n",
              "    display: none;\n",
              "    fill: var(--fill-color);\n",
              "    height: 32px;\n",
              "    padding: 0;\n",
              "    width: 32px;\n",
              "  }\n",
              "\n",
              "  .colab-df-quickchart:hover {\n",
              "    background-color: var(--hover-bg-color);\n",
              "    box-shadow: 0 1px 2px rgba(60, 64, 67, 0.3), 0 1px 3px 1px rgba(60, 64, 67, 0.15);\n",
              "    fill: var(--button-hover-fill-color);\n",
              "  }\n",
              "\n",
              "  .colab-df-quickchart-complete:disabled,\n",
              "  .colab-df-quickchart-complete:disabled:hover {\n",
              "    background-color: var(--disabled-bg-color);\n",
              "    fill: var(--disabled-fill-color);\n",
              "    box-shadow: none;\n",
              "  }\n",
              "\n",
              "  .colab-df-spinner {\n",
              "    border: 2px solid var(--fill-color);\n",
              "    border-color: transparent;\n",
              "    border-bottom-color: var(--fill-color);\n",
              "    animation:\n",
              "      spin 1s steps(1) infinite;\n",
              "  }\n",
              "\n",
              "  @keyframes spin {\n",
              "    0% {\n",
              "      border-color: transparent;\n",
              "      border-bottom-color: var(--fill-color);\n",
              "      border-left-color: var(--fill-color);\n",
              "    }\n",
              "    20% {\n",
              "      border-color: transparent;\n",
              "      border-left-color: var(--fill-color);\n",
              "      border-top-color: var(--fill-color);\n",
              "    }\n",
              "    30% {\n",
              "      border-color: transparent;\n",
              "      border-left-color: var(--fill-color);\n",
              "      border-top-color: var(--fill-color);\n",
              "      border-right-color: var(--fill-color);\n",
              "    }\n",
              "    40% {\n",
              "      border-color: transparent;\n",
              "      border-right-color: var(--fill-color);\n",
              "      border-top-color: var(--fill-color);\n",
              "    }\n",
              "    60% {\n",
              "      border-color: transparent;\n",
              "      border-right-color: var(--fill-color);\n",
              "    }\n",
              "    80% {\n",
              "      border-color: transparent;\n",
              "      border-right-color: var(--fill-color);\n",
              "      border-bottom-color: var(--fill-color);\n",
              "    }\n",
              "    90% {\n",
              "      border-color: transparent;\n",
              "      border-bottom-color: var(--fill-color);\n",
              "    }\n",
              "  }\n",
              "</style>\n",
              "\n",
              "  <script>\n",
              "    async function quickchart(key) {\n",
              "      const quickchartButtonEl =\n",
              "        document.querySelector('#' + key + ' button');\n",
              "      quickchartButtonEl.disabled = true;  // To prevent multiple clicks.\n",
              "      quickchartButtonEl.classList.add('colab-df-spinner');\n",
              "      try {\n",
              "        const charts = await google.colab.kernel.invokeFunction(\n",
              "            'suggestCharts', [key], {});\n",
              "      } catch (error) {\n",
              "        console.error('Error during call to suggestCharts:', error);\n",
              "      }\n",
              "      quickchartButtonEl.classList.remove('colab-df-spinner');\n",
              "      quickchartButtonEl.classList.add('colab-df-quickchart-complete');\n",
              "    }\n",
              "    (() => {\n",
              "      let quickchartButtonEl =\n",
              "        document.querySelector('#df-0643dd51-927f-4cc6-ab52-1c9a7a519e8b button');\n",
              "      quickchartButtonEl.style.display =\n",
              "        google.colab.kernel.accessAllowed ? 'block' : 'none';\n",
              "    })();\n",
              "  </script>\n",
              "</div>\n",
              "\n",
              "  <div id=\"id_99621dbf-b360-4c59-819e-a1f847d9d333\">\n",
              "    <style>\n",
              "      .colab-df-generate {\n",
              "        background-color: #E8F0FE;\n",
              "        border: none;\n",
              "        border-radius: 50%;\n",
              "        cursor: pointer;\n",
              "        display: none;\n",
              "        fill: #1967D2;\n",
              "        height: 32px;\n",
              "        padding: 0 0 0 0;\n",
              "        width: 32px;\n",
              "      }\n",
              "\n",
              "      .colab-df-generate:hover {\n",
              "        background-color: #E2EBFA;\n",
              "        box-shadow: 0px 1px 2px rgba(60, 64, 67, 0.3), 0px 1px 3px 1px rgba(60, 64, 67, 0.15);\n",
              "        fill: #174EA6;\n",
              "      }\n",
              "\n",
              "      [theme=dark] .colab-df-generate {\n",
              "        background-color: #3B4455;\n",
              "        fill: #D2E3FC;\n",
              "      }\n",
              "\n",
              "      [theme=dark] .colab-df-generate:hover {\n",
              "        background-color: #434B5C;\n",
              "        box-shadow: 0px 1px 3px 1px rgba(0, 0, 0, 0.15);\n",
              "        filter: drop-shadow(0px 1px 2px rgba(0, 0, 0, 0.3));\n",
              "        fill: #FFFFFF;\n",
              "      }\n",
              "    </style>\n",
              "    <button class=\"colab-df-generate\" onclick=\"generateWithVariable('company_data_prepared')\"\n",
              "            title=\"Generate code using this dataframe.\"\n",
              "            style=\"display:none;\">\n",
              "\n",
              "  <svg xmlns=\"http://www.w3.org/2000/svg\" height=\"24px\"viewBox=\"0 0 24 24\"\n",
              "       width=\"24px\">\n",
              "    <path d=\"M7,19H8.4L18.45,9,17,7.55,7,17.6ZM5,21V16.75L18.45,3.32a2,2,0,0,1,2.83,0l1.4,1.43a1.91,1.91,0,0,1,.58,1.4,1.91,1.91,0,0,1-.58,1.4L9.25,21ZM18.45,9,17,7.55Zm-12,3A5.31,5.31,0,0,0,4.9,8.1,5.31,5.31,0,0,0,1,6.5,5.31,5.31,0,0,0,4.9,4.9,5.31,5.31,0,0,0,6.5,1,5.31,5.31,0,0,0,8.1,4.9,5.31,5.31,0,0,0,12,6.5,5.46,5.46,0,0,0,6.5,12Z\"/>\n",
              "  </svg>\n",
              "    </button>\n",
              "    <script>\n",
              "      (() => {\n",
              "      const buttonEl =\n",
              "        document.querySelector('#id_99621dbf-b360-4c59-819e-a1f847d9d333 button.colab-df-generate');\n",
              "      buttonEl.style.display =\n",
              "        google.colab.kernel.accessAllowed ? 'block' : 'none';\n",
              "\n",
              "      buttonEl.onclick = () => {\n",
              "        google.colab.notebook.generateWithVariable('company_data_prepared');\n",
              "      }\n",
              "      })();\n",
              "    </script>\n",
              "  </div>\n",
              "\n",
              "    </div>\n",
              "  </div>\n"
            ],
            "application/vnd.google.colaboratory.intrinsic+json": {
              "type": "dataframe",
              "variable_name": "company_data_prepared",
              "summary": "{\n  \"name\": \"company_data_prepared\",\n  \"rows\": 99668,\n  \"fields\": [\n    {\n      \"column\": \"timestamp\",\n      \"properties\": {\n        \"dtype\": \"date\",\n        \"min\": \"2021-11-01 08:00:00+00:00\",\n        \"max\": \"2023-12-30 00:55:00+00:00\",\n        \"num_unique_values\": 99668,\n        \"samples\": [\n          \"2021-11-22 15:10:00+00:00\",\n          \"2022-08-12 09:15:00+00:00\",\n          \"2022-11-29 16:05:00+00:00\"\n        ],\n        \"semantic_type\": \"\",\n        \"description\": \"\"\n      }\n    },\n    {\n      \"column\": \"volume\",\n      \"properties\": {\n        \"dtype\": \"number\",\n        \"std\": 1387238,\n        \"min\": 100,\n        \"max\": 103621191,\n        \"num_unique_values\": 68161,\n        \"samples\": [\n          598492,\n          312572,\n          32553\n        ],\n        \"semantic_type\": \"\",\n        \"description\": \"\"\n      }\n    },\n    {\n      \"column\": \"vwap\",\n      \"properties\": {\n        \"dtype\": \"number\",\n        \"std\": 17.23592224443388,\n        \"min\": 124.222861,\n        \"max\": 199.451909,\n        \"num_unique_values\": 97586,\n        \"samples\": [\n          170.674424,\n          168.469975,\n          172.526596\n        ],\n        \"semantic_type\": \"\",\n        \"description\": \"\"\n      }\n    }\n  ]\n}"
            }
          },
          "metadata": {},
          "execution_count": 144
        }
      ]
    },
    {
      "cell_type": "markdown",
      "source": [
        "esta função separa os dadaos em matrizes com as dimensões esplicitas nas settings do algoritmo."
      ],
      "metadata": {
        "id": "qwO0z4-RuBUx"
      }
    },
    {
      "cell_type": "code",
      "source": [
        "matrices_x, matrices_y = get_dataset(company_data_prepared, n_rows, sort, fisrt_marker, second_marker , third_marker, relative_first_marker, relative_second_marker, relative_third_marker, decimals)\n",
        "\n",
        "print(matrices_x)\n",
        "print(matrices_x.shape)\n",
        "print(matrices_y)\n",
        "print(matrices_y.shape)\n",
        "print()"
      ],
      "metadata": {
        "id": "iejgU_5vP8KQ",
        "colab": {
          "base_uri": "https://localhost:8080/"
        },
        "outputId": "feda151e-9abe-4748-9806-c8fa0e47897d"
      },
      "execution_count": 145,
      "outputs": [
        {
          "output_type": "stream",
          "name": "stdout",
          "text": [
            "[[[1.24325875e-01 1.49989939e+02]\n",
            "  [6.25358577e-02 1.49893532e+02]\n",
            "  [1.65447504e-01 1.49801981e+02]\n",
            "  ...\n",
            "  [1.22346529e-02 1.49658457e+02]\n",
            "  [1.93602983e-01 1.49603898e+02]\n",
            "  [1.10441767e-01 1.49581088e+02]]\n",
            "\n",
            " [[4.97618988e-02 1.49685455e+02]\n",
            "  [2.83201895e-02 1.49683231e+02]\n",
            "  [4.94343521e-02 1.49664721e+02]\n",
            "  ...\n",
            "  [1.94084003e-01 1.49598501e+02]\n",
            "  [1.88692081e-01 1.49597056e+02]\n",
            "  [5.05681675e-02 1.49596140e+02]]\n",
            "\n",
            " [[4.18339046e-01 1.49691199e+02]\n",
            "  [5.34353919e-02 1.49638852e+02]\n",
            "  [3.77753824e-02 1.49634950e+02]\n",
            "  ...\n",
            "  [4.14814635e-02 1.49547656e+02]\n",
            "  [7.57082127e-02 1.49534509e+02]\n",
            "  [4.52965470e-03 1.49530000e+02]]\n",
            "\n",
            " ...\n",
            "\n",
            " [[3.77526740e-02 1.92694975e+02]\n",
            "  [1.74833685e-02 1.92675424e+02]\n",
            "  [1.08355699e-01 1.92663674e+02]\n",
            "  ...\n",
            "  [2.90408570e-02 1.92544165e+02]\n",
            "  [4.76995453e-01 1.92534328e+02]\n",
            "  [2.32410485e-02 1.92533919e+02]]\n",
            "\n",
            " [[5.30569708e-02 1.92607915e+02]\n",
            "  [1.15840667e-02 1.92545160e+02]\n",
            "  [1.24735989e-01 1.92508355e+02]\n",
            "  ...\n",
            "  [1.12623900e-01 1.92384361e+02]\n",
            "  [4.22788328e-02 1.92309957e+02]\n",
            "  [1.07774433e-01 1.92297898e+02]]\n",
            "\n",
            " [[2.19183473e-01 1.92449508e+02]\n",
            "  [1.66945401e-01 1.92305057e+02]\n",
            "  [1.68027545e-02 1.92256827e+02]\n",
            "  ...\n",
            "  [6.96507624e-03 1.92170000e+02]\n",
            "  [1.22774225e-02 1.92160000e+02]\n",
            "  [1.22577472e-01 1.92090519e+02]]]\n",
            "(8304, 12, 2)\n",
            "[0 1 0 ... 0 0 0]\n",
            "(8304,)\n",
            "\n"
          ]
        }
      ]
    },
    {
      "cell_type": "markdown",
      "source": [
        "Esta função divide o dataset em treino, teste e validação"
      ],
      "metadata": {
        "id": "tmPuLFl4uLKt"
      }
    },
    {
      "cell_type": "code",
      "source": [
        "X_train, X_val, X_test, y_train, y_val, y_test = split_dataset(matrices_x, matrices_y, LSTM_boolean)\n",
        "\n",
        "# Exibir as formas dos arrays resultantes\n",
        "print(\"Shape of X_train:\", X_train.shape)\n",
        "print(\"Shape of y_train:\", y_train.shape)\n",
        "print(\"Shape of X_val:\", X_val.shape)\n",
        "print(\"Shape of y_val:\", y_val.shape)\n",
        "print(\"Shape of X_test:\", X_test.shape)\n",
        "print(\"Shape of y_test:\", y_test.shape)\n",
        "print()"
      ],
      "metadata": {
        "id": "edWtixMXP-QD",
        "colab": {
          "base_uri": "https://localhost:8080/"
        },
        "outputId": "1fef95b7-106d-4801-afc1-bc634a2fb2cd"
      },
      "execution_count": 146,
      "outputs": [
        {
          "output_type": "stream",
          "name": "stdout",
          "text": [
            "Shape of X_train: (4982, 12, 2)\n",
            "Shape of y_train: (4982,)\n",
            "Shape of X_val: (1660, 12, 2)\n",
            "Shape of y_val: (1660,)\n",
            "Shape of X_test: (1662, 12, 2)\n",
            "Shape of y_test: (1662,)\n",
            "\n"
          ]
        }
      ]
    },
    {
      "cell_type": "markdown",
      "source": [
        "Este parte do código permite obter as características da arqitetura do AI que está a ser usada."
      ],
      "metadata": {
        "id": "0hDJwwbxuS9-"
      }
    },
    {
      "cell_type": "code",
      "source": [
        "if third_marker == '':\n",
        "  input_shape = (n_rows, 2)\n",
        "else:\n",
        "  input_shape = (n_rows, 3)\n",
        "model = build_model(input_shape, LSTM_boolean)"
      ],
      "metadata": {
        "id": "7k-Pt2rQQFiO",
        "colab": {
          "base_uri": "https://localhost:8080/",
          "height": 306
        },
        "outputId": "63f7d85c-f3d5-4cea-9f7e-5d35c1ca683d"
      },
      "execution_count": 147,
      "outputs": [
        {
          "output_type": "display_data",
          "data": {
            "text/plain": [
              "\u001b[1mModel: \"sequential_2\"\u001b[0m\n"
            ],
            "text/html": [
              "<pre style=\"white-space:pre;overflow-x:auto;line-height:normal;font-family:Menlo,'DejaVu Sans Mono',consolas,'Courier New',monospace\"><span style=\"font-weight: bold\">Model: \"sequential_2\"</span>\n",
              "</pre>\n"
            ]
          },
          "metadata": {}
        },
        {
          "output_type": "display_data",
          "data": {
            "text/plain": [
              "┏━━━━━━━━━━━━━━━━━━━━━━━━━━━━━━━━━━━━━━┳━━━━━━━━━━━━━━━━━━━━━━━━━━━━━┳━━━━━━━━━━━━━━━━━┓\n",
              "┃\u001b[1m \u001b[0m\u001b[1mLayer (type)                        \u001b[0m\u001b[1m \u001b[0m┃\u001b[1m \u001b[0m\u001b[1mOutput Shape               \u001b[0m\u001b[1m \u001b[0m┃\u001b[1m \u001b[0m\u001b[1m        Param #\u001b[0m\u001b[1m \u001b[0m┃\n",
              "┡━━━━━━━━━━━━━━━━━━━━━━━━━━━━━━━━━━━━━━╇━━━━━━━━━━━━━━━━━━━━━━━━━━━━━╇━━━━━━━━━━━━━━━━━┩\n",
              "│ lstm_4 (\u001b[38;5;33mLSTM\u001b[0m)                        │ (\u001b[38;5;45mNone\u001b[0m, \u001b[38;5;34m12\u001b[0m, \u001b[38;5;34m64\u001b[0m)              │          \u001b[38;5;34m17,152\u001b[0m │\n",
              "├──────────────────────────────────────┼─────────────────────────────┼─────────────────┤\n",
              "│ dropout_4 (\u001b[38;5;33mDropout\u001b[0m)                  │ (\u001b[38;5;45mNone\u001b[0m, \u001b[38;5;34m12\u001b[0m, \u001b[38;5;34m64\u001b[0m)              │               \u001b[38;5;34m0\u001b[0m │\n",
              "├──────────────────────────────────────┼─────────────────────────────┼─────────────────┤\n",
              "│ lstm_5 (\u001b[38;5;33mLSTM\u001b[0m)                        │ (\u001b[38;5;45mNone\u001b[0m, \u001b[38;5;34m64\u001b[0m)                  │          \u001b[38;5;34m33,024\u001b[0m │\n",
              "├──────────────────────────────────────┼─────────────────────────────┼─────────────────┤\n",
              "│ dropout_5 (\u001b[38;5;33mDropout\u001b[0m)                  │ (\u001b[38;5;45mNone\u001b[0m, \u001b[38;5;34m64\u001b[0m)                  │               \u001b[38;5;34m0\u001b[0m │\n",
              "├──────────────────────────────────────┼─────────────────────────────┼─────────────────┤\n",
              "│ dense_2 (\u001b[38;5;33mDense\u001b[0m)                      │ (\u001b[38;5;45mNone\u001b[0m, \u001b[38;5;34m1\u001b[0m)                   │              \u001b[38;5;34m65\u001b[0m │\n",
              "└──────────────────────────────────────┴─────────────────────────────┴─────────────────┘\n"
            ],
            "text/html": [
              "<pre style=\"white-space:pre;overflow-x:auto;line-height:normal;font-family:Menlo,'DejaVu Sans Mono',consolas,'Courier New',monospace\">┏━━━━━━━━━━━━━━━━━━━━━━━━━━━━━━━━━━━━━━┳━━━━━━━━━━━━━━━━━━━━━━━━━━━━━┳━━━━━━━━━━━━━━━━━┓\n",
              "┃<span style=\"font-weight: bold\"> Layer (type)                         </span>┃<span style=\"font-weight: bold\"> Output Shape                </span>┃<span style=\"font-weight: bold\">         Param # </span>┃\n",
              "┡━━━━━━━━━━━━━━━━━━━━━━━━━━━━━━━━━━━━━━╇━━━━━━━━━━━━━━━━━━━━━━━━━━━━━╇━━━━━━━━━━━━━━━━━┩\n",
              "│ lstm_4 (<span style=\"color: #0087ff; text-decoration-color: #0087ff\">LSTM</span>)                        │ (<span style=\"color: #00d7ff; text-decoration-color: #00d7ff\">None</span>, <span style=\"color: #00af00; text-decoration-color: #00af00\">12</span>, <span style=\"color: #00af00; text-decoration-color: #00af00\">64</span>)              │          <span style=\"color: #00af00; text-decoration-color: #00af00\">17,152</span> │\n",
              "├──────────────────────────────────────┼─────────────────────────────┼─────────────────┤\n",
              "│ dropout_4 (<span style=\"color: #0087ff; text-decoration-color: #0087ff\">Dropout</span>)                  │ (<span style=\"color: #00d7ff; text-decoration-color: #00d7ff\">None</span>, <span style=\"color: #00af00; text-decoration-color: #00af00\">12</span>, <span style=\"color: #00af00; text-decoration-color: #00af00\">64</span>)              │               <span style=\"color: #00af00; text-decoration-color: #00af00\">0</span> │\n",
              "├──────────────────────────────────────┼─────────────────────────────┼─────────────────┤\n",
              "│ lstm_5 (<span style=\"color: #0087ff; text-decoration-color: #0087ff\">LSTM</span>)                        │ (<span style=\"color: #00d7ff; text-decoration-color: #00d7ff\">None</span>, <span style=\"color: #00af00; text-decoration-color: #00af00\">64</span>)                  │          <span style=\"color: #00af00; text-decoration-color: #00af00\">33,024</span> │\n",
              "├──────────────────────────────────────┼─────────────────────────────┼─────────────────┤\n",
              "│ dropout_5 (<span style=\"color: #0087ff; text-decoration-color: #0087ff\">Dropout</span>)                  │ (<span style=\"color: #00d7ff; text-decoration-color: #00d7ff\">None</span>, <span style=\"color: #00af00; text-decoration-color: #00af00\">64</span>)                  │               <span style=\"color: #00af00; text-decoration-color: #00af00\">0</span> │\n",
              "├──────────────────────────────────────┼─────────────────────────────┼─────────────────┤\n",
              "│ dense_2 (<span style=\"color: #0087ff; text-decoration-color: #0087ff\">Dense</span>)                      │ (<span style=\"color: #00d7ff; text-decoration-color: #00d7ff\">None</span>, <span style=\"color: #00af00; text-decoration-color: #00af00\">1</span>)                   │              <span style=\"color: #00af00; text-decoration-color: #00af00\">65</span> │\n",
              "└──────────────────────────────────────┴─────────────────────────────┴─────────────────┘\n",
              "</pre>\n"
            ]
          },
          "metadata": {}
        },
        {
          "output_type": "display_data",
          "data": {
            "text/plain": [
              "\u001b[1m Total params: \u001b[0m\u001b[38;5;34m50,241\u001b[0m (196.25 KB)\n"
            ],
            "text/html": [
              "<pre style=\"white-space:pre;overflow-x:auto;line-height:normal;font-family:Menlo,'DejaVu Sans Mono',consolas,'Courier New',monospace\"><span style=\"font-weight: bold\"> Total params: </span><span style=\"color: #00af00; text-decoration-color: #00af00\">50,241</span> (196.25 KB)\n",
              "</pre>\n"
            ]
          },
          "metadata": {}
        },
        {
          "output_type": "display_data",
          "data": {
            "text/plain": [
              "\u001b[1m Trainable params: \u001b[0m\u001b[38;5;34m50,241\u001b[0m (196.25 KB)\n"
            ],
            "text/html": [
              "<pre style=\"white-space:pre;overflow-x:auto;line-height:normal;font-family:Menlo,'DejaVu Sans Mono',consolas,'Courier New',monospace\"><span style=\"font-weight: bold\"> Trainable params: </span><span style=\"color: #00af00; text-decoration-color: #00af00\">50,241</span> (196.25 KB)\n",
              "</pre>\n"
            ]
          },
          "metadata": {}
        },
        {
          "output_type": "display_data",
          "data": {
            "text/plain": [
              "\u001b[1m Non-trainable params: \u001b[0m\u001b[38;5;34m0\u001b[0m (0.00 B)\n"
            ],
            "text/html": [
              "<pre style=\"white-space:pre;overflow-x:auto;line-height:normal;font-family:Menlo,'DejaVu Sans Mono',consolas,'Courier New',monospace\"><span style=\"font-weight: bold\"> Non-trainable params: </span><span style=\"color: #00af00; text-decoration-color: #00af00\">0</span> (0.00 B)\n",
              "</pre>\n"
            ]
          },
          "metadata": {}
        }
      ]
    },
    {
      "cell_type": "markdown",
      "source": [
        "Esta função treina o modelo nos dados de treino e validação. E testa o modelo contra os dados de teste."
      ],
      "metadata": {
        "id": "WB739fMbudj4"
      }
    },
    {
      "cell_type": "code",
      "source": [
        "model, history = model_training(model, X_train, X_val, X_test, y_train, y_val, y_test, epochs, early_stopping, call_back, patience, batch_size)"
      ],
      "metadata": {
        "id": "yRLU8McBQKdV",
        "colab": {
          "base_uri": "https://localhost:8080/"
        },
        "outputId": "cb61c4dd-86fe-4101-b160-e2eebefae488"
      },
      "execution_count": 148,
      "outputs": [
        {
          "output_type": "stream",
          "name": "stdout",
          "text": [
            "Epoch 1/5\n",
            "\u001b[1m78/78\u001b[0m \u001b[32m━━━━━━━━━━━━━━━━━━━━\u001b[0m\u001b[37m\u001b[0m \u001b[1m13s\u001b[0m 66ms/step - accuracy: 0.5061 - loss: 0.6970 - val_accuracy: 0.5229 - val_loss: 0.6924\n",
            "Epoch 2/5\n",
            "\u001b[1m78/78\u001b[0m \u001b[32m━━━━━━━━━━━━━━━━━━━━\u001b[0m\u001b[37m\u001b[0m \u001b[1m7s\u001b[0m 24ms/step - accuracy: 0.5177 - loss: 0.6941 - val_accuracy: 0.5229 - val_loss: 0.6922\n",
            "Epoch 3/5\n",
            "\u001b[1m78/78\u001b[0m \u001b[32m━━━━━━━━━━━━━━━━━━━━\u001b[0m\u001b[37m\u001b[0m \u001b[1m2s\u001b[0m 22ms/step - accuracy: 0.5045 - loss: 0.6951 - val_accuracy: 0.4771 - val_loss: 0.6955\n"
          ]
        }
      ]
    },
    {
      "cell_type": "code",
      "source": [
        "# Executa o modelo nos dados de teste e obtém as predições e rótulos\n",
        "test_loss, test_accuracy = run_model_on_test(model, X_test, y_test)"
      ],
      "metadata": {
        "colab": {
          "base_uri": "https://localhost:8080/"
        },
        "id": "kacVd48qTrNc",
        "outputId": "985aec72-0bb3-4415-e003-54498f79d102"
      },
      "execution_count": 149,
      "outputs": [
        {
          "output_type": "stream",
          "name": "stdout",
          "text": [
            "\u001b[1m52/52\u001b[0m \u001b[32m━━━━━━━━━━━━━━━━━━━━\u001b[0m\u001b[37m\u001b[0m \u001b[1m0s\u001b[0m 7ms/step - accuracy: 0.4929 - loss: 0.6964\n"
          ]
        }
      ]
    },
    {
      "cell_type": "code",
      "source": [
        "# Cria a matriz de confusão e obtém a figura\n",
        "fig_confusion_matrix = create_confusion_matrix(model, X_test, y_test)"
      ],
      "metadata": {
        "colab": {
          "base_uri": "https://localhost:8080/",
          "height": 0
        },
        "id": "6ncLYZZ3Txne",
        "outputId": "b03f2bdf-de8b-4448-d760-e9cd363fd1b4"
      },
      "execution_count": 150,
      "outputs": [
        {
          "output_type": "stream",
          "name": "stdout",
          "text": [
            "\u001b[1m52/52\u001b[0m \u001b[32m━━━━━━━━━━━━━━━━━━━━\u001b[0m\u001b[37m\u001b[0m \u001b[1m1s\u001b[0m 16ms/step\n"
          ]
        },
        {
          "output_type": "display_data",
          "data": {
            "text/plain": [
              "<Figure size 640x480 with 2 Axes>"
            ],
            "image/png": "[encoded data removed]"
          },
          "metadata": {}
        }
      ]
    },
    {
      "cell_type": "markdown",
      "source": [
        "Plota os resultados durante a fase de treinamento e durante a fase de teste."
      ],
      "metadata": {
        "id": "1thPzlJJvDta"
      }
    },
    {
      "cell_type": "code",
      "source": [
        "fig_loss = plot_loss(history)"
      ],
      "metadata": {
        "colab": {
          "base_uri": "https://localhost:8080/",
          "height": 0
        },
        "id": "2ae372z0T9RB",
        "outputId": "4a375aaf-58ec-492c-b0fe-f701936d7ef5"
      },
      "execution_count": 151,
      "outputs": [
        {
          "output_type": "display_data",
          "data": {
            "text/plain": [
              "<Figure size 640x480 with 1 Axes>"
            ],
            "image/png": "[encoded data removed]"
          },
          "metadata": {}
        }
      ]
    },
    {
      "cell_type": "code",
      "source": [
        "fig_accuracy = plot_accuracy(history)"
      ],
      "metadata": {
        "id": "Dl7PDLgBtW66",
        "colab": {
          "base_uri": "https://localhost:8080/",
          "height": 0
        },
        "outputId": "db0e61ac-ddd9-4c22-98ff-c234b98a4974"
      },
      "execution_count": 152,
      "outputs": [
        {
          "output_type": "display_data",
          "data": {
            "text/plain": [
              "<Figure size 640x480 with 1 Axes>"
            ],
            "image/png": "[encoded data removed]"
          },
          "metadata": {}
        }
      ]
    },
    {
      "cell_type": "markdown",
      "source": [
        "# **Save Model Metrics & Images**"
      ],
      "metadata": {
        "id": "JR_khO43UALA"
      }
    },
    {
      "cell_type": "code",
      "source": [
        "# Cria o nome do arquivo utilizando a função create_file_name (supondo que ela já esteja definida)\n",
        "file_name_True = create_file_name(symbol, max_period, start_date, end_date,\n",
        "                     timeframe, fisrt_marker, second_marker, third_marker,\n",
        "                     n_rows, sort, relative_first_marker, relative_second_marker,\n",
        "                     relative_third_marker, decimals, LSTM_boolean, epochs,\n",
        "                     early_stopping, call_back, patience, batch_size,\n",
        "                     test_loss, test_accuracy, True)"
      ],
      "metadata": {
        "id": "Rqj8rtim--2T"
      },
      "execution_count": 153,
      "outputs": []
    },
    {
      "cell_type": "markdown",
      "source": [
        "Salvar o historico do modelo, a loss de teste e a acurácia de teste"
      ],
      "metadata": {
        "id": "QEvSO8NsvigR"
      }
    },
    {
      "cell_type": "code",
      "source": [
        "# Verifique se o diretório existe, caso contrário, crie-o\n",
        "verify_directory(caminho_para_salvar_resultados)\n",
        "\n",
        "caminho_completo_resultados = os.path.join(caminho_para_salvar_resultados, file_name_True + \".json\")\n",
        "\n",
        "# Cria um dicionário com os resultados do modelo\n",
        "model_results = {\n",
        "    \"history\": history.history,  # history.history é um dicionário com os valores das métricas por época\n",
        "    \"test_loss\": test_loss,\n",
        "    \"test_accuracy\": test_accuracy\n",
        "}\n",
        "\n",
        "# Salva os resultados em um arquivo JSON com formatação legível\n",
        "with open(caminho_completo_resultados, \"w\") as f:\n",
        "    json.dump(model_results, f, indent=4)\n",
        "\n",
        "print(\"\\nResultados do modelo salvos em:\")\n",
        "print(caminho_completo_resultados)"
      ],
      "metadata": {
        "colab": {
          "base_uri": "https://localhost:8080/"
        },
        "id": "Jrp7pVA2otc1",
        "outputId": "3e625ec1-42a2-43d6-9fbb-677a47fc987b"
      },
      "execution_count": 154,
      "outputs": [
        {
          "output_type": "stream",
          "name": "stdout",
          "text": [
            "O diretório /content/drive/MyDrive/AI Financial Analisys/Summer Project/SandBox Environment/Neural Network/Results já existe.\n",
            "\n",
            "Resultados do modelo salvos em:\n",
            "/content/drive/MyDrive/AI Financial Analisys/Summer Project/SandBox Environment/Neural Network/Results/s=AAPL+mp=True+sd=2021-10-31+ed=2023-12-31+tf=5Min+fm=volume+sm=vwap+tm=+r=12+sort=True+rfm=True+rsm=False+rtm=False+d=+Lb=True+e=5+es=True+cb=val_accuracy+p=2+bs=64+tl=0.6938762068748474+ta=0.5114319920539856_results.json\n"
          ]
        }
      ]
    },
    {
      "cell_type": "markdown",
      "source": [
        "Salvar a matriz de confusão, a curva de loss e a curva de precisão"
      ],
      "metadata": {
        "id": "sHbzriA1vovv"
      }
    },
    {
      "cell_type": "code",
      "source": [
        "# Verifique se o diretório existe, caso contrário, crie-o~\n",
        "verify_directory(caminho_para_salvar_imagens)\n",
        "\n",
        "# Monta o caminho completo para cada imagem\n",
        "caminho_completo_confusion = os.path.join(caminho_para_salvar_imagens, \"confusion_matrix-\" + file_name_True + \".png\")\n",
        "caminho_completo_loss = os.path.join(caminho_para_salvar_imagens, \"loss-\" + file_name_True + \".png\")\n",
        "caminho_completo_accuracy = os.path.join(caminho_para_salvar_imagens, \"accuracy-\" + file_name_True + \".png\")\n",
        "\n",
        "# Salva as figuras com alta qualidade (300 dpi)\n",
        "fig_confusion_matrix.savefig(caminho_completo_confusion, dpi=300, bbox_inches='tight')\n",
        "fig_loss.savefig(caminho_completo_loss, dpi=300, bbox_inches='tight')\n",
        "fig_accuracy.savefig(caminho_completo_accuracy, dpi=300, bbox_inches='tight')\n",
        "\n",
        "print(\"\\nImagens salvas com sucesso:\")\n",
        "print(\"Matriz de Confusão:\", caminho_completo_confusion)\n",
        "print(\"Gráfico de Loss:\", caminho_completo_loss)\n",
        "print(\"Gráfico de Accuracy:\", caminho_completo_accuracy)"
      ],
      "metadata": {
        "id": "vbcnbSemjc1X",
        "colab": {
          "base_uri": "https://localhost:8080/"
        },
        "outputId": "41705026-13a3-4613-894c-d197145b7090"
      },
      "execution_count": 156,
      "outputs": [
        {
          "output_type": "stream",
          "name": "stdout",
          "text": [
            "O diretório /content/drive/MyDrive/AI Financial Analisys/Summer Project/SandBox Environment/Neural Network/Images já existe.\n",
            "\n",
            "Imagens salvas com sucesso:\n",
            "Matriz de Confusão: /content/drive/MyDrive/AI Financial Analisys/Summer Project/SandBox Environment/Neural Network/Images/s=AAPL+mp=True+sd=2021-10-31+ed=2023-12-31+tf=5Min+fm=volume+sm=vwap+tm=+r=12+sort=True+rfm=True+rsm=False+rtm=False+d=+Lb=True+e=5+es=True+cb=val_accuracy+p=2+bs=64+tl=0.6938762068748474+ta=0.5114319920539856_confusion_matrix.png\n",
            "Gráfico de Loss: /content/drive/MyDrive/AI Financial Analisys/Summer Project/SandBox Environment/Neural Network/Images/s=AAPL+mp=True+sd=2021-10-31+ed=2023-12-31+tf=5Min+fm=volume+sm=vwap+tm=+r=12+sort=True+rfm=True+rsm=False+rtm=False+d=+Lb=True+e=5+es=True+cb=val_accuracy+p=2+bs=64+tl=0.6938762068748474+ta=0.5114319920539856_loss.png\n",
            "Gráfico de Accuracy: /content/drive/MyDrive/AI Financial Analisys/Summer Project/SandBox Environment/Neural Network/Images/s=AAPL+mp=True+sd=2021-10-31+ed=2023-12-31+tf=5Min+fm=volume+sm=vwap+tm=+r=12+sort=True+rfm=True+rsm=False+rtm=False+d=+Lb=True+e=5+es=True+cb=val_accuracy+p=2+bs=64+tl=0.6938762068748474+ta=0.5114319920539856_accuracy.png\n"
          ]
        }
      ]
    },
    {
      "cell_type": "markdown",
      "source": [
        "# **Save Model & Dataset**"
      ],
      "metadata": {
        "id": "Ndvfx5vaHr9s"
      }
    },
    {
      "cell_type": "code",
      "source": [
        "# Cria o nome do arquivo utilizando a função create_file_name (supondo que ela já esteja definida)\n",
        "file_name_False = create_file_name(symbol, max_period, start_date, end_date,\n",
        "                     timeframe, fisrt_marker, second_marker, third_marker,\n",
        "                     n_rows, sort, relative_first_marker, relative_second_marker,\n",
        "                     relative_third_marker, decimals, LSTM_boolean, epochs,\n",
        "                     early_stopping, call_back, patience, batch_size,\n",
        "                     test_loss, test_accuracy, False)"
      ],
      "metadata": {
        "id": "6bFsWgSh_44M"
      },
      "execution_count": 157,
      "outputs": []
    },
    {
      "cell_type": "markdown",
      "source": [
        "Caso o modelo seja corrido em settings originais ou caso o modelo apresente resultados inovadores o modelo será gravado usando esta função e os settings que influenciram o modelo e os resultados obtidos pelo modelo são encriptados no nome do ficheiro no qual o modelo fica guardado."
      ],
      "metadata": {
        "id": "45o5Ea1axTw1"
      }
    },
    {
      "cell_type": "code",
      "source": [
        "# Verifique se o diretório existe, caso contrário, crie-o~\n",
        "verify_directory(caminho_para_salvar_modelo)\n",
        "\n",
        "caminho_completo_modelo = os.path.join(caminho_para_salvar_modelo, file_name_True + \".keras\")\n",
        "\n",
        "# Salva o modelo em formato\n",
        "model.save(caminho_completo_modelo)\n",
        "\n",
        "print(\"\\nFicheiro do Modelo:\")\n",
        "print(file_name_True)\n",
        "print()\n",
        "print(\"Modelo salvo em:\")\n",
        "print(caminho_para_salvar_modelo)"
      ],
      "metadata": {
        "id": "ukvgCcVq2KhG",
        "colab": {
          "base_uri": "https://localhost:8080/"
        },
        "outputId": "c1da1755-cc62-4883-ec01-82699aa13de5"
      },
      "execution_count": 158,
      "outputs": [
        {
          "output_type": "stream",
          "name": "stdout",
          "text": [
            "O diretório /content/drive/MyDrive/AI Financial Analisys/Summer Project/SandBox Environment/Neural Network/Models já existe.\n",
            "\n",
            "Ficheiro do Modelo:\n",
            "s=AAPL+mp=True+sd=2021-10-31+ed=2023-12-31+tf=5Min+fm=volume+sm=vwap+tm=+r=12+sort=True+rfm=True+rsm=False+rtm=False+d=+Lb=True+e=5+es=True+cb=val_accuracy+p=2+bs=64+tl=0.6938762068748474+ta=0.5114319920539856\n",
            "\n",
            "Modelo salvo em:\n",
            "/content/drive/MyDrive/AI Financial Analisys/Summer Project/SandBox Environment/Neural Network/Models\n"
          ]
        }
      ]
    },
    {
      "cell_type": "markdown",
      "source": [
        "Caso os dados sejam coletados por uma versão do algoritmo que correu em settings originais os dados seram gravados usando esta função e os settings que influenciram o levaram a obeter os respetivos dados/dataset modelo são encriptados no nome do ficheiro CSV no qual os dados ficam guardados."
      ],
      "metadata": {
        "id": "NOFMb-rxx8HP"
      }
    },
    {
      "cell_type": "code",
      "source": [
        "# Verifique se o diretório existe, caso contrário, crie-o\n",
        "verify_directory(caminho_para_salvar_dados)\n",
        "\n",
        "# Defina o caminho completo para salvar o arquivo\n",
        "caminho_completo_dados = os.path.join(caminho_para_salvar_dados, file_name_False + \".csv\")\n",
        "\n",
        "# Salve o dataframe no caminho especificado\n",
        "company_data.to_csv(caminho_completo_dados)\n",
        "\n",
        "print(\"\\nFicheiro dos Dados:\")\n",
        "print(file_name_False)\n",
        "print()\n",
        "print(\"Dados salvos em:\")\n",
        "print(caminho_para_salvar_dados)"
      ],
      "metadata": {
        "id": "dDtkMLFeDQRh",
        "colab": {
          "base_uri": "https://localhost:8080/"
        },
        "outputId": "b558fb5a-5b99-4ef4-8f82-55f0bc45f9a7"
      },
      "execution_count": 159,
      "outputs": [
        {
          "output_type": "stream",
          "name": "stdout",
          "text": [
            "O diretório /content/drive/MyDrive/AI Financial Analisys/Summer Project/SandBox Environment/Dataset/Raw Data já existe.\n",
            "\n",
            "Ficheiro dos Dados:\n",
            "s=AAPL+mp=True+sd=2021-10-31+ed=2023-12-31+tf=5Min\n",
            "\n",
            "Dados salvos em:\n",
            "/content/drive/MyDrive/AI Financial Analisys/Summer Project/SandBox Environment/Dataset/Raw Data\n"
          ]
        }
      ]
    },
    {
      "cell_type": "markdown",
      "source": [
        "# **Report**"
      ],
      "metadata": {
        "id": "fvT-mpvQwV_1"
      }
    },
    {
      "cell_type": "code",
      "source": [
        "# Verifique se o diretório existe, caso contrário, crie-o~\n",
        "verify_directory(caminho_para_salvar_report)"
      ],
      "metadata": {
        "colab": {
          "base_uri": "https://localhost:8080/"
        },
        "id": "KCL95UacSG56",
        "outputId": "8b2a1764-c105-48ba-db41-87d009d7c6c5"
      },
      "execution_count": 160,
      "outputs": [
        {
          "output_type": "stream",
          "name": "stdout",
          "text": [
            "O diretório /content/drive/MyDrive/AI Financial Analisys/Summer Project/SandBox Environment/Report já existe.\n"
          ]
        }
      ]
    },
    {
      "cell_type": "code",
      "source": [
        "# --- Carrega os resultados do modelo (JSON) ---\n",
        "model_results = {}\n",
        "if os.path.exists(results_json_file):\n",
        "    with open(results_json_file, 'r') as f:\n",
        "        model_results = json.load(f)\n",
        "else:\n",
        "    print(\"Arquivo de resultados do modelo não encontrado:\", results_json_file)\n",
        "\n",
        "test_loss     = model_results.get(\"test_loss\", \"N/A\")\n",
        "test_accuracy = model_results.get(\"test_accuracy\", \"N/A\")\n",
        "history       = model_results.get(\"history\", {})"
      ],
      "metadata": {
        "id": "tdl7hWsUUkMH"
      },
      "execution_count": 163,
      "outputs": []
    },
    {
      "cell_type": "code",
      "source": [
        "html_content = f\"\"\"\n",
        "<!DOCTYPE html>\n",
        "<html lang=\"pt\">\n",
        "<head>\n",
        "  <meta charset=\"UTF-8\">\n",
        "  <title>Relatório Interativo do Modelo</title>\n",
        "  <meta name=\"viewport\" content=\"width=device-width, initial-scale=1\">\n",
        "  <!-- Google Fonts -->\n",
        "  <link href=\"https://fonts.googleapis.com/css2?family=Roboto:wght@400;500;700&display=swap\" rel=\"stylesheet\">\n",
        "  <style>\n",
        "    /* Reset e estilos básicos */\n",
        "    * {{\n",
        "      box-sizing: border-box;\n",
        "      margin: 0;\n",
        "      padding: 0;\n",
        "    }}\n",
        "    body {{\n",
        "      font-family: 'Roboto', sans-serif;\n",
        "      background-color: #f2f2f2;\n",
        "      color: #333;\n",
        "      line-height: 1.6;\n",
        "    }}\n",
        "    header {{\n",
        "      background-color: #007BFF;\n",
        "      color: #fff;\n",
        "      padding: 1.5rem;\n",
        "      text-align: center;\n",
        "    }}\n",
        "    nav {{\n",
        "      display: flex;\n",
        "      justify-content: center;\n",
        "      background: #fff;\n",
        "      box-shadow: 0 2px 4px rgba(0,0,0,0.1);\n",
        "      flex-wrap: wrap;\n",
        "    }}\n",
        "    nav button {{\n",
        "      flex: 1;\n",
        "      padding: 1rem;\n",
        "      border: none;\n",
        "      background: none;\n",
        "      font-size: 1rem;\n",
        "      cursor: pointer;\n",
        "      transition: background-color 0.3s, color 0.3s;\n",
        "    }}\n",
        "    nav button:hover,\n",
        "    nav button.active {{\n",
        "      background-color: #007BFF;\n",
        "      color: #fff;\n",
        "    }}\n",
        "    .container {{\n",
        "      max-width: 1000px;\n",
        "      margin: 2rem auto;\n",
        "      padding: 1.5rem;\n",
        "      background-color: #fff;\n",
        "      border-radius: 8px;\n",
        "      box-shadow: 0 2px 8px rgba(0,0,0,0.1);\n",
        "    }}\n",
        "    .tab-content {{\n",
        "      display: none;\n",
        "      animation: fadeIn 0.5s ease-in-out;\n",
        "    }}\n",
        "    .tab-content.active {{\n",
        "      display: block;\n",
        "    }}\n",
        "    .tab-content img {{\n",
        "      max-width: 100%;\n",
        "      border-radius: 8px;\n",
        "      margin-bottom: 1rem;\n",
        "    }}\n",
        "    pre {{\n",
        "      background: #eaeaea;\n",
        "      padding: 1rem;\n",
        "      border-radius: 8px;\n",
        "      overflow-x: auto;\n",
        "    }}\n",
        "    footer {{\n",
        "      text-align: center;\n",
        "      padding: 1rem;\n",
        "      background: #333;\n",
        "      color: #fff;\n",
        "      margin-top: 2rem;\n",
        "    }}\n",
        "    @keyframes fadeIn {{\n",
        "      from {{ opacity: 0; }}\n",
        "      to {{ opacity: 1; }}\n",
        "    }}\n",
        "  </style>\n",
        "</head>\n",
        "<body>\n",
        "  <header>\n",
        "    <h1>Relatório Interativo do Modelo</h1>\n",
        "  </header>\n",
        "\n",
        "  <nav>\n",
        "    <button class=\"tab-link active\" data-tab=\"metrics\">Métricas</button>\n",
        "    <button class=\"tab-link\" data-tab=\"confusion\">Matriz de Confusão</button>\n",
        "    <button class=\"tab-link\" data-tab=\"loss\">Gráfico de Loss</button>\n",
        "    <button class=\"tab-link\" data-tab=\"accuracy\">Gráfico de Accuracy</button>\n",
        "    <button class=\"tab-link\" data-tab=\"history\">Histórico de Treinamento</button>\n",
        "  </nav>\n",
        "\n",
        "  <div class=\"container\">\n",
        "    <!-- Abas -->\n",
        "    <div id=\"metrics\" class=\"tab-content active\">\n",
        "      <h2>Métricas do Teste</h2>\n",
        "      <p><strong>Test Loss:</strong> <span id=\"test-loss\">{test_loss}</span></p>\n",
        "      <p><strong>Test Accuracy:</strong> <span id=\"test-accuracy\">{test_accuracy}</span></p>\n",
        "    </div>\n",
        "\n",
        "    <div id=\"confusion\" class=\"tab-content\">\n",
        "      <h2>Matriz de Confusão</h2>\n",
        "      <img id=\"confusion-img\" src=\"\" alt=\"Matriz de Confusão\">\n",
        "    </div>\n",
        "\n",
        "    <div id=\"loss\" class=\"tab-content\">\n",
        "      <h2>Gráfico de Loss</h2>\n",
        "      <img id=\"loss-img\" src=\"\" alt=\"Gráfico de Loss\">\n",
        "    </div>\n",
        "\n",
        "    <div id=\"accuracy\" class=\"tab-content\">\n",
        "      <h2>Gráfico de Accuracy</h2>\n",
        "      <img id=\"accuracy-img\" src=\"\" alt=\"Gráfico de Accuracy\">\n",
        "    </div>\n",
        "\n",
        "    <div id=\"history\" class=\"tab-content\">\n",
        "      <h2>Histórico de Treinamento</h2>\n",
        "      <pre id=\"history-json\">{json.dumps(history, indent=2, ensure_ascii=False)}</pre>\n",
        "    </div>\n",
        "  </div>\n",
        "\n",
        "  <footer>\n",
        "    <p>&copy; 2025 Prometheus</p>\n",
        "  </footer>\n",
        "\n",
        "  <!-- Carregamento da API do Google -->\n",
        "  <script src=\"https://apis.google.com/js/api.js\"></script>\n",
        "  <script>\n",
        "    // Função para troca de abas\n",
        "    document.querySelectorAll('.tab-link').forEach(button => {{\n",
        "      button.addEventListener('click', () => {{\n",
        "        document.querySelectorAll('.tab-link').forEach(btn => btn.classList.remove('active'));\n",
        "        document.querySelectorAll('.tab-content').forEach(content => content.classList.remove('active'));\n",
        "        button.classList.add('active');\n",
        "        const tab = button.getAttribute('data-tab');\n",
        "        document.getElementById(tab).classList.add('active');\n",
        "      }});\n",
        "    }});\n",
        "\n",
        "    // Dados do modelo já incorporados no HTML\n",
        "    const modelResults = {json.dumps(model_results, indent=2, ensure_ascii=False)};\n",
        "    document.getElementById('test-loss').textContent = modelResults.test_loss;\n",
        "    document.getElementById('test-accuracy').textContent = modelResults.test_accuracy;\n",
        "    document.getElementById('history-json').textContent = JSON.stringify(modelResults.history, null, 2);\n",
        "\n",
        "    // Configuração do cliente da API do Google Drive\n",
        "    function initClient() {{\n",
        "      gapi.client.init({{\n",
        "        apiKey: 'YOUR_API_KEY',\n",
        "        clientId: 'YOUR_CLIENT_ID.apps.googleusercontent.com',\n",
        "        discoveryDocs: [\"https://www.googleapis.com/discovery/v1/apis/drive/v3/rest\"],\n",
        "        scope: 'https://www.googleapis.com/auth/drive.readonly'\n",
        "      }}).then(function () {{\n",
        "        // Verifica se o usuário já está autenticado; se não, solicita login\n",
        "        if (!gapi.auth2.getAuthInstance().isSignedIn.get()) {{\n",
        "          gapi.auth2.getAuthInstance().signIn().then(loadImages);\n",
        "        }} else {{\n",
        "          loadImages();\n",
        "        }}\n",
        "      }}, function(error) {{\n",
        "        console.error('Erro ao inicializar a API do Google:', error);\n",
        "      }});\n",
        "    }}\n",
        "\n",
        "    gapi.load('client:auth2', initClient);\n",
        "\n",
        "    // Função que busca as imagens de uma pasta específica no Google Drive\n",
        "    function loadImages() {{\n",
        "      // Substitua 'YOUR_FOLDER_ID' pelo ID da pasta no Drive onde estão as imagens\n",
        "      const folderId = 'YOUR_FOLDER_ID';\n",
        "      gapi.client.drive.files.list({{\n",
        "        'q': \"'\" + folderId + \"' in parents and (mimeType contains 'image/')\",\n",
        "        'fields': \"files(id, name, webContentLink)\"\n",
        "      }}).then(function(response) {{\n",
        "        const files = response.result.files;\n",
        "        // Verifica se foram encontrados ao menos 3 arquivos\n",
        "        if (files && files.length >= 3) {{\n",
        "          // Exemplo: atualiza as imagens usando os links de conteúdo web\n",
        "          document.getElementById('confusion-img').src = files[0].webContentLink;\n",
        "          document.getElementById('loss-img').src = files[1].webContentLink;\n",
        "          document.getElementById('accuracy-img').src = files[2].webContentLink;\n",
        "        }} else {{\n",
        "          console.error('Não foram encontrados arquivos suficientes na pasta especificada.');\n",
        "        }}\n",
        "      }}, function(error) {{\n",
        "        console.error('Erro ao listar arquivos do Drive:', error);\n",
        "      }});\n",
        "    }}\n",
        "  </script>\n",
        "</body>\n",
        "</html>\n",
        "\"\"\""
      ],
      "metadata": {
        "id": "Uw5iPMQ1-sfM"
      },
      "execution_count": 168,
      "outputs": []
    },
    {
      "cell_type": "code",
      "source": [
        "# --- Grava o relatório HTML ---\n",
        "report_file_path = os.path.join(caminho_para_salvar_report, file_name_True + \".html\")\n",
        "with open(report_file_path, \"w\", encoding=\"utf-8\") as f:\n",
        "    f.write(html_content)\n",
        "\n",
        "print(\"Relatório salvo em:\", report_file_path)"
      ],
      "metadata": {
        "colab": {
          "base_uri": "https://localhost:8080/"
        },
        "id": "IvLNkutNUp0f",
        "outputId": "13074fc8-3df5-4472-c45c-cdd1d1af7db7"
      },
      "execution_count": 169,
      "outputs": [
        {
          "output_type": "stream",
          "name": "stdout",
          "text": [
            "Relatório salvo em: /content/drive/MyDrive/AI Financial Analisys/Summer Project/SandBox Environment/Report/s=AAPL+mp=True+sd=2021-10-31+ed=2023-12-31+tf=5Min+fm=volume+sm=vwap+tm=+r=12+sort=True+rfm=True+rsm=False+rtm=False+d=+Lb=True+e=5+es=True+cb=val_accuracy+p=2+bs=64+tl=0.6938762068748474+ta=0.5114319920539856.html\n"
          ]
        }
      ]
    }
  ]
}